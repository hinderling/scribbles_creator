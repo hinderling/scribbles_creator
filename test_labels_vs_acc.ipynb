{
 "cells": [
  {
   "cell_type": "code",
   "execution_count": null,
   "metadata": {},
   "outputs": [],
   "source": [
    "%load_ext autoreload\n",
    "%autoreload 2\n",
    "\n",
    "import numpy as np\n",
    "import pandas as pd\n",
    "import napari\n",
    "from PIL import Image\n",
    "from matplotlib import pyplot as plt\n",
    "\n",
    "from scribbles_creator import *\n",
    "from cellpose_data_handler import *"
   ]
  },
  {
   "cell_type": "markdown",
   "metadata": {},
   "source": [
    "## Define where the images are located and what data to consider"
   ]
  },
  {
   "cell_type": "code",
   "execution_count": null,
   "metadata": {},
   "outputs": [],
   "source": [
    "folder_path = \"./imgs/cellpose_train_imgs/\""
   ]
  },
  {
   "cell_type": "code",
   "execution_count": null,
   "metadata": {},
   "outputs": [],
   "source": [
    "mode = \"all\"\n",
    "bins = [0.01, 0.025, 0.05, 0.1, 0.25, 0.5, 1]\n",
    "all_suff = [\"a\", \"b\", \"c\", \"d\", \"e\", \"f\", \"g\", \"h\", \"i\", \"j\"]\n",
    "suff = all_suff[:5]"
   ]
  },
  {
   "cell_type": "markdown",
   "metadata": {},
   "source": [
    "## Create predictions/segmentations with Convpaint on the cellpose dataset (wit self-created scribbles)"
   ]
  },
  {
   "cell_type": "code",
   "execution_count": null,
   "metadata": {},
   "outputs": [],
   "source": [
    "layer_list = [0]\n",
    "scalings = [1, 2]\n",
    "\n",
    "for img_num in range(0, 10):\n",
    "    for bin in bins:\n",
    "        for s in suff:\n",
    "            pred = pred_cellpose_convpaint(folder_path, img_num, mode=mode, bin=bin, suff=s, layer_list=layer_list, scalings=scalings, save_res=True, show_res=False)"
   ]
  },
  {
   "cell_type": "markdown",
   "metadata": {},
   "source": [
    "## Analyse the created scribbles and segmentations (perc. labelled vs. acc.) from saved files"
   ]
  },
  {
   "cell_type": "code",
   "execution_count": null,
   "metadata": {},
   "outputs": [],
   "source": [
    "df = pd.DataFrame(columns=['group', 'image', 'ground truth', 'scribbles', 'prediction', 'mode', 'bin', 'perc. labelled', 'accuracy'])\n",
    "for img_num in range(0, 10):\n",
    "    for bin in bins:\n",
    "        for s in suff:\n",
    "            res = analyse_cellpose_single_file(folder_path, img_num, mode=mode, bin=bin, suff=s, pred_tag=\"convpaint\", show_res=False)\n",
    "            df = pd.concat([df, res], ignore_index=True)\n"
   ]
  },
  {
   "cell_type": "code",
   "execution_count": null,
   "metadata": {},
   "outputs": [],
   "source": [
    "df[:5]"
   ]
  },
  {
   "cell_type": "code",
   "execution_count": null,
   "metadata": {},
   "outputs": [],
   "source": [
    "# Save the data frame in a csv file\n",
    "from datetime import datetime\n",
    "time_stamp = datetime.now().strftime(\"%y%m%d%H%M%S\")\n",
    "file_name = f\"test_labels_vs_acc_{time_stamp}.csv\"\n",
    "df.to_csv(file_name, index=False)"
   ]
  },
  {
   "cell_type": "markdown",
   "metadata": {},
   "source": [
    "## Plot"
   ]
  },
  {
   "cell_type": "code",
   "execution_count": 48,
   "metadata": {},
   "outputs": [
    {
     "data": {
      "text/html": [
       "<div>\n",
       "<style scoped>\n",
       "    .dataframe tbody tr th:only-of-type {\n",
       "        vertical-align: middle;\n",
       "    }\n",
       "\n",
       "    .dataframe tbody tr th {\n",
       "        vertical-align: top;\n",
       "    }\n",
       "\n",
       "    .dataframe thead th {\n",
       "        text-align: right;\n",
       "    }\n",
       "</style>\n",
       "<table border=\"1\" class=\"dataframe\">\n",
       "  <thead>\n",
       "    <tr style=\"text-align: right;\">\n",
       "      <th></th>\n",
       "      <th>group</th>\n",
       "      <th>image</th>\n",
       "      <th>ground truth</th>\n",
       "      <th>scribbles</th>\n",
       "      <th>prediction</th>\n",
       "      <th>mode</th>\n",
       "      <th>bin</th>\n",
       "      <th>perc. labelled</th>\n",
       "      <th>accuracy</th>\n",
       "    </tr>\n",
       "  </thead>\n",
       "  <tbody>\n",
       "    <tr>\n",
       "      <th>0</th>\n",
       "      <td>0_all_0.01</td>\n",
       "      <td>./imgs/train/000_img.png</td>\n",
       "      <td>./imgs/train/000_ground_truth.png</td>\n",
       "      <td>./imgs/train/000_scribbles_all_0.01_a.png</td>\n",
       "      <td>./imgs/train/000_convpaint_all_0.01_a.png</td>\n",
       "      <td>all</td>\n",
       "      <td>0.01</td>\n",
       "      <td>0.009179</td>\n",
       "      <td>0.923104</td>\n",
       "    </tr>\n",
       "    <tr>\n",
       "      <th>1</th>\n",
       "      <td>0_all_0.01</td>\n",
       "      <td>./imgs/train/000_img.png</td>\n",
       "      <td>./imgs/train/000_ground_truth.png</td>\n",
       "      <td>./imgs/train/000_scribbles_all_0.01_b.png</td>\n",
       "      <td>./imgs/train/000_convpaint_all_0.01_b.png</td>\n",
       "      <td>all</td>\n",
       "      <td>0.01</td>\n",
       "      <td>0.009179</td>\n",
       "      <td>0.874776</td>\n",
       "    </tr>\n",
       "    <tr>\n",
       "      <th>2</th>\n",
       "      <td>0_all_0.01</td>\n",
       "      <td>./imgs/train/000_img.png</td>\n",
       "      <td>./imgs/train/000_ground_truth.png</td>\n",
       "      <td>./imgs/train/000_scribbles_all_0.01_c.png</td>\n",
       "      <td>./imgs/train/000_convpaint_all_0.01_c.png</td>\n",
       "      <td>all</td>\n",
       "      <td>0.01</td>\n",
       "      <td>0.009179</td>\n",
       "      <td>0.860099</td>\n",
       "    </tr>\n",
       "    <tr>\n",
       "      <th>3</th>\n",
       "      <td>0_all_0.01</td>\n",
       "      <td>./imgs/train/000_img.png</td>\n",
       "      <td>./imgs/train/000_ground_truth.png</td>\n",
       "      <td>./imgs/train/000_scribbles_all_0.01_d.png</td>\n",
       "      <td>./imgs/train/000_convpaint_all_0.01_d.png</td>\n",
       "      <td>all</td>\n",
       "      <td>0.01</td>\n",
       "      <td>0.008669</td>\n",
       "      <td>0.926975</td>\n",
       "    </tr>\n",
       "    <tr>\n",
       "      <th>4</th>\n",
       "      <td>0_all_0.01</td>\n",
       "      <td>./imgs/train/000_img.png</td>\n",
       "      <td>./imgs/train/000_ground_truth.png</td>\n",
       "      <td>./imgs/train/000_scribbles_all_0.01_e.png</td>\n",
       "      <td>./imgs/train/000_convpaint_all_0.01_e.png</td>\n",
       "      <td>all</td>\n",
       "      <td>0.01</td>\n",
       "      <td>0.008669</td>\n",
       "      <td>0.633287</td>\n",
       "    </tr>\n",
       "  </tbody>\n",
       "</table>\n",
       "</div>"
      ],
      "text/plain": [
       "        group                     image                       ground truth  \\\n",
       "0  0_all_0.01  ./imgs/train/000_img.png  ./imgs/train/000_ground_truth.png   \n",
       "1  0_all_0.01  ./imgs/train/000_img.png  ./imgs/train/000_ground_truth.png   \n",
       "2  0_all_0.01  ./imgs/train/000_img.png  ./imgs/train/000_ground_truth.png   \n",
       "3  0_all_0.01  ./imgs/train/000_img.png  ./imgs/train/000_ground_truth.png   \n",
       "4  0_all_0.01  ./imgs/train/000_img.png  ./imgs/train/000_ground_truth.png   \n",
       "\n",
       "                                   scribbles  \\\n",
       "0  ./imgs/train/000_scribbles_all_0.01_a.png   \n",
       "1  ./imgs/train/000_scribbles_all_0.01_b.png   \n",
       "2  ./imgs/train/000_scribbles_all_0.01_c.png   \n",
       "3  ./imgs/train/000_scribbles_all_0.01_d.png   \n",
       "4  ./imgs/train/000_scribbles_all_0.01_e.png   \n",
       "\n",
       "                                  prediction mode   bin  perc. labelled  \\\n",
       "0  ./imgs/train/000_convpaint_all_0.01_a.png  all  0.01        0.009179   \n",
       "1  ./imgs/train/000_convpaint_all_0.01_b.png  all  0.01        0.009179   \n",
       "2  ./imgs/train/000_convpaint_all_0.01_c.png  all  0.01        0.009179   \n",
       "3  ./imgs/train/000_convpaint_all_0.01_d.png  all  0.01        0.008669   \n",
       "4  ./imgs/train/000_convpaint_all_0.01_e.png  all  0.01        0.008669   \n",
       "\n",
       "   accuracy  \n",
       "0  0.923104  \n",
       "1  0.874776  \n",
       "2  0.860099  \n",
       "3  0.926975  \n",
       "4  0.633287  "
      ]
     },
     "execution_count": 48,
     "metadata": {},
     "output_type": "execute_result"
    }
   ],
   "source": [
    "# Load the dataframe from the csv file\n",
    "file_name = \"test_labels_vs_acc_240308165541.csv\"\n",
    "df = pd.read_csv(file_name)\n",
    "df[:5]"
   ]
  },
  {
   "cell_type": "code",
   "execution_count": 49,
   "metadata": {},
   "outputs": [
    {
     "data": {
      "image/png": "[encoded data removed]",
      "text/plain": [
       "<Figure size 640x480 with 1 Axes>"
      ]
     },
     "metadata": {},
     "output_type": "display_data"
    }
   ],
   "source": [
    "# Plot accuracy vs percent labelled\n",
    "plt.figure()\n",
    "\n",
    "# Scatterplot\n",
    "plt.scatter(df['perc. labelled'], df['accuracy'], alpha=0.2, s=10)\n",
    "plt.xscale('log')\n",
    "plt.xlabel('Percent labelled')\n",
    "plt.ylabel('Accuracy')\n",
    "plt.title('Accuracy vs percent labelled')\n",
    "\n",
    "# Grouped plot\n",
    "# For each picture, take the median; then for each bin, take the mean and standard deviation of the accuracy of all pictures and plot it versurs the percent labelled\n",
    "df_grouped = df.groupby('bin').agg({'accuracy': ['mean', 'std'], 'perc. labelled': 'mean'}).reset_index()\n",
    "plt.errorbar(df_grouped['perc. labelled']['mean'], df_grouped['accuracy']['mean'], yerr=df_grouped['accuracy']['std'], fmt='s', c='black', alpha=0.8)\n",
    "plt.xscale('log')\n",
    "plt.xlabel('Percent labelled')\n",
    "plt.ylabel('Accuracy')\n",
    "plt.title('Accuracy vs percent labelled')\n",
    "plt.show()\n"
   ]
  }
 ],
 "metadata": {
  "kernelspec": {
   "display_name": "ilastik",
   "language": "python",
   "name": "python3"
  },
  "language_info": {
   "codemirror_mode": {
    "name": "ipython",
    "version": 3
   },
   "file_extension": ".py",
   "mimetype": "text/x-python",
   "name": "python",
   "nbconvert_exporter": "python",
   "pygments_lexer": "ipython3",
   "version": "3.9.18"
  }
 },
 "nbformat": 4,
 "nbformat_minor": 2
}
