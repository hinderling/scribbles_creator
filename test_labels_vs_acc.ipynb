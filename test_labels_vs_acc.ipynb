{
 "cells": [
  {
   "cell_type": "code",
   "execution_count": 13,
   "metadata": {},
   "outputs": [
    {
     "name": "stdout",
     "output_type": "stream",
     "text": [
      "The autoreload extension is already loaded. To reload it, use:\n",
      "  %reload_ext autoreload\n"
     ]
    }
   ],
   "source": [
    "%load_ext autoreload\n",
    "%autoreload 2\n",
    "\n",
    "import numpy as np\n",
    "import pandas as pd\n",
    "import napari\n",
    "from PIL import Image\n",
    "from matplotlib import pyplot as plt\n",
    "\n",
    "\n",
    "from scribbles_creator import *\n",
    "from cellpose_data_handler import *\n"
   ]
  },
  {
   "cell_type": "markdown",
   "metadata": {},
   "source": [
    "## Create predictions/segmentations with Convpaint on the cellpose dataset (wit self-created scribbles)"
   ]
  },
  {
   "cell_type": "code",
   "execution_count": 11,
   "metadata": {},
   "outputs": [],
   "source": [
    "folder_path = \"./imgs/train\"\n",
    "all_suff = [\"a\", \"b\", \"c\", \"d\", \"e\", \"f\", \"g\", \"h\", \"i\", \"j\"]\n",
    "suff = all_suff[:1]\n",
    "mode = \"all\"\n",
    "layer_list = [0]\n",
    "scalings = [1, 2]\n",
    "\n",
    "for bin in [0.01]:#, 0.025, 0.05, 0.1, 0.25, 0.5, 1]:\n",
    "    for img_num in range(0, 1):\n",
    "        for s in suff:\n",
    "            pred = pred_cellpose_convpaint(folder_path, img_num, mode, bin, s, layer_list, scalings, save_res=True, show_res=False)"
   ]
  },
  {
   "cell_type": "markdown",
   "metadata": {},
   "source": [
    "## Analyse the created scribbles and segmentations (perc. labelled vs. acc.) from saved files"
   ]
  },
  {
   "cell_type": "code",
   "execution_count": 15,
   "metadata": {},
   "outputs": [
    {
     "name": "stderr",
     "output_type": "stream",
     "text": [
      "C:\\Users\\roman\\AppData\\Local\\Temp\\ipykernel_12860\\1898460071.py:11: FutureWarning: The behavior of DataFrame concatenation with empty or all-NA entries is deprecated. In a future version, this will no longer exclude empty or all-NA columns when determining the result dtypes. To retain the old behavior, exclude the relevant entries before the concat operation.\n",
      "  df = pd.concat([df, res], ignore_index=True)\n"
     ]
    }
   ],
   "source": [
    "folder_path = \"./imgs/train\"\n",
    "all_suff = [\"a\", \"b\", \"c\", \"d\", \"e\", \"f\", \"g\", \"h\", \"i\", \"j\"]\n",
    "suff = all_suff[:1]\n",
    "mode = \"all\"\n",
    "\n",
    "df = pd.DataFrame(columns=['group', 'image', 'ground truth', 'scribbles', 'prediction', 'mode', 'bin', 'perc. labelled', 'accuracy'])\n",
    "for bin in [0.01]:#, 0.025, 0.05, 0.1, 0.25, 0.5, 1]:\n",
    "    for img_num in range(0, 1):\n",
    "        for s in suff:\n",
    "            res = analyse_cellpose_single_file(folder_path, img_num, mode, bin, s, \"convpaint\", show_res=False)\n",
    "            df = pd.concat([df, res], ignore_index=True)"
   ]
  },
  {
   "cell_type": "code",
   "execution_count": 16,
   "metadata": {},
   "outputs": [
    {
     "data": {
      "text/html": [
       "<div>\n",
       "<style scoped>\n",
       "    .dataframe tbody tr th:only-of-type {\n",
       "        vertical-align: middle;\n",
       "    }\n",
       "\n",
       "    .dataframe tbody tr th {\n",
       "        vertical-align: top;\n",
       "    }\n",
       "\n",
       "    .dataframe thead th {\n",
       "        text-align: right;\n",
       "    }\n",
       "</style>\n",
       "<table border=\"1\" class=\"dataframe\">\n",
       "  <thead>\n",
       "    <tr style=\"text-align: right;\">\n",
       "      <th></th>\n",
       "      <th>group</th>\n",
       "      <th>image</th>\n",
       "      <th>ground truth</th>\n",
       "      <th>scribbles</th>\n",
       "      <th>prediction</th>\n",
       "      <th>mode</th>\n",
       "      <th>bin</th>\n",
       "      <th>perc. labelled</th>\n",
       "      <th>accuracy</th>\n",
       "    </tr>\n",
       "  </thead>\n",
       "  <tbody>\n",
       "    <tr>\n",
       "      <th>0</th>\n",
       "      <td>0_all_0.01</td>\n",
       "      <td>./imgs/train/000_img.png</td>\n",
       "      <td>./imgs/train/000_ground_truth.png</td>\n",
       "      <td>./imgs/train/000_scribbles_all_0.01_a.png</td>\n",
       "      <td>./imgs/train/000_convpaint_all_0.01_a.png</td>\n",
       "      <td>all</td>\n",
       "      <td>0.01</td>\n",
       "      <td>0.009179</td>\n",
       "      <td>0.932497</td>\n",
       "    </tr>\n",
       "  </tbody>\n",
       "</table>\n",
       "</div>"
      ],
      "text/plain": [
       "        group                     image                       ground truth  \\\n",
       "0  0_all_0.01  ./imgs/train/000_img.png  ./imgs/train/000_ground_truth.png   \n",
       "\n",
       "                                   scribbles  \\\n",
       "0  ./imgs/train/000_scribbles_all_0.01_a.png   \n",
       "\n",
       "                                  prediction mode   bin  perc. labelled  \\\n",
       "0  ./imgs/train/000_convpaint_all_0.01_a.png  all  0.01        0.009179   \n",
       "\n",
       "   accuracy  \n",
       "0  0.932497  "
      ]
     },
     "execution_count": 16,
     "metadata": {},
     "output_type": "execute_result"
    }
   ],
   "source": [
    "df[:5]"
   ]
  },
  {
   "cell_type": "code",
   "execution_count": 17,
   "metadata": {},
   "outputs": [
    {
     "data": {
      "image/png": "[encoded data removed]",
      "text/plain": [
       "<Figure size 640x480 with 1 Axes>"
      ]
     },
     "metadata": {},
     "output_type": "display_data"
    }
   ],
   "source": [
    "# Plot accuracy vs percent labelled\n",
    "plt.figure()\n",
    "\n",
    "# Scatterplot\n",
    "# plt.scatter(df['perc. labelled'], df['accuracy'])\n",
    "# plt.xlabel('Percent labelled')\n",
    "# plt.ylabel('Accuracy')\n",
    "# plt.title('Accuracy vs percent labelled')\n",
    "# plt.show()\n",
    "\n",
    "# Grouped plot\n",
    "# For each picture, take the median; then for each bin, take the mean and standard deviation of the accuracy of all pictures and plot it versurs the percent labelled\n",
    "df_grouped_img = df.groupby('group').agg({'bin': 'median', 'perc. labelled': 'median', 'accuracy': 'median'})\n",
    "df_grouped_img\n",
    "df_grouped_bin = df_grouped_img.groupby('bin').agg({'accuracy': ['mean', 'std'], 'perc. labelled': 'mean'}).reset_index()\n",
    "plt.errorbar(df_grouped_bin['bin'], df_grouped_bin['accuracy']['mean'], yerr=df_grouped_bin['accuracy']['std'], fmt='o')\n",
    "plt.xlabel('Percent labelled')\n",
    "plt.ylabel('Accuracy')\n",
    "plt.title('Accuracy vs percent labelled')\n",
    "plt.show()\n"
   ]
  }
 ],
 "metadata": {
  "kernelspec": {
   "display_name": "ilastik",
   "language": "python",
   "name": "python3"
  },
  "language_info": {
   "codemirror_mode": {
    "name": "ipython",
    "version": 3
   },
   "file_extension": ".py",
   "mimetype": "text/x-python",
   "name": "python",
   "nbconvert_exporter": "python",
   "pygments_lexer": "ipython3",
   "version": "3.9.18"
  }
 },
 "nbformat": 4,
 "nbformat_minor": 2
}
