{
 "cells": [
  {
   "cell_type": "code",
   "execution_count": 94,
   "metadata": {},
   "outputs": [
    {
     "name": "stdout",
     "output_type": "stream",
     "text": [
      "The autoreload extension is already loaded. To reload it, use:\n",
      "  %reload_ext autoreload\n"
     ]
    }
   ],
   "source": [
    "%load_ext autoreload\n",
    "%autoreload 2\n",
    "\n",
    "import numpy as np\n",
    "import pandas as pd\n",
    "import napari\n",
    "from PIL import Image\n",
    "from matplotlib import pyplot as plt\n",
    "\n",
    "from napari_convpaint.conv_paint import ConvPaintWidget\n",
    "from napari_convpaint.conv_paint_utils import (Hookmodel, filter_image_multioutputs, get_features_current_layers, get_multiscale_features, train_classifier, predict_image)"
   ]
  },
  {
   "cell_type": "markdown",
   "metadata": {},
   "source": [
    "## Create predictions/segmentations with Convpaint on the cellpose dataset (wit self-created scribbles)"
   ]
  },
  {
   "cell_type": "code",
   "execution_count": null,
   "metadata": {},
   "outputs": [],
   "source": [
    "def selfpred_convpaint(image, labels, layer_list, scalings):\n",
    "    # Ensure right shape and dimension order\n",
    "    if len(image.shape) == 3 and image.shape[2] == 3:\n",
    "        image = np.moveaxis(image, -1, 0) # ConvPaint expects (C, H, W)\n",
    "    # Define the model\n",
    "    model = Hookmodel(model_name='vgg16')\n",
    "    # Ensure the layers are given as a list\n",
    "    if isinstance(layer_list, int):\n",
    "        layer_list = [layer_list]\n",
    "    # Read out the layer names\n",
    "    all_layers = [key for key in model.module_dict.keys()]\n",
    "    layers = [all_layers[i] for i in layer_list]\n",
    "    # Register the hooks for the selected layers\n",
    "    model.register_hooks(selected_layers=layers)\n",
    "    # Get the features and targets\n",
    "    features, targets = get_features_current_layers(\n",
    "        model=model, image=image, annotations=labels, scalings=scalings,\n",
    "        order=1, use_min_features=False, image_downsample=1)\n",
    "    # Train the classifier\n",
    "    random_forest = train_classifier(features, targets)\n",
    "    # Predict on the image\n",
    "    predicted = predict_image(\n",
    "        image, model, random_forest, scalings=scalings,\n",
    "        order=1, use_min_features=False, image_downsample=1)\n",
    "    return predicted"
   ]
  },
  {
   "cell_type": "code",
   "execution_count": null,
   "metadata": {},
   "outputs": [],
   "source": [
    "def pred_cellpose_convpaint(folder_path, img_num, mode, bin, layer_list=[0], scalings=[1,2], save_res=False, show_res=False):\n",
    "    # Define the paths\n",
    "    image_base = f\"{folder_path}/{str(img_num).zfill(3)}\"\n",
    "    image_path = image_base + \"_img.png\"\n",
    "    ground_truth_path = image_base + \"_ground_truth.png\"\n",
    "    scribbles_path = image_base + f\"_scribbles_{mode}_{bin}.png\"    \n",
    "    # Read the images\n",
    "    ground_truth = np.array(Image.open(ground_truth_path))\n",
    "    image = np.array(Image.open(image_path))\n",
    "    labels = np.array(Image.open(scribbles_path))\n",
    "\n",
    "    # Predict the image\n",
    "    prediction = selfpred_convpaint(image, labels, layer_list, scalings)\n",
    "\n",
    "    # Calculate stats\n",
    "    acc = np.mean(ground_truth == prediction)\n",
    "    perc_labelled = np.sum(labels>0) / (labels.shape[0] * labels.shape[1]) * 100\n",
    "\n",
    "    if save_res:\n",
    "        # Save the scribble annotation as an image\n",
    "        pred_image = Image.fromarray(prediction)\n",
    "        pred_path = image_path + f\"_convpaint_{mode}_{bin}.png\"\n",
    "        pred_image.save(pred_path)\n",
    "\n",
    "    if show_res:\n",
    "        # Show the ground truth and the scribble annotation\n",
    "        v = napari.Viewer()\n",
    "        v.add_image(image)\n",
    "        v.add_labels(ground_truth)\n",
    "        v.add_labels(labels)\n",
    "        v.add_labels(prediction)\n",
    "\n",
    "    return prediction"
   ]
  },
  {
   "cell_type": "code",
   "execution_count": null,
   "metadata": {},
   "outputs": [],
   "source": [
    "folder_path = \"./imgs/train\"\n",
    "mode = \"all\"\n",
    "layer_list = [0]\n",
    "scalings = [1, 2]\n",
    "\n",
    "for bin in [0.01, 0.025, 0.05, 0.1, 0.25, 0.5, 1]:\n",
    "    for img_num in range(0, 5):\n",
    "        pred = pred_cellpose_convpaint(folder_path, img_num, mode, bin, layer_list, scalings, save_res=True, show_res=False)"
   ]
  },
  {
   "cell_type": "markdown",
   "metadata": {},
   "source": [
    "## Analyse the created scribbles and segmentations (perc. labelled vs. acc.) from saved files"
   ]
  },
  {
   "cell_type": "code",
   "execution_count": null,
   "metadata": {},
   "outputs": [],
   "source": [
    "def analyse_cellpose_single_file(folder_path, img_num, mode, bin, model=\"convpaint\", show_res=False):\n",
    "    # Define the paths\n",
    "    image_base = f\"{folder_path}/{str(img_num).zfill(3)}\"\n",
    "    image_path = image_base + \"_img.png\"\n",
    "    ground_truth_path = image_base + \"_ground_truth.png\"\n",
    "    scribbles_path = image_base + f\"_scribbles_{mode}_{bin}.png\"\n",
    "    pred_path = image_path + f\"_{model}_{mode}_{bin}.png\"\n",
    "    # Read the images\n",
    "    ground_truth = np.array(Image.open(ground_truth_path))\n",
    "    image = np.array(Image.open(image_path))\n",
    "    labels = np.array(Image.open(scribbles_path))\n",
    "    prediction = np.array(Image.open(pred_path))\n",
    "\n",
    "    # Calculate stats\n",
    "    acc = np.mean(ground_truth == prediction)\n",
    "    perc_labelled = np.sum(labels>0) / (labels.shape[0] * labels.shape[1]) * 100\n",
    "\n",
    "    if show_res:\n",
    "        # Show the ground truth and the scribble annotation\n",
    "        v = napari.Viewer()\n",
    "        v.add_image(image)\n",
    "        v.add_labels(ground_truth)\n",
    "        v.add_labels(labels)\n",
    "        v.add_labels(prediction)\n",
    "\n",
    "    res = pd.DataFrame({'image': image_path,\n",
    "                            'ground truth': ground_truth_path,\n",
    "                            'scribbles': scribbles_path,\n",
    "                            'prediction': pred_path,\n",
    "                            'mode': mode,\n",
    "                            'bin': bin,\n",
    "                            'perc. labelled': perc_labelled,\n",
    "                            'accuracy': acc}, index=[0])\n",
    "    \n",
    "    return res\n",
    "    "
   ]
  },
  {
   "cell_type": "code",
   "execution_count": 104,
   "metadata": {},
   "outputs": [
    {
     "name": "stderr",
     "output_type": "stream",
     "text": [
      "C:\\Users\\roman\\AppData\\Local\\Temp\\ipykernel_13808\\63742213.py:7: FutureWarning: The behavior of DataFrame concatenation with empty or all-NA entries is deprecated. In a future version, this will no longer exclude empty or all-NA columns when determining the result dtypes. To retain the old behavior, exclude the relevant entries before the concat operation.\n",
      "  df = pd.concat([df, res], ignore_index=True)\n"
     ]
    }
   ],
   "source": [
    "folder_path = \"./imgs/train\"\n",
    "mode = \"all\"\n",
    "df = pd.DataFrame(columns=['image', 'ground truth', 'scribbles', 'prediction', 'mode', 'bin', 'perc. labelled', 'accuracy'])\n",
    "for bin in [0.01, 0.025, 0.05, 0.1, 0.25, 0.5, 1]:\n",
    "    for img_num in range(0, 5):\n",
    "        res = analyse_cellpose_single_file(folder_path, img_num, mode, bin, model=\"convpaint\", show_res=False)\n",
    "        df = pd.concat([df, res], ignore_index=True)"
   ]
  },
  {
   "cell_type": "code",
   "execution_count": 105,
   "metadata": {},
   "outputs": [
    {
     "data": {
      "text/html": [
       "<div>\n",
       "<style scoped>\n",
       "    .dataframe tbody tr th:only-of-type {\n",
       "        vertical-align: middle;\n",
       "    }\n",
       "\n",
       "    .dataframe tbody tr th {\n",
       "        vertical-align: top;\n",
       "    }\n",
       "\n",
       "    .dataframe thead th {\n",
       "        text-align: right;\n",
       "    }\n",
       "</style>\n",
       "<table border=\"1\" class=\"dataframe\">\n",
       "  <thead>\n",
       "    <tr style=\"text-align: right;\">\n",
       "      <th></th>\n",
       "      <th>image</th>\n",
       "      <th>ground truth</th>\n",
       "      <th>scribbles</th>\n",
       "      <th>prediction</th>\n",
       "      <th>mode</th>\n",
       "      <th>bin</th>\n",
       "      <th>perc. labelled</th>\n",
       "      <th>accuracy</th>\n",
       "    </tr>\n",
       "  </thead>\n",
       "  <tbody>\n",
       "    <tr>\n",
       "      <th>0</th>\n",
       "      <td>./imgs/train/000_img.png</td>\n",
       "      <td>./imgs/train/000_ground_truth.png</td>\n",
       "      <td>./imgs/train/000_scribbles_all_0.01.png</td>\n",
       "      <td>./imgs/train/000_img.png_convpaint_all_0.01.png</td>\n",
       "      <td>all</td>\n",
       "      <td>0.01</td>\n",
       "      <td>0.008669</td>\n",
       "      <td>0.905847</td>\n",
       "    </tr>\n",
       "    <tr>\n",
       "      <th>1</th>\n",
       "      <td>./imgs/train/001_img.png</td>\n",
       "      <td>./imgs/train/001_ground_truth.png</td>\n",
       "      <td>./imgs/train/001_scribbles_all_0.01.png</td>\n",
       "      <td>./imgs/train/001_img.png_convpaint_all_0.01.png</td>\n",
       "      <td>all</td>\n",
       "      <td>0.01</td>\n",
       "      <td>0.008669</td>\n",
       "      <td>0.866621</td>\n",
       "    </tr>\n",
       "    <tr>\n",
       "      <th>2</th>\n",
       "      <td>./imgs/train/002_img.png</td>\n",
       "      <td>./imgs/train/002_ground_truth.png</td>\n",
       "      <td>./imgs/train/002_scribbles_all_0.01.png</td>\n",
       "      <td>./imgs/train/002_img.png_convpaint_all_0.01.png</td>\n",
       "      <td>all</td>\n",
       "      <td>0.01</td>\n",
       "      <td>0.007649</td>\n",
       "      <td>0.925526</td>\n",
       "    </tr>\n",
       "    <tr>\n",
       "      <th>3</th>\n",
       "      <td>./imgs/train/003_img.png</td>\n",
       "      <td>./imgs/train/003_ground_truth.png</td>\n",
       "      <td>./imgs/train/003_scribbles_all_0.01.png</td>\n",
       "      <td>./imgs/train/003_img.png_convpaint_all_0.01.png</td>\n",
       "      <td>all</td>\n",
       "      <td>0.01</td>\n",
       "      <td>0.008669</td>\n",
       "      <td>0.799914</td>\n",
       "    </tr>\n",
       "    <tr>\n",
       "      <th>4</th>\n",
       "      <td>./imgs/train/004_img.png</td>\n",
       "      <td>./imgs/train/004_ground_truth.png</td>\n",
       "      <td>./imgs/train/004_scribbles_all_0.01.png</td>\n",
       "      <td>./imgs/train/004_img.png_convpaint_all_0.01.png</td>\n",
       "      <td>all</td>\n",
       "      <td>0.01</td>\n",
       "      <td>0.007649</td>\n",
       "      <td>0.772040</td>\n",
       "    </tr>\n",
       "  </tbody>\n",
       "</table>\n",
       "</div>"
      ],
      "text/plain": [
       "                      image                       ground truth  \\\n",
       "0  ./imgs/train/000_img.png  ./imgs/train/000_ground_truth.png   \n",
       "1  ./imgs/train/001_img.png  ./imgs/train/001_ground_truth.png   \n",
       "2  ./imgs/train/002_img.png  ./imgs/train/002_ground_truth.png   \n",
       "3  ./imgs/train/003_img.png  ./imgs/train/003_ground_truth.png   \n",
       "4  ./imgs/train/004_img.png  ./imgs/train/004_ground_truth.png   \n",
       "\n",
       "                                 scribbles  \\\n",
       "0  ./imgs/train/000_scribbles_all_0.01.png   \n",
       "1  ./imgs/train/001_scribbles_all_0.01.png   \n",
       "2  ./imgs/train/002_scribbles_all_0.01.png   \n",
       "3  ./imgs/train/003_scribbles_all_0.01.png   \n",
       "4  ./imgs/train/004_scribbles_all_0.01.png   \n",
       "\n",
       "                                        prediction mode   bin  perc. labelled  \\\n",
       "0  ./imgs/train/000_img.png_convpaint_all_0.01.png  all  0.01        0.008669   \n",
       "1  ./imgs/train/001_img.png_convpaint_all_0.01.png  all  0.01        0.008669   \n",
       "2  ./imgs/train/002_img.png_convpaint_all_0.01.png  all  0.01        0.007649   \n",
       "3  ./imgs/train/003_img.png_convpaint_all_0.01.png  all  0.01        0.008669   \n",
       "4  ./imgs/train/004_img.png_convpaint_all_0.01.png  all  0.01        0.007649   \n",
       "\n",
       "   accuracy  \n",
       "0  0.905847  \n",
       "1  0.866621  \n",
       "2  0.925526  \n",
       "3  0.799914  \n",
       "4  0.772040  "
      ]
     },
     "execution_count": 105,
     "metadata": {},
     "output_type": "execute_result"
    }
   ],
   "source": [
    "df[:5]"
   ]
  },
  {
   "cell_type": "code",
   "execution_count": 106,
   "metadata": {},
   "outputs": [
    {
     "data": {
      "image/png": "[encoded data removed]",
      "text/plain": [
       "<Figure size 640x480 with 1 Axes>"
      ]
     },
     "metadata": {},
     "output_type": "display_data"
    },
    {
     "data": {
      "image/png": "[encoded data removed]",
      "text/plain": [
       "<Figure size 640x480 with 1 Axes>"
      ]
     },
     "metadata": {},
     "output_type": "display_data"
    }
   ],
   "source": [
    "# Plot accuracy vs percent labelled\n",
    "plt.figure()\n",
    "\n",
    "# Scatterplot\n",
    "plt.scatter(df['perc. labelled'], df['accuracy'])\n",
    "plt.xlabel('Percent labelled')\n",
    "plt.ylabel('Accuracy')\n",
    "plt.title('Accuracy vs percent labelled')\n",
    "plt.show()\n",
    "\n",
    "# Grouped plot\n",
    "# For each bin, take the mean and standard deviation of the accuracy and plot it versurs the percent labelled\n",
    "df_grouped = df.groupby('bin').agg({'accuracy': ['mean', 'std'], 'perc. labelled': 'mean'}).reset_index()\n",
    "plt.errorbar(df_grouped['perc. labelled'], df_grouped['accuracy']['mean'], yerr=df_grouped['accuracy']['std'], fmt='o')\n",
    "plt.xlabel('Percent labelled')\n",
    "plt.ylabel('Accuracy')\n",
    "plt.title('Accuracy vs percent labelled')\n",
    "plt.show()\n"
   ]
  }
 ],
 "metadata": {
  "kernelspec": {
   "display_name": "ilastik",
   "language": "python",
   "name": "python3"
  },
  "language_info": {
   "codemirror_mode": {
    "name": "ipython",
    "version": 3
   },
   "file_extension": ".py",
   "mimetype": "text/x-python",
   "name": "python",
   "nbconvert_exporter": "python",
   "pygments_lexer": "ipython3",
   "version": "3.9.18"
  }
 },
 "nbformat": 4,
 "nbformat_minor": 2
}
