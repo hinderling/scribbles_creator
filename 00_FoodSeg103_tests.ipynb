{
 "cells": [
  {
   "cell_type": "code",
   "execution_count": 64,
   "metadata": {},
   "outputs": [
    {
     "name": "stdout",
     "output_type": "stream",
     "text": [
      "The autoreload extension is already loaded. To reload it, use:\n",
      "  %reload_ext autoreload\n"
     ]
    }
   ],
   "source": [
    "%load_ext autoreload\n",
    "%autoreload 2\n",
    "\n",
    "import numpy as np\n",
    "import pandas as pd\n",
    "import napari\n",
    "from FoodSeg103_data_handler import *\n",
    "from scribbles_creator import create_even_scribbles\n",
    "from convpaint_helpers import selfpred_convpaint\n",
    "from dino_helpers import selfpred_dino\n",
    "from ilastik_helpers import selfpred_ilastik"
   ]
  },
  {
   "cell_type": "markdown",
   "metadata": {},
   "source": [
    "## Create scribbles and predict on single image"
   ]
  },
  {
   "cell_type": "code",
   "execution_count": 65,
   "metadata": {},
   "outputs": [],
   "source": [
    "img_num = 2750 #1234 #2314\n",
    "img, ground_truth = load_food_data(img_num)\n",
    "bin = 1.5\n",
    "sq_scaling = 100\n",
    "scribble_width = 3\n",
    "scribbles_seed = 1\n",
    "pred_seed = 123"
   ]
  },
  {
   "cell_type": "code",
   "execution_count": 66,
   "metadata": {},
   "outputs": [
    {
     "name": "stdout",
     "output_type": "stream",
     "text": [
      "Annotation percentage: 5.25%\n"
     ]
    }
   ],
   "source": [
    "np.random.seed(scribbles_seed)\n",
    "\n",
    "scribbles = create_even_scribbles(ground_truth, max_perc=bin, sq_scaling=sq_scaling, mode=\"all\", print_steps=False, scribble_width=scribble_width)\n",
    "perc_labelled = np.sum(scribbles > 0) / np.sum(ground_truth > 0) * 100\n",
    "print(f\"Annotation percentage: {perc_labelled:.2f}%\")"
   ]
  },
  {
   "cell_type": "code",
   "execution_count": 67,
   "metadata": {},
   "outputs": [
    {
     "name": "stdout",
     "output_type": "stream",
     "text": [
      "Accuracy Ilastik: 83.87%\n"
     ]
    }
   ],
   "source": [
    "pred_ila = selfpred_ilastik(img, scribbles, random_state = pred_seed)\n",
    "pred_ila = post_proc_ila_pred(pred_ila, scribbles)\n",
    "acc_ila = np.sum(ground_truth == pred_ila) / np.prod(ground_truth.shape)\n",
    "print(f\"Accuracy Ilastik: {np.round(acc_ila*100, 2)}%\")"
   ]
  },
  {
   "cell_type": "code",
   "execution_count": 68,
   "metadata": {},
   "outputs": [
    {
     "name": "stdout",
     "output_type": "stream",
     "text": [
      "Accuracy Convpaint: 83.28%\n"
     ]
    }
   ],
   "source": [
    "pred_conv = selfpred_convpaint(img, scribbles, random_state = pred_seed)\n",
    "acc_conv = np.sum(ground_truth == pred_conv) / np.prod(ground_truth.shape)\n",
    "print(f\"Accuracy Convpaint: {np.round(acc_conv*100, 2)}%\")"
   ]
  },
  {
   "cell_type": "code",
   "execution_count": 69,
   "metadata": {},
   "outputs": [
    {
     "name": "stdout",
     "output_type": "stream",
     "text": [
      "Accuracy DINOv2: 92.59%\n"
     ]
    }
   ],
   "source": [
    "pred_dino = selfpred_dino(img, scribbles, random_state = pred_seed)\n",
    "acc_dino = np.sum(ground_truth == pred_dino) / np.prod(ground_truth.shape)\n",
    "print(f\"Accuracy DINOv2: {np.round(acc_dino*100, 2)}%\")"
   ]
  },
  {
   "cell_type": "markdown",
   "metadata": {},
   "source": [
    "Show results"
   ]
  },
  {
   "cell_type": "code",
   "execution_count": 70,
   "metadata": {},
   "outputs": [
    {
     "data": {
      "text/plain": [
       "<Labels layer 'pred_ila' at 0x20b30d11370>"
      ]
     },
     "execution_count": 70,
     "metadata": {},
     "output_type": "execute_result"
    }
   ],
   "source": [
    "v = napari.Viewer()\n",
    "v.add_image(img)\n",
    "v.add_labels(ground_truth)\n",
    "v.add_labels(scribbles)\n",
    "v.add_labels(pred_dino)\n",
    "v.add_labels(pred_conv)\n",
    "v.add_labels(pred_ila)"
   ]
  },
  {
   "cell_type": "markdown",
   "metadata": {},
   "source": [
    "## Loop over multiple images"
   ]
  },
  {
   "cell_type": "markdown",
   "metadata": {},
   "source": [
    "Load the images and ground truths as batches"
   ]
  },
  {
   "cell_type": "code",
   "execution_count": null,
   "metadata": {},
   "outputs": [],
   "source": [
    "nums = [n for n in range(0, 4900, 800)]\n",
    "imgs, gts = load_food_batch(nums)\n",
    "num_imgs = len(imgs)\n",
    "print(f\"Total images: {num_imgs}\")"
   ]
  },
  {
   "cell_type": "markdown",
   "metadata": {},
   "source": [
    "Check and filter for resolution"
   ]
  },
  {
   "cell_type": "code",
   "execution_count": null,
   "metadata": {},
   "outputs": [],
   "source": [
    "resol = {im_num: np.prod(im.shape) for im_num, im in imgs.items()}\n",
    "# Check for images with resolution over a certain threshold\n",
    "thresh = 600_000\n",
    "print(\"Resolutions:\")\n",
    "for im_num, r in resol.items(): print(f\"{im_num:4d}: {r:9,d} pixels{' (!)' if r > thresh else ''}\")"
   ]
  },
  {
   "cell_type": "code",
   "execution_count": null,
   "metadata": {},
   "outputs": [],
   "source": [
    "# Filter out those images\n",
    "imgs, gts = {im_num: im for im_num, im in imgs.items() if resol[im_num] < thresh}, {im_num: gt for im_num, gt in gts.items() if resol[im_num] < thresh}\n",
    "num_imgs = len(imgs)\n",
    "print(f\"Images with resolution under {thresh:,d}: {num_imgs}\")\n",
    "resol_new = {im_num: np.prod(im.shape) for im_num, im in imgs.items()}\n",
    "for im_num, r in resol_new.items(): print(f\"{im_num:4d}: {r:7,d} pixels\")"
   ]
  },
  {
   "cell_type": "markdown",
   "metadata": {},
   "source": [
    "Define scribbles parameters"
   ]
  },
  {
   "cell_type": "code",
   "execution_count": null,
   "metadata": {},
   "outputs": [],
   "source": [
    "bin=0.125\n",
    "sq_scaling=100\n",
    "scribble_width=3\n",
    "scribbles_seed = 1\n",
    "pred_seed = 123\n",
    "\n",
    "convpaint_layers = [0]\n",
    "convpaint_scalings = [1,2]"
   ]
  },
  {
   "cell_type": "markdown",
   "metadata": {},
   "source": [
    "Loop, create scribbles and predict"
   ]
  },
  {
   "cell_type": "code",
   "execution_count": null,
   "metadata": {},
   "outputs": [],
   "source": [
    "repeat_run = True\n",
    "if not repeat_run:\n",
    "    res_df = pd.DataFrame(columns=[\"img_num\", 'perc. labelled', \"acc_convpaint\", \"acc_ilastik\", \"acc_dino\"])\n",
    "    scribbles_dict = {}\n",
    "for img_num, img in imgs.items():\n",
    "    np.random.seed(scribbles_seed)\n",
    "    print(f\"IMG {img_num}\")\n",
    "    # Create scribbles and note its percentage\n",
    "    ground_truth = gts[img_num]\n",
    "    if not repeat_run:\n",
    "        scribbles = create_even_scribbles(ground_truth, max_perc=bin, sq_scaling=sq_scaling, mode=\"all\", print_steps=False, scribble_width=scribble_width)\n",
    "        scribbles_dict[img_num] = scribbles\n",
    "        perc_labelled = np.sum(scribbles>0) / np.prod(ground_truth.shape) * 100\n",
    "    else:\n",
    "        scribbles = scribbles_dict[img_num]\n",
    "    # Predict with Convpaint and note its accuracy\n",
    "    if True:\n",
    "        pred_conv = selfpred_convpaint(img, scribbles, random_state = pred_seed)#, layer_list=convpaint_layers, scalings=convpaint_scalings)\n",
    "        acc_conv = np.sum(ground_truth == pred_conv) / np.prod(ground_truth.shape)\n",
    "        if not repeat_run:\n",
    "            new_row = pd.DataFrame({\"img_num\": img_num, 'perc. labelled': perc_labelled, \"acc_convpaint\": acc_conv, \"acc_ilastik\": np.nan, \"acc_dino\": np.nan}, index = (0,))\n",
    "            res_df = pd.concat([res_df, new_row], ignore_index=True)\n",
    "        else:\n",
    "            res_df.loc[res_df[\"img_num\"] == img_num, \"acc_convpaint\"] = acc_conv\n",
    "    # Predict with Ilastik and note its accuracy\n",
    "    if True:\n",
    "        pred_ila = selfpred_ilastik(img, scribbles, random_state = pred_seed)\n",
    "        pred_ila = post_proc_ila_pred(pred_ila, scribbles)\n",
    "        acc_ila = np.sum(ground_truth == pred_ila) / np.prod(ground_truth.shape)\n",
    "        res_df.loc[res_df[\"img_num\"] == img_num, \"acc_ilastik\"] = acc_ila\n",
    "    # Predict with DINOv2\n",
    "    if True:\n",
    "        pred_dino = selfpred_dino(img, scribbles, random_state = pred_seed)\n",
    "        acc_dino = np.sum(ground_truth == pred_dino) / np.prod(ground_truth.shape)\n",
    "        res_df.loc[res_df[\"img_num\"] == img_num, \"acc_dino\"] = acc_dino\n",
    "    print(\"\\n\")"
   ]
  },
  {
   "cell_type": "code",
   "execution_count": 43,
   "metadata": {},
   "outputs": [
    {
     "name": "stdout",
     "output_type": "stream",
     "text": [
      "Accuracy Convpaint:  0.8668 (+/- 0.1136)\n",
      "Accuracy Ilastik:    0.7899 (+/- 0.1588)\n",
      "Accuracy DINOv2:     0.9455 (+/- 0.0243)\n",
      "\n",
      "Accuracy differences (Convpaint - Ilastik):\n",
      "count    3.000000\n",
      "mean     0.076851\n",
      "std      0.051131\n",
      "min      0.044276\n",
      "25%      0.047384\n",
      "50%      0.050493\n",
      "75%      0.093138\n",
      "max      0.135783\n",
      "Name: diff, dtype: float64\n",
      "\n"
     ]
    },
    {
     "data": {
      "text/html": [
       "<div>\n",
       "<style scoped>\n",
       "    .dataframe tbody tr th:only-of-type {\n",
       "        vertical-align: middle;\n",
       "    }\n",
       "\n",
       "    .dataframe tbody tr th {\n",
       "        vertical-align: top;\n",
       "    }\n",
       "\n",
       "    .dataframe thead th {\n",
       "        text-align: right;\n",
       "    }\n",
       "</style>\n",
       "<table border=\"1\" class=\"dataframe\">\n",
       "  <thead>\n",
       "    <tr style=\"text-align: right;\">\n",
       "      <th></th>\n",
       "      <th>img_num</th>\n",
       "      <th>perc. labelled</th>\n",
       "      <th>acc_convpaint</th>\n",
       "      <th>acc_ilastik</th>\n",
       "      <th>acc_dino</th>\n",
       "      <th>diff</th>\n",
       "    </tr>\n",
       "  </thead>\n",
       "  <tbody>\n",
       "    <tr>\n",
       "      <th>1</th>\n",
       "      <td>4000</td>\n",
       "      <td>0.390625</td>\n",
       "      <td>0.753199</td>\n",
       "      <td>0.617416</td>\n",
       "      <td>0.922684</td>\n",
       "      <td>0.135783</td>\n",
       "    </tr>\n",
       "    <tr>\n",
       "      <th>2</th>\n",
       "      <td>4800</td>\n",
       "      <td>0.368257</td>\n",
       "      <td>0.980446</td>\n",
       "      <td>0.929953</td>\n",
       "      <td>0.970954</td>\n",
       "      <td>0.050493</td>\n",
       "    </tr>\n",
       "    <tr>\n",
       "      <th>0</th>\n",
       "      <td>0</td>\n",
       "      <td>0.433350</td>\n",
       "      <td>0.866709</td>\n",
       "      <td>0.822433</td>\n",
       "      <td>0.942734</td>\n",
       "      <td>0.044276</td>\n",
       "    </tr>\n",
       "  </tbody>\n",
       "</table>\n",
       "</div>"
      ],
      "text/plain": [
       "  img_num  perc. labelled  acc_convpaint  acc_ilastik  acc_dino      diff\n",
       "1    4000        0.390625       0.753199     0.617416  0.922684  0.135783\n",
       "2    4800        0.368257       0.980446     0.929953  0.970954  0.050493\n",
       "0       0        0.433350       0.866709     0.822433  0.942734  0.044276"
      ]
     },
     "execution_count": 43,
     "metadata": {},
     "output_type": "execute_result"
    }
   ],
   "source": [
    "print(f\"Accuracy Convpaint: {res_df['acc_convpaint'].mean():7.4f} (+/- {res_df['acc_convpaint'].std():.4f})\")\n",
    "print(f\"Accuracy Ilastik: {res_df['acc_ilastik'].mean():9.4f} (+/- {res_df['acc_ilastik'].std():.4f})\")\n",
    "print(f\"Accuracy DINOv2: {res_df['acc_dino'].mean():10.4f} (+/- {res_df['acc_dino'].std():.4f})\")\n",
    "\n",
    "res_df[\"diff\"] = res_df[\"acc_convpaint\"] - res_df[\"acc_ilastik\"]\n",
    "res_df = res_df.sort_values(\"diff\", ascending=False)\n",
    "print(\"\", \"Accuracy differences (Convpaint - Ilastik):\", res_df[\"diff\"].describe(), \"\", sep=\"\\n\")\n",
    "\n",
    "res_df"
   ]
  },
  {
   "cell_type": "markdown",
   "metadata": {},
   "source": [
    "Show the last image with ground truth, scribbles and prediction"
   ]
  },
  {
   "cell_type": "code",
   "execution_count": 44,
   "metadata": {},
   "outputs": [
    {
     "data": {
      "text/plain": [
       "<Labels layer 'pred_ila' at 0x241d92e6d00>"
      ]
     },
     "execution_count": 44,
     "metadata": {},
     "output_type": "execute_result"
    }
   ],
   "source": [
    "v = napari.Viewer()\n",
    "v.add_image(img)\n",
    "v.add_labels(ground_truth)\n",
    "v.add_labels(scribbles)\n",
    "v.add_labels(pred_dino)\n",
    "v.add_labels(pred_conv)\n",
    "v.add_labels(pred_ila)"
   ]
  },
  {
   "cell_type": "markdown",
   "metadata": {},
   "source": [
    "## Plot"
   ]
  },
  {
   "cell_type": "code",
   "execution_count": 45,
   "metadata": {},
   "outputs": [],
   "source": [
    "from matplotlib import pyplot as plt\n",
    "import seaborn as sns"
   ]
  },
  {
   "cell_type": "code",
   "execution_count": 46,
   "metadata": {},
   "outputs": [
    {
     "data": {
      "image/png": "[encoded data removed]",
      "text/plain": [
       "<Figure size 900x500 with 3 Axes>"
      ]
     },
     "metadata": {},
     "output_type": "display_data"
    }
   ],
   "source": [
    "fig, ax = plt.subplots(1,3)\n",
    "fig.set_size_inches(9, 5)\n",
    "violin_args = {\"alpha\": 0.6, \"inner\": \"quart\", \"bw_adjust\": 0.65, \"width\": 0.3}\n",
    "# fig.tight_layout()\n",
    "# sns.boxplot(res_df[\"diff\"], orient=\"v\", color=\"skyblue\", width=0.3, linewidth=1.5, fliersize=2.5, whis=1.5)\n",
    "\n",
    "curr_ax = ax[2]\n",
    "curr_ax.set_title(\"Convpaint - Ilastik\")\n",
    "sns.violinplot(res_df[\"diff\"], ax=curr_ax, **violin_args)\n",
    "curr_ax.set_ylabel(\"Accuracy diff.\")\n",
    "\n",
    "curr_ax = ax[0]\n",
    "curr_ax.set_title(\"DINOv2 - Ilastik\")\n",
    "sns.violinplot(res_df[\"acc_dino\"] - res_df['acc_ilastik'], ax=curr_ax, **violin_args)\n",
    "\n",
    "curr_ax = ax[1]\n",
    "curr_ax.set_title(\"DINOv2 - Convpaint\")\n",
    "sns.violinplot(res_df[\"acc_dino\"] - res_df['acc_convpaint'], ax=curr_ax, **violin_args)\n",
    "\n",
    "for a in ax:\n",
    "    a.set_ylim(-0.3, 0.4)\n",
    "    a.hlines(0, -1, 1, color=\"black\", linewidth=1, linestyles='dashed')\n",
    "\n",
    "for a in ax[1:]:\n",
    "    a.set_ylabel(\"\")\n",
    "    a.set_yticks([])\n",
    "\n",
    "plt.show()"
   ]
  },
  {
   "cell_type": "markdown",
   "metadata": {},
   "source": [
    "## Properties of the dataset"
   ]
  },
  {
   "cell_type": "code",
   "execution_count": null,
   "metadata": {},
   "outputs": [],
   "source": [
    "# Shape of the dataset\n",
    "food_data_shape = (4983, 2)\n",
    "\n",
    "#Label dictionary\n",
    "id2label = {1: 'background',\n",
    "            2: 'candy',\n",
    "            3: 'egg tart',\n",
    "            4: 'french fries',\n",
    "            5: 'chocolate',\n",
    "            6: 'biscuit',\n",
    "            7: 'popcorn',\n",
    "            8: 'pudding',\n",
    "            9: 'ice cream',\n",
    "            10: 'cheese butter',\n",
    "            11: 'cake',\n",
    "            12: 'wine',\n",
    "            13: 'milkshake',\n",
    "            14: 'coffee',\n",
    "            15: 'juice',\n",
    "            16: 'milk',\n",
    "            17: 'tea',\n",
    "            18: 'almond',\n",
    "            19: 'red beans',\n",
    "            20: 'cashew',\n",
    "            21: 'dried cranberries',\n",
    "            22: 'soy',\n",
    "            23: 'walnut',\n",
    "            24: 'peanut',\n",
    "            25: 'egg',\n",
    "            26: 'apple',\n",
    "            27: 'date',\n",
    "            28: 'apricot',\n",
    "            29: 'avocado',\n",
    "            30: 'banana',\n",
    "            31: 'strawberry',\n",
    "            32: 'cherry',\n",
    "            33: 'blueberry',\n",
    "            34: 'raspberry',\n",
    "            35: 'mango',\n",
    "            36: 'olives',\n",
    "            37: 'peach',\n",
    "            38: 'lemon',\n",
    "            39: 'pear',\n",
    "            40: 'fig',\n",
    "            41: 'pineapple',\n",
    "            42: 'grape',\n",
    "            43: 'kiwi',\n",
    "            44: 'melon',\n",
    "            45: 'orange',\n",
    "            46: 'watermelon',\n",
    "            47: 'steak',\n",
    "            48: 'pork',\n",
    "            49: 'chicken duck',\n",
    "            50: 'sausage',\n",
    "            51: 'fried meat',\n",
    "            52: 'lamb',\n",
    "            53: 'sauce',\n",
    "            54: 'crab',\n",
    "            55: 'fish',\n",
    "            56: 'shellfish',\n",
    "            57: 'shrimp',\n",
    "            58: 'soup',\n",
    "            59: 'bread',\n",
    "            60: 'corn',\n",
    "            61: 'hamburg',\n",
    "            62: 'pizza',\n",
    "            63: 'hanamaki baozi',\n",
    "            64: 'wonton dumplings',\n",
    "            65: 'pasta',\n",
    "            66: 'noodles',\n",
    "            67: 'rice',\n",
    "            68: 'pie',\n",
    "            69: 'tofu',\n",
    "            70: 'eggplant',\n",
    "            71: 'potato',\n",
    "            72: 'garlic',\n",
    "            73: 'cauliflower',\n",
    "            74: 'tomato',\n",
    "            75: 'kelp',\n",
    "            76: 'seaweed',\n",
    "            77: 'spring onion',\n",
    "            78: 'rape',\n",
    "            79: 'ginger',\n",
    "            80: 'okra',\n",
    "            81: 'lettuce',\n",
    "            82: 'pumpkin',\n",
    "            83: 'cucumber',\n",
    "            84: 'white radish',\n",
    "            85: 'carrot',\n",
    "            86: 'asparagus',\n",
    "            87: 'bamboo shoots',\n",
    "            88: 'broccoli',\n",
    "            89: 'celery stick',\n",
    "            90: 'cilantro mint',\n",
    "            91: 'snow peas',\n",
    "            92: 'cabbage',\n",
    "            93: 'bean sprouts',\n",
    "            94: 'onion',\n",
    "            95: 'pepper',\n",
    "            96: 'green beans',\n",
    "            97: 'French beans',\n",
    "            98: 'king oyster mushroom',\n",
    "            99: 'shiitake',\n",
    "            100: 'enoki mushroom',\n",
    "            101: 'oyster mushroom',\n",
    "            102: 'white button mushroom',\n",
    "            103: 'salad',\n",
    "            104: 'other ingredients'}"
   ]
  }
 ],
 "metadata": {
  "kernelspec": {
   "display_name": "ilastik2",
   "language": "python",
   "name": "python3"
  },
  "language_info": {
   "codemirror_mode": {
    "name": "ipython",
    "version": 3
   },
   "file_extension": ".py",
   "mimetype": "text/x-python",
   "name": "python",
   "nbconvert_exporter": "python",
   "pygments_lexer": "ipython3",
   "version": "3.9.18"
  }
 },
 "nbformat": 4,
 "nbformat_minor": 2
}
