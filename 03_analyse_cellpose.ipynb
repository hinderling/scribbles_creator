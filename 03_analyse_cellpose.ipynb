{
 "cells": [
  {
   "cell_type": "code",
   "execution_count": null,
   "metadata": {},
   "outputs": [],
   "source": [
    "%load_ext autoreload\n",
    "%autoreload 2\n",
    "\n",
    "import numpy as np\n",
    "import pandas as pd\n",
    "import napari\n",
    "from PIL import Image\n",
    "\n",
    "from scribbles_creator import *\n",
    "from cellpose_data_handler import *"
   ]
  },
  {
   "cell_type": "markdown",
   "metadata": {},
   "source": [
    "Define parameters"
   ]
  },
  {
   "cell_type": "code",
   "execution_count": null,
   "metadata": {},
   "outputs": [],
   "source": [
    "# Which scribbles to use\n",
    "mode = \"all\"\n",
    "bins = [0.01] #, 0.025, 0.05, 0.1, 0.25, 0.5, 1]\n",
    "scribble_width = 2 #1\n",
    "# all_suff = [\"a\", \"b\", \"c\", \"d\", \"e\", \"f\", \"g\", \"h\", \"i\", \"j\"]\n",
    "# suff = all_suff[:1]\n",
    "s = \"a\"\n",
    "\n",
    "# Which prediction models to use\n",
    "convpaint_layers = [[0]]#, [0,2]]\n",
    "convpaint_scalings = [[1,2]]#[[1], [1,2], [1,2,4], [1,2,4,8]]\n",
    "use_dino = True\n",
    "use_ilastik = True\n",
    "\n",
    "# Where to find and save the data\n",
    "folder_path = \"./cellpose_train_imgs\""
   ]
  },
  {
   "cell_type": "markdown",
   "metadata": {},
   "source": [
    "Loop and analyse"
   ]
  },
  {
   "cell_type": "code",
   "execution_count": null,
   "metadata": {},
   "outputs": [],
   "source": [
    "df_list = []\n",
    "\n",
    "for img_num in [1]: #range(0, 540, 10):\n",
    "    for bin in bins:\n",
    "        print(f\"IMG {img_num}: bin {bin}, suff {s}\")\n",
    "        for layers in convpaint_layers:\n",
    "            for scalings in convpaint_scalings:\n",
    "                print(f\"ConvPaint: layers {layers}, scalings {scalings}\")\n",
    "                pred_tag = generate_convpaint_tag(layers, scalings)\n",
    "                res = analyse_cellpose_single_file(folder_path, img_num, mode=mode, bin=bin, scribble_width=scribble_width, suff=s, pred_tag=pred_tag, show_res=False)\n",
    "                df_list.append(res)\n",
    "        if use_ilastik:\n",
    "            print(\"Ilastik\")\n",
    "            res = analyse_cellpose_single_file(folder_path, img_num, mode=mode, bin=bin, scribble_width=scribble_width, suff=s, pred_tag=\"ilastik\", show_res=False)\n",
    "            df_list.append(res)\n",
    "        if use_dino:\n",
    "            print(\"DINO\")\n",
    "            res = analyse_cellpose_single_file(folder_path, img_num, mode=mode, bin=bin, scribble_width=scribble_width, suff=s, pred_tag=\"dino\", show_res=False)\n",
    "            df_list.append(res)\n",
    "\n",
    "df = pd.concat(df_list, ignore_index=True)\n",
    "df[:5]"
   ]
  },
  {
   "cell_type": "code",
   "execution_count": null,
   "metadata": {},
   "outputs": [],
   "source": [
    "df.groupby(['prediction type'])[['accuracy']].mean()\n",
    "df"
   ]
  },
  {
   "cell_type": "markdown",
   "metadata": {},
   "source": [
    "Save the data frame in a csv file:"
   ]
  },
  {
   "cell_type": "code",
   "execution_count": null,
   "metadata": {},
   "outputs": [],
   "source": [
    "from datetime import datetime\n",
    "time_stamp = datetime.now().strftime(\"%y%m%d%H%M%S\")\n",
    "file_name = f\"cellpose_{time_stamp}.csv\"\n",
    "df.to_csv(file_name, index=False)"
   ]
  }
 ],
 "metadata": {
  "kernelspec": {
   "display_name": "ilastik",
   "language": "python",
   "name": "python3"
  },
  "language_info": {
   "codemirror_mode": {
    "name": "ipython",
    "version": 3
   },
   "file_extension": ".py",
   "mimetype": "text/x-python",
   "name": "python",
   "nbconvert_exporter": "python",
   "pygments_lexer": "ipython3",
   "version": "3.9.18"
  }
 },
 "nbformat": 4,
 "nbformat_minor": 2
}
