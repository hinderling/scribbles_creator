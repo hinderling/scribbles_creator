{
 "cells": [
  {
   "cell_type": "code",
   "execution_count": 1,
   "metadata": {},
   "outputs": [
    {
     "name": "stderr",
     "output_type": "stream",
     "text": [
      "c:\\Users\\roman\\anaconda3\\envs\\ilastik2\\lib\\site-packages\\tqdm\\auto.py:21: TqdmWarning: IProgress not found. Please update jupyter and ipywidgets. See https://ipywidgets.readthedocs.io/en/stable/user_install.html\n",
      "  from .autonotebook import tqdm as notebook_tqdm\n"
     ]
    }
   ],
   "source": [
    "%load_ext autoreload\n",
    "%autoreload 2\n",
    "\n",
    "import numpy as np\n",
    "import pandas as pd\n",
    "import napari\n",
    "from PIL import Image\n",
    "\n",
    "from scribbles_creator import *\n",
    "from cellpose_data_handler import *"
   ]
  },
  {
   "cell_type": "markdown",
   "metadata": {},
   "source": [
    "## Define where the images are located and what data to consider"
   ]
  },
  {
   "cell_type": "code",
   "execution_count": 2,
   "metadata": {},
   "outputs": [],
   "source": [
    "folder_path = \"./cellpose_train_imgs\""
   ]
  },
  {
   "cell_type": "code",
   "execution_count": 3,
   "metadata": {},
   "outputs": [],
   "source": [
    "mode = \"all\"\n",
    "bins = [0.1]#, 1, 1.25]#[0.01, 0.025, 0.05, 0.1, 0.25, 0.5, 1]\n",
    "scribble_width = 2\n",
    "all_suff = [\"a\", \"b\", \"c\", \"d\", \"e\", \"f\", \"g\", \"h\", \"i\", \"j\"]\n",
    "suff = [\"a\"] #all_suff[:5]\n",
    "prediction_types = [\"dino\"] #[\"convpaint\", \"ilastik\"] # [\"convpaintCh1\", \"ilastikCh1\"]"
   ]
  },
  {
   "cell_type": "markdown",
   "metadata": {},
   "source": [
    "## Analyse the created scribbles and segmentations (perc. labelled vs. acc.) from saved files"
   ]
  },
  {
   "cell_type": "code",
   "execution_count": 4,
   "metadata": {},
   "outputs": [
    {
     "data": {
      "text/html": [
       "<div>\n",
       "<style scoped>\n",
       "    .dataframe tbody tr th:only-of-type {\n",
       "        vertical-align: middle;\n",
       "    }\n",
       "\n",
       "    .dataframe tbody tr th {\n",
       "        vertical-align: top;\n",
       "    }\n",
       "\n",
       "    .dataframe thead th {\n",
       "        text-align: right;\n",
       "    }\n",
       "</style>\n",
       "<table border=\"1\" class=\"dataframe\">\n",
       "  <thead>\n",
       "    <tr style=\"text-align: right;\">\n",
       "      <th></th>\n",
       "      <th>img_num</th>\n",
       "      <th>prediction type</th>\n",
       "      <th>scribbles mode</th>\n",
       "      <th>scribbles bin</th>\n",
       "      <th>suffix</th>\n",
       "      <th>class_1_pix_gt</th>\n",
       "      <th>class_2_pix_gt</th>\n",
       "      <th>pix_labelled</th>\n",
       "      <th>class_1_pix_labelled</th>\n",
       "      <th>class_2_pix_labelled</th>\n",
       "      <th>...</th>\n",
       "      <th>perc. labelled</th>\n",
       "      <th>accuracy</th>\n",
       "      <th>mPrecision</th>\n",
       "      <th>mRecall</th>\n",
       "      <th>mIoU</th>\n",
       "      <th>mF1</th>\n",
       "      <th>image</th>\n",
       "      <th>ground truth</th>\n",
       "      <th>scribbles</th>\n",
       "      <th>prediction</th>\n",
       "    </tr>\n",
       "  </thead>\n",
       "  <tbody>\n",
       "    <tr>\n",
       "      <th>0</th>\n",
       "      <td>1</td>\n",
       "      <td>dino</td>\n",
       "      <td>all</td>\n",
       "      <td>0.1</td>\n",
       "      <td>a</td>\n",
       "      <td>128463</td>\n",
       "      <td>67633</td>\n",
       "      <td>145</td>\n",
       "      <td>100</td>\n",
       "      <td>45</td>\n",
       "      <td>...</td>\n",
       "      <td>0.073943</td>\n",
       "      <td>0.618529</td>\n",
       "      <td>0.554094</td>\n",
       "      <td>0.544647</td>\n",
       "      <td>0.395206</td>\n",
       "      <td>0.542738</td>\n",
       "      <td>./cellpose_train_imgs/001_img.png</td>\n",
       "      <td>./cellpose_train_imgs/001_ground_truth.png</td>\n",
       "      <td>./cellpose_train_imgs/001_scribbles_all_00100_...</td>\n",
       "      <td>./cellpose_train_imgs/001_dino_all_00100_w2_a.png</td>\n",
       "    </tr>\n",
       "  </tbody>\n",
       "</table>\n",
       "<p>1 rows × 21 columns</p>\n",
       "</div>"
      ],
      "text/plain": [
       "   img_num prediction type scribbles mode  scribbles bin suffix  \\\n",
       "0        1            dino            all            0.1      a   \n",
       "\n",
       "   class_1_pix_gt  class_2_pix_gt  pix_labelled  class_1_pix_labelled  \\\n",
       "0          128463           67633           145                   100   \n",
       "\n",
       "   class_2_pix_labelled  ...  perc. labelled  accuracy  mPrecision   mRecall  \\\n",
       "0                    45  ...        0.073943  0.618529    0.554094  0.544647   \n",
       "\n",
       "       mIoU       mF1                              image  \\\n",
       "0  0.395206  0.542738  ./cellpose_train_imgs/001_img.png   \n",
       "\n",
       "                                 ground truth  \\\n",
       "0  ./cellpose_train_imgs/001_ground_truth.png   \n",
       "\n",
       "                                           scribbles  \\\n",
       "0  ./cellpose_train_imgs/001_scribbles_all_00100_...   \n",
       "\n",
       "                                          prediction  \n",
       "0  ./cellpose_train_imgs/001_dino_all_00100_w2_a.png  \n",
       "\n",
       "[1 rows x 21 columns]"
      ]
     },
     "execution_count": 4,
     "metadata": {},
     "output_type": "execute_result"
    }
   ],
   "source": [
    "df_list = []\n",
    "\n",
    "for img_num in [1]: #range(0, 540, 10):\n",
    "    for bin in bins:\n",
    "        for s in suff:\n",
    "            for pred in prediction_types:\n",
    "                res = analyse_cellpose_single_file(folder_path, img_num, mode=mode, bin=bin, scribble_width=scribble_width, suff=s, pred_tag=pred, show_res=False)\n",
    "                df_list.append(res)\n",
    "\n",
    "df = pd.concat(df_list, ignore_index=True)\n",
    "df[:5]                "
   ]
  },
  {
   "cell_type": "markdown",
   "metadata": {},
   "source": [
    "Analyse the comparison of convpaint models"
   ]
  },
  {
   "cell_type": "code",
   "execution_count": 10,
   "metadata": {},
   "outputs": [
    {
     "data": {
      "text/html": [
       "<div>\n",
       "<style scoped>\n",
       "    .dataframe tbody tr th:only-of-type {\n",
       "        vertical-align: middle;\n",
       "    }\n",
       "\n",
       "    .dataframe tbody tr th {\n",
       "        vertical-align: top;\n",
       "    }\n",
       "\n",
       "    .dataframe thead th {\n",
       "        text-align: right;\n",
       "    }\n",
       "</style>\n",
       "<table border=\"1\" class=\"dataframe\">\n",
       "  <thead>\n",
       "    <tr style=\"text-align: right;\">\n",
       "      <th></th>\n",
       "      <th>img_num</th>\n",
       "      <th>prediction type</th>\n",
       "      <th>scribbles mode</th>\n",
       "      <th>scribbles bin</th>\n",
       "      <th>suffix</th>\n",
       "      <th>class_1_pix_gt</th>\n",
       "      <th>class_2_pix_gt</th>\n",
       "      <th>pix_labelled</th>\n",
       "      <th>class_1_pix_labelled</th>\n",
       "      <th>class_2_pix_labelled</th>\n",
       "      <th>...</th>\n",
       "      <th>perc. labelled</th>\n",
       "      <th>accuracy</th>\n",
       "      <th>mPrecision</th>\n",
       "      <th>mRecall</th>\n",
       "      <th>mIoU</th>\n",
       "      <th>mF1</th>\n",
       "      <th>image</th>\n",
       "      <th>ground truth</th>\n",
       "      <th>scribbles</th>\n",
       "      <th>prediction</th>\n",
       "    </tr>\n",
       "  </thead>\n",
       "  <tbody>\n",
       "    <tr>\n",
       "      <th>0</th>\n",
       "      <td>1</td>\n",
       "      <td>convpaint_l-0_s-1-2</td>\n",
       "      <td>all</td>\n",
       "      <td>0.1</td>\n",
       "      <td>a</td>\n",
       "      <td>128463</td>\n",
       "      <td>67633</td>\n",
       "      <td>145</td>\n",
       "      <td>100</td>\n",
       "      <td>45</td>\n",
       "      <td>...</td>\n",
       "      <td>0.073943</td>\n",
       "      <td>0.884169</td>\n",
       "      <td>0.906561</td>\n",
       "      <td>0.840435</td>\n",
       "      <td>0.761474</td>\n",
       "      <td>0.861883</td>\n",
       "      <td>cellpose_train_imgs/001_img.png</td>\n",
       "      <td>cellpose_train_imgs/001_ground_truth.png</td>\n",
       "      <td>cellpose_train_imgs/001_scribbles_all_00100_w2...</td>\n",
       "      <td>cellpose_train_imgs/001_convpaint_l-0_s-1-2_al...</td>\n",
       "    </tr>\n",
       "  </tbody>\n",
       "</table>\n",
       "<p>1 rows × 21 columns</p>\n",
       "</div>"
      ],
      "text/plain": [
       "   img_num      prediction type scribbles mode  scribbles bin suffix  \\\n",
       "0        1  convpaint_l-0_s-1-2            all            0.1      a   \n",
       "\n",
       "   class_1_pix_gt  class_2_pix_gt  pix_labelled  class_1_pix_labelled  \\\n",
       "0          128463           67633           145                   100   \n",
       "\n",
       "   class_2_pix_labelled  ...  perc. labelled  accuracy  mPrecision   mRecall  \\\n",
       "0                    45  ...        0.073943  0.884169    0.906561  0.840435   \n",
       "\n",
       "       mIoU       mF1                            image  \\\n",
       "0  0.761474  0.861883  cellpose_train_imgs/001_img.png   \n",
       "\n",
       "                               ground truth  \\\n",
       "0  cellpose_train_imgs/001_ground_truth.png   \n",
       "\n",
       "                                           scribbles  \\\n",
       "0  cellpose_train_imgs/001_scribbles_all_00100_w2...   \n",
       "\n",
       "                                          prediction  \n",
       "0  cellpose_train_imgs/001_convpaint_l-0_s-1-2_al...  \n",
       "\n",
       "[1 rows x 21 columns]"
      ]
     },
     "execution_count": 10,
     "metadata": {},
     "output_type": "execute_result"
    }
   ],
   "source": [
    "folder_path = \"cellpose_train_imgs\"\n",
    "prediction_types = [\"convpaint_l-0_s-1\",\n",
    "                    \"convpaint_l-0_s-1-2\",\n",
    "                    \"convpaint_l-0_s-1-2-4\",\n",
    "                    \"convpaint_l-0_s-1-2-4-8\",\n",
    "                    \"convpaint_l-0-2_s-1\",\n",
    "                    \"convpaint_l-0-2_s-1-2\",\n",
    "                    \"convpaint_l-0-2_s-1-2-4\",\n",
    "                    \"convpaint_l-0-2_s-1-2-4-8\"] # , \"ilastik\", \"dino\"] # [\"convpaintCh1\", \"ilastikCh1\"]\n",
    "\n",
    "df = pd.DataFrame(columns=['img_num', 'prediction type', 'scribbles mode', 'scribbles bin', 'suffix', 'class_1_pix_gt', 'class_2_pix_gt', 'pix_labelled', 'class_1_pix_labelled', 'class_2_pix_labelled', 'pix_in_img', 'perc. labelled', 'accuracy', 'image', 'ground truth', 'scribbles', 'prediction'])\n",
    "df_list = []\n",
    "\n",
    "for img_num in [1]: #range(0, 540, 10):\n",
    "    for pred in [\"convpaint_l-0_s-1-2\"]:#prediction_types:\n",
    "        res = analyse_cellpose_single_file(folder_path, img_num, mode=\"all\", bin=0.1, scribble_width=2, suff=\"a\", pred_tag=pred, show_res=False)\n",
    "        df_list.append(res)\n",
    "df = pd.concat(df_list, ignore_index=True)\n",
    "df[:5]\n"
   ]
  },
  {
   "cell_type": "markdown",
   "metadata": {},
   "source": [
    "Save the data frame in a csv file:"
   ]
  },
  {
   "cell_type": "code",
   "execution_count": null,
   "metadata": {},
   "outputs": [],
   "source": [
    "from datetime import datetime\n",
    "time_stamp = datetime.now().strftime(\"%y%m%d%H%M%S\")\n",
    "file_name = f\"test_labels_vs_acc_{time_stamp}.csv\"\n",
    "df.to_csv(file_name, index=False)"
   ]
  }
 ],
 "metadata": {
  "kernelspec": {
   "display_name": "ilastik",
   "language": "python",
   "name": "python3"
  },
  "language_info": {
   "codemirror_mode": {
    "name": "ipython",
    "version": 3
   },
   "file_extension": ".py",
   "mimetype": "text/x-python",
   "name": "python",
   "nbconvert_exporter": "python",
   "pygments_lexer": "ipython3",
   "version": "3.9.18"
  }
 },
 "nbformat": 4,
 "nbformat_minor": 2
}
