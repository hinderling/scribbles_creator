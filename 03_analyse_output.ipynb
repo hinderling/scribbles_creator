{
 "cells": [
  {
   "cell_type": "code",
   "execution_count": null,
   "metadata": {},
   "outputs": [
    {
     "name": "stderr",
     "output_type": "stream",
     "text": [
      "c:\\Users\\roman\\anaconda3\\envs\\ilastik2\\lib\\site-packages\\tqdm\\auto.py:21: TqdmWarning: IProgress not found. Please update jupyter and ipywidgets. See https://ipywidgets.readthedocs.io/en/stable/user_install.html\n",
      "  from .autonotebook import tqdm as notebook_tqdm\n"
     ]
    }
   ],
   "source": [
    "%load_ext autoreload\n",
    "%autoreload 2\n",
    "\n",
    "import numpy as np\n",
    "import pandas as pd\n",
    "import napari\n",
    "from PIL import Image\n",
    "\n",
    "from scribbles_creator import *\n",
    "from cellpose_data_handler import *"
   ]
  },
  {
   "cell_type": "markdown",
   "metadata": {},
   "source": [
    "## Define where the images are located and what data to consider"
   ]
  },
  {
   "cell_type": "code",
   "execution_count": 5,
   "metadata": {},
   "outputs": [],
   "source": [
    "folder_path = \"./results/data/pred07\""
   ]
  },
  {
   "cell_type": "code",
   "execution_count": 9,
   "metadata": {},
   "outputs": [],
   "source": [
    "mode = \"all\"\n",
    "bins = [1.25]#[0.01, 0.025, 0.05, 0.1, 0.25, 0.5, 1]\n",
    "all_suff = [\"a\", \"b\", \"c\", \"d\", \"e\", \"f\", \"g\", \"h\", \"i\", \"j\"]\n",
    "suff = [\"x\"] #all_suff[:5]\n",
    "prediction_types = [\"ilastik\"] #[\"convpaint\", \"ilastik\"] # [\"convpaintCh1\", \"ilastikCh1\"]"
   ]
  },
  {
   "cell_type": "markdown",
   "metadata": {},
   "source": [
    "## Analyse the created scribbles and segmentations (perc. labelled vs. acc.) from saved files"
   ]
  },
  {
   "cell_type": "code",
   "execution_count": 11,
   "metadata": {},
   "outputs": [
    {
     "name": "stderr",
     "output_type": "stream",
     "text": [
      "C:\\Users\\roman\\AppData\\Local\\Temp\\ipykernel_1328\\1573255358.py:8: FutureWarning: The behavior of DataFrame concatenation with empty or all-NA entries is deprecated. In a future version, this will no longer exclude empty or all-NA columns when determining the result dtypes. To retain the old behavior, exclude the relevant entries before the concat operation.\n",
      "  df = pd.concat([df, res], ignore_index=True)\n"
     ]
    },
    {
     "data": {
      "text/html": [
       "<div>\n",
       "<style scoped>\n",
       "    .dataframe tbody tr th:only-of-type {\n",
       "        vertical-align: middle;\n",
       "    }\n",
       "\n",
       "    .dataframe tbody tr th {\n",
       "        vertical-align: top;\n",
       "    }\n",
       "\n",
       "    .dataframe thead th {\n",
       "        text-align: right;\n",
       "    }\n",
       "</style>\n",
       "<table border=\"1\" class=\"dataframe\">\n",
       "  <thead>\n",
       "    <tr style=\"text-align: right;\">\n",
       "      <th></th>\n",
       "      <th>img_num</th>\n",
       "      <th>prediction type</th>\n",
       "      <th>scribbles mode</th>\n",
       "      <th>scribbles bin</th>\n",
       "      <th>suffix</th>\n",
       "      <th>class_1_pix_gt</th>\n",
       "      <th>class_2_pix_gt</th>\n",
       "      <th>pix_labelled</th>\n",
       "      <th>class_1_pix_labelled</th>\n",
       "      <th>class_2_pix_labelled</th>\n",
       "      <th>pix_in_img</th>\n",
       "      <th>perc. labelled</th>\n",
       "      <th>accuracy</th>\n",
       "      <th>image</th>\n",
       "      <th>ground truth</th>\n",
       "      <th>scribbles</th>\n",
       "      <th>prediction</th>\n",
       "    </tr>\n",
       "  </thead>\n",
       "  <tbody>\n",
       "    <tr>\n",
       "      <th>0</th>\n",
       "      <td>0</td>\n",
       "      <td>ilastik</td>\n",
       "      <td>all</td>\n",
       "      <td>1.25</td>\n",
       "      <td>x</td>\n",
       "      <td>101577</td>\n",
       "      <td>94519</td>\n",
       "      <td>19188</td>\n",
       "      <td>10066</td>\n",
       "      <td>9122</td>\n",
       "      <td>196096</td>\n",
       "      <td>9.785003</td>\n",
       "      <td>0.948908</td>\n",
       "      <td>./results/data/pred07/000_img.png</td>\n",
       "      <td>./results/data/pred07/000_ground_truth.png</td>\n",
       "      <td>./results/data/pred07/000_scribbles_all_01250_...</td>\n",
       "      <td>./results/data/pred07/000_ilastik_all_01250_x.png</td>\n",
       "    </tr>\n",
       "    <tr>\n",
       "      <th>1</th>\n",
       "      <td>10</td>\n",
       "      <td>ilastik</td>\n",
       "      <td>all</td>\n",
       "      <td>1.25</td>\n",
       "      <td>x</td>\n",
       "      <td>120609</td>\n",
       "      <td>75487</td>\n",
       "      <td>19321</td>\n",
       "      <td>12235</td>\n",
       "      <td>7086</td>\n",
       "      <td>196096</td>\n",
       "      <td>9.852827</td>\n",
       "      <td>0.959005</td>\n",
       "      <td>./results/data/pred07/010_img.png</td>\n",
       "      <td>./results/data/pred07/010_ground_truth.png</td>\n",
       "      <td>./results/data/pred07/010_scribbles_all_01250_...</td>\n",
       "      <td>./results/data/pred07/010_ilastik_all_01250_x.png</td>\n",
       "    </tr>\n",
       "    <tr>\n",
       "      <th>2</th>\n",
       "      <td>20</td>\n",
       "      <td>ilastik</td>\n",
       "      <td>all</td>\n",
       "      <td>1.25</td>\n",
       "      <td>x</td>\n",
       "      <td>94288</td>\n",
       "      <td>101808</td>\n",
       "      <td>18501</td>\n",
       "      <td>8803</td>\n",
       "      <td>9698</td>\n",
       "      <td>196096</td>\n",
       "      <td>9.434665</td>\n",
       "      <td>0.934675</td>\n",
       "      <td>./results/data/pred07/020_img.png</td>\n",
       "      <td>./results/data/pred07/020_ground_truth.png</td>\n",
       "      <td>./results/data/pred07/020_scribbles_all_01250_...</td>\n",
       "      <td>./results/data/pred07/020_ilastik_all_01250_x.png</td>\n",
       "    </tr>\n",
       "    <tr>\n",
       "      <th>3</th>\n",
       "      <td>30</td>\n",
       "      <td>ilastik</td>\n",
       "      <td>all</td>\n",
       "      <td>1.25</td>\n",
       "      <td>x</td>\n",
       "      <td>124222</td>\n",
       "      <td>71874</td>\n",
       "      <td>19415</td>\n",
       "      <td>12615</td>\n",
       "      <td>6800</td>\n",
       "      <td>196096</td>\n",
       "      <td>9.900763</td>\n",
       "      <td>0.939994</td>\n",
       "      <td>./results/data/pred07/030_img.png</td>\n",
       "      <td>./results/data/pred07/030_ground_truth.png</td>\n",
       "      <td>./results/data/pred07/030_scribbles_all_01250_...</td>\n",
       "      <td>./results/data/pred07/030_ilastik_all_01250_x.png</td>\n",
       "    </tr>\n",
       "    <tr>\n",
       "      <th>4</th>\n",
       "      <td>40</td>\n",
       "      <td>ilastik</td>\n",
       "      <td>all</td>\n",
       "      <td>1.25</td>\n",
       "      <td>x</td>\n",
       "      <td>149525</td>\n",
       "      <td>46571</td>\n",
       "      <td>18490</td>\n",
       "      <td>14497</td>\n",
       "      <td>3993</td>\n",
       "      <td>196096</td>\n",
       "      <td>9.429055</td>\n",
       "      <td>0.964650</td>\n",
       "      <td>./results/data/pred07/040_img.png</td>\n",
       "      <td>./results/data/pred07/040_ground_truth.png</td>\n",
       "      <td>./results/data/pred07/040_scribbles_all_01250_...</td>\n",
       "      <td>./results/data/pred07/040_ilastik_all_01250_x.png</td>\n",
       "    </tr>\n",
       "  </tbody>\n",
       "</table>\n",
       "</div>"
      ],
      "text/plain": [
       "  img_num prediction type scribbles mode  scribbles bin suffix class_1_pix_gt  \\\n",
       "0       0         ilastik            all           1.25      x         101577   \n",
       "1      10         ilastik            all           1.25      x         120609   \n",
       "2      20         ilastik            all           1.25      x          94288   \n",
       "3      30         ilastik            all           1.25      x         124222   \n",
       "4      40         ilastik            all           1.25      x         149525   \n",
       "\n",
       "  class_2_pix_gt pix_labelled class_1_pix_labelled class_2_pix_labelled  \\\n",
       "0          94519        19188                10066                 9122   \n",
       "1          75487        19321                12235                 7086   \n",
       "2         101808        18501                 8803                 9698   \n",
       "3          71874        19415                12615                 6800   \n",
       "4          46571        18490                14497                 3993   \n",
       "\n",
       "  pix_in_img  perc. labelled  accuracy                              image  \\\n",
       "0     196096        9.785003  0.948908  ./results/data/pred07/000_img.png   \n",
       "1     196096        9.852827  0.959005  ./results/data/pred07/010_img.png   \n",
       "2     196096        9.434665  0.934675  ./results/data/pred07/020_img.png   \n",
       "3     196096        9.900763  0.939994  ./results/data/pred07/030_img.png   \n",
       "4     196096        9.429055  0.964650  ./results/data/pred07/040_img.png   \n",
       "\n",
       "                                 ground truth  \\\n",
       "0  ./results/data/pred07/000_ground_truth.png   \n",
       "1  ./results/data/pred07/010_ground_truth.png   \n",
       "2  ./results/data/pred07/020_ground_truth.png   \n",
       "3  ./results/data/pred07/030_ground_truth.png   \n",
       "4  ./results/data/pred07/040_ground_truth.png   \n",
       "\n",
       "                                           scribbles  \\\n",
       "0  ./results/data/pred07/000_scribbles_all_01250_...   \n",
       "1  ./results/data/pred07/010_scribbles_all_01250_...   \n",
       "2  ./results/data/pred07/020_scribbles_all_01250_...   \n",
       "3  ./results/data/pred07/030_scribbles_all_01250_...   \n",
       "4  ./results/data/pred07/040_scribbles_all_01250_...   \n",
       "\n",
       "                                          prediction  \n",
       "0  ./results/data/pred07/000_ilastik_all_01250_x.png  \n",
       "1  ./results/data/pred07/010_ilastik_all_01250_x.png  \n",
       "2  ./results/data/pred07/020_ilastik_all_01250_x.png  \n",
       "3  ./results/data/pred07/030_ilastik_all_01250_x.png  \n",
       "4  ./results/data/pred07/040_ilastik_all_01250_x.png  "
      ]
     },
     "execution_count": 11,
     "metadata": {},
     "output_type": "execute_result"
    }
   ],
   "source": [
    "df = pd.DataFrame(columns=['img_num', 'prediction type', 'scribbles mode', 'scribbles bin', 'suffix', 'class_1_pix_gt', 'class_2_pix_gt', 'pix_labelled', 'class_1_pix_labelled', 'class_2_pix_labelled', 'pix_in_img', 'perc. labelled', 'accuracy', 'image', 'ground truth', 'scribbles', 'prediction'])\n",
    "\n",
    "for img_num in range(0, 540, 10):\n",
    "    for bin in bins:\n",
    "        for s in suff:\n",
    "            for pred in prediction_types:\n",
    "                res = analyse_cellpose_single_file(folder_path, img_num, mode=mode, bin=bin, suff=s, pred_tag=pred, show_res=False)\n",
    "                df = pd.concat([df, res], ignore_index=True)\n",
    "df[:5]                "
   ]
  },
  {
   "cell_type": "markdown",
   "metadata": {},
   "source": [
    "Analyse the comparison of convpaint models"
   ]
  },
  {
   "cell_type": "code",
   "execution_count": 2,
   "metadata": {},
   "outputs": [
    {
     "name": "stderr",
     "output_type": "stream",
     "text": [
      "C:\\Users\\roman\\AppData\\Local\\Temp\\ipykernel_12528\\1769071347.py:16: FutureWarning: The behavior of DataFrame concatenation with empty or all-NA entries is deprecated. In a future version, this will no longer exclude empty or all-NA columns when determining the result dtypes. To retain the old behavior, exclude the relevant entries before the concat operation.\n",
      "  df = pd.concat([df, res], ignore_index=True)\n"
     ]
    },
    {
     "data": {
      "text/plain": [
       "(432, 17)"
      ]
     },
     "execution_count": 2,
     "metadata": {},
     "output_type": "execute_result"
    }
   ],
   "source": [
    "folder_path = \"results\\data\\pred06\"\n",
    "prediction_types = [\"convpaint_l-0_s-1\",\n",
    "                    \"convpaint_l-0_s-1-2\",\n",
    "                    \"convpaint_l-0_s-1-2-4\",\n",
    "                    \"convpaint_l-0_s-1-2-4-8\",\n",
    "                    \"convpaint_l-0-2_s-1\",\n",
    "                    \"convpaint_l-0-2_s-1-2\",\n",
    "                    \"convpaint_l-0-2_s-1-2-4\",\n",
    "                    \"convpaint_l-0-2_s-1-2-4-8\"] # [\"convpaintCh1\", \"ilastikCh1\"]\n",
    "\n",
    "df = pd.DataFrame(columns=['img_num', 'prediction type', 'scribbles mode', 'scribbles bin', 'suffix', 'class_1_pix_gt', 'class_2_pix_gt', 'pix_labelled', 'class_1_pix_labelled', 'class_2_pix_labelled', 'pix_in_img', 'perc. labelled', 'accuracy', 'image', 'ground truth', 'scribbles', 'prediction'])\n",
    "\n",
    "for img_num in range(0, 540, 10):\n",
    "    for pred in prediction_types:\n",
    "        res = analyse_cellpose_single_file(folder_path, img_num, mode=\"all\", bin=1.25, suff=\"x\", pred_tag=pred, show_res=False)\n",
    "        df = pd.concat([df, res], ignore_index=True)\n",
    "df.shape"
   ]
  },
  {
   "cell_type": "markdown",
   "metadata": {},
   "source": [
    "Save the data frame in a csv file:"
   ]
  },
  {
   "cell_type": "code",
   "execution_count": 12,
   "metadata": {},
   "outputs": [],
   "source": [
    "from datetime import datetime\n",
    "time_stamp = datetime.now().strftime(\"%y%m%d%H%M%S\")\n",
    "file_name = f\"test_labels_vs_acc_{time_stamp}.csv\"\n",
    "df.to_csv(file_name, index=False)"
   ]
  }
 ],
 "metadata": {
  "kernelspec": {
   "display_name": "ilastik",
   "language": "python",
   "name": "python3"
  },
  "language_info": {
   "codemirror_mode": {
    "name": "ipython",
    "version": 3
   },
   "file_extension": ".py",
   "mimetype": "text/x-python",
   "name": "python",
   "nbconvert_exporter": "python",
   "pygments_lexer": "ipython3",
   "version": "3.9.18"
  }
 },
 "nbformat": 4,
 "nbformat_minor": 2
}
