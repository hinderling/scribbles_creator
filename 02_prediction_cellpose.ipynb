{
 "cells": [
  {
   "cell_type": "code",
   "execution_count": 1,
   "metadata": {},
   "outputs": [
    {
     "name": "stderr",
     "output_type": "stream",
     "text": [
      "c:\\Users\\roman\\anaconda3\\envs\\ilastik2\\lib\\site-packages\\tqdm\\auto.py:21: TqdmWarning: IProgress not found. Please update jupyter and ipywidgets. See https://ipywidgets.readthedocs.io/en/stable/user_install.html\n",
      "  from .autonotebook import tqdm as notebook_tqdm\n"
     ]
    }
   ],
   "source": [
    "%load_ext autoreload\n",
    "%autoreload 2\n",
    "\n",
    "import numpy as np\n",
    "import napari\n",
    "from PIL import Image\n",
    "\n",
    "from scribbles_creator import *\n",
    "from cellpose_data_handler import *"
   ]
  },
  {
   "cell_type": "markdown",
   "metadata": {},
   "source": [
    "## Prediction"
   ]
  },
  {
   "cell_type": "markdown",
   "metadata": {},
   "source": [
    "Define prediction parameters"
   ]
  },
  {
   "cell_type": "code",
   "execution_count": 8,
   "metadata": {},
   "outputs": [],
   "source": [
    "# Where to find and save the data\n",
    "# folder_path = \"./cellpose_results/data/run02_examples\"\n",
    "folder_path = \"./cellpose_train_imgs\"\n",
    "\n",
    "mode = \"all\"\n",
    "bins = [0.1]#, 0.025, 0.05, 0.1, 0.25, 0.5, 1]\n",
    "scribble_width = 2\n",
    "# all_suff = [\"a\", \"b\", \"c\", \"d\", \"e\", \"f\", \"g\", \"h\", \"i\", \"j\"]\n",
    "# suff = all_suff[:1]\n",
    "s = \"a\"\n",
    "\n",
    "# Define the convpaint parameters\n",
    "convpaint_layers = [[0], [0,2], [0,2,5]] # layers to use for convpaint (depending on the model chosen)\n",
    "convpaint_scalings = [[1], [1,2], [1,2,4], [1,2,4,8]] # scalings for convpaint (downscaling the image)\n",
    "model=\"vgg16\" # 'vgg16', 'efficient_netb0', 'single_layer_vgg16', 'single_layer_vgg16_rgb', 'dino_vits16'\n",
    "use_dino = True\n",
    "use_ilastik = True\n",
    "pred_seed = 123 # seed used for random forest classifier\n",
    "\n",
    "save_res = False\n",
    "show_res = True"
   ]
  },
  {
   "cell_type": "code",
   "execution_count": 21,
   "metadata": {},
   "outputs": [
    {
     "name": "stdout",
     "output_type": "stream",
     "text": [
      "IMG 0: bin 0.1, suff a\n",
      "   DINO\n",
      "Active channels: R=True, G=True, B=False --> Removed 1 channel(s) --> shape: (2, 383, 512)\n",
      "(2, 383, 512) (383, 512)\n",
      "\n",
      "\n"
     ]
    }
   ],
   "source": [
    "for bin in [0.1]: #bins:\n",
    "    for img_num in [0]:#range(0, 540, 10):#range(0, 10):\n",
    "        print(f\"IMG {img_num}: bin {bin}, suff {s}\")\n",
    "        for layers in []:#[[0,2,5]]:#convpaint_layers:\n",
    "            for scalings in [[1,2]]:#convpaint_scalings:\n",
    "                print(f\"   ConvPaint: layers {layers}, scalings {scalings}\")\n",
    "                pred_conv = pred_cellpose_convpaint(folder_path, img_num, mode=mode, bin=bin, scribble_width=scribble_width, suff=s,\n",
    "                                                    layer_list=layers, scalings=scalings, model=model, random_state=pred_seed,\n",
    "                                                    save_res=save_res, show_res=show_res)\n",
    "        if use_ilastik:\n",
    "            print(\"   Ilastik\")\n",
    "            pred_ila = pred_cellpose_ilastik(folder_path, img_num, mode=mode, bin=bin, scribble_width=scribble_width, suff=s,\n",
    "                                                 random_state=pred_seed,\n",
    "                                                 save_res=save_res, show_res=show_res)\n",
    "        if use_dino:\n",
    "            print(\"   DINO\")\n",
    "            pred_dino = pred_cellpose_dino(folder_path, img_num, mode=mode, bin=bin, scribble_width=scribble_width, suff=s,\n",
    "                                           dinov2_model='s', dinov2_layers=(), dinov2_scales=(), upscale_order=0, random_state=pred_seed,\n",
    "                                           save_res=save_res, show_res=show_res)\n",
    "        print(\"\\n\")"
   ]
  },
  {
   "cell_type": "markdown",
   "metadata": {},
   "source": [
    "Show the last predictions (optionally with image, ground truth and scribbles)"
   ]
  },
  {
   "cell_type": "code",
   "execution_count": null,
   "metadata": {},
   "outputs": [],
   "source": [
    "img_data = get_cellpose_img_data(folder_path, img_num, load_img=True, load_gt=True, load_scribbles=True, mode=mode, bin=bin, scribble_width=scribble_width, suff=s)\n",
    "img = img_data[\"img\"]\n",
    "ground_truth = img_data[\"gt\"]\n",
    "scribbles = img_data[\"scribbles\"]"
   ]
  },
  {
   "cell_type": "code",
   "execution_count": null,
   "metadata": {},
   "outputs": [],
   "source": [
    "np.sum(pred_conv == ground_truth) / np.prod(pred_conv.shape)"
   ]
  },
  {
   "cell_type": "code",
   "execution_count": null,
   "metadata": {},
   "outputs": [],
   "source": [
    "v = napari.Viewer()\n",
    "v.add_image(img)\n",
    "v.add_labels(ground_truth)\n",
    "v.add_labels(scribbles)\n",
    "v.add_labels(pred_conv)\n",
    "v.add_labels(pred_ila)\n",
    "v.add_labels(pred_dino)"
   ]
  }
 ],
 "metadata": {
  "kernelspec": {
   "display_name": "ilastik",
   "language": "python",
   "name": "python3"
  },
  "language_info": {
   "codemirror_mode": {
    "name": "ipython",
    "version": 3
   },
   "file_extension": ".py",
   "mimetype": "text/x-python",
   "name": "python",
   "nbconvert_exporter": "python",
   "pygments_lexer": "ipython3",
   "version": "3.9.18"
  }
 },
 "nbformat": 4,
 "nbformat_minor": 2
}
