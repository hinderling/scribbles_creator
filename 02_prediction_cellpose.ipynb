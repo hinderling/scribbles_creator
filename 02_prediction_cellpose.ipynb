{
 "cells": [
  {
   "cell_type": "code",
   "execution_count": null,
   "metadata": {},
   "outputs": [],
   "source": [
    "%load_ext autoreload\n",
    "%autoreload 2\n",
    "\n",
    "import numpy as np\n",
    "import napari\n",
    "from PIL import Image\n",
    "\n",
    "from scribbles_creator import *\n",
    "from cellpose_data_handler import *"
   ]
  },
  {
   "cell_type": "markdown",
   "metadata": {},
   "source": [
    "## Create predictions/segmentations on the cellpose dataset (with self-created scribbles)"
   ]
  },
  {
   "cell_type": "code",
   "execution_count": null,
   "metadata": {},
   "outputs": [],
   "source": [
    "# folder_path = \"./cellpose_results/data/run02_examples\"\n",
    "folder_path = \"./cellpose_train_imgs\"\n",
    "\n",
    "mode = \"all\"\n",
    "bins = [0.1]#, 0.025, 0.05, 0.1, 0.25, 0.5, 1]\n",
    "scribble_width = 2\n",
    "all_suff = [\"a\", \"b\", \"c\", \"d\", \"e\", \"f\", \"g\", \"h\", \"i\", \"j\"]\n",
    "suff = all_suff[:1]\n",
    "s = \"a\"\n",
    "\n",
    "# Define the convpaint parameters\n",
    "layer_list = [[0], [0,2], [0,2,5]] # layers to use for convpaint (depending on the model chosen)\n",
    "scalings = [[1], [1,2], [1,2,4], [1,2,4,8]] # scalings for convpaint (downscaling the image)\n",
    "model=\"vgg16\" # 'vgg16', 'efficient_netb0', 'single_layer_vgg16', 'single_layer_vgg16_rgb', 'dino_vits16'\n",
    "random_state = 123 # seed used for random forest classifier\n",
    "\n",
    "# Predictions\n",
    "for img_num in [1]:#range(0, 540, 10):#range(0, 10):\n",
    "    for bin in [0.1]: #bins:\n",
    "        for sc in [[1,2]]:#scalings:\n",
    "            for l in [[0]]:#[[0,2,5]]:#layer_list:\n",
    "                print(f\"IMG {img_num}: bin {bin}, scalings {sc}, layers {l}\")\n",
    "                # get_cellpose_img_data(folder_path, img_num, load_img=True, load_gt=False, load_scribbles=False, mode=mode, bin=bin, suff=s, load_pred=False, pred_tag=\"convpaint\")\n",
    "                pred_cellpose_convpaint(folder_path, img_num, mode=mode, bin=bin, scribble_width=scribble_width, suff=s, save_res=True, show_res=True, layer_list=l, scalings=sc, model=model, random_state=random_state)\n",
    "                pred_cellpose_ilastik(folder_path, img_num, mode=mode, bin=bin, scribble_width=scribble_width, suff=s, save_res=True, show_res=True)\n",
    "                pred_cellpose_dino(folder_path, img_num, mode=mode, bin=bin, scribble_width=scribble_width, suff=s, save_res=True, show_res=True,\n",
    "                                   dinov2_model='s', dinov2_layers=(), dinov2_scales=(), upscale_order=1, random_state=random_state)"
   ]
  }
 ],
 "metadata": {
  "kernelspec": {
   "display_name": "ilastik",
   "language": "python",
   "name": "python3"
  },
  "language_info": {
   "codemirror_mode": {
    "name": "ipython",
    "version": 3
   },
   "file_extension": ".py",
   "mimetype": "text/x-python",
   "name": "python",
   "nbconvert_exporter": "python",
   "pygments_lexer": "ipython3",
   "version": "3.9.18"
  }
 },
 "nbformat": 4,
 "nbformat_minor": 2
}
