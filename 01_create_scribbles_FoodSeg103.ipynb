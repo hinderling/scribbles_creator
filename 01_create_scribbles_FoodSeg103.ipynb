{
 "cells": [
  {
   "cell_type": "code",
   "execution_count": 41,
   "metadata": {},
   "outputs": [
    {
     "name": "stdout",
     "output_type": "stream",
     "text": [
      "The autoreload extension is already loaded. To reload it, use:\n",
      "  %reload_ext autoreload\n"
     ]
    }
   ],
   "source": [
    "%load_ext autoreload\n",
    "%autoreload 2\n",
    "\n",
    "import numpy as np\n",
    "import pandas as pd\n",
    "import napari\n",
    "from dino_paint_utils import selfpredict_dino_forest\n",
    "from FoodSeg103_data_handler import *\n",
    "from scribbles_creator import create_even_scribbles\n",
    "from convpaint_helpers import selfpred_convpaint"
   ]
  },
  {
   "cell_type": "markdown",
   "metadata": {},
   "source": [
    "## Create scribbles"
   ]
  },
  {
   "cell_type": "markdown",
   "metadata": {},
   "source": [
    "Load the images and ground truths as lists/batches"
   ]
  },
  {
   "cell_type": "code",
   "execution_count": 42,
   "metadata": {},
   "outputs": [
    {
     "name": "stdout",
     "output_type": "stream",
     "text": [
      "Total images: 4\n"
     ]
    }
   ],
   "source": [
    "img_nums = [n for n in range(0, 4900, 1250)] #2750 #1234 #2314\n",
    "gts = load_food_batch(img_nums, load_images=False)[1]\n",
    "num_imgs = len(gts)\n",
    "print(f\"Total images: {num_imgs}\")"
   ]
  },
  {
   "cell_type": "markdown",
   "metadata": {},
   "source": [
    "Check and filter for resolution"
   ]
  },
  {
   "cell_type": "code",
   "execution_count": 43,
   "metadata": {},
   "outputs": [
    {
     "name": "stdout",
     "output_type": "stream",
     "text": [
      "Resolutions:\n",
      "   0:   196,608 pixels\n",
      "1250:    65,536 pixels\n",
      "2500:   196,608 pixels\n",
      "3750:   241,664 pixels (!)\n"
     ]
    }
   ],
   "source": [
    "resol = {im_num: np.prod(gt.shape) for im_num, gt in gts.items()}\n",
    "\n",
    "# Check for images with resolution over a certain threshold\n",
    "thresh = 200_000\n",
    "print(\"Resolutions:\")\n",
    "for im_num, r in resol.items(): print(f\"{im_num:4d}: {r:9,d} pixels{' (!)' if r > thresh else ''}\")"
   ]
  },
  {
   "cell_type": "code",
   "execution_count": 44,
   "metadata": {},
   "outputs": [
    {
     "name": "stdout",
     "output_type": "stream",
     "text": [
      "Images with resolution under 200,000: 3\n",
      "   0: 196,608 pixels\n",
      "1250:  65,536 pixels\n",
      "2500: 196,608 pixels\n"
     ]
    }
   ],
   "source": [
    "# Filter out those images\n",
    "gts = {im_num: gt for im_num, gt in gts.items() if resol[im_num] < thresh}\n",
    "num_imgs = len(gts)\n",
    "print(f\"Images with resolution under {thresh:,d}: {num_imgs}\")\n",
    "resol_new = {im_num: np.prod(gt.shape) for im_num, gt in gts.items()}\n",
    "for im_num, r in resol_new.items(): print(f\"{im_num:4d}: {r:7,d} pixels\")"
   ]
  },
  {
   "cell_type": "markdown",
   "metadata": {},
   "source": [
    "Define scribbles parameters"
   ]
  },
  {
   "cell_type": "code",
   "execution_count": 45,
   "metadata": {},
   "outputs": [],
   "source": [
    "bins=[0.125]\n",
    "suff=[\"w3\"] #standing for width 3\n",
    "sq_scaling=100\n",
    "scribble_width=3\n",
    "scribbles_seed = 1\n",
    "\n",
    "img, ground_truth = load_food_batch(img_nums)\n",
    "folder_path = \"./FoodSeg103_results/data/run01\""
   ]
  },
  {
   "cell_type": "markdown",
   "metadata": {},
   "source": [
    "Loop and create scribbles"
   ]
  },
  {
   "cell_type": "code",
   "execution_count": 47,
   "metadata": {},
   "outputs": [
    {
     "name": "stdout",
     "output_type": "stream",
     "text": [
      "IMG 0: 0.125_w3\n",
      "Adjusting square size and range to 22 (11, 88)\n",
      "Adjusting square size and range to 22 (11, 88)\n",
      "Adjusting square size and range to 22 (11, 88)\n",
      "Adjusting square size and range to 22 (11, 88)\n",
      "Adjusting square size and range to 22 (11, 88)\n",
      "Adjusting square size and range to 22 (11, 88)\n",
      "Adjusting square size and range to 22 (11, 88)\n",
      "Annotation percentage: 0.43%\n",
      "\n",
      "IMG 1250: 0.125_w3\n",
      "Adjusting square size and range to 12 (6, 50)\n",
      "Adjusting square size and range to 12 (6, 50)\n",
      "Adjusting square size and range to 12 (6, 50)\n",
      "Adjusting square size and range to 12 (6, 50)\n",
      "Adjusting square size and range to 12 (2, 50)\n",
      "Adjusting square size and range to 6 (2, 50)\n",
      "Adjusting square size and range to 3 (1, 50)\n",
      "Adjusting square size and range to 12 (2, 50)\n",
      "Adjusting square size and range to 6 (2, 50)\n",
      "Adjusting square size and range to 3 (1, 50)\n",
      "Adjusting square size and range to 12 (2, 50)\n",
      "Adjusting square size and range to 6 (2, 50)\n",
      "Adjusting square size and range to 3 (1, 50)\n",
      "Adjusting square size and range to 12 (2, 50)\n",
      "Adjusting square size and range to 6 (2, 50)\n",
      "Adjusting square size and range to 3 (1, 50)\n",
      "Adjusting square size and range to 1 (0, 50)\n",
      "Adjusting line range to (1, 100)\n",
      "Adjusting distance to edge to 3\n",
      "Adjusting distance to edge to 4\n",
      "Annotation percentage: 0.49%\n",
      "\n",
      "IMG 2500: 0.125_w3\n",
      "Adjusting square size and range to 22 (11, 88)\n",
      "Adjusting line range to (11, 176)\n",
      "Adjusting line range to (5, 352)\n",
      "Adjusting line range to (2, 704)\n",
      "Adjusting line range to (1, 1408)\n",
      "Adjusting distance to edge to 3\n",
      "Adjusting distance to edge to 4\n",
      "Adjusting distance to edge to 6\n",
      "Adjusting distance to edge to 9\n",
      "Adjusting distance to edge to 13\n",
      "Adjusting distance to edge to 19\n",
      "Adjusting distance to edge to 28\n",
      "Adjusting distance to edge to 42\n"
     ]
    }
   ],
   "source": [
    "percentages = {}\n",
    "for bin in bins:\n",
    "    percentages[bin] = []\n",
    "    for img_num, gt in gts.items():\n",
    "        for s in suff:\n",
    "            np.random.seed(scribbles_seed)\n",
    "            print(f\"IMG {img_num}: {bin}_{s}\")\n",
    "            scribbles, perc_labelled = create_food_scribble(gt, folder_path, img_num, bin=bin, sq_scaling=sq_scaling, mode=\"all\",\n",
    "                                                            save_res=True, suff=s, show_res=False, image=None, print_steps=False, scribble_width=scribble_width)\n",
    "            percentages[bin].append(perc_labelled)\n",
    "            print(f\"Annotation percentage: {perc_labelled:2.2f}%\\n\")"
   ]
  },
  {
   "cell_type": "markdown",
   "metadata": {},
   "source": [
    "Quick report of labelling percentages:"
   ]
  },
  {
   "cell_type": "code",
   "execution_count": null,
   "metadata": {},
   "outputs": [],
   "source": [
    "for bin, perc_list in percentages.items():\n",
    "    print(f\"labelled percentage in bin {bin}: mean = {np.mean(perc_list):.4f}, std = {np.std(perc_list):.4f}, range = {np.min(perc_list):.4f} - {np.max(perc_list):.4f}\")"
   ]
  },
  {
   "cell_type": "markdown",
   "metadata": {},
   "source": [
    "Show the last created scribble with its ground truth"
   ]
  },
  {
   "cell_type": "code",
   "execution_count": null,
   "metadata": {},
   "outputs": [],
   "source": [
    "v = napari.Viewer()\n",
    "v.add_labels(gt, name=\"Ground Truth\")\n",
    "v.add_labels(scribbles, name=\"Scribbles\")"
   ]
  }
 ],
 "metadata": {
  "kernelspec": {
   "display_name": "ilastik2",
   "language": "python",
   "name": "python3"
  },
  "language_info": {
   "codemirror_mode": {
    "name": "ipython",
    "version": 3
   },
   "file_extension": ".py",
   "mimetype": "text/x-python",
   "name": "python",
   "nbconvert_exporter": "python",
   "pygments_lexer": "ipython3",
   "version": "3.9.18"
  }
 },
 "nbformat": 4,
 "nbformat_minor": 2
}
