{
 "cells": [
  {
   "cell_type": "code",
   "execution_count": 1,
   "metadata": {},
   "outputs": [
    {
     "name": "stderr",
     "output_type": "stream",
     "text": [
      "c:\\Users\\roman\\anaconda3\\envs\\ilastik2\\lib\\site-packages\\tqdm\\auto.py:21: TqdmWarning: IProgress not found. Please update jupyter and ipywidgets. See https://ipywidgets.readthedocs.io/en/stable/user_install.html\n",
      "  from .autonotebook import tqdm as notebook_tqdm\n"
     ]
    }
   ],
   "source": [
    "%load_ext autoreload\n",
    "%autoreload 2\n",
    "\n",
    "import numpy as np\n",
    "import pandas as pd\n",
    "import napari\n",
    "from FoodSeg103_data_handler import *"
   ]
  },
  {
   "cell_type": "markdown",
   "metadata": {},
   "source": [
    "## Create scribbles"
   ]
  },
  {
   "cell_type": "markdown",
   "metadata": {},
   "source": [
    "Load the ground truths as batch"
   ]
  },
  {
   "cell_type": "code",
   "execution_count": 12,
   "metadata": {},
   "outputs": [
    {
     "name": "stdout",
     "output_type": "stream",
     "text": [
      "Total images: 1\n"
     ]
    }
   ],
   "source": [
    "img_nums = [856]#[n for n in range(0, 4900, 80)] #[1382] #2750 #1234 #2314\n",
    "gts = load_food_batch(img_nums, load_images=False)[1]\n",
    "num_imgs = len(gts)\n",
    "print(f\"Total images: {num_imgs}\")"
   ]
  },
  {
   "cell_type": "markdown",
   "metadata": {},
   "source": [
    "Check and filter for resolution"
   ]
  },
  {
   "cell_type": "code",
   "execution_count": 13,
   "metadata": {},
   "outputs": [
    {
     "name": "stdout",
     "output_type": "stream",
     "text": [
      "Resolutions:\n",
      " 856:    65,536 pixels\n"
     ]
    }
   ],
   "source": [
    "resol = {im_num: np.prod(gt.shape) for im_num, gt in gts.items()}\n",
    "\n",
    "# Check for images with resolution over a certain threshold\n",
    "thresh = 250_000\n",
    "print(\"Resolutions:\")\n",
    "for im_num, r in resol.items(): print(f\"{im_num:4d}: {r:9,d} pixels{' (!)' if r > thresh else ''}\")"
   ]
  },
  {
   "cell_type": "code",
   "execution_count": 14,
   "metadata": {},
   "outputs": [
    {
     "name": "stdout",
     "output_type": "stream",
     "text": [
      "Images with resolution under 250,000: 1\n",
      " 856:  65,536 pixels\n"
     ]
    }
   ],
   "source": [
    "# Filter out those images\n",
    "gts = {im_num: gt for im_num, gt in gts.items() if resol[im_num] <= thresh}\n",
    "num_imgs = len(gts)\n",
    "print(f\"Images with resolution under {thresh:,d}: {num_imgs}\")\n",
    "resol_new = {im_num: np.prod(gt.shape) for im_num, gt in gts.items()}\n",
    "for im_num, r in resol_new.items(): print(f\"{im_num:4d}: {r:7,d} pixels\")"
   ]
  },
  {
   "cell_type": "markdown",
   "metadata": {},
   "source": [
    "Define scribbles parameters"
   ]
  },
  {
   "cell_type": "code",
   "execution_count": 5,
   "metadata": {},
   "outputs": [],
   "source": [
    "# Which scribbles to create\n",
    "bins = [0.25]#[0.25, 1, 5]\n",
    "scribble_width = 3\n",
    "suff = [\"TEST\"] #[\"w3\"] #standing for width 3\n",
    "rel_scribble_len = 10\n",
    "scribble_width = 3\n",
    "scribbles_seed = 1\n",
    "\n",
    "# Where to save the scribbles\n",
    "folder_path = \"./FoodSeg103_results/data/food_run02\"\n",
    "\n",
    "save_res = False\n",
    "show_res = True\n",
    "print_steps = True"
   ]
  },
  {
   "cell_type": "markdown",
   "metadata": {},
   "source": [
    "Loop and create scribbles"
   ]
  },
  {
   "cell_type": "code",
   "execution_count": 24,
   "metadata": {},
   "outputs": [
    {
     "name": "stdout",
     "output_type": "stream",
     "text": [
      "IMG 856: bin 0.25, suff TEST\n",
      "CLASS 1:\n",
      "   sk_max_pix: 24.06, sq_size: 25, sq_pix_range: (36, 150)\n",
      "         Adjusting square size and range to 12 (18, 150)\n",
      "         sk_max_pix_left: 24.061666666666664\n",
      "         Adjusting square size and range to 6 (9, 150)\n",
      "         sk_max_pix_left: 24.061666666666664\n",
      "      prim_sk_squares pix: 18 = 0.06%\n",
      "         Adjusting square size and range to 12 (18, 150)\n",
      "         sk_max_pix_left: 24.061666666666664\n",
      "         Adjusting square size and range to 6 (9, 150)\n",
      "         sk_max_pix_left: 24.061666666666664\n",
      "      sec_sk_squares pix: 18 = 0.06%\n",
      "   lines_max_pix: 24.06, line_pix_range: (36, 150)\n",
      "         Adjusting line range to (18, 300)\n",
      "         lines_max_pix_left: 24.061666666666664\n",
      "      lines pix: 20 = 0.07%\n",
      "   Chceking for pixels OUTSIDE the class ground truth (all scribbles types together) - before: 56 = 0.19%\n",
      "      0 pixel(s) removed from the scribble because they were outside the ground truth mask (probably due to dilation to scribble width).\n",
      "      Coordinates of removed pixels: []\n",
      "   TOTAL pix - after: 56 = 0.19%\n",
      "CLASS 10:\n",
      "   WARNING: The theoretical maximum number of pixels for the SQUARES (0.19) is below 1. Instead, 1 pixel is picked.\n",
      "   WARNING: The theoretical maximum number of pixels for the LINES (1.00) is below the square of the scribble_width (9). The scribble width is adjusted to 1.\n",
      "   sk_max_pix: 1.00, sq_size: 25, sq_pix_range: (3, 150)\n",
      "         Adjusting square size and range to 12 (1, 150)\n",
      "         sk_max_pix_left: 1\n",
      "         Adjusting square size and range to 6 (1, 150)\n",
      "         sk_max_pix_left: 1\n",
      "         Adjusting square size and range to 3 (1, 150)\n",
      "         sk_max_pix_left: 1\n",
      "         Adjusting square size and range to 1 (1, 150)\n",
      "         sk_max_pix_left: 1\n",
      "      prim_sk_squares pix: 1 = 0.44%\n",
      "         Adjusting square size and range to 12 (1, 150)\n",
      "         sk_max_pix_left: 1\n",
      "         Adjusting square size and range to 6 (1, 150)\n",
      "         sk_max_pix_left: 1\n",
      "         Adjusting square size and range to 3 (1, 150)\n",
      "         sk_max_pix_left: 1\n",
      "      sec_sk_squares pix: 1 = 0.44%\n",
      "   WARNING: The theoretical maximum number of pixels for the LINES (0.19) is below 1. Instead, 1 pixel is picked.\n",
      "   WARNING: The theoretical maximum number of pixels for the LINES (1.00) is below the square of the scribble_width (9). The scribble width is adjusted to 1.\n",
      "   lines_max_pix: 1.00, line_pix_range: (1, 50)\n",
      "      lines pix: 1 = 0.44%\n",
      "   Chceking for pixels OUTSIDE the class ground truth (all scribbles types together) - before: 3 = 1.33%\n",
      "      0 pixel(s) removed from the scribble because they were outside the ground truth mask (probably due to dilation to scribble width).\n",
      "      Coordinates of removed pixels: []\n",
      "   TOTAL pix - after: 3 = 1.33%\n",
      "CLASS 47:\n",
      "   WARNING: The theoretical maximum number of pixels for the LINES (5.60) is below the square of the scribble_width (9). The scribble width is adjusted to 2.\n",
      "   sk_max_pix: 5.60, sq_size: 25, sq_pix_range: (15, 150)\n",
      "         Adjusting square size and range to 12 (5, 150)\n",
      "         sk_max_pix_left: 5.5975\n",
      "         Adjusting square size and range to 6 (2, 150)\n",
      "         sk_max_pix_left: 5.5975\n",
      "         Adjusting square size and range to 3 (1, 150)\n",
      "         sk_max_pix_left: 5.5975\n",
      "      prim_sk_squares pix: 5 = 0.07%\n",
      "         Adjusting square size and range to 12 (5, 150)\n",
      "         sk_max_pix_left: 5.5975\n",
      "         Adjusting square size and range to 6 (2, 150)\n",
      "         sk_max_pix_left: 5.5975\n",
      "         Adjusting square size and range to 3 (1, 150)\n",
      "         sk_max_pix_left: 5.5975\n",
      "      sec_sk_squares pix: 5 = 0.07%\n",
      "   WARNING: The theoretical maximum number of pixels for the LINES (5.60) is below the square of the scribble_width (9). The scribble width is adjusted to 2.\n",
      "   lines_max_pix: 5.60, line_pix_range: (10, 100)\n",
      "         Adjusting line range to (5, 200)\n",
      "         lines_max_pix_left: 5.5975\n",
      "      lines pix: 5 = 0.07%\n",
      "   Chceking for pixels OUTSIDE the class ground truth (all scribbles types together) - before: 15 = 0.22%\n",
      "      0 pixel(s) removed from the scribble because they were outside the ground truth mask (probably due to dilation to scribble width).\n",
      "      Coordinates of removed pixels: []\n",
      "   TOTAL pix - after: 15 = 0.22%\n",
      "CLASS 53:\n",
      "   WARNING: The theoretical maximum number of pixels for the LINES (5.57) is below the square of the scribble_width (9). The scribble width is adjusted to 2.\n",
      "   sk_max_pix: 5.57, sq_size: 25, sq_pix_range: (15, 150)\n",
      "         Adjusting square size and range to 12 (5, 150)\n",
      "         sk_max_pix_left: 5.565\n",
      "         Adjusting square size and range to 6 (2, 150)\n",
      "         sk_max_pix_left: 5.565\n",
      "         Adjusting square size and range to 3 (1, 150)\n",
      "         sk_max_pix_left: 5.565\n",
      "      prim_sk_squares pix: 5 = 0.07%\n",
      "         Adjusting square size and range to 12 (5, 150)\n",
      "         sk_max_pix_left: 5.565\n",
      "         Adjusting square size and range to 6 (2, 150)\n",
      "         sk_max_pix_left: 5.565\n",
      "         Adjusting square size and range to 3 (1, 150)\n",
      "         sk_max_pix_left: 5.565\n",
      "      sec_sk_squares pix: 5 = 0.07%\n",
      "   WARNING: The theoretical maximum number of pixels for the LINES (5.57) is below the square of the scribble_width (9). The scribble width is adjusted to 2.\n",
      "   lines_max_pix: 5.57, line_pix_range: (10, 100)\n",
      "         Adjusting line range to (5, 200)\n",
      "         lines_max_pix_left: 5.565\n",
      "         Adjusting line range to (2, 400)\n",
      "         lines_max_pix_left: 5.565\n",
      "         Adjusting line range to (1, 800)\n",
      "         lines_max_pix_left: 5.565\n",
      "         Adjusting line_crop to 23\n",
      "         lines_max_pix_left: 5.565\n",
      "         Adjusting line_crop to 24\n",
      "         lines_max_pix_left: 5.565\n",
      "         Adjusting line_crop to 25\n",
      "         lines_max_pix_left: 5.565\n",
      "         Adjusting line_crop to 26\n",
      "         lines_max_pix_left: 5.565\n",
      "      lines pix: 4 = 0.06%\n",
      "   Chceking for pixels OUTSIDE the class ground truth (all scribbles types together) - before: 14 = 0.21%\n",
      "      0 pixel(s) removed from the scribble because they were outside the ground truth mask (probably due to dilation to scribble width).\n",
      "      Coordinates of removed pixels: []\n",
      "   TOTAL pix - after: 14 = 0.21%\n",
      "CLASS 59:\n",
      "   sk_max_pix: 19.20, sq_size: 25, sq_pix_range: (36, 150)\n",
      "         Adjusting square size and range to 12 (18, 150)\n",
      "         sk_max_pix_left: 19.200833333333332\n",
      "         Adjusting square size and range to 6 (9, 150)\n",
      "         sk_max_pix_left: 19.200833333333332\n",
      "      prim_sk_squares pix: 18 = 0.08%\n",
      "         Adjusting square size and range to 12 (18, 150)\n",
      "         sk_max_pix_left: 19.200833333333332\n",
      "         Adjusting square size and range to 6 (9, 150)\n",
      "         sk_max_pix_left: 19.200833333333332\n",
      "      sec_sk_squares pix: 15 = 0.07%\n",
      "   lines_max_pix: 19.20, line_pix_range: (36, 150)\n",
      "         Adjusting line range to (18, 300)\n",
      "         lines_max_pix_left: 19.200833333333332\n",
      "      lines pix: 18 = 0.08%\n",
      "   Chceking for pixels OUTSIDE the class ground truth (all scribbles types together) - before: 51 = 0.22%\n",
      "      0 pixel(s) removed from the scribble because they were outside the ground truth mask (probably due to dilation to scribble width).\n",
      "      Coordinates of removed pixels: []\n",
      "   TOTAL pix - after: 51 = 0.22%\n",
      "\n",
      "WARNING: The theoretical maximum number of pixels for the ENTIRE CLASS 10 (0) is below 1. Instead, 1 pixel is picked.\n",
      "\n",
      "WARNING: The total number of picked pixels for class 10 (3) exceeds the maximum (1). Removing pixels...\n",
      "New total number of pixels for this class: 1 (0.4425%)\n",
      "Annotation percentage: 0.21%\n",
      "\n"
     ]
    }
   ],
   "source": [
    "percentages = {}\n",
    "for bin in bins:\n",
    "    percentages[bin] = []\n",
    "    for img_num, gt in gts.items():\n",
    "        for s in suff:\n",
    "            np.random.seed(scribbles_seed)\n",
    "            print(f\"IMG {img_num}: bin {bin}, suff {s}\")\n",
    "            scribbles, perc_labelled = create_food_scribble(gt, folder_path, img_num, bin=bin, margin=0.75, rel_scribble_len=rel_scribble_len, mode=\"all\",\n",
    "                                                            save_res=save_res, suff=s, show_res=show_res, image=None, print_steps=print_steps, scribble_width=scribble_width)\n",
    "            percentages[bin].append(perc_labelled)\n",
    "            print(f\"Annotation percentage: {perc_labelled:2.2f}%\\n\")"
   ]
  },
  {
   "cell_type": "code",
   "execution_count": 17,
   "metadata": {},
   "outputs": [
    {
     "data": {
      "image/png": "[encoded data removed]",
      "text/plain": [
       "<Figure size 640x480 with 1 Axes>"
      ]
     },
     "metadata": {},
     "output_type": "display_data"
    }
   ],
   "source": [
    "from skimage.morphology import *\n",
    "gt_mask = np.zeros((250, 250))\n",
    "gt_mask[50:200, 50:200] = 1\n",
    "sk = np.zeros((250, 250))\n",
    "sk[60:160, 150] = 1\n",
    "sk = binary_dilation(sk, square(3))\n",
    "from matplotlib import pyplot as plt\n",
    "from scribbles_creator import create_lines_optim\n",
    "lines = create_lines_optim(sk, gt_mask, lines_max_pix=20, lines_margin=0.75, line_pix_range=(10, 40), scribble_width=2, init_line_crop=0, print_steps=True)\n",
    "plt.imshow(np.logical_or(gt_mask==0, sk*200))\n",
    "plt.show()\n"
   ]
  },
  {
   "cell_type": "code",
   "execution_count": null,
   "metadata": {},
   "outputs": [],
   "source": [
    "print(lines[45:65, 102:112])"
   ]
  },
  {
   "cell_type": "markdown",
   "metadata": {},
   "source": [
    "Quick report of labelling percentages:"
   ]
  },
  {
   "cell_type": "code",
   "execution_count": null,
   "metadata": {},
   "outputs": [],
   "source": [
    "for bin, perc_list in percentages.items():\n",
    "    print(f\"labelled percentage in bin {bin}: mean = {np.mean(perc_list):.4f}, std = {np.std(perc_list):.4f}, range = {np.min(perc_list):.4f} - {np.max(perc_list):.4f}\")"
   ]
  },
  {
   "cell_type": "markdown",
   "metadata": {},
   "source": [
    "Check percentages of saved scribbles"
   ]
  },
  {
   "cell_type": "code",
   "execution_count": null,
   "metadata": {},
   "outputs": [],
   "source": [
    "perc_dict = {}\n",
    "for bin in bins:\n",
    "    bin_perc_list = []\n",
    "    for img_num in range(0,540,20):\n",
    "        for s in suff:\n",
    "            scrib = np.array(Image.open(f\"{folder_path}{img_num:03d}_scribbles_{mode}_{bin_for_file(bin)}_{s}.png\"))\n",
    "            perc_labelled = np.sum(scrib > 0) / scrib.size\n",
    "            bin_perc_list.append(perc_labelled)\n",
    "    perc_dict[bin] = bin_perc_list"
   ]
  },
  {
   "cell_type": "markdown",
   "metadata": {},
   "source": [
    "Show the last created scribble with its ground truth, and all ground truths (optionally)"
   ]
  },
  {
   "cell_type": "code",
   "execution_count": null,
   "metadata": {},
   "outputs": [],
   "source": [
    "v = napari.Viewer()\n",
    "v.add_labels(gt, name=\"Ground Truth\")\n",
    "v.add_labels(scribbles, name=\"Scribbles\")"
   ]
  },
  {
   "cell_type": "code",
   "execution_count": null,
   "metadata": {},
   "outputs": [],
   "source": [
    "for g in gts:\n",
    "    v.add_labels(gts[g], name=f\"GT {g}\")"
   ]
  }
 ],
 "metadata": {
  "kernelspec": {
   "display_name": "ilastik2",
   "language": "python",
   "name": "python3"
  },
  "language_info": {
   "codemirror_mode": {
    "name": "ipython",
    "version": 3
   },
   "file_extension": ".py",
   "mimetype": "text/x-python",
   "name": "python",
   "nbconvert_exporter": "python",
   "pygments_lexer": "ipython3",
   "version": "3.9.18"
  }
 },
 "nbformat": 4,
 "nbformat_minor": 2
}
