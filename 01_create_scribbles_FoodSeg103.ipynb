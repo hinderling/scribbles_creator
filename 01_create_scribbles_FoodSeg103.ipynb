{
 "cells": [
  {
   "cell_type": "code",
   "execution_count": null,
   "metadata": {},
   "outputs": [],
   "source": [
    "%load_ext autoreload\n",
    "%autoreload 2\n",
    "\n",
    "import numpy as np\n",
    "import pandas as pd\n",
    "import napari\n",
    "from FoodSeg103_data_handler import *"
   ]
  },
  {
   "cell_type": "markdown",
   "metadata": {},
   "source": [
    "## Create scribbles"
   ]
  },
  {
   "cell_type": "markdown",
   "metadata": {},
   "source": [
    "Load the ground truths as batch"
   ]
  },
  {
   "cell_type": "code",
   "execution_count": null,
   "metadata": {},
   "outputs": [],
   "source": [
    "img_nums = [n for n in range(0, 4900, 8)] #2750 #1234 #2314\n",
    "gts = load_food_batch(img_nums, load_images=False)[1]\n",
    "num_imgs = len(gts)\n",
    "print(f\"Total images: {num_imgs}\")"
   ]
  },
  {
   "cell_type": "markdown",
   "metadata": {},
   "source": [
    "Check and filter for resolution"
   ]
  },
  {
   "cell_type": "code",
   "execution_count": null,
   "metadata": {},
   "outputs": [],
   "source": [
    "resol = {im_num: np.prod(gt.shape) for im_num, gt in gts.items()}\n",
    "\n",
    "# Check for images with resolution over a certain threshold\n",
    "thresh = 250_000\n",
    "print(\"Resolutions:\")\n",
    "for im_num, r in resol.items(): print(f\"{im_num:4d}: {r:9,d} pixels{' (!)' if r > thresh else ''}\")"
   ]
  },
  {
   "cell_type": "code",
   "execution_count": null,
   "metadata": {},
   "outputs": [],
   "source": [
    "# Filter out those images\n",
    "gts = {im_num: gt for im_num, gt in gts.items() if resol[im_num] <= thresh}\n",
    "num_imgs = len(gts)\n",
    "print(f\"Images with resolution under {thresh:,d}: {num_imgs}\")\n",
    "resol_new = {im_num: np.prod(gt.shape) for im_num, gt in gts.items()}\n",
    "for im_num, r in resol_new.items(): print(f\"{im_num:4d}: {r:7,d} pixels\")"
   ]
  },
  {
   "cell_type": "markdown",
   "metadata": {},
   "source": [
    "Define scribbles parameters"
   ]
  },
  {
   "cell_type": "code",
   "execution_count": null,
   "metadata": {},
   "outputs": [],
   "source": [
    "# Which scribbles to create\n",
    "bins = [0.05, 0.3, 1.5]\n",
    "suff = [\"w3\"] #standing for width 3\n",
    "sq_scaling = 100\n",
    "scribble_width = 3\n",
    "scribbles_seed = 1\n",
    "\n",
    "# Where to save the scribbles\n",
    "folder_path = \"./FoodSeg103_results/data/run02\"\n",
    "\n",
    "save_res = True\n",
    "show_res = False\n",
    "print_steps = True"
   ]
  },
  {
   "cell_type": "markdown",
   "metadata": {},
   "source": [
    "Loop and create scribbles"
   ]
  },
  {
   "cell_type": "code",
   "execution_count": null,
   "metadata": {},
   "outputs": [],
   "source": [
    "percentages = {}\n",
    "for bin in bins:\n",
    "    percentages[bin] = []\n",
    "    for img_num, gt in gts.items():\n",
    "        for s in suff:\n",
    "            np.random.seed(scribbles_seed)\n",
    "            print(f\"IMG {img_num}: bin {bin}, suff {s}\")\n",
    "            scribbles, perc_labelled = create_food_scribble(gt, folder_path, img_num, bin=bin, sq_scaling=sq_scaling, mode=\"all\",\n",
    "                                                            save_res=save_res, suff=s, show_res=show_res, image=None, print_steps=print_steps, scribble_width=scribble_width)\n",
    "            percentages[bin].append(perc_labelled)\n",
    "            print(f\"Annotation percentage: {perc_labelled:2.2f}%\\n\")"
   ]
  },
  {
   "cell_type": "markdown",
   "metadata": {},
   "source": [
    "Quick report of labelling percentages:"
   ]
  },
  {
   "cell_type": "code",
   "execution_count": null,
   "metadata": {},
   "outputs": [],
   "source": [
    "for bin, perc_list in percentages.items():\n",
    "    print(f\"labelled percentage in bin {bin}: mean = {np.mean(perc_list):.4f}, std = {np.std(perc_list):.4f}, range = {np.min(perc_list):.4f} - {np.max(perc_list):.4f}\")"
   ]
  },
  {
   "cell_type": "markdown",
   "metadata": {},
   "source": [
    "Show the last created scribble with its ground truth, and all ground truths (optionally)"
   ]
  },
  {
   "cell_type": "code",
   "execution_count": null,
   "metadata": {},
   "outputs": [],
   "source": [
    "v = napari.Viewer()\n",
    "v.add_labels(gt, name=\"Ground Truth\")\n",
    "v.add_labels(scribbles, name=\"Scribbles\")"
   ]
  },
  {
   "cell_type": "code",
   "execution_count": null,
   "metadata": {},
   "outputs": [],
   "source": [
    "for g in gts:\n",
    "    v.add_labels(gts[g], name=f\"GT {g}\")"
   ]
  }
 ],
 "metadata": {
  "kernelspec": {
   "display_name": "ilastik2",
   "language": "python",
   "name": "python3"
  },
  "language_info": {
   "codemirror_mode": {
    "name": "ipython",
    "version": 3
   },
   "file_extension": ".py",
   "mimetype": "text/x-python",
   "name": "python",
   "nbconvert_exporter": "python",
   "pygments_lexer": "ipython3",
   "version": "3.9.18"
  }
 },
 "nbformat": 4,
 "nbformat_minor": 2
}
