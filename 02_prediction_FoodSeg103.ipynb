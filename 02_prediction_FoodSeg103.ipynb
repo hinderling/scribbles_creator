{
 "cells": [
  {
   "cell_type": "code",
   "execution_count": 2,
   "metadata": {},
   "outputs": [
    {
     "name": "stderr",
     "output_type": "stream",
     "text": [
      "c:\\Users\\roman\\anaconda3\\envs\\ilastik\\lib\\site-packages\\tqdm\\auto.py:21: TqdmWarning: IProgress not found. Please update jupyter and ipywidgets. See https://ipywidgets.readthedocs.io/en/stable/user_install.html\n",
      "  from .autonotebook import tqdm as notebook_tqdm\n"
     ]
    }
   ],
   "source": [
    "%load_ext autoreload\n",
    "%autoreload 2\n",
    "\n",
    "import numpy as np\n",
    "import napari\n",
    "from FoodSeg103_data_handler import *"
   ]
  },
  {
   "cell_type": "markdown",
   "metadata": {},
   "source": [
    "## Prediction"
   ]
  },
  {
   "cell_type": "markdown",
   "metadata": {},
   "source": [
    "Load the images as batches"
   ]
  },
  {
   "cell_type": "code",
   "execution_count": 3,
   "metadata": {},
   "outputs": [
    {
     "name": "stdout",
     "output_type": "stream",
     "text": [
      "Total images: 1\n"
     ]
    }
   ],
   "source": [
    "img_nums = [1328]#[n for n in range(0, 4500, 1000)] #2750 #1234 #2314\n",
    "imgs = load_food_batch(img_nums, load_gts=False)[0]\n",
    "num_imgs = len(imgs)\n",
    "print(f\"Total images: {num_imgs}\")"
   ]
  },
  {
   "cell_type": "markdown",
   "metadata": {},
   "source": [
    "Check and filter for resolution"
   ]
  },
  {
   "cell_type": "code",
   "execution_count": 22,
   "metadata": {},
   "outputs": [
    {
     "name": "stdout",
     "output_type": "stream",
     "text": [
      "Resolutions:\n",
      "   0:   196,608 pixels\n",
      "1000:   196,608 pixels\n",
      "2000:   172,544 pixels\n",
      "3000:   174,080 pixels\n",
      "4000:   196,608 pixels\n"
     ]
    }
   ],
   "source": [
    "resol = {im_num: np.prod(im.shape[:2]) for im_num, im in imgs.items()}\n",
    "\n",
    "# Check for images with resolution over a certain threshold\n",
    "thresh = 640_000\n",
    "print(\"Resolutions:\")\n",
    "for im_num, r in resol.items(): print(f\"{im_num:4d}: {r:9,d} pixels{' (!)' if r > thresh else ''}\")"
   ]
  },
  {
   "cell_type": "code",
   "execution_count": 23,
   "metadata": {},
   "outputs": [
    {
     "name": "stdout",
     "output_type": "stream",
     "text": [
      "Images with resolution under 640,000: 5\n",
      "   0: 196,608 pixels\n",
      "1000: 196,608 pixels\n",
      "2000: 172,544 pixels\n",
      "3000: 174,080 pixels\n",
      "4000: 196,608 pixels\n"
     ]
    }
   ],
   "source": [
    "# Filter out those images\n",
    "imgs = {im_num: im for im_num, im in imgs.items() if resol[im_num] <= thresh}\n",
    "num_imgs = len(imgs)\n",
    "print(f\"Images with resolution under {thresh:,d}: {num_imgs}\")\n",
    "resol_new = {im_num: np.prod(im.shape[:2]) for im_num, im in imgs.items()}\n",
    "for im_num, r in resol_new.items(): print(f\"{im_num:4d}: {r:7,d} pixels\")"
   ]
  },
  {
   "cell_type": "code",
   "execution_count": 4,
   "metadata": {},
   "outputs": [],
   "source": [
    "# Where to find and save the data\n",
    "folder_path = \"./FoodSeg103_results/data/food_run06a_examples\"\n",
    "\n",
    "# Which scribbles to use\n",
    "mode = \"all\"\n",
    "bins = [0.1] #[0.05, 0.3, 1.5]\n",
    "scribble_width = 2\n",
    "# suff = [\"TEST\"]\n",
    "s = \"run06\"\n",
    "\n",
    "# Which prediction models to use\n",
    "convpaint_layers = [[0], [0,2], [0,2,5]]\n",
    "convpaint_scalings = [[1], [1,2], [1,2,4], [1,2,4,8]]\n",
    "model = \"vgg16\" # 'vgg16', 'efficient_netb0', 'single_layer_vgg16', 'single_layer_vgg16_rgb', 'dino_vits16'\n",
    "use_dino = True\n",
    "use_ilastik = True\n",
    "pred_seed = 123\n",
    "\n",
    "save_res = False\n",
    "show_res = True"
   ]
  },
  {
   "cell_type": "markdown",
   "metadata": {},
   "source": [
    "Loop and predict"
   ]
  },
  {
   "cell_type": "code",
   "execution_count": 18,
   "metadata": {},
   "outputs": [
    {
     "name": "stdout",
     "output_type": "stream",
     "text": [
      "IMG 1328: bin 0.1, suff run06\n",
      "   ConvPaint: layers [0], scalings [1]\n"
     ]
    },
    {
     "name": "stderr",
     "output_type": "stream",
     "text": [
      "WARNING: QWindowsWindow::setGeometry: Unable to set geometry 3258x1965+3159+51 (frame: 3290x2053+3143-21) on QWidgetWindow/\"_QtMainWindowClassWindow\" on \"\\\\.\\DISPLAY1\". Resulting geometry: 5764x2528+3167+92 (frame: 5796x2616+3151+20) margins: 16, 72, 16, 16 minimum size: 385x494 MINMAXINFO maxSize=0,0 maxpos=0,0 mintrack=1187,1570 maxtrack=0,0)\n"
     ]
    },
    {
     "name": "stdout",
     "output_type": "stream",
     "text": [
      "\n",
      "\n"
     ]
    }
   ],
   "source": [
    "for bin in bins:\n",
    "    for img_num, img in imgs.items():\n",
    "        print(f\"IMG {img_num}: bin {bin}, suff {s}\")\n",
    "        for layers in [[0]]:#convpaint_layers:\n",
    "            for scalings in [[1]]:#convpaint_scalings:\n",
    "                print(f\"   ConvPaint: layers {layers}, scalings {scalings}\")\n",
    "                pred_conv = pred_food_convpaint(img, folder_path, img_num, mode=mode, bin=bin, scribble_width=scribble_width, suff=s, \n",
    "                                                layer_list=layers, scalings=scalings, model=model, random_state=12,\n",
    "                                                save_res=save_res, show_res=show_res, ground_truth=None)\n",
    "        if use_ilastik:\n",
    "            print(\"   Ilastik\")\n",
    "            pred_ila = pred_food_ilastik(img, folder_path, img_num, mode=mode, bin=bin, scribble_width=scribble_width, suff=s,\n",
    "                                         random_state=pred_seed,\n",
    "                                         save_res=save_res, show_res=show_res, ground_truth=None)\n",
    "        if use_dino:\n",
    "            print(\"   DINO\")\n",
    "            pred_dino = pred_food_dino(img, folder_path, img_num, mode=mode, bin=bin, scribble_width=scribble_width, suff=s, \n",
    "                                            dinov2_model='s', upscale_order=0, random_state=pred_seed,\n",
    "                                            save_res=save_res, show_res=show_res, ground_truth=None)\n",
    "        print(\"\\n\")"
   ]
  },
  {
   "cell_type": "markdown",
   "metadata": {},
   "source": [
    "Show the last predictions (optionally with image, ground truth and scribbles)"
   ]
  },
  {
   "cell_type": "code",
   "execution_count": null,
   "metadata": {},
   "outputs": [],
   "source": [
    "ground_truth = load_food_data(img_num, load_image=False)[1]\n",
    "scribbles = get_food_img_data(folder_path, img_num, load_scribbles=True, mode=mode, bin=bin, scribble_width=scribble_width, suff=s)[\"scribbles\"]"
   ]
  },
  {
   "cell_type": "code",
   "execution_count": null,
   "metadata": {},
   "outputs": [],
   "source": [
    "print(f\"Ilastik:   {np.sum(pred_ila == ground_truth) / np.prod(pred_ila.shape) * 100:.2f}%\")\n",
    "print(f\"Convpaint: {np.sum(pred_conv == ground_truth) / np.prod(pred_conv.shape) * 100:.2f}%\")\n",
    "print(f\"DINOv2:    {np.sum(pred_dino == ground_truth) / np.prod(pred_dino.shape) * 100:.2f}%\")"
   ]
  },
  {
   "cell_type": "code",
   "execution_count": null,
   "metadata": {},
   "outputs": [],
   "source": [
    "v = napari.Viewer()\n",
    "v.add_image(img)\n",
    "v.add_labels(ground_truth)\n",
    "v.add_labels(scribbles)\n",
    "v.add_labels(pred_conv)\n",
    "v.add_labels(pred_ila)\n",
    "v.add_labels(pred_dino)"
   ]
  },
  {
   "cell_type": "markdown",
   "metadata": {},
   "source": [
    "## Test Computation Times"
   ]
  },
  {
   "cell_type": "code",
   "execution_count": 5,
   "metadata": {},
   "outputs": [
    {
     "name": "stdout",
     "output_type": "stream",
     "text": [
      "IMG 1328:\n",
      "convpaint_l-0_s-1\n",
      "convpaint_l-0_s-1-2\n",
      "convpaint_l-0_s-1-2-4\n",
      "convpaint_l-0_s-1-2-4-8\n",
      "convpaint_l-0-2_s-1\n",
      "convpaint_l-0-2_s-1-2\n",
      "convpaint_l-0-2_s-1-2-4\n",
      "convpaint_l-0-2_s-1-2-4-8\n",
      "convpaint_l-0-2-5_s-1\n",
      "convpaint_l-0-2-5_s-1-2\n",
      "convpaint_l-0-2-5_s-1-2-4\n",
      "convpaint_l-0-2-5_s-1-2-4-8\n",
      "ilastik\n",
      "DINOv2\n"
     ]
    },
    {
     "name": "stderr",
     "output_type": "stream",
     "text": [
      "C:\\Users\\roman/.cache\\torch\\hub\\facebookresearch_dinov2_main\\dinov2\\layers\\swiglu_ffn.py:51: UserWarning: xFormers is not available (SwiGLU)\n",
      "  warnings.warn(\"xFormers is not available (SwiGLU)\")\n",
      "C:\\Users\\roman/.cache\\torch\\hub\\facebookresearch_dinov2_main\\dinov2\\layers\\attention.py:33: UserWarning: xFormers is not available (Attention)\n",
      "  warnings.warn(\"xFormers is not available (Attention)\")\n",
      "C:\\Users\\roman/.cache\\torch\\hub\\facebookresearch_dinov2_main\\dinov2\\layers\\block.py:40: UserWarning: xFormers is not available (Block)\n",
      "  warnings.warn(\"xFormers is not available (Block)\")\n"
     ]
    }
   ],
   "source": [
    "res_list = []\n",
    "for img_num, img in imgs.items():\n",
    "    print(f\"IMG {img_num}:\")\n",
    "    labels = get_food_img_data(folder_path, img_num, load_scribbles=True, mode=\"all\", bin=0.1, scribble_width=2, suff=\"run06\", load_pred=False, pred_tag=\"convpaint\")[\"scribbles\"]\n",
    "    for layers in convpaint_layers:\n",
    "        for scalings in convpaint_scalings:\n",
    "            pred_tag = generate_convpaint_tag(layers, scalings, model)\n",
    "            print(pred_tag)\n",
    "            t = time_food(img, labels, pred_type=\"convpaint\", layer_list=layers, scalings=scalings, model_name=model)\n",
    "            res = pd.DataFrame({\"img\": img_num, \"prediction tag\": pred_tag, \"prediction type\": \"convpaint\",\n",
    "                                \"layers\": str(layers)[1:-1].replace(\", \", \"-\"), \"scalings\": str(scalings)[1:-1].replace(\", \", \"-\"),\n",
    "                                \"t_features\": t[0], \"t_pred\": t[1], \"t_tot\": t[2]}, index=[0])\n",
    "            res_list.append(res)\n",
    "    if use_ilastik:\n",
    "        print(\"ilastik\")\n",
    "        t = time_food(img, labels, pred_type=\"ilastik\")\n",
    "        res = pd.DataFrame({\"img\": img_num, \"prediction tag\": \"ilastik\", \"prediction type\": \"classical filters\",\n",
    "                            \"layers\": \"-\", \"scalings\": \"-\",\n",
    "                            \"t_features\": t[0], \"t_pred\": t[1], \"t_tot\": t[2]}, index=[0])\n",
    "        res_list.append(res)\n",
    "    if use_dino:\n",
    "        print(\"DINOv2\")\n",
    "        t = time_food(img, labels, pred_type=\"dino\")\n",
    "        res = pd.DataFrame({\"img\": img_num, \"prediction tag\": \"dino\", \"prediction type\": \"DINOv2\",\n",
    "                            \"layers\": \"-\", \"scalings\": \"-\",\n",
    "                            \"t_features\": t[0], \"t_pred\": t[1], \"t_tot\": t[2]}, index=[0])\n",
    "        res_list.append(res)\n",
    "\n",
    "df = pd.concat(res_list)"
   ]
  },
  {
   "cell_type": "code",
   "execution_count": 6,
   "metadata": {},
   "outputs": [
    {
     "data": {
      "text/html": [
       "<div>\n",
       "<style scoped>\n",
       "    .dataframe tbody tr th:only-of-type {\n",
       "        vertical-align: middle;\n",
       "    }\n",
       "\n",
       "    .dataframe tbody tr th {\n",
       "        vertical-align: top;\n",
       "    }\n",
       "\n",
       "    .dataframe thead th {\n",
       "        text-align: right;\n",
       "    }\n",
       "</style>\n",
       "<table border=\"1\" class=\"dataframe\">\n",
       "  <thead>\n",
       "    <tr style=\"text-align: right;\">\n",
       "      <th></th>\n",
       "      <th></th>\n",
       "      <th></th>\n",
       "      <th>t_features</th>\n",
       "      <th>t_pred</th>\n",
       "      <th>t_tot</th>\n",
       "    </tr>\n",
       "    <tr>\n",
       "      <th>prediction type</th>\n",
       "      <th>scalings</th>\n",
       "      <th>layers</th>\n",
       "      <th></th>\n",
       "      <th></th>\n",
       "      <th></th>\n",
       "    </tr>\n",
       "  </thead>\n",
       "  <tbody>\n",
       "    <tr>\n",
       "      <th>DINOv2</th>\n",
       "      <th>-</th>\n",
       "      <th>-</th>\n",
       "      <td>0.70</td>\n",
       "      <td>0.49</td>\n",
       "      <td>1.19</td>\n",
       "    </tr>\n",
       "    <tr>\n",
       "      <th>classical filters</th>\n",
       "      <th>-</th>\n",
       "      <th>-</th>\n",
       "      <td>0.44</td>\n",
       "      <td>0.66</td>\n",
       "      <td>1.10</td>\n",
       "    </tr>\n",
       "    <tr>\n",
       "      <th rowspan=\"12\" valign=\"top\">convpaint</th>\n",
       "      <th rowspan=\"3\" valign=\"top\">1</th>\n",
       "      <th>0</th>\n",
       "      <td>0.05</td>\n",
       "      <td>1.09</td>\n",
       "      <td>1.22</td>\n",
       "    </tr>\n",
       "    <tr>\n",
       "      <th>0-2</th>\n",
       "      <td>0.37</td>\n",
       "      <td>1.45</td>\n",
       "      <td>1.98</td>\n",
       "    </tr>\n",
       "    <tr>\n",
       "      <th>0-2-5</th>\n",
       "      <td>0.51</td>\n",
       "      <td>1.51</td>\n",
       "      <td>2.56</td>\n",
       "    </tr>\n",
       "    <tr>\n",
       "      <th rowspan=\"3\" valign=\"top\">1-2</th>\n",
       "      <th>0</th>\n",
       "      <td>0.07</td>\n",
       "      <td>1.09</td>\n",
       "      <td>1.44</td>\n",
       "    </tr>\n",
       "    <tr>\n",
       "      <th>0-2</th>\n",
       "      <td>0.68</td>\n",
       "      <td>2.69</td>\n",
       "      <td>4.41</td>\n",
       "    </tr>\n",
       "    <tr>\n",
       "      <th>0-2-5</th>\n",
       "      <td>1.08</td>\n",
       "      <td>2.81</td>\n",
       "      <td>7.30</td>\n",
       "    </tr>\n",
       "    <tr>\n",
       "      <th rowspan=\"3\" valign=\"top\">1-2-4</th>\n",
       "      <th>0</th>\n",
       "      <td>0.12</td>\n",
       "      <td>1.39</td>\n",
       "      <td>2.00</td>\n",
       "    </tr>\n",
       "    <tr>\n",
       "      <th>0-2</th>\n",
       "      <td>0.50</td>\n",
       "      <td>2.45</td>\n",
       "      <td>4.22</td>\n",
       "    </tr>\n",
       "    <tr>\n",
       "      <th>0-2-5</th>\n",
       "      <td>0.77</td>\n",
       "      <td>3.56</td>\n",
       "      <td>6.25</td>\n",
       "    </tr>\n",
       "    <tr>\n",
       "      <th rowspan=\"3\" valign=\"top\">1-2-4-8</th>\n",
       "      <th>0</th>\n",
       "      <td>0.16</td>\n",
       "      <td>2.35</td>\n",
       "      <td>3.27</td>\n",
       "    </tr>\n",
       "    <tr>\n",
       "      <th>0-2</th>\n",
       "      <td>0.44</td>\n",
       "      <td>2.62</td>\n",
       "      <td>4.42</td>\n",
       "    </tr>\n",
       "    <tr>\n",
       "      <th>0-2-5</th>\n",
       "      <td>1.15</td>\n",
       "      <td>4.28</td>\n",
       "      <td>9.11</td>\n",
       "    </tr>\n",
       "  </tbody>\n",
       "</table>\n",
       "</div>"
      ],
      "text/plain": [
       "                                   t_features  t_pred  t_tot\n",
       "prediction type   scalings layers                           \n",
       "DINOv2            -        -             0.70    0.49   1.19\n",
       "classical filters -        -             0.44    0.66   1.10\n",
       "convpaint         1        0             0.05    1.09   1.22\n",
       "                           0-2           0.37    1.45   1.98\n",
       "                           0-2-5         0.51    1.51   2.56\n",
       "                  1-2      0             0.07    1.09   1.44\n",
       "                           0-2           0.68    2.69   4.41\n",
       "                           0-2-5         1.08    2.81   7.30\n",
       "                  1-2-4    0             0.12    1.39   2.00\n",
       "                           0-2           0.50    2.45   4.22\n",
       "                           0-2-5         0.77    3.56   6.25\n",
       "                  1-2-4-8  0             0.16    2.35   3.27\n",
       "                           0-2           0.44    2.62   4.42\n",
       "                           0-2-5         1.15    4.28   9.11"
      ]
     },
     "execution_count": 6,
     "metadata": {},
     "output_type": "execute_result"
    }
   ],
   "source": [
    "df.groupby([\"prediction type\", \"scalings\", \"layers\"]).mean(True)[[\"t_features\", \"t_pred\", \"t_tot\"]].round(2)"
   ]
  },
  {
   "cell_type": "code",
   "execution_count": 7,
   "metadata": {},
   "outputs": [],
   "source": [
    "# df.to_csv(f\"./food_time_prelim1.csv\", index=False)"
   ]
  }
 ],
 "metadata": {
  "kernelspec": {
   "display_name": "ilastik2",
   "language": "python",
   "name": "python3"
  },
  "language_info": {
   "codemirror_mode": {
    "name": "ipython",
    "version": 3
   },
   "file_extension": ".py",
   "mimetype": "text/x-python",
   "name": "python",
   "nbconvert_exporter": "python",
   "pygments_lexer": "ipython3",
   "version": "3.9.18"
  }
 },
 "nbformat": 4,
 "nbformat_minor": 2
}
