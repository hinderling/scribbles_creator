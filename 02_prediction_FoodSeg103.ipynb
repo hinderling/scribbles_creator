{
 "cells": [
  {
   "cell_type": "code",
   "execution_count": null,
   "metadata": {},
   "outputs": [],
   "source": [
    "%load_ext autoreload\n",
    "%autoreload 2\n",
    "\n",
    "import numpy as np\n",
    "import napari\n",
    "from FoodSeg103_data_handler import *"
   ]
  },
  {
   "cell_type": "markdown",
   "metadata": {},
   "source": [
    "## Prediction"
   ]
  },
  {
   "cell_type": "markdown",
   "metadata": {},
   "source": [
    "Load the images as batches"
   ]
  },
  {
   "cell_type": "code",
   "execution_count": null,
   "metadata": {},
   "outputs": [],
   "source": [
    "img_nums = [0] #[n for n in range(0, 4900, 500)] #2750 #1234 #2314\n",
    "imgs = load_food_batch(img_nums, load_gts=False)[0]\n",
    "num_imgs = len(imgs)\n",
    "print(f\"Total images: {num_imgs}\")"
   ]
  },
  {
   "cell_type": "markdown",
   "metadata": {},
   "source": [
    "Check and filter for resolution"
   ]
  },
  {
   "cell_type": "code",
   "execution_count": null,
   "metadata": {},
   "outputs": [],
   "source": [
    "resol = {im_num: np.prod(im.shape[:2]) for im_num, im in imgs.items()}\n",
    "\n",
    "# Check for images with resolution over a certain threshold\n",
    "thresh = 250_000\n",
    "print(\"Resolutions:\")\n",
    "for im_num, r in resol.items(): print(f\"{im_num:4d}: {r:9,d} pixels{' (!)' if r > thresh else ''}\")"
   ]
  },
  {
   "cell_type": "code",
   "execution_count": null,
   "metadata": {},
   "outputs": [],
   "source": [
    "# Filter out those images\n",
    "imgs = {im_num: im for im_num, im in imgs.items() if resol[im_num] <= thresh}\n",
    "num_imgs = len(imgs)\n",
    "print(f\"Images with resolution under {thresh:,d}: {num_imgs}\")\n",
    "resol_new = {im_num: np.prod(im.shape[:2]) for im_num, im in imgs.items()}\n",
    "for im_num, r in resol_new.items(): print(f\"{im_num:4d}: {r:7,d} pixels\")"
   ]
  },
  {
   "cell_type": "markdown",
   "metadata": {},
   "source": [
    "Define prediction parameters"
   ]
  },
  {
   "cell_type": "code",
   "execution_count": null,
   "metadata": {},
   "outputs": [],
   "source": [
    "# Which scribbles to use\n",
    "bins = [0.05] #[0.05, 0.3, 1.5]\n",
    "suff = [\"TEST\"] #standing for width 3\n",
    "scribble_width = 3\n",
    "\n",
    "# Which prediction models to use\n",
    "convpaint_layers = [[0]] #[[0], [0,2]]\n",
    "convpaint_scalings = [[1,2]] #[[1], [1,2], [1,2,4], [1,2,4,8]]\n",
    "use_dino = True\n",
    "use_ilastik = True\n",
    "pred_seed = 123\n",
    "\n",
    "# Where to find and save the data\n",
    "folder_path = \"./FoodSeg103_results/data/food_run02\"\n",
    "\n",
    "save_res = True\n",
    "show_res = True"
   ]
  },
  {
   "cell_type": "markdown",
   "metadata": {},
   "source": [
    "Loop and predict"
   ]
  },
  {
   "cell_type": "code",
   "execution_count": null,
   "metadata": {},
   "outputs": [],
   "source": [
    "for bin in bins:\n",
    "    for img_num, img in imgs.items():\n",
    "        for s in suff:\n",
    "            print(f\"IMG {img_num}: bin {bin}, suff {s}\")\n",
    "            for layers in convpaint_layers:\n",
    "                for scalings in convpaint_scalings:\n",
    "                    print(f\"   ConvPaint: layers {layers}, scalings {scalings}\")\n",
    "                    pred_conv = pred_food_convpaint(img, folder_path, img_num, mode=\"all\", bin=bin, scribble_width=scribble_width, suff=s, \n",
    "                                                    layer_list=layers, scalings=scalings, model=\"vgg16\",\n",
    "                                                    random_state=pred_seed,\n",
    "                                                    save_res=save_res, show_res=show_res, ground_truth=None)\n",
    "            if use_ilastik:\n",
    "                print(\"   Ilastik\")\n",
    "                pred_ila = pred_food_ilastik(img, folder_path, img_num, mode=\"all\", bin=bin, scribble_width=scribble_width, suff=s,\n",
    "                                             random_state=pred_seed,\n",
    "                                             save_res=save_res, show_res=show_res, ground_truth=None)\n",
    "            if use_dino:\n",
    "                print(\"   DINO\")\n",
    "                pred_dino = pred_food_dino(img, folder_path, img_num, mode=\"all\", bin=bin, scribble_width=scribble_width, suff=s, \n",
    "                                              dinov2_model='s', dinov2_layers=(), dinov2_scales=(), upscale_order=1,\n",
    "                                              random_state=pred_seed,\n",
    "                                              save_res=save_res, show_res=show_res, ground_truth=None)\n",
    "            print(\"\\n\")"
   ]
  },
  {
   "cell_type": "markdown",
   "metadata": {},
   "source": [
    "Show the last image with ground truth, scribbles and prediction"
   ]
  },
  {
   "cell_type": "code",
   "execution_count": null,
   "metadata": {},
   "outputs": [],
   "source": [
    "np.sum(pred_conv == load_food_data(img_num, load_image=False)[1]) / np.prod(pred_conv.shape)"
   ]
  },
  {
   "cell_type": "code",
   "execution_count": null,
   "metadata": {},
   "outputs": [],
   "source": [
    "v = napari.Viewer()\n",
    "v.add_image(img)\n",
    "# v.add_labels(ground_truth)\n",
    "# v.add_labels(scribbles)\n",
    "v.add_labels(pred_conv)\n",
    "v.add_labels(pred_ila)\n",
    "v.add_labels(pred_dino)"
   ]
  },
  {
   "cell_type": "code",
   "execution_count": null,
   "metadata": {},
   "outputs": [],
   "source": [
    "# load and add the ground truth\n",
    "v.add_labels(load_food_data(img_num, load_image=False)[1])"
   ]
  }
 ],
 "metadata": {
  "kernelspec": {
   "display_name": "ilastik2",
   "language": "python",
   "name": "python3"
  },
  "language_info": {
   "codemirror_mode": {
    "name": "ipython",
    "version": 3
   },
   "file_extension": ".py",
   "mimetype": "text/x-python",
   "name": "python",
   "nbconvert_exporter": "python",
   "pygments_lexer": "ipython3",
   "version": "3.9.18"
  }
 },
 "nbformat": 4,
 "nbformat_minor": 2
}
