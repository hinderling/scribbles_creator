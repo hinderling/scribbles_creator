{
 "cells": [
  {
   "cell_type": "code",
   "execution_count": 13,
   "metadata": {},
   "outputs": [
    {
     "name": "stdout",
     "output_type": "stream",
     "text": [
      "The autoreload extension is already loaded. To reload it, use:\n",
      "  %reload_ext autoreload\n"
     ]
    }
   ],
   "source": [
    "%load_ext autoreload\n",
    "%autoreload 2\n",
    "\n",
    "import numpy as np\n",
    "import pandas as pd\n",
    "import napari\n",
    "from dino_paint_utils import selfpredict_dino_forest\n",
    "from FoodSeg103_data_handler import *\n",
    "from scribbles_creator import create_even_scribbles\n",
    "from convpaint_helpers import selfpred_convpaint"
   ]
  },
  {
   "cell_type": "markdown",
   "metadata": {},
   "source": [
    "## Create scribbles"
   ]
  },
  {
   "cell_type": "markdown",
   "metadata": {},
   "source": [
    "Load the images and ground truths as lists/batches"
   ]
  },
  {
   "cell_type": "code",
   "execution_count": null,
   "metadata": {},
   "outputs": [],
   "source": [
    "img_nums = [n for n in range(0, 4900, 250)] #2750 #1234 #2314\n",
    "imgs, gts = load_food_batch(nums)\n",
    "num_imgs = len(imgs)\n",
    "print(f\"Total images: {num_imgs}\")"
   ]
  },
  {
   "cell_type": "markdown",
   "metadata": {},
   "source": [
    "Check and filter for resolution"
   ]
  },
  {
   "cell_type": "code",
   "execution_count": null,
   "metadata": {},
   "outputs": [],
   "source": [
    "resol = {im_num: np.prod(im.shape) for im_num, im in imgs.items()}\n",
    "# Check for images with resolution over a certain threshold\n",
    "thresh = 600_000\n",
    "print(\"Resolutions:\")\n",
    "for im_num, r in resol.items(): print(f\"{im_num:4d}: {r:9,d} pixels{' (!)' if r > thresh else ''}\")"
   ]
  },
  {
   "cell_type": "code",
   "execution_count": null,
   "metadata": {},
   "outputs": [],
   "source": [
    "# Filter out those images\n",
    "imgs, gts = {im_num: im for im_num, im in imgs.items() if resol[im_num] < thresh}, {im_num: gt for im_num, gt in gts.items() if resol[im_num] < thresh}\n",
    "num_imgs = len(imgs)\n",
    "print(f\"Images with resolution under {thresh:,d}: {num_imgs}\")\n",
    "resol_new = {im_num: np.prod(im.shape) for im_num, im in imgs.items()}\n",
    "for im_num, r in resol_new.items(): print(f\"{im_num:4d}: {r:7,d} pixels\")"
   ]
  },
  {
   "cell_type": "markdown",
   "metadata": {},
   "source": [
    "Define scribbles parameters"
   ]
  },
  {
   "cell_type": "code",
   "execution_count": 24,
   "metadata": {},
   "outputs": [],
   "source": [
    "bin=0.125\n",
    "suff=\"w3\" #standing for width 3\n",
    "sq_scaling=100\n",
    "scribble_width=3\n",
    "scribbles_seed = 1\n",
    "\n",
    "img, ground_truth = load_food_batch(img_nums)\n",
    "folder_path = \"./FoodSeg103_results/data/run01\""
   ]
  },
  {
   "cell_type": "markdown",
   "metadata": {},
   "source": [
    "Loop and create scribbles"
   ]
  },
  {
   "cell_type": "code",
   "execution_count": 27,
   "metadata": {},
   "outputs": [
    {
     "name": "stdout",
     "output_type": "stream",
     "text": [
      "Adjusting square size and range to 22 (9, 88)\n",
      "Adjusting square size and range to 11 (5, 88)\n",
      "Adjusting square size and range to 22 (9, 88)\n",
      "Adjusting square size and range to 11 (5, 88)\n",
      "Adjusting square size and range to 5 (2, 88)\n",
      "Adjusting square size and range to 22 (11, 88)\n",
      "Adjusting square size and range to 22 (11, 88)\n",
      "Adjusting square size and range to 11 (5, 88)\n",
      "Adjusting square size and range to 22 (6, 88)\n",
      "Adjusting square size and range to 11 (5, 88)\n",
      "Adjusting square size and range to 22 (6, 88)\n",
      "Adjusting square size and range to 11 (5, 88)\n",
      "Adjusting square size and range to 22 (11, 88)\n",
      "Annotation percentage: 0.44%\n"
     ]
    }
   ],
   "source": [
    "scribbles, perc_labelled = create_food_scribble(ground_truth, folder_path, img_num, bin=bin, sq_scaling=sq_scaling, mode=\"all\", save_res=True, suff=suff, show_res=True, image=img, print_steps=False, scribble_width=3)"
   ]
  },
  {
   "cell_type": "code",
   "execution_count": 49,
   "metadata": {},
   "outputs": [
    {
     "name": "stdout",
     "output_type": "stream",
     "text": [
      "Accuracy Ilastik: 63.87%\n"
     ]
    }
   ],
   "source": [
    "pred_ila = pred_food_ilastik(img, folder_path, img_num, mode=\"all\", bin=bin, suff=suff, save_res=False, show_res=True, ground_truth=ground_truth)\n",
    "# pred_ila = pred_food_ilastik_simple(img, scribbles)\n",
    "acc_ila = np.sum(ground_truth == pred_ila) / np.prod(ground_truth.shape)\n",
    "print(f\"Accuracy Ilastik: {np.round(acc_ila*100, 2)}%\")"
   ]
  },
  {
   "cell_type": "code",
   "execution_count": 50,
   "metadata": {},
   "outputs": [
    {
     "name": "stdout",
     "output_type": "stream",
     "text": [
      "Accuracy Convpaint: 73.44%\n"
     ]
    }
   ],
   "source": [
    "pred_conv = pred_food_convpaint(img, folder_path, img_num, mode=\"all\", bin=bin, suff=suff, layer_list=layers, scalings=scalings, model=\"vgg16\", random_state=convpaint_seed,\n",
    "                                save_res=False, show_res=True, ground_truth=ground_truth)\n",
    "# pred_conv = selfpred_convpaint(img, scribbles, random_state=convpaint_seed)\n",
    "acc_conv = np.sum(ground_truth == pred_conv) / np.prod(ground_truth.shape)\n",
    "print(f\"Accuracy Convpaint: {np.round(acc_conv*100, 2)}%\")"
   ]
  },
  {
   "cell_type": "code",
   "execution_count": 42,
   "metadata": {},
   "outputs": [
    {
     "name": "stderr",
     "output_type": "stream",
     "text": [
      "C:\\Users\\roman/.cache\\torch\\hub\\facebookresearch_dinov2_main\\dinov2\\layers\\swiglu_ffn.py:51: UserWarning: xFormers is not available (SwiGLU)\n",
      "  warnings.warn(\"xFormers is not available (SwiGLU)\")\n",
      "C:\\Users\\roman/.cache\\torch\\hub\\facebookresearch_dinov2_main\\dinov2\\layers\\attention.py:33: UserWarning: xFormers is not available (Attention)\n",
      "  warnings.warn(\"xFormers is not available (Attention)\")\n",
      "C:\\Users\\roman/.cache\\torch\\hub\\facebookresearch_dinov2_main\\dinov2\\layers\\block.py:40: UserWarning: xFormers is not available (Block)\n",
      "  warnings.warn(\"xFormers is not available (Block)\")\n"
     ]
    },
    {
     "name": "stdout",
     "output_type": "stream",
     "text": [
      "Accuracy DINOv2: 86.81%\n"
     ]
    }
   ],
   "source": [
    "results_dino = selfpredict_dino_forest(img, scribbles, ground_truth=ground_truth,\n",
    "                                    dinov2_model='s', dinov2_layers=(), dinov2_scales=(), upscale_order=1, pad_mode='reflect', extra_pads=(),\n",
    "                                    vgg16_layers=None, vgg16_scales=(), append_image_as_feature=False, show_napari=False)\n",
    "pred_dino, image_dino, labels_dino, feature_space_dino, acc_dino = results_dino\n",
    "print(f\"Accuracy DINOv2: {np.round(acc_dino*100, 2)}%\")"
   ]
  },
  {
   "cell_type": "markdown",
   "metadata": {},
   "source": [
    "Show results"
   ]
  },
  {
   "cell_type": "code",
   "execution_count": 44,
   "metadata": {},
   "outputs": [
    {
     "data": {
      "text/plain": [
       "<Labels layer 'pred_ila' at 0x1e9177f3e20>"
      ]
     },
     "execution_count": 44,
     "metadata": {},
     "output_type": "execute_result"
    }
   ],
   "source": [
    "v = napari.Viewer()\n",
    "v.add_image(img)\n",
    "v.add_labels(ground_truth)\n",
    "v.add_labels(scribbles)\n",
    "v.add_labels(pred_dino)\n",
    "v.add_labels(pred_conv)\n",
    "v.add_labels(pred_ila)"
   ]
  },
  {
   "cell_type": "markdown",
   "metadata": {},
   "source": [
    "## Loop over multiple images"
   ]
  },
  {
   "cell_type": "markdown",
   "metadata": {},
   "source": [
    "Load the images and ground truths as lists/batches"
   ]
  },
  {
   "cell_type": "code",
   "execution_count": 140,
   "metadata": {},
   "outputs": [
    {
     "name": "stdout",
     "output_type": "stream",
     "text": [
      "Total images: 20\n"
     ]
    }
   ],
   "source": [
    "nums = [n for n in range(0, 4900, 250)]\n",
    "imgs, gts = load_food_batch(nums)\n",
    "num_imgs = len(imgs)\n",
    "print(f\"Total images: {num_imgs}\")"
   ]
  },
  {
   "cell_type": "markdown",
   "metadata": {},
   "source": [
    "Check and filter for resolution"
   ]
  },
  {
   "cell_type": "code",
   "execution_count": 141,
   "metadata": {},
   "outputs": [
    {
     "name": "stdout",
     "output_type": "stream",
     "text": [
      "Resolutions:\n",
      "                  0\n",
      "count  2.000000e+01\n",
      "mean   9.860949e+05\n",
      "std    1.997764e+06\n",
      "min    1.966080e+05\n",
      "25%    4.884690e+05\n",
      "50%    5.898240e+05\n",
      "75%    6.236160e+05\n",
      "max    9.437184e+06\n",
      "\n",
      "Images with resolution under 600,000: 15\n"
     ]
    }
   ],
   "source": [
    "resol = [np.prod(im.shape) for im in imgs]\n",
    "print(\"Resolutions:\", pd.DataFrame(resol).describe(), \"\", sep=\"\\n\")\n",
    "\n",
    "# Filter for images with resolution under a certain threshold (for computational reasons)\n",
    "thresh = 600_000\n",
    "imgs, gts = [im for i, im in enumerate(imgs) if resol[i] < thresh], [gt for i, gt in enumerate(gts) if resol[i] < thresh]\n",
    "num_imgs = len(imgs)\n",
    "print(f\"Images with resolution under {thresh:,d}: {num_imgs}\")"
   ]
  },
  {
   "cell_type": "code",
   "execution_count": 142,
   "metadata": {},
   "outputs": [
    {
     "name": "stdout",
     "output_type": "stream",
     "text": [
      "IMG 0\n"
     ]
    },
    {
     "name": "stderr",
     "output_type": "stream",
     "text": [
      "C:\\Users\\roman\\AppData\\Local\\Temp\\ipykernel_14916\\1171817575.py:26: FutureWarning: The behavior of DataFrame concatenation with empty or all-NA entries is deprecated. In a future version, this will no longer exclude empty or all-NA columns when determining the result dtypes. To retain the old behavior, exclude the relevant entries before the concat operation.\n",
      "  res_df = pd.concat([res_df, new_row], ignore_index=True)\n"
     ]
    },
    {
     "name": "stdout",
     "output_type": "stream",
     "text": [
      "\n",
      "\n",
      "IMG 250\n",
      "Adjusting square size and range to 16 (8, 66)\n",
      "Adjusting square size and range to 16 (8, 66)\n",
      "Adjusting square size and range to 16 (8, 66)\n",
      "Adjusting square size and range to 16 (8, 66)\n",
      "\n",
      "\n",
      "IMG 500\n",
      "Adjusting square size and range to 22 (11, 88)\n",
      "\n",
      "\n",
      "IMG 750\n",
      "Adjusting square size and range to 12 (6, 50)\n",
      "Adjusting square size and range to 12 (6, 50)\n",
      "Adjusting square size and range to 12 (6, 50)\n",
      "Adjusting square size and range to 12 (6, 50)\n",
      "Adjusting square size and range to 6 (3, 50)\n",
      "\n",
      "\n",
      "IMG 1000\n",
      "Adjusting square size and range to 18 (7, 72)\n",
      "Adjusting square size and range to 9 (4, 72)\n",
      "Adjusting square size and range to 18 (7, 72)\n",
      "Adjusting square size and range to 9 (4, 72)\n",
      "Adjusting square size and range to 18 (9, 72)\n",
      "Adjusting square size and range to 18 (9, 72)\n",
      "Adjusting square size and range to 9 (4, 72)\n",
      "Adjusting line range to (5, 144)\n",
      "Adjusting line range to (2, 288)\n",
      "Adjusting line range to (1, 576)\n",
      "Adjusting distance to edge to 3\n",
      "Adjusting distance to edge to 4\n",
      "Adjusting distance to edge to 6\n",
      "Adjusting distance to edge to 9\n",
      "Adjusting distance to edge to 13\n",
      "Adjusting distance to edge to 19\n",
      "Adjusting square size and range to 18 (9, 72)\n",
      "Adjusting square size and range to 18 (9, 72)\n",
      "Adjusting square size and range to 9 (4, 72)\n",
      "Adjusting line range to (8, 144)\n",
      "Adjusting line range to (4, 288)\n",
      "Adjusting line range to (2, 576)\n",
      "Adjusting line range to (1, 1152)\n",
      "Adjusting distance to edge to 3\n",
      "Adjusting distance to edge to 4\n",
      "Adjusting distance to edge to 6\n",
      "Adjusting distance to edge to 9\n",
      "\n",
      "\n",
      "IMG 1250\n",
      "Adjusting square size and range to 22 (8, 88)\n",
      "Adjusting square size and range to 11 (5, 88)\n",
      "Adjusting square size and range to 22 (8, 88)\n",
      "Adjusting square size and range to 11 (5, 88)\n",
      "Adjusting square size and range to 5 (2, 88)\n",
      "Adjusting square size and range to 22 (6, 88)\n",
      "Adjusting square size and range to 11 (5, 88)\n",
      "Adjusting square size and range to 22 (6, 88)\n",
      "Adjusting square size and range to 11 (5, 88)\n",
      "Adjusting square size and range to 5 (2, 88)\n",
      "Adjusting square size and range to 22 (5, 88)\n",
      "Adjusting square size and range to 11 (5, 88)\n",
      "Adjusting square size and range to 5 (2, 88)\n",
      "Adjusting square size and range to 22 (5, 88)\n",
      "Adjusting square size and range to 11 (5, 88)\n",
      "Adjusting square size and range to 5 (2, 88)\n",
      "Adjusting line range to (2, 176)\n",
      "Adjusting line range to (1, 352)\n",
      "Adjusting distance to edge to 3\n",
      "Adjusting distance to edge to 4\n",
      "Adjusting distance to edge to 6\n",
      "Adjusting distance to edge to 9\n",
      "Adjusting square size and range to 22 (11, 88)\n",
      "Adjusting square size and range to 22 (11, 88)\n",
      "Adjusting square size and range to 11 (5, 88)\n",
      "Adjusting line range to (6, 176)\n",
      "Adjusting line range to (3, 352)\n",
      "Adjusting line range to (1, 704)\n",
      "Adjusting distance to edge to 3\n",
      "Adjusting square size and range to 22 (11, 88)\n",
      "Adjusting square size and range to 22 (11, 88)\n",
      "Adjusting square size and range to 11 (5, 88)\n",
      "Adjusting square size and range to 22 (11, 88)\n",
      "Adjusting square size and range to 11 (5, 88)\n",
      "Adjusting line range to (7, 176)\n",
      "Adjusting square size and range to 22 (2, 88)\n",
      "Adjusting square size and range to 11 (2, 88)\n",
      "Adjusting square size and range to 5 (2, 88)\n",
      "Adjusting square size and range to 2 (1, 88)\n",
      "Adjusting square size and range to 22 (2, 88)\n",
      "Adjusting square size and range to 11 (2, 88)\n",
      "Adjusting square size and range to 5 (2, 88)\n",
      "Adjusting square size and range to 2 (1, 88)\n",
      "\n",
      "\n",
      "IMG 1500\n",
      "Adjusting square size and range to 20 (10, 82)\n",
      "Adjusting square size and range to 20 (10, 82)\n",
      "Adjusting square size and range to 10 (5, 82)\n",
      "\n",
      "\n",
      "IMG 1750\n",
      "Adjusting square size and range to 12 (6, 50)\n",
      "Adjusting square size and range to 12 (6, 50)\n",
      "Adjusting square size and range to 6 (3, 50)\n",
      "Adjusting line range to (4, 100)\n",
      "Adjusting line range to (2, 200)\n",
      "Adjusting line range to (1, 400)\n",
      "Adjusting distance to edge to 3\n",
      "Adjusting distance to edge to 4\n",
      "Adjusting distance to edge to 6\n",
      "Adjusting distance to edge to 9\n",
      "Adjusting distance to edge to 13\n",
      "Adjusting distance to edge to 19\n",
      "Adjusting square size and range to 12 (6, 50)\n",
      "Adjusting square size and range to 12 (6, 50)\n",
      "Adjusting square size and range to 12 (2, 50)\n",
      "Adjusting square size and range to 6 (2, 50)\n",
      "Adjusting square size and range to 3 (1, 50)\n",
      "Adjusting square size and range to 12 (2, 50)\n",
      "Adjusting square size and range to 6 (2, 50)\n",
      "Adjusting square size and range to 3 (1, 50)\n",
      "Adjusting square size and range to 1 (0, 50)\n",
      "Adjusting square size and range to 12 (6, 50)\n",
      "Adjusting square size and range to 12 (6, 50)\n",
      "\n",
      "\n",
      "IMG 2000\n",
      "Adjusting square size and range to 22 (11, 88)\n",
      "\n",
      "\n",
      "IMG 2250\n",
      "Adjusting square size and range to 22 (11, 88)\n",
      "Adjusting square size and range to 22 (11, 88)\n",
      "\n",
      "\n",
      "IMG 2500\n",
      "Adjusting square size and range to 20 (10, 82)\n",
      "Adjusting square size and range to 20 (10, 82)\n",
      "Adjusting square size and range to 10 (5, 82)\n",
      "Adjusting square size and range to 20 (10, 82)\n",
      "Adjusting square size and range to 20 (10, 82)\n",
      "Adjusting square size and range to 20 (10, 82)\n",
      "Adjusting square size and range to 20 (10, 82)\n",
      "Adjusting square size and range to 20 (10, 82)\n",
      "Adjusting square size and range to 10 (5, 82)\n",
      "\n",
      "\n",
      "IMG 2750\n",
      "Adjusting square size and range to 22 (11, 88)\n",
      "Adjusting square size and range to 22 (11, 88)\n",
      "Adjusting square size and range to 22 (10, 88)\n",
      "Adjusting square size and range to 11 (5, 88)\n",
      "Adjusting square size and range to 22 (10, 88)\n",
      "Adjusting square size and range to 11 (5, 88)\n",
      "Adjusting square size and range to 22 (11, 88)\n",
      "Adjusting square size and range to 22 (11, 88)\n",
      "\n",
      "\n",
      "IMG 3000\n",
      "\n",
      "\n",
      "IMG 3250\n",
      "\n",
      "\n",
      "IMG 3500\n",
      "Adjusting square size and range to 15 (7, 60)\n",
      "Adjusting square size and range to 15 (7, 60)\n",
      "Adjusting square size and range to 7 (3, 60)\n",
      "Adjusting square size and range to 15 (7, 60)\n",
      "Adjusting line range to (7, 120)\n",
      "Adjusting line range to (3, 240)\n",
      "Adjusting line range to (1, 480)\n",
      "Adjusting distance to edge to 3\n",
      "Adjusting distance to edge to 4\n",
      "Adjusting distance to edge to 6\n",
      "Adjusting distance to edge to 9\n",
      "Adjusting distance to edge to 13\n",
      "Adjusting square size and range to 15 (1, 60)\n",
      "Adjusting square size and range to 7 (1, 60)\n",
      "Adjusting square size and range to 3 (1, 60)\n",
      "Adjusting square size and range to 1 (0, 60)\n",
      "Adjusting square size and range to 15 (1, 60)\n",
      "Adjusting square size and range to 7 (1, 60)\n",
      "Adjusting square size and range to 3 (1, 60)\n",
      "Adjusting square size and range to 1 (0, 60)\n",
      "Adjusting distance to edge to 3\n",
      "Adjusting distance to edge to 4\n",
      "Adjusting distance to edge to 6\n",
      "Adjusting distance to edge to 9\n",
      "Adjusting square size and range to 15 (7, 60)\n",
      "Adjusting square size and range to 15 (7, 60)\n",
      "Adjusting line range to (7, 120)\n",
      "\n",
      "\n"
     ]
    }
   ],
   "source": [
    "scribbles_seed = 1\n",
    "convpaint_seed = 123\n",
    "convpaint_layers = [0]\n",
    "convpaint_scalings = [1,2]\n",
    "repeat_run = False\n",
    "if not repeat_run:\n",
    "    res_df = pd.DataFrame(columns=[\"img_num\", 'perc. labelled', \"acc_convpaint\", \"acc_ilastik\", \"acc_dino\"])\n",
    "    scribbles_list = []\n",
    "for i in range(num_imgs):\n",
    "    np.random.seed(scribbles_seed)\n",
    "    img_num = nums[i]\n",
    "    print(f\"IMG {img_num}\")\n",
    "    # Create scribbles and note its percentage\n",
    "    img, ground_truth = imgs[i], gts[i]\n",
    "    if not repeat_run:\n",
    "        scribbles = create_even_scribbles(ground_truth, max_perc=0.5, sq_scaling=100, mode=\"all\", print_steps=False, scribbles_width=3)\n",
    "        scribbles_list.append(scribbles)\n",
    "        perc_labelled = np.sum(scribbles>0) / np.prod(ground_truth.shape) * 100\n",
    "    else:\n",
    "        scribbles = scribbles_list[i]\n",
    "    # Predict with Convpaint and note its accuracy\n",
    "    pred_conv = selfpred_convpaint(img, scribbles, random_state=convpaint_seed)#, layer_list=convpaint_layers, scalings=convpaint_scalings)\n",
    "    acc_conv = np.sum(ground_truth == pred_conv) / np.prod(ground_truth.shape)\n",
    "    if not repeat_run:\n",
    "        new_row = pd.DataFrame({\"img_num\": img_num, 'perc. labelled': perc_labelled, \"acc_convpaint\": acc_conv, \"acc_ilastik\": np.nan, \"acc_dino\": np.nan}, index = (0,))\n",
    "        res_df = pd.concat([res_df, new_row], ignore_index=True)\n",
    "    else:\n",
    "        res_df.loc[res_df[\"img_num\"] == img_num, \"acc_convpaint\"] = acc_conv\n",
    "    # Predict with Ilastik and note its accuracy\n",
    "    pred_ila = pred_food_ilastik(img, scribbles)\n",
    "    acc_ila = np.sum(ground_truth == pred_ila) / np.prod(ground_truth.shape)\n",
    "    res_df.loc[res_df[\"img_num\"] == img_num, \"acc_ilastik\"] = acc_ila\n",
    "    # Predict with DINOv2 from dino_paint\n",
    "    results_dino = selfpredict_dino_forest(img, scribbles, ground_truth=ground_truth,\n",
    "                                        dinov2_model='s', dinov2_layers=(), dinov2_scales=(), upscale_order=0, pad_mode='reflect', extra_pads=(),\n",
    "                                        vgg16_layers=None, vgg16_scales=(), append_image_as_feature=False, show_napari=False)\n",
    "    pred_dino, image_dino, labels_dino, feature_space_dino, acc_dino = results_dino\n",
    "    res_df.loc[res_df[\"img_num\"] == img_num, \"acc_dino\"] = acc_dino\n",
    "    print(\"\\n\")"
   ]
  },
  {
   "cell_type": "code",
   "execution_count": 143,
   "metadata": {},
   "outputs": [
    {
     "name": "stdout",
     "output_type": "stream",
     "text": [
      "Accuracy Convpaint:  0.7954 (+/- 0.0778)\n",
      "Accuracy Ilastik:    0.7459 (+/- 0.1002)\n",
      "Accuracy DINOv2:     0.8834 (+/- 0.0563)\n",
      "\n",
      "Accuracy differences (Convpaint - Ilastik):\n",
      "count    15.000000\n",
      "mean      0.049539\n",
      "std       0.047917\n",
      "min      -0.012049\n",
      "25%       0.015133\n",
      "50%       0.042946\n",
      "75%       0.087148\n",
      "max       0.148122\n",
      "Name: diff, dtype: float64\n",
      "\n"
     ]
    },
    {
     "data": {
      "text/html": [
       "<div>\n",
       "<style scoped>\n",
       "    .dataframe tbody tr th:only-of-type {\n",
       "        vertical-align: middle;\n",
       "    }\n",
       "\n",
       "    .dataframe tbody tr th {\n",
       "        vertical-align: top;\n",
       "    }\n",
       "\n",
       "    .dataframe thead th {\n",
       "        text-align: right;\n",
       "    }\n",
       "</style>\n",
       "<table border=\"1\" class=\"dataframe\">\n",
       "  <thead>\n",
       "    <tr style=\"text-align: right;\">\n",
       "      <th></th>\n",
       "      <th>img_num</th>\n",
       "      <th>perc. labelled</th>\n",
       "      <th>acc_convpaint</th>\n",
       "      <th>acc_ilastik</th>\n",
       "      <th>acc_dino</th>\n",
       "      <th>diff</th>\n",
       "    </tr>\n",
       "  </thead>\n",
       "  <tbody>\n",
       "    <tr>\n",
       "      <th>14</th>\n",
       "      <td>3500</td>\n",
       "      <td>1.677778</td>\n",
       "      <td>0.693856</td>\n",
       "      <td>0.545733</td>\n",
       "      <td>0.825267</td>\n",
       "      <td>0.148122</td>\n",
       "    </tr>\n",
       "    <tr>\n",
       "      <th>7</th>\n",
       "      <td>1750</td>\n",
       "      <td>1.727295</td>\n",
       "      <td>0.733749</td>\n",
       "      <td>0.624191</td>\n",
       "      <td>0.858749</td>\n",
       "      <td>0.109558</td>\n",
       "    </tr>\n",
       "    <tr>\n",
       "      <th>2</th>\n",
       "      <td>500</td>\n",
       "      <td>1.718140</td>\n",
       "      <td>0.849884</td>\n",
       "      <td>0.756897</td>\n",
       "      <td>0.805405</td>\n",
       "      <td>0.092987</td>\n",
       "    </tr>\n",
       "    <tr>\n",
       "      <th>12</th>\n",
       "      <td>3000</td>\n",
       "      <td>1.641846</td>\n",
       "      <td>0.687342</td>\n",
       "      <td>0.597300</td>\n",
       "      <td>0.874837</td>\n",
       "      <td>0.090042</td>\n",
       "    </tr>\n",
       "    <tr>\n",
       "      <th>0</th>\n",
       "      <td>0</td>\n",
       "      <td>1.808675</td>\n",
       "      <td>0.922531</td>\n",
       "      <td>0.838277</td>\n",
       "      <td>0.905116</td>\n",
       "      <td>0.084254</td>\n",
       "    </tr>\n",
       "    <tr>\n",
       "      <th>13</th>\n",
       "      <td>3250</td>\n",
       "      <td>1.678467</td>\n",
       "      <td>0.881714</td>\n",
       "      <td>0.824061</td>\n",
       "      <td>0.906809</td>\n",
       "      <td>0.057653</td>\n",
       "    </tr>\n",
       "    <tr>\n",
       "      <th>11</th>\n",
       "      <td>2750</td>\n",
       "      <td>1.648458</td>\n",
       "      <td>0.832779</td>\n",
       "      <td>0.783117</td>\n",
       "      <td>0.933487</td>\n",
       "      <td>0.049662</td>\n",
       "    </tr>\n",
       "    <tr>\n",
       "      <th>10</th>\n",
       "      <td>2500</td>\n",
       "      <td>1.796301</td>\n",
       "      <td>0.700075</td>\n",
       "      <td>0.657129</td>\n",
       "      <td>0.932824</td>\n",
       "      <td>0.042946</td>\n",
       "    </tr>\n",
       "    <tr>\n",
       "      <th>5</th>\n",
       "      <td>1250</td>\n",
       "      <td>1.740011</td>\n",
       "      <td>0.875473</td>\n",
       "      <td>0.835093</td>\n",
       "      <td>0.938451</td>\n",
       "      <td>0.040380</td>\n",
       "    </tr>\n",
       "    <tr>\n",
       "      <th>4</th>\n",
       "      <td>1000</td>\n",
       "      <td>1.557684</td>\n",
       "      <td>0.786862</td>\n",
       "      <td>0.758185</td>\n",
       "      <td>0.937498</td>\n",
       "      <td>0.028677</td>\n",
       "    </tr>\n",
       "    <tr>\n",
       "      <th>1</th>\n",
       "      <td>250</td>\n",
       "      <td>1.844903</td>\n",
       "      <td>0.752336</td>\n",
       "      <td>0.725382</td>\n",
       "      <td>0.858099</td>\n",
       "      <td>0.026954</td>\n",
       "    </tr>\n",
       "    <tr>\n",
       "      <th>8</th>\n",
       "      <td>2000</td>\n",
       "      <td>1.683044</td>\n",
       "      <td>0.763748</td>\n",
       "      <td>0.760437</td>\n",
       "      <td>0.954244</td>\n",
       "      <td>0.003311</td>\n",
       "    </tr>\n",
       "    <tr>\n",
       "      <th>6</th>\n",
       "      <td>1500</td>\n",
       "      <td>1.702754</td>\n",
       "      <td>0.821176</td>\n",
       "      <td>0.830356</td>\n",
       "      <td>0.899463</td>\n",
       "      <td>-0.009180</td>\n",
       "    </tr>\n",
       "    <tr>\n",
       "      <th>3</th>\n",
       "      <td>750</td>\n",
       "      <td>1.625061</td>\n",
       "      <td>0.889633</td>\n",
       "      <td>0.899872</td>\n",
       "      <td>0.756912</td>\n",
       "      <td>-0.010239</td>\n",
       "    </tr>\n",
       "    <tr>\n",
       "      <th>9</th>\n",
       "      <td>2250</td>\n",
       "      <td>1.681010</td>\n",
       "      <td>0.740219</td>\n",
       "      <td>0.752268</td>\n",
       "      <td>0.863530</td>\n",
       "      <td>-0.012049</td>\n",
       "    </tr>\n",
       "  </tbody>\n",
       "</table>\n",
       "</div>"
      ],
      "text/plain": [
       "   img_num  perc. labelled  acc_convpaint  acc_ilastik  acc_dino      diff\n",
       "14    3500        1.677778       0.693856     0.545733  0.825267  0.148122\n",
       "7     1750        1.727295       0.733749     0.624191  0.858749  0.109558\n",
       "2      500        1.718140       0.849884     0.756897  0.805405  0.092987\n",
       "12    3000        1.641846       0.687342     0.597300  0.874837  0.090042\n",
       "0        0        1.808675       0.922531     0.838277  0.905116  0.084254\n",
       "13    3250        1.678467       0.881714     0.824061  0.906809  0.057653\n",
       "11    2750        1.648458       0.832779     0.783117  0.933487  0.049662\n",
       "10    2500        1.796301       0.700075     0.657129  0.932824  0.042946\n",
       "5     1250        1.740011       0.875473     0.835093  0.938451  0.040380\n",
       "4     1000        1.557684       0.786862     0.758185  0.937498  0.028677\n",
       "1      250        1.844903       0.752336     0.725382  0.858099  0.026954\n",
       "8     2000        1.683044       0.763748     0.760437  0.954244  0.003311\n",
       "6     1500        1.702754       0.821176     0.830356  0.899463 -0.009180\n",
       "3      750        1.625061       0.889633     0.899872  0.756912 -0.010239\n",
       "9     2250        1.681010       0.740219     0.752268  0.863530 -0.012049"
      ]
     },
     "execution_count": 143,
     "metadata": {},
     "output_type": "execute_result"
    }
   ],
   "source": [
    "print(f\"Accuracy Convpaint: {res_df['acc_convpaint'].mean():7.4f} (+/- {res_df['acc_convpaint'].std():.4f})\")\n",
    "print(f\"Accuracy Ilastik: {res_df['acc_ilastik'].mean():9.4f} (+/- {res_df['acc_ilastik'].std():.4f})\")\n",
    "print(f\"Accuracy DINOv2: {res_df['acc_dino'].mean():10.4f} (+/- {res_df['acc_dino'].std():.4f})\")\n",
    "\n",
    "res_df[\"diff\"] = res_df[\"acc_convpaint\"] - res_df[\"acc_ilastik\"]\n",
    "res_df = res_df.sort_values(\"diff\", ascending=False)\n",
    "print(\"\", \"Accuracy differences (Convpaint - Ilastik):\", res_df[\"diff\"].describe(), \"\", sep=\"\\n\")\n",
    "\n",
    "res_df"
   ]
  },
  {
   "cell_type": "markdown",
   "metadata": {},
   "source": [
    "## Plot"
   ]
  },
  {
   "cell_type": "code",
   "execution_count": 93,
   "metadata": {},
   "outputs": [],
   "source": [
    "from matplotlib import pyplot as plt\n",
    "import seaborn as sns"
   ]
  },
  {
   "cell_type": "code",
   "execution_count": 176,
   "metadata": {},
   "outputs": [
    {
     "data": {
      "image/png": "[encoded data removed]",
      "text/plain": [
       "<Figure size 900x500 with 3 Axes>"
      ]
     },
     "metadata": {},
     "output_type": "display_data"
    }
   ],
   "source": [
    "fig, ax = plt.subplots(1,3)\n",
    "fig.set_size_inches(9, 5)\n",
    "violin_args = {\"alpha\": 0.6, \"inner\": \"quart\", \"bw_adjust\": 0.65, \"width\": 0.3}\n",
    "# fig.tight_layout()\n",
    "# sns.boxplot(res_df[\"diff\"], orient=\"v\", color=\"skyblue\", width=0.3, linewidth=1.5, fliersize=2.5, whis=1.5)\n",
    "\n",
    "curr_ax = ax[2]\n",
    "curr_ax.set_title(\"Convpaint - Ilastik\")\n",
    "sns.violinplot(res_df[\"diff\"], ax=curr_ax, **violin_args)\n",
    "curr_ax.set_ylabel(\"Accuracy diff.\")\n",
    "\n",
    "curr_ax = ax[0]\n",
    "curr_ax.set_title(\"DINOv2 - Ilastik\")\n",
    "sns.violinplot(res_df[\"acc_dino\"] - res_df['acc_ilastik'], ax=curr_ax, **violin_args)\n",
    "\n",
    "curr_ax = ax[1]\n",
    "curr_ax.set_title(\"DINOv2 - Convpaint\")\n",
    "sns.violinplot(res_df[\"acc_dino\"] - res_df['acc_convpaint'], ax=curr_ax, **violin_args)\n",
    "\n",
    "for a in ax:\n",
    "    a.set_ylim(-0.3, 0.4)\n",
    "    a.hlines(0, -1, 1, color=\"black\", linewidth=1, linestyles='dashed')\n",
    "\n",
    "for a in ax[1:]:\n",
    "    a.set_ylabel(\"\")\n",
    "    a.set_yticks([])\n",
    "\n",
    "plt.show()"
   ]
  },
  {
   "cell_type": "markdown",
   "metadata": {},
   "source": [
    "Show the last image with ground truth, scribbles and prediction"
   ]
  },
  {
   "cell_type": "code",
   "execution_count": 126,
   "metadata": {},
   "outputs": [
    {
     "data": {
      "text/plain": [
       "<Labels layer 'pred_dino' at 0x1ba0967cd90>"
      ]
     },
     "execution_count": 126,
     "metadata": {},
     "output_type": "execute_result"
    }
   ],
   "source": [
    "v = napari.Viewer()\n",
    "v.add_image(img)\n",
    "v.add_labels(ground_truth)\n",
    "v.add_labels(scribbles)\n",
    "v.add_labels(pred_conv)\n",
    "v.add_labels(pred_ila)\n",
    "v.add_labels(pred_dino)\n"
   ]
  },
  {
   "cell_type": "code",
   "execution_count": 135,
   "metadata": {},
   "outputs": [
    {
     "data": {
      "text/plain": [
       "<Labels layer 'Labels' at 0x1ba444880d0>"
      ]
     },
     "execution_count": 135,
     "metadata": {},
     "output_type": "execute_result"
    }
   ],
   "source": [
    "v = napari.Viewer()\n",
    "v.add_labels(scribbles)\n",
    "v.add_labels(scribbles_list[11])"
   ]
  },
  {
   "cell_type": "markdown",
   "metadata": {},
   "source": [
    "## Properties of the dataset"
   ]
  },
  {
   "cell_type": "code",
   "execution_count": null,
   "metadata": {},
   "outputs": [],
   "source": [
    "# Shape of the dataset\n",
    "food_data_shape = (4983, 2)\n",
    "\n",
    "#Label dictionary\n",
    "id2label = {1: 'background',\n",
    "            2: 'candy',\n",
    "            3: 'egg tart',\n",
    "            4: 'french fries',\n",
    "            5: 'chocolate',\n",
    "            6: 'biscuit',\n",
    "            7: 'popcorn',\n",
    "            8: 'pudding',\n",
    "            9: 'ice cream',\n",
    "            10: 'cheese butter',\n",
    "            11: 'cake',\n",
    "            12: 'wine',\n",
    "            13: 'milkshake',\n",
    "            14: 'coffee',\n",
    "            15: 'juice',\n",
    "            16: 'milk',\n",
    "            17: 'tea',\n",
    "            18: 'almond',\n",
    "            19: 'red beans',\n",
    "            20: 'cashew',\n",
    "            21: 'dried cranberries',\n",
    "            22: 'soy',\n",
    "            23: 'walnut',\n",
    "            24: 'peanut',\n",
    "            25: 'egg',\n",
    "            26: 'apple',\n",
    "            27: 'date',\n",
    "            28: 'apricot',\n",
    "            29: 'avocado',\n",
    "            30: 'banana',\n",
    "            31: 'strawberry',\n",
    "            32: 'cherry',\n",
    "            33: 'blueberry',\n",
    "            34: 'raspberry',\n",
    "            35: 'mango',\n",
    "            36: 'olives',\n",
    "            37: 'peach',\n",
    "            38: 'lemon',\n",
    "            39: 'pear',\n",
    "            40: 'fig',\n",
    "            41: 'pineapple',\n",
    "            42: 'grape',\n",
    "            43: 'kiwi',\n",
    "            44: 'melon',\n",
    "            45: 'orange',\n",
    "            46: 'watermelon',\n",
    "            47: 'steak',\n",
    "            48: 'pork',\n",
    "            49: 'chicken duck',\n",
    "            50: 'sausage',\n",
    "            51: 'fried meat',\n",
    "            52: 'lamb',\n",
    "            53: 'sauce',\n",
    "            54: 'crab',\n",
    "            55: 'fish',\n",
    "            56: 'shellfish',\n",
    "            57: 'shrimp',\n",
    "            58: 'soup',\n",
    "            59: 'bread',\n",
    "            60: 'corn',\n",
    "            61: 'hamburg',\n",
    "            62: 'pizza',\n",
    "            63: 'hanamaki baozi',\n",
    "            64: 'wonton dumplings',\n",
    "            65: 'pasta',\n",
    "            66: 'noodles',\n",
    "            67: 'rice',\n",
    "            68: 'pie',\n",
    "            69: 'tofu',\n",
    "            70: 'eggplant',\n",
    "            71: 'potato',\n",
    "            72: 'garlic',\n",
    "            73: 'cauliflower',\n",
    "            74: 'tomato',\n",
    "            75: 'kelp',\n",
    "            76: 'seaweed',\n",
    "            77: 'spring onion',\n",
    "            78: 'rape',\n",
    "            79: 'ginger',\n",
    "            80: 'okra',\n",
    "            81: 'lettuce',\n",
    "            82: 'pumpkin',\n",
    "            83: 'cucumber',\n",
    "            84: 'white radish',\n",
    "            85: 'carrot',\n",
    "            86: 'asparagus',\n",
    "            87: 'bamboo shoots',\n",
    "            88: 'broccoli',\n",
    "            89: 'celery stick',\n",
    "            90: 'cilantro mint',\n",
    "            91: 'snow peas',\n",
    "            92: 'cabbage',\n",
    "            93: 'bean sprouts',\n",
    "            94: 'onion',\n",
    "            95: 'pepper',\n",
    "            96: 'green beans',\n",
    "            97: 'French beans',\n",
    "            98: 'king oyster mushroom',\n",
    "            99: 'shiitake',\n",
    "            100: 'enoki mushroom',\n",
    "            101: 'oyster mushroom',\n",
    "            102: 'white button mushroom',\n",
    "            103: 'salad',\n",
    "            104: 'other ingredients'}"
   ]
  }
 ],
 "metadata": {
  "kernelspec": {
   "display_name": "ilastik2",
   "language": "python",
   "name": "python3"
  },
  "language_info": {
   "codemirror_mode": {
    "name": "ipython",
    "version": 3
   },
   "file_extension": ".py",
   "mimetype": "text/x-python",
   "name": "python",
   "nbconvert_exporter": "python",
   "pygments_lexer": "ipython3",
   "version": "3.9.18"
  }
 },
 "nbformat": 4,
 "nbformat_minor": 2
}
