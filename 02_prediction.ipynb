{
 "cells": [
  {
   "cell_type": "code",
   "execution_count": null,
   "metadata": {},
   "outputs": [],
   "source": [
    "%load_ext autoreload\n",
    "%autoreload 2\n",
    "\n",
    "import numpy as np\n",
    "import napari\n",
    "from PIL import Image\n",
    "\n",
    "from scribbles_creator import *\n",
    "from cellpose_data_handler import *"
   ]
  },
  {
   "cell_type": "markdown",
   "metadata": {},
   "source": [
    "## Define where the images are located and what data to consider"
   ]
  },
  {
   "cell_type": "code",
   "execution_count": null,
   "metadata": {},
   "outputs": [],
   "source": [
    "folder_path = \"./imgs/cellpose_train_imgs/24-03-08_pred01\""
   ]
  },
  {
   "cell_type": "code",
   "execution_count": null,
   "metadata": {},
   "outputs": [],
   "source": [
    "mode = \"all\"\n",
    "bins = [0.01, 0.025, 0.05, 0.1, 0.25, 0.5, 1]\n",
    "all_suff = [\"a\", \"b\", \"c\", \"d\", \"e\", \"f\", \"g\", \"h\", \"i\", \"j\"]\n",
    "suff = all_suff[:5]"
   ]
  },
  {
   "cell_type": "markdown",
   "metadata": {},
   "source": [
    "## Create predictions/segmentations on the cellpose dataset (with self-created scribbles)"
   ]
  },
  {
   "cell_type": "code",
   "execution_count": null,
   "metadata": {},
   "outputs": [],
   "source": [
    "# Define the convpaint parameters\n",
    "layer_list = [0]\n",
    "scalings = [1, 2]\n",
    "\n",
    "# Predictions\n",
    "for img_num in range(0, 10):\n",
    "    for bin in bins:\n",
    "        for s in suff:\n",
    "            print(f\"IMG {img_num}: {bin}_{s}\")\n",
    "            pred_cellpose_convpaint(folder_path, img_num, mode=mode, bin=bin, suff=s, layer_list=layer_list, scalings=scalings, save_res=True, show_res=False)\n",
    "            pred_cellpose_ilastik(folder_path, img_num, mode=mode, bin=bin, suff=s, save_res=True, show_res=False)"
   ]
  },
  {
   "cell_type": "markdown",
   "metadata": {},
   "source": [
    "The same cell but to adjust and test things..."
   ]
  },
  {
   "cell_type": "code",
   "execution_count": 17,
   "metadata": {},
   "outputs": [
    {
     "name": "stdout",
     "output_type": "stream",
     "text": [
      "IMG 450: 0.1_TEST_rgb\n"
     ]
    },
    {
     "name": "stderr",
     "output_type": "stream",
     "text": [
      "Using cache found in C:\\Users\\roman/.cache\\torch\\hub\\facebookresearch_dino_main\n"
     ]
    },
    {
     "ename": "ValueError",
     "evalue": "zero-size array to reduction operation maximum which has no identity",
     "output_type": "error",
     "traceback": [
      "\u001b[1;31m---------------------------------------------------------------------------\u001b[0m",
      "\u001b[1;31mValueError\u001b[0m                                Traceback (most recent call last)",
      "\u001b[1;32md:\\Documents\\Beruf & Ausbildung\\Ausbildung\\22-08 MSC Bioinf\\24FS_Master Thesis\\02_scribble_datasets_tests\\cellpose\\02_prediction.ipynb Cell 8\u001b[0m line \u001b[0;36m1\n\u001b[0;32m     <a href='vscode-notebook-cell:/d%3A/Documents/Beruf%20%26%20Ausbildung/Ausbildung/22-08%20MSC%20Bioinf/24FS_Master%20Thesis/02_scribble_datasets_tests/cellpose/02_prediction.ipynb#W6sZmlsZQ%3D%3D?line=12'>13</a>\u001b[0m \u001b[39mfor\u001b[39;00m s \u001b[39min\u001b[39;00m [\u001b[39m\"\u001b[39m\u001b[39mTEST_rgb\u001b[39m\u001b[39m\"\u001b[39m]:\u001b[39m#suff:\u001b[39;00m\n\u001b[0;32m     <a href='vscode-notebook-cell:/d%3A/Documents/Beruf%20%26%20Ausbildung/Ausbildung/22-08%20MSC%20Bioinf/24FS_Master%20Thesis/02_scribble_datasets_tests/cellpose/02_prediction.ipynb#W6sZmlsZQ%3D%3D?line=13'>14</a>\u001b[0m     \u001b[39mprint\u001b[39m(\u001b[39mf\u001b[39m\u001b[39m\"\u001b[39m\u001b[39mIMG \u001b[39m\u001b[39m{\u001b[39;00mimg_num\u001b[39m}\u001b[39;00m\u001b[39m: \u001b[39m\u001b[39m{\u001b[39;00m\u001b[39mbin\u001b[39m\u001b[39m}\u001b[39;00m\u001b[39m_\u001b[39m\u001b[39m{\u001b[39;00ms\u001b[39m}\u001b[39;00m\u001b[39m\"\u001b[39m)\n\u001b[1;32m---> <a href='vscode-notebook-cell:/d%3A/Documents/Beruf%20%26%20Ausbildung/Ausbildung/22-08%20MSC%20Bioinf/24FS_Master%20Thesis/02_scribble_datasets_tests/cellpose/02_prediction.ipynb#W6sZmlsZQ%3D%3D?line=14'>15</a>\u001b[0m     pred_cellpose_convpaint(folder_path, img_num, mode\u001b[39m=\u001b[39;49mmode, \u001b[39mbin\u001b[39;49m\u001b[39m=\u001b[39;49m\u001b[39mbin\u001b[39;49m, suff\u001b[39m=\u001b[39;49ms, layer_list\u001b[39m=\u001b[39;49mlayer_list, scalings\u001b[39m=\u001b[39;49mscalings, model\u001b[39m=\u001b[39;49mmodel, save_res\u001b[39m=\u001b[39;49m\u001b[39mTrue\u001b[39;49;00m, show_res\u001b[39m=\u001b[39;49m\u001b[39mTrue\u001b[39;49;00m)\n",
      "File \u001b[1;32md:\\Documents\\Beruf & Ausbildung\\Ausbildung\\22-08 MSC Bioinf\\24FS_Master Thesis\\02_scribble_datasets_tests\\cellpose\\cellpose_data_handler.py:117\u001b[0m, in \u001b[0;36mpred_cellpose_convpaint\u001b[1;34m(folder_path, img_num, mode, bin, suff, layer_list, scalings, model, save_res, show_res)\u001b[0m\n\u001b[0;32m    114\u001b[0m ground_truth \u001b[39m=\u001b[39m img_data[\u001b[39m\"\u001b[39m\u001b[39mgt\u001b[39m\u001b[39m\"\u001b[39m]\n\u001b[0;32m    116\u001b[0m \u001b[39m# Predict the image\u001b[39;00m\n\u001b[1;32m--> 117\u001b[0m prediction \u001b[39m=\u001b[39m selfpred_convpaint(image, labels, layer_list, scalings, model)\n\u001b[0;32m    119\u001b[0m \u001b[39mif\u001b[39;00m save_res:\n\u001b[0;32m    120\u001b[0m     \u001b[39m# Save the scribble annotation as an image\u001b[39;00m\n\u001b[0;32m    121\u001b[0m     pred_path \u001b[39m=\u001b[39m img_data[\u001b[39m\"\u001b[39m\u001b[39mpred_path\u001b[39m\u001b[39m\"\u001b[39m]\n",
      "File \u001b[1;32md:\\Documents\\Beruf & Ausbildung\\Ausbildung\\22-08 MSC Bioinf\\24FS_Master Thesis\\02_scribble_datasets_tests\\cellpose\\convpaint_helpers.py:19\u001b[0m, in \u001b[0;36mselfpred_convpaint\u001b[1;34m(image, labels, layer_list, scalings, model)\u001b[0m\n\u001b[0;32m     15\u001b[0m layers \u001b[39m=\u001b[39m [all_layers[i] \u001b[39mfor\u001b[39;00m i \u001b[39min\u001b[39;00m layer_list]\n\u001b[0;32m     16\u001b[0m \u001b[39m# Register the hooks for the selected layers\u001b[39;00m\n\u001b[0;32m     17\u001b[0m \u001b[39m# model.register_hooks(selected_layers=layers)\u001b[39;00m\n\u001b[0;32m     18\u001b[0m \u001b[39m# Get the features and targets\u001b[39;00m\n\u001b[1;32m---> 19\u001b[0m features, targets \u001b[39m=\u001b[39m get_features_current_layers(\n\u001b[0;32m     20\u001b[0m     model\u001b[39m=\u001b[39;49mmodel, image\u001b[39m=\u001b[39;49mimage, annotations\u001b[39m=\u001b[39;49mlabels, scalings\u001b[39m=\u001b[39;49mscalings,\n\u001b[0;32m     21\u001b[0m     order\u001b[39m=\u001b[39;49m\u001b[39m1\u001b[39;49m, use_min_features\u001b[39m=\u001b[39;49m\u001b[39mFalse\u001b[39;49;00m, image_downsample\u001b[39m=\u001b[39;49m\u001b[39m1\u001b[39;49m)\n\u001b[0;32m     22\u001b[0m \u001b[39m# Train the classifier\u001b[39;00m\n\u001b[0;32m     23\u001b[0m random_forest \u001b[39m=\u001b[39m train_classifier(features, targets)\n",
      "File \u001b[1;32mc:\\Users\\roman\\anaconda3\\envs\\ilastik\\lib\\site-packages\\napari_convpaint\\conv_paint_utils.py:521\u001b[0m, in \u001b[0;36mget_features_current_layers\u001b[1;34m(model, image, annotations, scalings, order, use_min_features, image_downsample)\u001b[0m\n\u001b[0;32m    518\u001b[0m         current_image \u001b[39m=\u001b[39m image[:, t]\n\u001b[0;32m    519\u001b[0m         current_annot \u001b[39m=\u001b[39m annotations[t]\n\u001b[1;32m--> 521\u001b[0m extracted_features \u001b[39m=\u001b[39m get_multiscale_features(\n\u001b[0;32m    522\u001b[0m     model, current_image, current_annot, scalings,\n\u001b[0;32m    523\u001b[0m     order\u001b[39m=\u001b[39;49morder, use_min_features\u001b[39m=\u001b[39;49muse_min_features,\n\u001b[0;32m    524\u001b[0m     image_downsample\u001b[39m=\u001b[39;49mimage_downsample)\n\u001b[0;32m    525\u001b[0m all_values\u001b[39m.\u001b[39mappend(extracted_features)\n\u001b[0;32m    527\u001b[0m all_targets\u001b[39m.\u001b[39mappend(current_annot[::image_downsample, ::image_downsample]\n\u001b[0;32m    528\u001b[0m                    [current_annot[::image_downsample, ::image_downsample] \u001b[39m>\u001b[39m \u001b[39m0\u001b[39m])\n",
      "File \u001b[1;32mc:\\Users\\roman\\anaconda3\\envs\\ilastik\\lib\\site-packages\\napari_convpaint\\conv_paint_utils.py:436\u001b[0m, in \u001b[0;36mget_multiscale_features\u001b[1;34m(model, image, annotations, scalings, order, use_min_features, image_downsample)\u001b[0m\n\u001b[0;32m    434\u001b[0m     max_features \u001b[39m=\u001b[39m np\u001b[39m.\u001b[39mmin(model\u001b[39m.\u001b[39mfeatures_per_layer)\n\u001b[0;32m    435\u001b[0m \u001b[39melse\u001b[39;00m:\n\u001b[1;32m--> 436\u001b[0m     max_features \u001b[39m=\u001b[39m np\u001b[39m.\u001b[39;49mmax(model\u001b[39m.\u001b[39;49mfeatures_per_layer)\n\u001b[0;32m    437\u001b[0m \u001b[39m# test with minimal number of features i.e. taking only n first features\u001b[39;00m\n\u001b[0;32m    438\u001b[0m rows \u001b[39m=\u001b[39m np\u001b[39m.\u001b[39mceil(image\u001b[39m.\u001b[39mshape[\u001b[39m-\u001b[39m\u001b[39m2\u001b[39m] \u001b[39m/\u001b[39m image_downsample)\u001b[39m.\u001b[39mastype(\u001b[39mint\u001b[39m)\n",
      "File \u001b[1;32m<__array_function__ internals>:180\u001b[0m, in \u001b[0;36mamax\u001b[1;34m(*args, **kwargs)\u001b[0m\n",
      "File \u001b[1;32mc:\\Users\\roman\\anaconda3\\envs\\ilastik\\lib\\site-packages\\numpy\\core\\fromnumeric.py:2791\u001b[0m, in \u001b[0;36mamax\u001b[1;34m(a, axis, out, keepdims, initial, where)\u001b[0m\n\u001b[0;32m   2675\u001b[0m \u001b[39m@array_function_dispatch\u001b[39m(_amax_dispatcher)\n\u001b[0;32m   2676\u001b[0m \u001b[39mdef\u001b[39;00m \u001b[39mamax\u001b[39m(a, axis\u001b[39m=\u001b[39m\u001b[39mNone\u001b[39;00m, out\u001b[39m=\u001b[39m\u001b[39mNone\u001b[39;00m, keepdims\u001b[39m=\u001b[39mnp\u001b[39m.\u001b[39m_NoValue, initial\u001b[39m=\u001b[39mnp\u001b[39m.\u001b[39m_NoValue,\n\u001b[0;32m   2677\u001b[0m          where\u001b[39m=\u001b[39mnp\u001b[39m.\u001b[39m_NoValue):\n\u001b[0;32m   2678\u001b[0m \u001b[39m    \u001b[39m\u001b[39m\"\"\"\u001b[39;00m\n\u001b[0;32m   2679\u001b[0m \u001b[39m    Return the maximum of an array or maximum along an axis.\u001b[39;00m\n\u001b[0;32m   2680\u001b[0m \n\u001b[1;32m   (...)\u001b[0m\n\u001b[0;32m   2789\u001b[0m \u001b[39m    5\u001b[39;00m\n\u001b[0;32m   2790\u001b[0m \u001b[39m    \"\"\"\u001b[39;00m\n\u001b[1;32m-> 2791\u001b[0m     \u001b[39mreturn\u001b[39;00m _wrapreduction(a, np\u001b[39m.\u001b[39;49mmaximum, \u001b[39m'\u001b[39;49m\u001b[39mmax\u001b[39;49m\u001b[39m'\u001b[39;49m, axis, \u001b[39mNone\u001b[39;49;00m, out,\n\u001b[0;32m   2792\u001b[0m                           keepdims\u001b[39m=\u001b[39;49mkeepdims, initial\u001b[39m=\u001b[39;49minitial, where\u001b[39m=\u001b[39;49mwhere)\n",
      "File \u001b[1;32mc:\\Users\\roman\\anaconda3\\envs\\ilastik\\lib\\site-packages\\numpy\\core\\fromnumeric.py:86\u001b[0m, in \u001b[0;36m_wrapreduction\u001b[1;34m(obj, ufunc, method, axis, dtype, out, **kwargs)\u001b[0m\n\u001b[0;32m     83\u001b[0m         \u001b[39melse\u001b[39;00m:\n\u001b[0;32m     84\u001b[0m             \u001b[39mreturn\u001b[39;00m reduction(axis\u001b[39m=\u001b[39maxis, out\u001b[39m=\u001b[39mout, \u001b[39m*\u001b[39m\u001b[39m*\u001b[39mpasskwargs)\n\u001b[1;32m---> 86\u001b[0m \u001b[39mreturn\u001b[39;00m ufunc\u001b[39m.\u001b[39mreduce(obj, axis, dtype, out, \u001b[39m*\u001b[39m\u001b[39m*\u001b[39mpasskwargs)\n",
      "\u001b[1;31mValueError\u001b[0m: zero-size array to reduction operation maximum which has no identity"
     ]
    }
   ],
   "source": [
    "folder_path = \"./results/450\"\n",
    "\n",
    "mode = \"all\"\n",
    "bins = [0.1]#, 0.025, 0.05, 0.1, 0.25, 0.5, 1]\n",
    "all_suff = [\"a\", \"b\", \"c\", \"d\", \"e\", \"f\", \"g\", \"h\", \"i\", \"j\"]\n",
    "suff = all_suff[:1]\n",
    "\n",
    "# Define the convpaint parameters\n",
    "layer_list = [0]\n",
    "scalings = [1, 2]\n",
    "model=\"dino_vits16\"\n",
    "\n",
    "# Predictions\n",
    "for img_num in [450]:#range(0, 10):\n",
    "    for bin in [0.1]:#bins:\n",
    "        for s in [\"TEST_rgb\"]:#suff:\n",
    "            print(f\"IMG {img_num}: {bin}_{s}\")\n",
    "            pred_cellpose_convpaint(folder_path, img_num, mode=mode, bin=bin, suff=s, layer_list=layer_list, scalings=scalings, model=model, save_res=True, show_res=True)\n",
    "            # pred_cellpose_ilastik(folder_path, img_num, mode=mode, bin=bin, suff=s, save_res=True, show_res=False)"
   ]
  },
  {
   "cell_type": "code",
   "execution_count": null,
   "metadata": {},
   "outputs": [],
   "source": [
    "\n",
    "### VGG16 model choices: 'vgg16', 'single_layer_vgg16', 'single_layer_vgg16_rgb' (others: 'efficient_netb0', 'dino_vits16')\n",
    "# if model_name == 'vgg16':\n",
    "#     self.model = models.vgg16(weights=models.VGG16_Weights.IMAGENET1K_V1)\n",
    "#     # self.transform =  models.VGG16_Weights.IMAGENET1K_V1.transforms()\n",
    "# elif model_name == 'efficient_netb0':\n",
    "#     self.model = models.efficientnet_b0(weights=models.EfficientNet_B0_Weights.IMAGENET1K_V1)\n",
    "# elif model_name == 'single_layer_vgg16':\n",
    "#     self.model = load_single_layer_vgg16(keep_rgb=False)\n",
    "# elif model_name == 'single_layer_vgg16_rgb':\n",
    "#     self.model = load_single_layer_vgg16(keep_rgb=True)\n",
    "# elif model_name == 'dino_vits16':\n",
    "#     self.model = torch.hub.load('facebookresearch/dino:main', 'dino_vits16')"
   ]
  },
  {
   "cell_type": "markdown",
   "metadata": {},
   "source": [
    "# TEST ILASTIK"
   ]
  },
  {
   "cell_type": "code",
   "execution_count": null,
   "metadata": {},
   "outputs": [],
   "source": [
    "folder_path = \"./imgs/cellpose_train_imgs/24-03-08_pred01\"\n",
    "img = np.array(Image.open(f\"{folder_path}/000_img.png\")) # NOTE: we need to take only one channel for Ilastik to work (so far)\n",
    "print(len(img.shape))\n",
    "# img = np.moveaxis(img, -1, 0)\n",
    "# print(img.shape)\n",
    "labels = np.array(Image.open(f\"{folder_path}/000_scribbles_all_00100_a.png\"))\n",
    "print(len(labels.shape))"
   ]
  },
  {
   "cell_type": "code",
   "execution_count": null,
   "metadata": {},
   "outputs": [],
   "source": [
    "v = napari.Viewer()\n",
    "v.add_image(img, name=\"img\")\n",
    "v.add_labels(labels, name=\"labels\")"
   ]
  },
  {
   "cell_type": "code",
   "execution_count": null,
   "metadata": {},
   "outputs": [],
   "source": [
    "pred = pixel_classification_ilastik(img, labels)"
   ]
  },
  {
   "cell_type": "code",
   "execution_count": null,
   "metadata": {},
   "outputs": [],
   "source": [
    "v.add_labels(pred, name=\"Ilastik\")"
   ]
  },
  {
   "cell_type": "code",
   "execution_count": null,
   "metadata": {},
   "outputs": [],
   "source": [
    "v.add_labels(np.array(Image.open(f\"{folder_path}/000_convpaintCh1_all_0.1_a.png\")), name=\"Convpaint\")"
   ]
  }
 ],
 "metadata": {
  "kernelspec": {
   "display_name": "ilastik",
   "language": "python",
   "name": "python3"
  },
  "language_info": {
   "codemirror_mode": {
    "name": "ipython",
    "version": 3
   },
   "file_extension": ".py",
   "mimetype": "text/x-python",
   "name": "python",
   "nbconvert_exporter": "python",
   "pygments_lexer": "ipython3",
   "version": "3.9.18"
  }
 },
 "nbformat": 4,
 "nbformat_minor": 2
}
