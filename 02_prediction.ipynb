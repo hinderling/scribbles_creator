{
 "cells": [
  {
   "cell_type": "code",
   "execution_count": null,
   "metadata": {},
   "outputs": [],
   "source": [
    "%load_ext autoreload\n",
    "%autoreload 2\n",
    "\n",
    "import numpy as np\n",
    "import napari\n",
    "from PIL import Image\n",
    "\n",
    "from scribbles_creator import *\n",
    "from cellpose_data_handler import *"
   ]
  },
  {
   "cell_type": "markdown",
   "metadata": {},
   "source": [
    "## Define where the images are located and what data to consider"
   ]
  },
  {
   "cell_type": "code",
   "execution_count": null,
   "metadata": {},
   "outputs": [],
   "source": [
    "folder_path = \"./cellpose_train_imgs/24-03-08_pred01\""
   ]
  },
  {
   "cell_type": "code",
   "execution_count": null,
   "metadata": {},
   "outputs": [],
   "source": [
    "mode = \"all\"\n",
    "bins = [0.01, 0.025, 0.05, 0.1, 0.25, 0.5, 1]\n",
    "all_suff = [\"a\", \"b\", \"c\", \"d\", \"e\", \"f\", \"g\", \"h\", \"i\", \"j\"]\n",
    "suff = all_suff[:5]"
   ]
  },
  {
   "cell_type": "markdown",
   "metadata": {},
   "source": [
    "## Create predictions/segmentations on the cellpose dataset (with self-created scribbles)"
   ]
  },
  {
   "cell_type": "code",
   "execution_count": null,
   "metadata": {},
   "outputs": [],
   "source": [
    "# Define the convpaint parameters\n",
    "layer_list = [0] # layers to use for convpaint (depending on the model chosen)\n",
    "scalings = [1, 2] # scalings for convpaint (downscaling the image)\n",
    "model=\"vgg16\" # 'vgg16', 'efficient_netb0', 'single_layer_vgg16', 'single_layer_vgg16_rgb', 'dino_vits16'\n",
    "random_state = None # seed used for random forest classifier\n",
    "\n",
    "# Predictions\n",
    "for img_num in range(0, 10):\n",
    "    for bin in bins:\n",
    "        for s in suff:\n",
    "            print(f\"IMG {img_num}: {bin}_{s}\")\n",
    "            pred_cellpose_convpaint(folder_path, img_num, mode=mode, bin=bin, suff=s, layer_list=layer_list, scalings=scalings, model=model, random_state=random_state, save_res=True, show_res=False)\n",
    "            pred_cellpose_ilastik(folder_path, img_num, mode=mode, bin=bin, suff=s, save_res=True, show_res=False)"
   ]
  },
  {
   "cell_type": "markdown",
   "metadata": {},
   "source": [
    "Same cell but for testing..."
   ]
  },
  {
   "cell_type": "code",
   "execution_count": null,
   "metadata": {},
   "outputs": [],
   "source": [
    "folder_path = \"./results/data/pred04_examples\"\n",
    "# folder_path = \"./cellpose_train_imgs\"\n",
    "\n",
    "mode = \"all\"\n",
    "bins = [0.1]#, 0.025, 0.05, 0.1, 0.25, 0.5, 1]\n",
    "all_suff = [\"a\", \"b\", \"c\", \"d\", \"e\", \"f\", \"g\", \"h\", \"i\", \"j\"]\n",
    "suff = all_suff[:1]\n",
    "\n",
    "# Define the convpaint parameters\n",
    "layer_list = [0] # layers to use for convpaint (depending on the model chosen)\n",
    "scalings = [1, 2] # scalings for convpaint (downscaling the image)\n",
    "model=\"single_layer_vgg16\" # 'vgg16', 'efficient_netb0', 'single_layer_vgg16', 'single_layer_vgg16_rgb', 'dino_vits16'\n",
    "random_state = 123 # seed used for random forest classifier\n",
    "\n",
    "# Predictions\n",
    "for img_num in [0]:#(0,189):#range(0, 10):\n",
    "    for bin in [0.01]: #bins:\n",
    "        for s in [\"a\"]:#suff:\n",
    "            print(f\"IMG {img_num}: {bin}_{s}\")\n",
    "            # get_cellpose_img_data(folder_path, img_num, load_img=True, load_gt=False, load_scribbles=False, mode=mode, bin=bin, suff=s, load_pred=False, pred_tag=\"convpaint\")\n",
    "            # pred_cellpose_convpaint(folder_path, img_num, mode=mode, bin=bin, suff=s, layer_list=layer_list, scalings=scalings, model=model, random_state=random_state, save_res=False, show_res=True)\n",
    "            # pred_cellpose_ilastik(folder_path, img_num, mode=mode, bin=bin, suff=s, save_res=False, show_res=True)"
   ]
  },
  {
   "cell_type": "markdown",
   "metadata": {},
   "source": [
    "Testing VGG16 options"
   ]
  },
  {
   "cell_type": "code",
   "execution_count": null,
   "metadata": {},
   "outputs": [],
   "source": [
    "folder_path = \"./results/data/pred04_examples\"\n",
    "# folder_path = \"./cellpose_train_imgs\"\n",
    "\n",
    "mode = \"all\"\n",
    "bins = [0.1]#, 0.025, 0.05, 0.1, 0.25, 0.5, 1]\n",
    "all_suff = [\"a\", \"b\", \"c\", \"d\", \"e\", \"f\", \"g\", \"h\", \"i\", \"j\"]\n",
    "suff = all_suff[:1]\n",
    "s = \"a\"\n",
    "\n",
    "# Define the convpaint parameters\n",
    "layer_list = [[0], [0,2], [0,2,5]] # layers to use for convpaint (depending on the model chosen)\n",
    "scalings = [[1]]#, [1,2], [1,2,4], [1,2,4,8]] # scalings for convpaint (downscaling the image)\n",
    "model=\"vgg16\" # 'vgg16', 'efficient_netb0', 'single_layer_vgg16', 'single_layer_vgg16_rgb', 'dino_vits16'\n",
    "random_state = 123 # seed used for random forest classifier\n",
    "\n",
    "# Predictions\n",
    "for img_num in [398]:#range(0, 540, 10):#range(0, 10):\n",
    "    for bin in [0.1]: #bins:\n",
    "        for sc in [[1,2]]:#scalings:\n",
    "            for l in [[0,2,5]]:#layer_list:\n",
    "                print(f\"IMG {img_num}: bin {bin}, scalings {sc}, layers {l}\")\n",
    "                pred_cellpose_convpaint(folder_path, img_num, mode=mode, bin=bin, suff=s, layer_list=l, scalings=sc, model=model, random_state=random_state, save_res=False, show_res=True)\n",
    "                # get_cellpose_img_data(folder_path, img_num, load_img=True, load_gt=False, load_scribbles=False, mode=mode, bin=bin, suff=s, load_pred=False, pred_tag=\"convpaint\")\n",
    "                # pred_cellpose_convpaint(folder_path, img_num, mode=mode, bin=bin, suff=s, layer_list=layer_list, scalings=scalings, model=model, random_state=random_state, save_res=False, show_res=True)\n",
    "                # pred_cellpose_ilastik(folder_path, img_num, mode=mode, bin=bin, suff=s, save_res=False, show_res=True)"
   ]
  },
  {
   "cell_type": "code",
   "execution_count": null,
   "metadata": {},
   "outputs": [],
   "source": [
    "labels = np.array(Image.open('D:/Documents/Beruf & Ausbildung/Ausbildung/22-08 MSC Bioinf/24FS_Master Thesis/02_scribble_datasets_tests/cellpose/results/data/pred04_examples/398_scribbles_all_00100_a.png'))\n",
    "image = np.array(Image.open('D:/Documents/Beruf & Ausbildung/Ausbildung/22-08 MSC Bioinf/24FS_Master Thesis/02_scribble_datasets_tests/cellpose/results/data/pred04_examples/398_img.png'))\n",
    "pred = selfpred_convpaint(image, labels, layer_list=[0,2,5], scalings=[1,2], model=\"vgg16\", random_state=123)"
   ]
  },
  {
   "cell_type": "code",
   "execution_count": 20,
   "metadata": {},
   "outputs": [
    {
     "ename": "RuntimeError",
     "evalue": "Given input size: (64x1x4). Calculated output size: (64x0x2). Output size is too small",
     "output_type": "error",
     "traceback": [
      "\u001b[1;31m---------------------------------------------------------------------------\u001b[0m",
      "\u001b[1;31mRuntimeError\u001b[0m                              Traceback (most recent call last)",
      "\u001b[1;32md:\\Documents\\Beruf & Ausbildung\\Ausbildung\\22-08 MSc BioInf\\24FS_Master Thesis\\02_scribble_datasets_tests\\cellpose\\02_prediction.ipynb Cell 12\u001b[0m line \u001b[0;36m2\n\u001b[0;32m     <a href='vscode-notebook-cell:/d%3A/Documents/Beruf%20%26%20Ausbildung/Ausbildung/22-08%20MSc%20BioInf/24FS_Master%20Thesis/02_scribble_datasets_tests/cellpose/02_prediction.ipynb#X30sZmlsZQ%3D%3D?line=26'>27</a>\u001b[0m model\u001b[39m.\u001b[39mregister_hooks(selected_layers\u001b[39m=\u001b[39mlayers)\n\u001b[0;32m     <a href='vscode-notebook-cell:/d%3A/Documents/Beruf%20%26%20Ausbildung/Ausbildung/22-08%20MSc%20BioInf/24FS_Master%20Thesis/02_scribble_datasets_tests/cellpose/02_prediction.ipynb#X30sZmlsZQ%3D%3D?line=27'>28</a>\u001b[0m \u001b[39m# Get the features and targets\u001b[39;00m\n\u001b[1;32m---> <a href='vscode-notebook-cell:/d%3A/Documents/Beruf%20%26%20Ausbildung/Ausbildung/22-08%20MSc%20BioInf/24FS_Master%20Thesis/02_scribble_datasets_tests/cellpose/02_prediction.ipynb#X30sZmlsZQ%3D%3D?line=28'>29</a>\u001b[0m features, targets \u001b[39m=\u001b[39m get_features_current_layers(\n\u001b[0;32m     <a href='vscode-notebook-cell:/d%3A/Documents/Beruf%20%26%20Ausbildung/Ausbildung/22-08%20MSc%20BioInf/24FS_Master%20Thesis/02_scribble_datasets_tests/cellpose/02_prediction.ipynb#X30sZmlsZQ%3D%3D?line=29'>30</a>\u001b[0m     model\u001b[39m=\u001b[39;49mmodel, image\u001b[39m=\u001b[39;49mimage, annotations\u001b[39m=\u001b[39;49mlabels, scalings\u001b[39m=\u001b[39;49mscalings,\n\u001b[0;32m     <a href='vscode-notebook-cell:/d%3A/Documents/Beruf%20%26%20Ausbildung/Ausbildung/22-08%20MSc%20BioInf/24FS_Master%20Thesis/02_scribble_datasets_tests/cellpose/02_prediction.ipynb#X30sZmlsZQ%3D%3D?line=30'>31</a>\u001b[0m     order\u001b[39m=\u001b[39;49m\u001b[39m1\u001b[39;49m, use_min_features\u001b[39m=\u001b[39;49m\u001b[39mFalse\u001b[39;49;00m, image_downsample\u001b[39m=\u001b[39;49m\u001b[39m2\u001b[39;49m)\n\u001b[0;32m     <a href='vscode-notebook-cell:/d%3A/Documents/Beruf%20%26%20Ausbildung/Ausbildung/22-08%20MSc%20BioInf/24FS_Master%20Thesis/02_scribble_datasets_tests/cellpose/02_prediction.ipynb#X30sZmlsZQ%3D%3D?line=32'>33</a>\u001b[0m \u001b[39m# Train the classifier\u001b[39;00m\n\u001b[0;32m     <a href='vscode-notebook-cell:/d%3A/Documents/Beruf%20%26%20Ausbildung/Ausbildung/22-08%20MSc%20BioInf/24FS_Master%20Thesis/02_scribble_datasets_tests/cellpose/02_prediction.ipynb#X30sZmlsZQ%3D%3D?line=33'>34</a>\u001b[0m \u001b[39mif\u001b[39;00m random_state \u001b[39mis\u001b[39;00m \u001b[39mNone\u001b[39;00m:\n",
      "File \u001b[1;32mc:\\Users\\roman\\anaconda3\\envs\\ilastik2\\lib\\site-packages\\napari_convpaint\\conv_paint_utils.py:659\u001b[0m, in \u001b[0;36mget_features_current_layers\u001b[1;34m(model, image, annotations, scalings, order, use_min_features, image_downsample)\u001b[0m\n\u001b[0;32m    650\u001b[0m im_crop \u001b[39m=\u001b[39m current_image[\u001b[39m.\u001b[39m\u001b[39m.\u001b[39m\u001b[39m.\u001b[39m,\n\u001b[0;32m    651\u001b[0m     boxes[\u001b[39m'\u001b[39m\u001b[39mbbox-0\u001b[39m\u001b[39m'\u001b[39m][i]:boxes[\u001b[39m'\u001b[39m\u001b[39mbbox-2\u001b[39m\u001b[39m'\u001b[39m][i],\n\u001b[0;32m    652\u001b[0m     boxes[\u001b[39m'\u001b[39m\u001b[39mbbox-1\u001b[39m\u001b[39m'\u001b[39m][i]:boxes[\u001b[39m'\u001b[39m\u001b[39mbbox-3\u001b[39m\u001b[39m'\u001b[39m][i]\n\u001b[0;32m    653\u001b[0m ]\n\u001b[0;32m    654\u001b[0m annot_crop \u001b[39m=\u001b[39m current_annot[\n\u001b[0;32m    655\u001b[0m     boxes[\u001b[39m'\u001b[39m\u001b[39mbbox-0\u001b[39m\u001b[39m'\u001b[39m][i]:boxes[\u001b[39m'\u001b[39m\u001b[39mbbox-2\u001b[39m\u001b[39m'\u001b[39m][i],\n\u001b[0;32m    656\u001b[0m     boxes[\u001b[39m'\u001b[39m\u001b[39mbbox-1\u001b[39m\u001b[39m'\u001b[39m][i]:boxes[\u001b[39m'\u001b[39m\u001b[39mbbox-3\u001b[39m\u001b[39m'\u001b[39m][i]\n\u001b[0;32m    657\u001b[0m ]\n\u001b[1;32m--> 659\u001b[0m extracted_features \u001b[39m=\u001b[39m get_multiscale_features(\n\u001b[0;32m    660\u001b[0m     model, im_crop, annot_crop, scalings,\n\u001b[0;32m    661\u001b[0m     order\u001b[39m=\u001b[39;49morder, use_min_features\u001b[39m=\u001b[39;49muse_min_features,\n\u001b[0;32m    662\u001b[0m     image_downsample\u001b[39m=\u001b[39;49mimage_downsample)\n\u001b[0;32m    663\u001b[0m all_values\u001b[39m.\u001b[39mappend(extracted_features)\n\u001b[0;32m    665\u001b[0m all_targets\u001b[39m.\u001b[39mappend(annot_crop[::image_downsample, ::image_downsample]\n\u001b[0;32m    666\u001b[0m                     [annot_crop[::image_downsample, ::image_downsample] \u001b[39m>\u001b[39m \u001b[39m0\u001b[39m])\n",
      "File \u001b[1;32mc:\\Users\\roman\\anaconda3\\envs\\ilastik2\\lib\\site-packages\\napari_convpaint\\conv_paint_utils.py:568\u001b[0m, in \u001b[0;36mget_multiscale_features\u001b[1;34m(model, image, annotations, scalings, order, use_min_features, image_downsample)\u001b[0m\n\u001b[0;32m    565\u001b[0m full_annotation \u001b[39m=\u001b[39m np\u001b[39m.\u001b[39mones((max_features, rows, cols), dtype\u001b[39m=\u001b[39mnp\u001b[39m.\u001b[39mbool_)\n\u001b[0;32m    566\u001b[0m full_annotation \u001b[39m=\u001b[39m full_annotation \u001b[39m*\u001b[39m annotations[::image_downsample, ::image_downsample] \u001b[39m>\u001b[39m \u001b[39m0\u001b[39m\n\u001b[1;32m--> 568\u001b[0m all_scales \u001b[39m=\u001b[39m filter_fun(\n\u001b[0;32m    569\u001b[0m     image, model, scalings, order\u001b[39m=\u001b[39;49morder,\n\u001b[0;32m    570\u001b[0m     image_downsample\u001b[39m=\u001b[39;49mimage_downsample)\n\u001b[0;32m    571\u001b[0m \u001b[39mif\u001b[39;00m use_min_features:\n\u001b[0;32m    572\u001b[0m     all_scales \u001b[39m=\u001b[39m [a[:, \u001b[39m0\u001b[39m:max_features, :, :] \u001b[39mfor\u001b[39;00m a \u001b[39min\u001b[39;00m all_scales]\n",
      "File \u001b[1;32mc:\\Users\\roman\\anaconda3\\envs\\ilastik2\\lib\\site-packages\\napari_convpaint\\conv_paint_utils.py:285\u001b[0m, in \u001b[0;36mfilter_image_multichannels\u001b[1;34m(image, hookmodel, scalings, order, image_downsample)\u001b[0m\n\u001b[0;32m    283\u001b[0m     \u001b[39mpass\u001b[39;00m\n\u001b[0;32m    284\u001b[0m \u001b[39mexcept\u001b[39;00m \u001b[39mException\u001b[39;00m \u001b[39mas\u001b[39;00m ex:\n\u001b[1;32m--> 285\u001b[0m     \u001b[39mraise\u001b[39;00m ex\n\u001b[0;32m    287\u001b[0m \u001b[39mfor\u001b[39;00m im \u001b[39min\u001b[39;00m hookmodel\u001b[39m.\u001b[39moutputs:\n\u001b[0;32m    288\u001b[0m     \u001b[39mif\u001b[39;00m image\u001b[39m.\u001b[39mshape[\u001b[39m1\u001b[39m:\u001b[39m3\u001b[39m] \u001b[39m!=\u001b[39m im\u001b[39m.\u001b[39mshape[\u001b[39m2\u001b[39m:\u001b[39m4\u001b[39m]:\n",
      "File \u001b[1;32mc:\\Users\\roman\\anaconda3\\envs\\ilastik2\\lib\\site-packages\\napari_convpaint\\conv_paint_utils.py:281\u001b[0m, in \u001b[0;36mfilter_image_multichannels\u001b[1;34m(image, hookmodel, scalings, order, image_downsample)\u001b[0m\n\u001b[0;32m    279\u001b[0m hookmodel\u001b[39m.\u001b[39moutputs \u001b[39m=\u001b[39m []\n\u001b[0;32m    280\u001b[0m \u001b[39mtry\u001b[39;00m:\n\u001b[1;32m--> 281\u001b[0m     _ \u001b[39m=\u001b[39m hookmodel(im_torch)\n\u001b[0;32m    282\u001b[0m \u001b[39mexcept\u001b[39;00m \u001b[39mAssertionError\u001b[39;00m \u001b[39mas\u001b[39;00m ea:\n\u001b[0;32m    283\u001b[0m     \u001b[39mpass\u001b[39;00m\n",
      "File \u001b[1;32mc:\\Users\\roman\\anaconda3\\envs\\ilastik2\\lib\\site-packages\\napari_convpaint\\conv_paint_utils.py:1269\u001b[0m, in \u001b[0;36mHookmodel.__call__\u001b[1;34m(self, tensor_image)\u001b[0m\n\u001b[0;32m   1267\u001b[0m \u001b[39mdef\u001b[39;00m \u001b[39m__call__\u001b[39m(\u001b[39mself\u001b[39m, tensor_image):\n\u001b[0;32m   1268\u001b[0m     tensor_image_dev \u001b[39m=\u001b[39m tensor_image\u001b[39m.\u001b[39mto(\u001b[39mself\u001b[39m\u001b[39m.\u001b[39mdevice)\n\u001b[1;32m-> 1269\u001b[0m     \u001b[39mreturn\u001b[39;00m \u001b[39mself\u001b[39;49m\u001b[39m.\u001b[39;49mmodel(tensor_image_dev)\n",
      "File \u001b[1;32mc:\\Users\\roman\\anaconda3\\envs\\ilastik2\\lib\\site-packages\\torch\\nn\\modules\\module.py:1194\u001b[0m, in \u001b[0;36mModule._call_impl\u001b[1;34m(self, *input, **kwargs)\u001b[0m\n\u001b[0;32m   1190\u001b[0m \u001b[39m# If we don't have any hooks, we want to skip the rest of the logic in\u001b[39;00m\n\u001b[0;32m   1191\u001b[0m \u001b[39m# this function, and just call forward.\u001b[39;00m\n\u001b[0;32m   1192\u001b[0m \u001b[39mif\u001b[39;00m \u001b[39mnot\u001b[39;00m (\u001b[39mself\u001b[39m\u001b[39m.\u001b[39m_backward_hooks \u001b[39mor\u001b[39;00m \u001b[39mself\u001b[39m\u001b[39m.\u001b[39m_forward_hooks \u001b[39mor\u001b[39;00m \u001b[39mself\u001b[39m\u001b[39m.\u001b[39m_forward_pre_hooks \u001b[39mor\u001b[39;00m _global_backward_hooks\n\u001b[0;32m   1193\u001b[0m         \u001b[39mor\u001b[39;00m _global_forward_hooks \u001b[39mor\u001b[39;00m _global_forward_pre_hooks):\n\u001b[1;32m-> 1194\u001b[0m     \u001b[39mreturn\u001b[39;00m forward_call(\u001b[39m*\u001b[39m\u001b[39minput\u001b[39m, \u001b[39m*\u001b[39m\u001b[39m*\u001b[39mkwargs)\n\u001b[0;32m   1195\u001b[0m \u001b[39m# Do not call functions when jit is used\u001b[39;00m\n\u001b[0;32m   1196\u001b[0m full_backward_hooks, non_full_backward_hooks \u001b[39m=\u001b[39m [], []\n",
      "File \u001b[1;32mc:\\Users\\roman\\anaconda3\\envs\\ilastik2\\lib\\site-packages\\torchvision\\models\\vgg.py:66\u001b[0m, in \u001b[0;36mVGG.forward\u001b[1;34m(self, x)\u001b[0m\n\u001b[0;32m     65\u001b[0m \u001b[39mdef\u001b[39;00m \u001b[39mforward\u001b[39m(\u001b[39mself\u001b[39m, x: torch\u001b[39m.\u001b[39mTensor) \u001b[39m-\u001b[39m\u001b[39m>\u001b[39m torch\u001b[39m.\u001b[39mTensor:\n\u001b[1;32m---> 66\u001b[0m     x \u001b[39m=\u001b[39m \u001b[39mself\u001b[39;49m\u001b[39m.\u001b[39;49mfeatures(x)\n\u001b[0;32m     67\u001b[0m     x \u001b[39m=\u001b[39m \u001b[39mself\u001b[39m\u001b[39m.\u001b[39mavgpool(x)\n\u001b[0;32m     68\u001b[0m     x \u001b[39m=\u001b[39m torch\u001b[39m.\u001b[39mflatten(x, \u001b[39m1\u001b[39m)\n",
      "File \u001b[1;32mc:\\Users\\roman\\anaconda3\\envs\\ilastik2\\lib\\site-packages\\torch\\nn\\modules\\module.py:1194\u001b[0m, in \u001b[0;36mModule._call_impl\u001b[1;34m(self, *input, **kwargs)\u001b[0m\n\u001b[0;32m   1190\u001b[0m \u001b[39m# If we don't have any hooks, we want to skip the rest of the logic in\u001b[39;00m\n\u001b[0;32m   1191\u001b[0m \u001b[39m# this function, and just call forward.\u001b[39;00m\n\u001b[0;32m   1192\u001b[0m \u001b[39mif\u001b[39;00m \u001b[39mnot\u001b[39;00m (\u001b[39mself\u001b[39m\u001b[39m.\u001b[39m_backward_hooks \u001b[39mor\u001b[39;00m \u001b[39mself\u001b[39m\u001b[39m.\u001b[39m_forward_hooks \u001b[39mor\u001b[39;00m \u001b[39mself\u001b[39m\u001b[39m.\u001b[39m_forward_pre_hooks \u001b[39mor\u001b[39;00m _global_backward_hooks\n\u001b[0;32m   1193\u001b[0m         \u001b[39mor\u001b[39;00m _global_forward_hooks \u001b[39mor\u001b[39;00m _global_forward_pre_hooks):\n\u001b[1;32m-> 1194\u001b[0m     \u001b[39mreturn\u001b[39;00m forward_call(\u001b[39m*\u001b[39m\u001b[39minput\u001b[39m, \u001b[39m*\u001b[39m\u001b[39m*\u001b[39mkwargs)\n\u001b[0;32m   1195\u001b[0m \u001b[39m# Do not call functions when jit is used\u001b[39;00m\n\u001b[0;32m   1196\u001b[0m full_backward_hooks, non_full_backward_hooks \u001b[39m=\u001b[39m [], []\n",
      "File \u001b[1;32mc:\\Users\\roman\\anaconda3\\envs\\ilastik2\\lib\\site-packages\\torch\\nn\\modules\\container.py:204\u001b[0m, in \u001b[0;36mSequential.forward\u001b[1;34m(self, input)\u001b[0m\n\u001b[0;32m    202\u001b[0m \u001b[39mdef\u001b[39;00m \u001b[39mforward\u001b[39m(\u001b[39mself\u001b[39m, \u001b[39minput\u001b[39m):\n\u001b[0;32m    203\u001b[0m     \u001b[39mfor\u001b[39;00m module \u001b[39min\u001b[39;00m \u001b[39mself\u001b[39m:\n\u001b[1;32m--> 204\u001b[0m         \u001b[39minput\u001b[39m \u001b[39m=\u001b[39m module(\u001b[39minput\u001b[39;49m)\n\u001b[0;32m    205\u001b[0m     \u001b[39mreturn\u001b[39;00m \u001b[39minput\u001b[39m\n",
      "File \u001b[1;32mc:\\Users\\roman\\anaconda3\\envs\\ilastik2\\lib\\site-packages\\torch\\nn\\modules\\module.py:1194\u001b[0m, in \u001b[0;36mModule._call_impl\u001b[1;34m(self, *input, **kwargs)\u001b[0m\n\u001b[0;32m   1190\u001b[0m \u001b[39m# If we don't have any hooks, we want to skip the rest of the logic in\u001b[39;00m\n\u001b[0;32m   1191\u001b[0m \u001b[39m# this function, and just call forward.\u001b[39;00m\n\u001b[0;32m   1192\u001b[0m \u001b[39mif\u001b[39;00m \u001b[39mnot\u001b[39;00m (\u001b[39mself\u001b[39m\u001b[39m.\u001b[39m_backward_hooks \u001b[39mor\u001b[39;00m \u001b[39mself\u001b[39m\u001b[39m.\u001b[39m_forward_hooks \u001b[39mor\u001b[39;00m \u001b[39mself\u001b[39m\u001b[39m.\u001b[39m_forward_pre_hooks \u001b[39mor\u001b[39;00m _global_backward_hooks\n\u001b[0;32m   1193\u001b[0m         \u001b[39mor\u001b[39;00m _global_forward_hooks \u001b[39mor\u001b[39;00m _global_forward_pre_hooks):\n\u001b[1;32m-> 1194\u001b[0m     \u001b[39mreturn\u001b[39;00m forward_call(\u001b[39m*\u001b[39m\u001b[39minput\u001b[39m, \u001b[39m*\u001b[39m\u001b[39m*\u001b[39mkwargs)\n\u001b[0;32m   1195\u001b[0m \u001b[39m# Do not call functions when jit is used\u001b[39;00m\n\u001b[0;32m   1196\u001b[0m full_backward_hooks, non_full_backward_hooks \u001b[39m=\u001b[39m [], []\n",
      "File \u001b[1;32mc:\\Users\\roman\\anaconda3\\envs\\ilastik2\\lib\\site-packages\\torch\\nn\\modules\\pooling.py:166\u001b[0m, in \u001b[0;36mMaxPool2d.forward\u001b[1;34m(self, input)\u001b[0m\n\u001b[0;32m    165\u001b[0m \u001b[39mdef\u001b[39;00m \u001b[39mforward\u001b[39m(\u001b[39mself\u001b[39m, \u001b[39minput\u001b[39m: Tensor):\n\u001b[1;32m--> 166\u001b[0m     \u001b[39mreturn\u001b[39;00m F\u001b[39m.\u001b[39;49mmax_pool2d(\u001b[39minput\u001b[39;49m, \u001b[39mself\u001b[39;49m\u001b[39m.\u001b[39;49mkernel_size, \u001b[39mself\u001b[39;49m\u001b[39m.\u001b[39;49mstride,\n\u001b[0;32m    167\u001b[0m                         \u001b[39mself\u001b[39;49m\u001b[39m.\u001b[39;49mpadding, \u001b[39mself\u001b[39;49m\u001b[39m.\u001b[39;49mdilation, ceil_mode\u001b[39m=\u001b[39;49m\u001b[39mself\u001b[39;49m\u001b[39m.\u001b[39;49mceil_mode,\n\u001b[0;32m    168\u001b[0m                         return_indices\u001b[39m=\u001b[39;49m\u001b[39mself\u001b[39;49m\u001b[39m.\u001b[39;49mreturn_indices)\n",
      "File \u001b[1;32mc:\\Users\\roman\\anaconda3\\envs\\ilastik2\\lib\\site-packages\\torch\\_jit_internal.py:485\u001b[0m, in \u001b[0;36mboolean_dispatch.<locals>.fn\u001b[1;34m(*args, **kwargs)\u001b[0m\n\u001b[0;32m    483\u001b[0m     \u001b[39mreturn\u001b[39;00m if_true(\u001b[39m*\u001b[39margs, \u001b[39m*\u001b[39m\u001b[39m*\u001b[39mkwargs)\n\u001b[0;32m    484\u001b[0m \u001b[39melse\u001b[39;00m:\n\u001b[1;32m--> 485\u001b[0m     \u001b[39mreturn\u001b[39;00m if_false(\u001b[39m*\u001b[39margs, \u001b[39m*\u001b[39m\u001b[39m*\u001b[39mkwargs)\n",
      "File \u001b[1;32mc:\\Users\\roman\\anaconda3\\envs\\ilastik2\\lib\\site-packages\\torch\\nn\\functional.py:782\u001b[0m, in \u001b[0;36m_max_pool2d\u001b[1;34m(input, kernel_size, stride, padding, dilation, ceil_mode, return_indices)\u001b[0m\n\u001b[0;32m    780\u001b[0m \u001b[39mif\u001b[39;00m stride \u001b[39mis\u001b[39;00m \u001b[39mNone\u001b[39;00m:\n\u001b[0;32m    781\u001b[0m     stride \u001b[39m=\u001b[39m torch\u001b[39m.\u001b[39mjit\u001b[39m.\u001b[39mannotate(List[\u001b[39mint\u001b[39m], [])\n\u001b[1;32m--> 782\u001b[0m \u001b[39mreturn\u001b[39;00m torch\u001b[39m.\u001b[39;49mmax_pool2d(\u001b[39minput\u001b[39;49m, kernel_size, stride, padding, dilation, ceil_mode)\n",
      "\u001b[1;31mRuntimeError\u001b[0m: Given input size: (64x1x4). Calculated output size: (64x0x2). Output size is too small"
     ]
    }
   ],
   "source": [
    "from napari_convpaint.conv_paint_utils import (Hookmodel, filter_image_multioutputs, get_features_current_layers, get_multiscale_features, train_classifier, predict_image, train_test_split)\n",
    "from sklearn.ensemble import RandomForestClassifier\n",
    "layer_list=[0,2,5]\n",
    "scalings=[1,2]\n",
    "model=\"vgg16\"\n",
    "random_state=123\n",
    "\n",
    "if len(image.shape) == 3 and image.shape[2] < 4:\n",
    "    image = np.moveaxis(image, 2, 0) # Convpaint expects (C, H, W)\n",
    "# Define the model\n",
    "model = Hookmodel(model_name=model)\n",
    "# Ensure the layers are given as a list\n",
    "\n",
    "\n",
    "# if isinstance(layer_list, int):\n",
    "#     layer_list = [layer_list]\n",
    "# # Read out the layer names\n",
    "# all_layers = [key for key in model.module_dict.keys()]\n",
    "# layers = [all_layers[i] for i in layer_list]\n",
    "layers = ['features.0 Conv2d(3, 64, kernel_size=(3, 3), stride=(1, 1), padding=(1, 1))',\n",
    "          'features.2 Conv2d(64, 64, kernel_size=(3, 3), stride=(1, 1), padding=(1, 1))',\n",
    "          'features.5 Conv2d(64, 128, kernel_size=(3, 3), stride=(1, 1), padding=(1, 1))']\n",
    "\n",
    "\n",
    "\n",
    "# Register the hooks for the selected layers\n",
    "model.register_hooks(selected_layers=layers)\n",
    "# Get the features and targets\n",
    "features, targets = get_features_current_layers(\n",
    "    model=model, image=image, annotations=labels, scalings=scalings,\n",
    "    order=1, use_min_features=False, image_downsample=1)\n",
    "\n",
    "# Do RF training manually (copied from convpaint utils) to have access to seed/random_state:\n",
    "X, X_test, y, y_test = train_test_split(features, targets,\n",
    "                                        test_size=0.2,\n",
    "                                        random_state=42)\n",
    "random_forest = RandomForestClassifier(n_estimators=100, random_state = random_state)\n",
    "random_forest.fit(X, y)\n",
    "\n",
    "# Predict on the image\n",
    "predicted = predict_image(\n",
    "    image, model, random_forest, scalings=scalings,\n",
    "    order=1, use_min_features=False, image_downsample=1)"
   ]
  },
  {
   "cell_type": "markdown",
   "metadata": {},
   "source": [
    "Some notes about the model usage of convpaint:"
   ]
  },
  {
   "cell_type": "code",
   "execution_count": null,
   "metadata": {},
   "outputs": [],
   "source": [
    "\n",
    "### VGG16 model choices: 'vgg16', 'single_layer_vgg16', 'single_layer_vgg16_rgb' (others: 'efficient_netb0', 'dino_vits16')\n",
    "# if model_name == 'vgg16':\n",
    "#     self.model = models.vgg16(weights=models.VGG16_Weights.IMAGENET1K_V1)\n",
    "#     # self.transform =  models.VGG16_Weights.IMAGENET1K_V1.transforms()\n",
    "# elif model_name == 'efficient_netb0':\n",
    "#     self.model = models.efficientnet_b0(weights=models.EfficientNet_B0_Weights.IMAGENET1K_V1)\n",
    "# elif model_name == 'single_layer_vgg16':\n",
    "#     self.model = load_single_layer_vgg16(keep_rgb=False)\n",
    "# elif model_name == 'single_layer_vgg16_rgb':\n",
    "#     self.model = load_single_layer_vgg16(keep_rgb=True)\n",
    "# elif model_name == 'dino_vits16':\n",
    "#     self.model = torch.hub.load('facebookresearch/dino:main', 'dino_vits16')"
   ]
  },
  {
   "cell_type": "markdown",
   "metadata": {},
   "source": [
    "# TEST ILASTIK"
   ]
  },
  {
   "cell_type": "code",
   "execution_count": null,
   "metadata": {},
   "outputs": [],
   "source": [
    "folder_path = \"./cellpose_train_imgs/24-03-08_pred01\"\n",
    "img = np.array(Image.open(f\"{folder_path}/000_img.png\")) # NOTE: we need to take only one channel for Ilastik to work (so far)\n",
    "print(len(img.shape))\n",
    "# img = np.moveaxis(img, -1, 0)\n",
    "# print(img.shape)\n",
    "labels = np.array(Image.open(f\"{folder_path}/000_scribbles_all_00100_a.png\"))\n",
    "print(len(labels.shape))"
   ]
  },
  {
   "cell_type": "code",
   "execution_count": null,
   "metadata": {},
   "outputs": [],
   "source": [
    "v = napari.Viewer()\n",
    "v.add_image(img, name=\"img\")\n",
    "v.add_labels(labels, name=\"labels\")"
   ]
  },
  {
   "cell_type": "code",
   "execution_count": null,
   "metadata": {},
   "outputs": [],
   "source": [
    "pred = pixel_classification_ilastik(img, labels)"
   ]
  },
  {
   "cell_type": "code",
   "execution_count": null,
   "metadata": {},
   "outputs": [],
   "source": [
    "v.add_labels(pred, name=\"Ilastik\")"
   ]
  },
  {
   "cell_type": "code",
   "execution_count": null,
   "metadata": {},
   "outputs": [],
   "source": [
    "v.add_labels(np.array(Image.open(f\"{folder_path}/000_convpaintCh1_all_0.1_a.png\")), name=\"Convpaint\")"
   ]
  }
 ],
 "metadata": {
  "kernelspec": {
   "display_name": "ilastik",
   "language": "python",
   "name": "python3"
  },
  "language_info": {
   "codemirror_mode": {
    "name": "ipython",
    "version": 3
   },
   "file_extension": ".py",
   "mimetype": "text/x-python",
   "name": "python",
   "nbconvert_exporter": "python",
   "pygments_lexer": "ipython3",
   "version": "3.9.18"
  }
 },
 "nbformat": 4,
 "nbformat_minor": 2
}
