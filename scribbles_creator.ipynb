{
 "cells": [
  {
   "cell_type": "code",
   "execution_count": 1,
   "metadata": {},
   "outputs": [],
   "source": [
    "%load_ext autoreload\n",
    "%autoreload 2\n",
    "\n",
    "from scribbles_creator import *\n",
    "from PIL import Image\n",
    "import napari\n",
    "import numpy as np"
   ]
  },
  {
   "cell_type": "markdown",
   "metadata": {},
   "source": [
    "## Create scribble annotation from an image mask of the cell pose dataset"
   ]
  },
  {
   "cell_type": "code",
   "execution_count": 42,
   "metadata": {},
   "outputs": [],
   "source": [
    "def create_cellpose_scribble(folder_path, img_num, scribble_width=1, sk_goal_perc=0.05, sq_size=20, sq_pix_range=(10, 100), lines_goal_perc=0.05, line_pix_range=(10, 100), mode=\"all\"):\n",
    "    # Read the ground truth as an image\n",
    "    image_path = f\"{folder_path}/{str(img_num).zfill(3)}\"\n",
    "    ground_truth = np.array(Image.open(image_path + \"_masks.png\"))\n",
    "    # Summarize all non-background classes into one class (we are testing semantic segmentation not instance segmentation)\n",
    "    ground_truth[ground_truth>0] = 2\n",
    "    # Set the background class to 1 (since the scribble annotation assumes class 0 to represent non-annotated pixels)\n",
    "    ground_truth[ground_truth==0] = 1\n",
    "\n",
    "    # Generate the scribble annotation for the ground truth\n",
    "    scribbles = create_scribble(ground_truth, scribble_width=scribble_width, sk_goal_perc=sk_goal_perc, sq_size=sq_size, sq_pix_range=sq_pix_range, lines_goal_perc=lines_goal_perc, line_pix_range=line_pix_range, mode=mode)\n",
    "    perc_labelled = np.sum(scribbles>0) / (scribbles.shape[0] * scribbles.shape[1]) * 100\n",
    "\n",
    "    return scribbles, perc_labelled"
   ]
  },
  {
   "cell_type": "code",
   "execution_count": 50,
   "metadata": {},
   "outputs": [
    {
     "name": "stdout",
     "output_type": "stream",
     "text": [
      "class 1: 194 = 0.20%\n",
      "   prim_sk_squares: 49 = 0.05%\n",
      "   sec_sk_squares: 87 = 0.09%\n",
      "   lines: 58 = 0.06%\n",
      "class 2: 125 = 0.20%\n",
      "   prim_sk_squares: 42 = 0.07%\n",
      "   sec_sk_squares: 42 = 0.07%\n",
      "   lines: 41 = 0.07%\n",
      "Percentage of labelled pixels: 0.20%\n"
     ]
    }
   ],
   "source": [
    "folder_path = \"./imgs/train\"\n",
    "im_num = 331\n",
    "scribbles, perc_labelled = create_cellpose_scribble(folder_path, im_num, scribble_width=1, sk_goal_perc=0.05, sq_size=20, sq_pix_range=(40, 50), lines_goal_perc=0.05, line_pix_range=(10, 20), mode=\"all\")\n",
    "print(f\"Percentage of labelled pixels: {perc_labelled:.2f}%\")"
   ]
  },
  {
   "cell_type": "markdown",
   "metadata": {},
   "source": [
    "## Save or show the scribbles and ground truth"
   ]
  },
  {
   "cell_type": "code",
   "execution_count": 48,
   "metadata": {},
   "outputs": [],
   "source": [
    "# Show the image, ground truth and the scribble annotation in a napari viewer\n",
    "v = napari.Viewer()\n",
    "image_path = f\"{folder_path}/{str(im_num).zfill(3)}\"\n",
    "ground_truth = np.array(Image.open(image_path + \"_masks.png\"))\n",
    "v.add_labels(ground_truth)\n",
    "v.add_labels(scribbles)\n",
    "image = np.array(Image.open(image_path + \"_img.png\"))\n",
    "# v.add_image(image)"
   ]
  },
  {
   "cell_type": "code",
   "execution_count": null,
   "metadata": {},
   "outputs": [],
   "source": [
    "# Save the scribbles and ground truth image to a file (first, convert the numpy arrays to images)\n",
    "scribbles_image = Image.fromarray(scribbles)\n",
    "ground_truth_image = Image.fromarray(ground_truth)\n",
    "scribbles_image.save(image_path + '_scribbles.png')\n",
    "ground_truth_image.save(image_path + '_ground_truth.png')"
   ]
  },
  {
   "cell_type": "markdown",
   "metadata": {},
   "source": [
    "## When we have performed segmentation in Napari, we can calculate its accuracy"
   ]
  },
  {
   "cell_type": "code",
   "execution_count": null,
   "metadata": {},
   "outputs": [],
   "source": [
    "segmentation = v.layers['segmentation'].data\n",
    "acc = np.round(100*np.sum(segmentation == ground_truth) / np.sum(ground_truth > 0), 2)\n",
    "print(f\"Accuracy (pixels correctly segmented): {acc}%\")"
   ]
  }
 ],
 "metadata": {
  "kernelspec": {
   "display_name": "ilastik",
   "language": "python",
   "name": "python3"
  },
  "language_info": {
   "codemirror_mode": {
    "name": "ipython",
    "version": 3
   },
   "file_extension": ".py",
   "mimetype": "text/x-python",
   "name": "python",
   "nbconvert_exporter": "python",
   "pygments_lexer": "ipython3",
   "version": "3.9.18"
  }
 },
 "nbformat": 4,
 "nbformat_minor": 2
}
