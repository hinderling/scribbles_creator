{
 "cells": [
  {
   "cell_type": "code",
   "execution_count": 1,
   "metadata": {},
   "outputs": [],
   "source": [
    "%load_ext autoreload\n",
    "%autoreload 2\n",
    "\n",
    "from scribbles_creator import *\n",
    "import glob\n",
    "import SimpleITK as sitk\n",
    "import napari\n",
    "import numpy as np"
   ]
  },
  {
   "cell_type": "code",
   "execution_count": 62,
   "metadata": {},
   "outputs": [],
   "source": [
    "v = napari.Viewer()\n",
    "for i in sorted(glob.glob(\"./imgs/astro_ground_truth.tif\")):\n",
    "# for i in sorted(glob.glob(\"./imgs/*_lab.nii.gz\")):\n",
    "    file_name = i.split(\"/\")[-1]\n",
    "    # print(f\"Begin {file_name}\")\n",
    "    # Read the ground truth as an image\n",
    "    gt_image = sitk.ReadImage(i)\n",
    "    # Transform the ground truth to a numpy array\n",
    "    ground_truth = sitk.GetArrayFromImage(gt_image)\n",
    "    ground_truth = np.expand_dims(ground_truth, axis=0)\n",
    "    v.add_labels(ground_truth)\n",
    "    # Generate the scribble annotation for the ground truth\n",
    "    output = create_scribble(ground_truth, num_lines=5, keep_sec_sk=True)\n",
    "    v.add_labels(output)\n",
    "    # Save the scribble annotation as an image\n",
    "    itk_scr = sitk.GetImageFromArray(output)\n",
    "    # sitk.WriteImage(itk_scr, i.replace('ground_truth', 'scribble_generated'))\n",
    "    # sitk.WriteImage(itk_scr, i.replace('_lab.nii.gz', '_scribble.nii.gz'))\n",
    "    # print(f\"End {file_name}\")"
   ]
  }
 ],
 "metadata": {
  "kernelspec": {
   "display_name": "ilastik",
   "language": "python",
   "name": "python3"
  },
  "language_info": {
   "codemirror_mode": {
    "name": "ipython",
    "version": 3
   },
   "file_extension": ".py",
   "mimetype": "text/x-python",
   "name": "python",
   "nbconvert_exporter": "python",
   "pygments_lexer": "ipython3",
   "version": "3.9.17"
  }
 },
 "nbformat": 4,
 "nbformat_minor": 2
}
