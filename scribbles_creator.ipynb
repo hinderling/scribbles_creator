{
 "cells": [
  {
   "cell_type": "code",
   "execution_count": null,
   "metadata": {},
   "outputs": [],
   "source": [
    "%load_ext autoreload\n",
    "%autoreload 2\n",
    "\n",
    "from scribbles_creator import *\n",
    "from PIL import Image\n",
    "import napari\n",
    "import numpy as np"
   ]
  },
  {
   "cell_type": "markdown",
   "metadata": {},
   "source": [
    "## Create scribble annotation from an image mask of the cell pose dataset"
   ]
  },
  {
   "cell_type": "code",
   "execution_count": null,
   "metadata": {},
   "outputs": [],
   "source": [
    "# Read the ground truth as an image\n",
    "img_num = 1\n",
    "image_path = f\"./imgs/train/{str(img_num).zfill(3)}\"\n",
    "ground_truth = np.array(Image.open(image_path + \"_masks.png\"))\n",
    "# Summarize all non-background classes into one class (we are testing semantic segmentation not instance segmentation)\n",
    "ground_truth[ground_truth>0] = 2\n",
    "# Set the background class to 1 (since the scribble annotation assumes class 0 to represent non-annotated pixels)\n",
    "ground_truth[ground_truth==0] = 1\n",
    "\n",
    "# Generate the scribble annotation for the ground truth\n",
    "scribbles = create_scribble(ground_truth, scribble_width=1, num_squares=5, sq_size=20, min_sq_pix=10, num_lines=5, min_line_pix=10, mode=\"all\")\n",
    "perc_labelled = np.sum(scribbles>0) / (scribbles.shape[0] * scribbles.shape[1]) * 100\n",
    "print(f\"Percentage of labelled pixels: {perc_labelled:.2f}%\")"
   ]
  },
  {
   "cell_type": "markdown",
   "metadata": {},
   "source": [
    "## Save or show the scribbles and ground truth"
   ]
  },
  {
   "cell_type": "code",
   "execution_count": null,
   "metadata": {},
   "outputs": [],
   "source": [
    "# Save the scribbles and ground truth image to a file (first, convert the numpy arrays to images)\n",
    "scribbles_image = Image.fromarray(scribbles)\n",
    "ground_truth_image = Image.fromarray(ground_truth)\n",
    "scribbles_image.save(image_path + '_scribbles.png')\n",
    "ground_truth_image.save(image_path + '_ground_truth.png')"
   ]
  },
  {
   "cell_type": "code",
   "execution_count": null,
   "metadata": {},
   "outputs": [],
   "source": [
    "# Show the image, ground truth and the scribble annotation in a napari viewer\n",
    "v = napari.Viewer()\n",
    "v.add_labels(ground_truth)\n",
    "v.add_labels(scribbles)\n",
    "image = np.array(Image.open(image_path + \"_img.png\"))\n",
    "v.add_image(image)"
   ]
  },
  {
   "cell_type": "markdown",
   "metadata": {},
   "source": [
    "## When we have performed segmentation in Napari, we can calculate its accuracy"
   ]
  },
  {
   "cell_type": "code",
   "execution_count": null,
   "metadata": {},
   "outputs": [],
   "source": [
    "segmentation = v.layers['segmentation'].data\n",
    "acc = np.round(100*np.sum(segmentation == ground_truth) / np.sum(ground_truth > 0), 2)\n",
    "print(f\"Accuracy (pixels correctly segmented): {acc}%\")"
   ]
  }
 ],
 "metadata": {
  "kernelspec": {
   "display_name": "ilastik",
   "language": "python",
   "name": "python3"
  },
  "language_info": {
   "codemirror_mode": {
    "name": "ipython",
    "version": 3
   },
   "file_extension": ".py",
   "mimetype": "text/x-python",
   "name": "python",
   "nbconvert_exporter": "python",
   "pygments_lexer": "ipython3",
   "version": "3.9.18"
  }
 },
 "nbformat": 4,
 "nbformat_minor": 2
}
