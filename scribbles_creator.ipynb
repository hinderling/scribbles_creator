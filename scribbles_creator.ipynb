{
 "cells": [
  {
   "cell_type": "code",
   "execution_count": 1,
   "metadata": {},
   "outputs": [],
   "source": [
    "%load_ext autoreload\n",
    "%autoreload 2\n",
    "\n",
    "from scribbles_creator import *\n",
    "from PIL import Image\n",
    "import napari\n",
    "import numpy as np\n",
    "import os"
   ]
  },
  {
   "cell_type": "markdown",
   "metadata": {},
   "source": [
    "## Create scribble annotation from an image mask of the cell pose dataset"
   ]
  },
  {
   "cell_type": "code",
   "execution_count": 35,
   "metadata": {},
   "outputs": [],
   "source": [
    "def get_cellpose_img_data(folder_path, img_num, load_img=False, load_gt=False, load_scribbles=False, mode=\"NA\", bin=\"NA\", suff=False, load_pred=False, pred_tag=\"convpaint\"):\n",
    "    \n",
    "    folder_path = folder_path if folder_path[-1] == \"/\" else folder_path + \"/\"\n",
    "    img_base = str(img_num).zfill(3)\n",
    "\n",
    "    img_path = folder_path + img_base + f\"_img.png\"\n",
    "    if load_img:\n",
    "        img = np.array(Image.open(img_path))\n",
    "    else:\n",
    "        img = None\n",
    "\n",
    "    gt_path = folder_path + img_base + \"_ground_truth.png\"\n",
    "    if load_gt:\n",
    "        ground_truth = np.array(Image.open(gt_path))\n",
    "    else:\n",
    "        ground_truth = None\n",
    "\n",
    "    suff = \"\" if not suff else \"_\" + suff\n",
    "\n",
    "    scribbles_path = folder_path + img_base + f\"_scribbles_{mode}_{bin}{suff}.png\"\n",
    "    if load_scribbles:\n",
    "        scribbles = np.array(Image.open(scribbles_path))\n",
    "    else:\n",
    "        scribbles = None\n",
    "\n",
    "    pred_path = folder_path + img_base + f\"_{pred_tag}_{mode}_{bin}{suff}.png\"\n",
    "    if load_pred:\n",
    "        pred = np.array(Image.open(pred_path))  \n",
    "    else:\n",
    "        pred = None\n",
    "\n",
    "    img_data = {\"img_path\": img_path, \"gt_path\": gt_path, \"scribbles_path\": scribbles_path, \"pred_path\": pred_path,\n",
    "                \"img\": img, \"gt\": ground_truth, \"scribbles\": scribbles, \"pred\": pred}\n",
    "\n",
    "    return img_data"
   ]
  },
  {
   "cell_type": "code",
   "execution_count": 37,
   "metadata": {},
   "outputs": [],
   "source": [
    "def create_cellpose_gt(folder_path, img_num, save_res=True):\n",
    "    folder_path = folder_path if folder_path[-1] == \"/\" else folder_path + \"/\"\n",
    "    img_base = str(img_num).zfill(3)\n",
    "    ground_truth = np.array(Image.open(folder_path + img_base + \"_masks.png\"))\n",
    "    # Summarize all non-background classes into one class (we are testing semantic segmentation not instance segmentation)\n",
    "    ground_truth[ground_truth>0] = 2\n",
    "    # Set the background class to 1 (since the scribble annotation assumes class 0 to represent non-annotated pixels)\n",
    "    ground_truth[ground_truth==0] = 1\n",
    "\n",
    "    if save_res:\n",
    "        if not os.path.exists(gt_path):\n",
    "            gt_path = folder_path + img_base + \"_ground_truth.png\"\n",
    "            gt_img = Image.fromarray(ground_truth)\n",
    "            gt_img.save(gt_path)\n",
    "    \n",
    "    return ground_truth\n"
   ]
  },
  {
   "cell_type": "code",
   "execution_count": 38,
   "metadata": {},
   "outputs": [],
   "source": [
    "def create_cellpose_scribble(folder_path, img_num, bin=0.2, sq_scaling=False, mode=\"all\", save_res=False, suff=False, show_res=False):\n",
    "\n",
    "    # Load the ground truth and get the scribbles path for saving; note that if we want to show the results, we also load the image\n",
    "    img_data = get_cellpose_img_data(folder_path, img_num, load_img=show_res, load_gt=True, mode=mode, bin=bin, suff=suff)\n",
    "    ground_truth = img_data[\"gt\"]\n",
    "    scribbles_path = img_data[\"scribbles_path\"]\n",
    "    # Create the scribbles\n",
    "    scribbles = create_even_scribble(ground_truth, max_perc=bin, sq_scaling=False, mode=mode)\n",
    "    perc_labelled = np.sum(scribbles>0) / (scribbles.shape[0] * scribbles.shape[1]) * 100\n",
    "\n",
    "    if save_res:\n",
    "        # Save the scribble annotation as an image\n",
    "        scribble_img = Image.fromarray(scribbles)\n",
    "        scribble_img.save(scribbles_path)\n",
    "\n",
    "    if show_res:\n",
    "        # Show the image, ground truth and the scribbles\n",
    "        image = img_data[\"img\"]\n",
    "        v = napari.Viewer()\n",
    "        v.add_image(image)\n",
    "        v.add_labels(ground_truth)\n",
    "        v.add_labels(scribbles)\n",
    "\n",
    "    return scribbles, perc_labelled"
   ]
  },
  {
   "cell_type": "code",
   "execution_count": 40,
   "metadata": {},
   "outputs": [
    {
     "name": "stderr",
     "output_type": "stream",
     "text": [
      "WARNING: QWindowsWindow::setGeometry: Unable to set geometry 3258x1965+957+270 (frame: 3290x2053+941+198) on QWidgetWindow/\"_QtMainWindowClassWindow\" on \"\\\\.\\DISPLAY1\". Resulting geometry: 5764x2108+965+311 (frame: 5796x2196+949+239) margins: 16, 72, 16, 16 minimum size: 385x494 MINMAXINFO maxSize=0,0 maxpos=0,0 mintrack=1187,1570 maxtrack=0,0)\n"
     ]
    }
   ],
   "source": [
    "folder_path = \"./imgs/train\"\n",
    "all_suff = [\"a\", \"b\", \"c\", \"d\", \"e\", \"f\", \"g\", \"h\", \"i\", \"j\"]\n",
    "suff = all_suff[:1]\n",
    "percentages = {}\n",
    "for bin in [0.01]:#, 0.025, 0.05, 0.1, 0.25, 0.5, 1]:\n",
    "    percentages[bin] = []\n",
    "    for img_num in range(0, 1):\n",
    "        for s in suff:\n",
    "            scribbles, perc_labelled = create_cellpose_scribble(folder_path, img_num, bin=bin, sq_scaling=False, mode = \"all\", show_res=True, suff=s, save_res=True)\n",
    "            percentages[bin].append(perc_labelled)"
   ]
  },
  {
   "cell_type": "code",
   "execution_count": 41,
   "metadata": {},
   "outputs": [
    {
     "name": "stdout",
     "output_type": "stream",
     "text": [
      "labelled percentage in bin 0.01: mean = 0.0092, std = 0.0000, range = 0.0092 - 0.0092\n"
     ]
    }
   ],
   "source": [
    "for bin, perc_list in percentages.items():\n",
    "    print(f\"labelled percentage in bin {bin}: mean = {np.mean(perc_list):.4f}, std = {np.std(perc_list):.4f}, range = {np.min(perc_list):.4f} - {np.max(perc_list):.4f}\")"
   ]
  },
  {
   "cell_type": "code",
   "execution_count": null,
   "metadata": {},
   "outputs": [],
   "source": [
    "v = napari.Viewer()\n",
    "v.add_labels(scribbles)"
   ]
  },
  {
   "cell_type": "markdown",
   "metadata": {},
   "source": [
    "## Load and show scribbles and ground truth"
   ]
  },
  {
   "cell_type": "code",
   "execution_count": 44,
   "metadata": {},
   "outputs": [
    {
     "name": "stderr",
     "output_type": "stream",
     "text": [
      "WARNING: QWindowsWindow::setGeometry: Unable to set geometry 3258x1965+3051+372 (frame: 3290x2053+3035+300) on QWidgetWindow/\"_QtMainWindowClassWindow\" on \"\\\\.\\DISPLAY1\". Resulting geometry: 5764x2108+3059+413 (frame: 5796x2196+3043+341) margins: 16, 72, 16, 16 minimum size: 385x494 MINMAXINFO maxSize=0,0 maxpos=0,0 mintrack=1187,1570 maxtrack=0,0)\n"
     ]
    },
    {
     "data": {
      "text/plain": [
       "<Labels layer 'scribbles' at 0x219006d2ac0>"
      ]
     },
     "execution_count": 44,
     "metadata": {},
     "output_type": "execute_result"
    }
   ],
   "source": [
    "# Show the image, ground truth and the scribble annotation in a napari viewer\n",
    "img_num = 0\n",
    "mode = \"all\"\n",
    "bin = 0.01\n",
    "suff = \"a\"\n",
    "folder_path = \"./imgs/train\"\n",
    "img_data = get_cellpose_img_data(folder_path, img_num, load_img=True, load_gt=True, load_scribbles=True, mode=mode, bin=bin, suff=suff)\n",
    "v = napari.Viewer()\n",
    "v.add_image(img_data[\"img\"], name=\"image\")\n",
    "v.add_labels(img_data[\"gt\"], name=\"ground truth\")\n",
    "v.add_labels(img_data[\"scribbles\"], name=\"scribbles\")"
   ]
  },
  {
   "cell_type": "markdown",
   "metadata": {},
   "source": [
    "## When we have performed segmentation in the Napari plugin, we can calculate its accuracy"
   ]
  },
  {
   "cell_type": "code",
   "execution_count": null,
   "metadata": {},
   "outputs": [],
   "source": [
    "segmentation = v.layers['segmentation'].data\n",
    "acc = np.round(100*np.sum(segmentation == ground_truth) / np.sum(ground_truth > 0), 2)\n",
    "print(f\"Accuracy (pixels correctly segmented): {acc}%\")"
   ]
  }
 ],
 "metadata": {
  "kernelspec": {
   "display_name": "ilastik",
   "language": "python",
   "name": "python3"
  },
  "language_info": {
   "codemirror_mode": {
    "name": "ipython",
    "version": 3
   },
   "file_extension": ".py",
   "mimetype": "text/x-python",
   "name": "python",
   "nbconvert_exporter": "python",
   "pygments_lexer": "ipython3",
   "version": "3.9.18"
  }
 },
 "nbformat": 4,
 "nbformat_minor": 2
}
