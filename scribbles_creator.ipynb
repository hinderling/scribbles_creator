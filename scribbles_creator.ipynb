{
 "cells": [
  {
   "cell_type": "code",
   "execution_count": 1,
   "metadata": {},
   "outputs": [
    {
     "name": "stderr",
     "output_type": "stream",
     "text": [
      "c:\\Users\\roman\\anaconda3\\envs\\ilastik\\lib\\site-packages\\tqdm\\auto.py:21: TqdmWarning: IProgress not found. Please update jupyter and ipywidgets. See https://ipywidgets.readthedocs.io/en/stable/user_install.html\n",
      "  from .autonotebook import tqdm as notebook_tqdm\n"
     ]
    }
   ],
   "source": [
    "%load_ext autoreload\n",
    "%autoreload 2\n",
    "\n",
    "from PIL import Image\n",
    "import napari\n",
    "import numpy as np\n",
    "import os\n",
    "\n",
    "from scribbles_creator import *\n",
    "from cellpose_data_handler import *"
   ]
  },
  {
   "cell_type": "markdown",
   "metadata": {},
   "source": [
    "## Define where the images are located"
   ]
  },
  {
   "cell_type": "code",
   "execution_count": 2,
   "metadata": {},
   "outputs": [],
   "source": [
    "folder_path = \"./imgs/cellpose_train_imgs/\""
   ]
  },
  {
   "cell_type": "markdown",
   "metadata": {},
   "source": [
    "## Create ground truth for pixel classification from image mask (instance segmentation)"
   ]
  },
  {
   "cell_type": "code",
   "execution_count": null,
   "metadata": {},
   "outputs": [],
   "source": [
    "for img_num in range(0, 540):\n",
    "    create_cellpose_gt(folder_path, img_num, save_res=True, show_res=False)"
   ]
  },
  {
   "cell_type": "markdown",
   "metadata": {},
   "source": [
    "## Create scribble annotation from an image mask of the cell pose dataset"
   ]
  },
  {
   "cell_type": "code",
   "execution_count": 4,
   "metadata": {},
   "outputs": [
    {
     "name": "stderr",
     "output_type": "stream",
     "text": [
      "WARNING: QWindowsWindow::setGeometry: Unable to set geometry 853x493+3841+37 (frame: 869x532+3833+6) on QWidgetWindow/\"_QtMainWindowClassWindow\" on \"\\\\.\\DISPLAY2\". Resulting geometry: 459x588+3833-4 (frame: 475x627+3825-35) margins: 8, 31, 8, 8 minimum size: 385x494 MINMAXINFO maxSize=0,0 maxpos=0,0 mintrack=401,533 maxtrack=0,0)\n"
     ]
    },
    {
     "data": {
      "text/plain": [
       "Viewer(camera=Camera(center=(0.0, 0.0, 0.0), zoom=1.0, angles=(0.0, 0.0, 90.0), perspective=0.0, mouse_pan=True, mouse_zoom=True), cursor=Cursor(position=(1.0, 1.0), scaled=True, size=1, style=<CursorStyle.STANDARD: 'standard'>), dims=Dims(ndim=2, ndisplay=2, last_used=0, range=((0, 2, 1), (0, 2, 1)), current_step=(0, 0), order=(0, 1), axis_labels=('0', '1')), grid=GridCanvas(stride=1, shape=(-1, -1), enabled=False), layers=[], help='', status='Ready', tooltip=Tooltip(visible=False, text=''), theme='dark', title='napari', mouse_over_canvas=False, mouse_move_callbacks=[], mouse_drag_callbacks=[], mouse_double_click_callbacks=[], mouse_wheel_callbacks=[<function dims_scroll at 0x00000277E52619D0>], _persisted_mouse_event={}, _mouse_drag_gen={}, _mouse_wheel_gen={}, keymap={})"
      ]
     },
     "execution_count": 4,
     "metadata": {},
     "output_type": "execute_result"
    },
    {
     "name": "stderr",
     "output_type": "stream",
     "text": [
      "c:\\Users\\roman\\anaconda3\\envs\\ilastik\\lib\\site-packages\\imageio\\plugins\\pillow.py:320: UserWarning: Loading 16-bit (uint16) PNG as int32 due to limitations in pillow's PNG decoder. This will be fixed in a future version of pillow which will make this warning dissapear.\n",
      "  warnings.warn(\n",
      "c:\\Users\\roman\\anaconda3\\envs\\ilastik\\lib\\site-packages\\imageio\\plugins\\pillow.py:320: UserWarning: Loading 16-bit (uint16) PNG as int32 due to limitations in pillow's PNG decoder. This will be fixed in a future version of pillow which will make this warning dissapear.\n",
      "  warnings.warn(\n"
     ]
    }
   ],
   "source": [
    "napari.Viewer()"
   ]
  },
  {
   "cell_type": "code",
   "execution_count": 13,
   "metadata": {},
   "outputs": [
    {
     "name": "stdout",
     "output_type": "stream",
     "text": [
      "Warning: Could not create enough lines from the skeleton to the edge.\n"
     ]
    }
   ],
   "source": [
    "mode = \"all\"\n",
    "bins = [1]#[0.01, 0.025, 0.05, 0.1, 0.25, 0.5, 1]\n",
    "all_suff = [\"a\", \"b\", \"c\", \"d\", \"e\", \"f\", \"g\", \"h\", \"i\", \"j\"]\n",
    "suff = all_suff[:5]\n",
    "\n",
    "percentages = {}\n",
    "for bin in bins:\n",
    "    percentages[bin] = []\n",
    "    for img_num in range(539, 540):\n",
    "        for s in suff:\n",
    "            scribbles, perc_labelled = create_cellpose_scribble(folder_path, img_num, bin=bin, mode=mode, save_res=False, suff=s, show_res=True)\n",
    "            percentages[bin].append(perc_labelled)"
   ]
  },
  {
   "cell_type": "code",
   "execution_count": 14,
   "metadata": {},
   "outputs": [
    {
     "name": "stdout",
     "output_type": "stream",
     "text": [
      "labelled percentage in bin 1: mean = 0.9712, std = 0.0000, range = 0.9712 - 0.9712\n"
     ]
    }
   ],
   "source": [
    "for bin, perc_list in percentages.items():\n",
    "    print(f\"labelled percentage in bin {bin}: mean = {np.mean(perc_list):.4f}, std = {np.std(perc_list):.4f}, range = {np.min(perc_list):.4f} - {np.max(perc_list):.4f}\")"
   ]
  },
  {
   "cell_type": "markdown",
   "metadata": {},
   "source": [
    "## Load and show scribbles and ground truth"
   ]
  },
  {
   "cell_type": "code",
   "execution_count": null,
   "metadata": {},
   "outputs": [],
   "source": [
    "# Show the image, ground truth and the scribble annotation in a napari viewer\n",
    "img_num = 0\n",
    "mode = \"all\"\n",
    "bin = 0.01\n",
    "suff = \"a\"\n",
    "img_data = get_cellpose_img_data(folder_path, img_num, load_img=True, load_gt=True, load_scribbles=True, mode=mode, bin=bin, suff=suff)\n",
    "v = napari.Viewer()\n",
    "v.add_image(img_data[\"img\"], name=\"image\")\n",
    "v.add_labels(img_data[\"gt\"], name=\"ground truth\")\n",
    "v.add_labels(img_data[\"scribbles\"], name=\"scribbles\")"
   ]
  },
  {
   "cell_type": "markdown",
   "metadata": {},
   "source": [
    "## When we have performed segmentation in the Napari plugin, we can calculate its accuracy"
   ]
  },
  {
   "cell_type": "code",
   "execution_count": null,
   "metadata": {},
   "outputs": [],
   "source": [
    "# segmentation = v.layers['segmentation'].data\n",
    "# acc = np.round(100*np.sum(segmentation == ground_truth) / np.sum(ground_truth > 0), 2)\n",
    "# print(f\"Accuracy (pixels correctly segmented): {acc}%\")"
   ]
  }
 ],
 "metadata": {
  "kernelspec": {
   "display_name": "ilastik",
   "language": "python",
   "name": "python3"
  },
  "language_info": {
   "codemirror_mode": {
    "name": "ipython",
    "version": 3
   },
   "file_extension": ".py",
   "mimetype": "text/x-python",
   "name": "python",
   "nbconvert_exporter": "python",
   "pygments_lexer": "ipython3",
   "version": "3.9.18"
  }
 },
 "nbformat": 4,
 "nbformat_minor": 2
}
