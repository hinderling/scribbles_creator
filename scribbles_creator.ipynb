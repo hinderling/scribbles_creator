{
 "cells": [
  {
   "cell_type": "code",
   "execution_count": 1,
   "metadata": {},
   "outputs": [],
   "source": [
    "%load_ext autoreload\n",
    "%autoreload 2\n",
    "\n",
    "from scribbles_generator import generate_scribble, generate_scribble_2\n",
    "import glob\n",
    "import SimpleITK as sitk\n",
    "import napari\n",
    "import numpy as np"
   ]
  },
  {
   "cell_type": "code",
   "execution_count": 69,
   "metadata": {},
   "outputs": [
    {
     "name": "stdout",
     "output_type": "stream",
     "text": [
      "Begin astro_ground_truth.tif\n",
      "ground_truth shape: (1, 512, 512)\n",
      "ground_truth unique values: {0, 1, 2}\n",
      "End astro_ground_truth.tif\n",
      "0\n"
     ]
    }
   ],
   "source": [
    "num = 0\n",
    "v = napari.Viewer()\n",
    "for i in sorted(glob.glob(\"./imgs/astro_ground_truth.tif\")):\n",
    "# for i in sorted(glob.glob(\"./imgs/*_lab.nii.gz\")):\n",
    "    file_name = i.split(\"/\")[-1]\n",
    "    print(f\"Begin {file_name}\")\n",
    "    # Read the ground truth as an image\n",
    "    gt_image = sitk.ReadImage(i)\n",
    "    # Transform the ground truth to a numpy array\n",
    "    ground_truth = sitk.GetArrayFromImage(gt_image)\n",
    "    ground_truth = np.expand_dims(ground_truth, axis=0)\n",
    "    # v.add_image(ground_truth)\n",
    "    v.add_labels(ground_truth)\n",
    "    ground_truth_values = set(ground_truth.flatten())\n",
    "    print(f\"ground_truth shape: {ground_truth.shape}\", f\"ground_truth unique values: {ground_truth_values}\", sep=\"\\n\")\n",
    "    num_classes = len(ground_truth_values)\n",
    "    # num_classes = 3  # total segmentation classes\n",
    "    # Generate the scribble annotation for the ground truth\n",
    "    # output = generate_scribble(ground_truth, tuple([1, num_classes-1]), cut_branch=False)\n",
    "    output = generate_scribble_2(ground_truth, 20)\n",
    "    # ignore index for partially cross-entropy loss\n",
    "    # output[output == 0] = 0\n",
    "    # output[output == num_classes] = 255\n",
    "    # Save the scribble annotation as an image\n",
    "    # v.add_image(output)\n",
    "    v.add_labels(output)\n",
    "    itk_scr = sitk.GetImageFromArray(output)\n",
    "    # itk_scr.CopyInformation(itk_data)\n",
    "    # Replace in the name the ground truth (ground_truths, = lab) with the scribble annotation\n",
    "    # sitk.WriteImage(itk_scr, i.replace('ground_truth', 'scribble_generated'))\n",
    "    # sitk.WriteImage(itk_scr, i.replace('_lab.nii.gz', '_scribble.nii.gz'))\n",
    "    print(f\"End {file_name}\")\n",
    "    print(num)\n",
    "    num += 1"
   ]
  }
 ],
 "metadata": {
  "kernelspec": {
   "display_name": "ilastik",
   "language": "python",
   "name": "python3"
  },
  "language_info": {
   "codemirror_mode": {
    "name": "ipython",
    "version": 3
   },
   "file_extension": ".py",
   "mimetype": "text/x-python",
   "name": "python",
   "nbconvert_exporter": "python",
   "pygments_lexer": "ipython3",
   "version": "3.9.17"
  }
 },
 "nbformat": 4,
 "nbformat_minor": 2
}
