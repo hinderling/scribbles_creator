{
 "cells": [
  {
   "cell_type": "code",
   "execution_count": 1,
   "metadata": {},
   "outputs": [],
   "source": [
    "%load_ext autoreload\n",
    "%autoreload 2\n",
    "\n",
    "from scribbles_creator import *\n",
    "from PIL import Image\n",
    "import napari\n",
    "import numpy as np\n",
    "import os"
   ]
  },
  {
   "cell_type": "markdown",
   "metadata": {},
   "source": [
    "## Create scribble annotation from an image mask of the cell pose dataset"
   ]
  },
  {
   "cell_type": "code",
   "execution_count": 2,
   "metadata": {},
   "outputs": [],
   "source": [
    "def create_cellpose_scribble(folder_path, img_num, max_perc=0.2, sq_scaling=False, mode=\"all\", save_res=False, show_res=False):\n",
    "\n",
    "    # Read the ground truth as an image\n",
    "    image_path = f\"{folder_path}/{str(img_num).zfill(3)}\"\n",
    "    ground_truth = np.array(Image.open(image_path + \"_masks.png\"))\n",
    "    # Summarize all non-background classes into one class (we are testing semantic segmentation not instance segmentation)\n",
    "    ground_truth[ground_truth>0] = 2\n",
    "    # Set the background class to 1 (since the scribble annotation assumes class 0 to represent non-annotated pixels)\n",
    "    ground_truth[ground_truth==0] = 1\n",
    "\n",
    "    scribbles = create_even_scribble(ground_truth, max_perc=max_perc, sq_scaling=False, mode=mode)\n",
    "    perc_labelled = np.sum(scribbles>0) / (scribbles.shape[0] * scribbles.shape[1]) * 100\n",
    "\n",
    "    if save_res:\n",
    "        # Save the scribble annotation as an image\n",
    "        scribble_img = Image.fromarray(scribbles)\n",
    "        scribble_img.save(image_path + f\"_scribbles_{mode}_{max_perc}.png\")\n",
    "        # If the ground truth file does not exist, save it as well\n",
    "        gt_file = image_path + \"_ground_truth.png\"\n",
    "        if not os.path.exists(gt_file):\n",
    "            gt_img = Image.fromarray(ground_truth)\n",
    "            gt_img.save(gt_file)\n",
    "\n",
    "    if show_res:\n",
    "        # Show the ground truth and the scribble annotation\n",
    "        v = napari.Viewer()\n",
    "        v.add_image(image)\n",
    "        v.add_labels(ground_truth)\n",
    "        v.add_labels(scribbles)\n",
    "\n",
    "    return scribbles, perc_labelled"
   ]
  },
  {
   "cell_type": "code",
   "execution_count": 17,
   "metadata": {},
   "outputs": [],
   "source": [
    "folder_path = \"./imgs/train\"\n",
    "percentages = {}\n",
    "for bin in [0.01, 0.025, 0.05, 0.1, 0.25, 0.5, 1]:\n",
    "    percentages[bin] = []\n",
    "    for img_num in range(0, 5):\n",
    "        scribbles, perc_labelled = create_cellpose_scribble(folder_path, img_num, max_perc=bin, sq_scaling=False, mode = \"all\", show_res=False, save_res=True)\n",
    "        percentages[bin].append(perc_labelled)"
   ]
  },
  {
   "cell_type": "code",
   "execution_count": 18,
   "metadata": {},
   "outputs": [
    {
     "name": "stdout",
     "output_type": "stream",
     "text": [
      "labelled percentage in bin 0.01: mean = 0.0083, std = 0.0005, range = 0.0076 - 0.0087\n",
      "labelled percentage in bin 0.025: mean = 0.0194, std = 0.0012, range = 0.0173 - 0.0209\n",
      "labelled percentage in bin 0.05: mean = 0.0405, std = 0.0039, range = 0.0352 - 0.0464\n",
      "labelled percentage in bin 0.1: mean = 0.0908, std = 0.0025, range = 0.0867 - 0.0933\n",
      "labelled percentage in bin 0.25: mean = 0.2347, std = 0.0016, range = 0.2320 - 0.2366\n",
      "labelled percentage in bin 0.5: mean = 0.4838, std = 0.0060, range = 0.4778 - 0.4926\n",
      "labelled percentage in bin 1: mean = 0.9709, std = 0.0049, range = 0.9669 - 0.9781\n"
     ]
    }
   ],
   "source": [
    "for bin, perc_list in percentages.items():\n",
    "    print(f\"labelled percentage in bin {bin}: mean = {np.mean(perc_list):.4f}, std = {np.std(perc_list):.4f}, range = {np.min(perc_list):.4f} - {np.max(perc_list):.4f}\")"
   ]
  },
  {
   "cell_type": "code",
   "execution_count": null,
   "metadata": {},
   "outputs": [],
   "source": [
    "v = napari.Viewer()\n",
    "v.add_labels(scribbles)"
   ]
  },
  {
   "cell_type": "markdown",
   "metadata": {},
   "source": [
    "## Load and show scribbles and ground truth"
   ]
  },
  {
   "cell_type": "code",
   "execution_count": 19,
   "metadata": {},
   "outputs": [
    {
     "data": {
      "text/plain": [
       "<Labels layer 'scribbles' at 0x2f10127fcd0>"
      ]
     },
     "execution_count": 19,
     "metadata": {},
     "output_type": "execute_result"
    }
   ],
   "source": [
    "# Show the image, ground truth and the scribble annotation in a napari viewer\n",
    "img_num = 0\n",
    "mode = \"all\"\n",
    "max_perc = 0.5\n",
    "folder_path = \"./imgs/train\"\n",
    "image_base = f\"{folder_path}/{str(img_num).zfill(3)}\"\n",
    "image_path = image_base + \"_img.png\"\n",
    "ground_truth_path = image_base + \"_ground_truth.png\"\n",
    "scribbles_path = image_base + f\"_scribbles_{mode}_{max_perc}.png\"\n",
    "image = np.array(Image.open(image_path))\n",
    "ground_truth = np.array(Image.open(ground_truth_path))\n",
    "scribbles = np.array(Image.open(scribbles_path))\n",
    "v = napari.Viewer()\n",
    "v.add_image(image)\n",
    "v.add_labels(ground_truth)\n",
    "v.add_labels(scribbles)"
   ]
  },
  {
   "cell_type": "markdown",
   "metadata": {},
   "source": [
    "## When we have performed segmentation in the Napari plugin, we can calculate its accuracy"
   ]
  },
  {
   "cell_type": "code",
   "execution_count": null,
   "metadata": {},
   "outputs": [],
   "source": [
    "segmentation = v.layers['segmentation'].data\n",
    "acc = np.round(100*np.sum(segmentation == ground_truth) / np.sum(ground_truth > 0), 2)\n",
    "print(f\"Accuracy (pixels correctly segmented): {acc}%\")"
   ]
  }
 ],
 "metadata": {
  "kernelspec": {
   "display_name": "ilastik",
   "language": "python",
   "name": "python3"
  },
  "language_info": {
   "codemirror_mode": {
    "name": "ipython",
    "version": 3
   },
   "file_extension": ".py",
   "mimetype": "text/x-python",
   "name": "python",
   "nbconvert_exporter": "python",
   "pygments_lexer": "ipython3",
   "version": "3.9.18"
  }
 },
 "nbformat": 4,
 "nbformat_minor": 2
}
