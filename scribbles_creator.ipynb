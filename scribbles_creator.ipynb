{
 "cells": [
  {
   "cell_type": "code",
   "execution_count": 2,
   "metadata": {},
   "outputs": [
    {
     "name": "stdout",
     "output_type": "stream",
     "text": [
      "The autoreload extension is already loaded. To reload it, use:\n",
      "  %reload_ext autoreload\n"
     ]
    }
   ],
   "source": [
    "%load_ext autoreload\n",
    "%autoreload 2\n",
    "\n",
    "from scribbles_creator import *\n",
    "import glob\n",
    "import SimpleITK as sitk\n",
    "import napari\n",
    "import numpy as np"
   ]
  },
  {
   "cell_type": "code",
   "execution_count": 4,
   "metadata": {},
   "outputs": [
    {
     "data": {
      "text/plain": [
       "<Labels layer 'output' at 0x23f8187b820>"
      ]
     },
     "execution_count": 4,
     "metadata": {},
     "output_type": "execute_result"
    }
   ],
   "source": [
    "# Read the ground truth as an image\n",
    "# gt_image = sitk.ReadImage(\"./imgs/astro_ground_truth.tif\")\n",
    "gt_image = sitk.ReadImage(\"./imgs/train/001_masks.png\")\n",
    "# Summarize all non-background classes into one class (we are testing semantic segmentation not instance segmentation)\n",
    "gt_image[gt_image>0] = 2\n",
    "# Set the background class to 1 (since the scribble annotation assumes class 0 to represent non-annotated pixels)\n",
    "gt_image[gt_image==0] = 1\n",
    "# Transform the ground truth to a numpy array\n",
    "ground_truth = sitk.GetArrayFromImage(gt_image)\n",
    "# ground_truth = np.expand_dims(ground_truth, axis=0)\n",
    "\n",
    "# Generate the scribble annotation for the ground truth\n",
    "scribbles = create_scribble(ground_truth, num_lines=10, keep_sec_sk=False)\n",
    "\n",
    "# Save the scribble annotation as an image\n",
    "itk_scr = sitk.GetImageFromArray(scribbles)\n",
    "# sitk.WriteImage(itk_scr, i.replace('ground_truth', 'scribble_generated'))\n",
    "# sitk.WriteImage(itk_scr, i.replace('_lab.nii.gz', '_scribble.nii.gz'))\n",
    "\n",
    "# Show the ground truth and the scribble annotation in a napari viewer\n",
    "v = napari.Viewer()\n",
    "v.add_labels(ground_truth)\n",
    "v.add_labels(scribbles)\n"
   ]
  },
  {
   "cell_type": "code",
   "execution_count": 6,
   "metadata": {},
   "outputs": [],
   "source": [
    "segmentation = v.layers['segmentation'].data"
   ]
  },
  {
   "cell_type": "code",
   "execution_count": 10,
   "metadata": {},
   "outputs": [
    {
     "name": "stdout",
     "output_type": "stream",
     "text": [
      "Accuracy: 94.75% of the pixels are correctly segmented\n"
     ]
    }
   ],
   "source": [
    "acc = np.round(100*np.sum(segmentation == ground_truth) / np.sum(ground_truth > 0), 2)\n",
    "print(f\"Accuracy: {acc}% of the pixels are correctly segmented\")"
   ]
  },
  {
   "cell_type": "code",
   "execution_count": 90,
   "metadata": {},
   "outputs": [],
   "source": [
    "v = napari.Viewer()\n"
   ]
  }
 ],
 "metadata": {
  "kernelspec": {
   "display_name": "ilastik",
   "language": "python",
   "name": "python3"
  },
  "language_info": {
   "codemirror_mode": {
    "name": "ipython",
    "version": 3
   },
   "file_extension": ".py",
   "mimetype": "text/x-python",
   "name": "python",
   "nbconvert_exporter": "python",
   "pygments_lexer": "ipython3",
   "version": "3.9.18"
  }
 },
 "nbformat": 4,
 "nbformat_minor": 2
}
