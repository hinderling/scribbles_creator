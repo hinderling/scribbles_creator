{
 "cells": [
  {
   "cell_type": "code",
   "execution_count": 2,
   "metadata": {},
   "outputs": [],
   "source": [
    "%load_ext autoreload\n",
    "%autoreload 2\n",
    "\n",
    "from scribbles_creator import *\n",
    "import glob\n",
    "import SimpleITK as sitk\n",
    "from PIL import Image\n",
    "import napari\n",
    "import numpy as np"
   ]
  },
  {
   "cell_type": "code",
   "execution_count": 37,
   "metadata": {},
   "outputs": [],
   "source": [
    "# Read the ground truth as an image\n",
    "img_num = 1\n",
    "image_path = f\"./imgs/train/{str(img_num).zfill(3)}\"\n",
    "ground_truth = np.array(Image.open(image_path + \"_masks.png\"))\n",
    "# Summarize all non-background classes into one class (we are testing semantic segmentation not instance segmentation)\n",
    "ground_truth[ground_truth>0] = 2\n",
    "# Set the background class to 1 (since the scribble annotation assumes class 0 to represent non-annotated pixels)\n",
    "ground_truth[ground_truth==0] = 1\n",
    "\n",
    "# Generate the scribble annotation for the ground truth\n",
    "scribbles = create_scribble(ground_truth, scribble_width=1, num_squares=5, sq_size=20, min_sq_pix=10, num_lines=5, min_line_pix=10, mode=\"all\")\n",
    "\n",
    "# Save the scribbles and ground truth image to a file (first, convert the numpy arrays to images)\n",
    "# scribbles_image = Image.fromarray(scribbles)\n",
    "# ground_truth_image = Image.fromarray(ground_truth)\n",
    "# scribbles_image.save(image_path + '_scribbles.png')\n",
    "# ground_truth_image.save(image_path + '_ground_truth.png')\n",
    "\n",
    "# Show the image, ground truth and the scribble annotation in a napari viewer\n",
    "# v = napari.Viewer()\n",
    "# v.add_labels(ground_truth)\n",
    "# v.add_labels(scribbles)\n",
    "# image = np.array(Image.open(image_path + \"_img.png\"))\n",
    "# v.add_image(image)"
   ]
  },
  {
   "cell_type": "code",
   "execution_count": 35,
   "metadata": {},
   "outputs": [
    {
     "name": "stdout",
     "output_type": "stream",
     "text": [
      "Percentage of labelled pixels: 0.22%\n"
     ]
    }
   ],
   "source": [
    "labels = v.layers['scribbles'].data\n",
    "labelled = np.sum(labels > 0) / (labels.shape[0] * labels.shape[1]) * 100\n",
    "print(f\"Percentage of labelled pixels: {labelled:.2f}%\")"
   ]
  },
  {
   "cell_type": "code",
   "execution_count": 36,
   "metadata": {},
   "outputs": [
    {
     "name": "stdout",
     "output_type": "stream",
     "text": [
      "Accuracy (pixels correctly segmented): 94.47%\n"
     ]
    }
   ],
   "source": [
    "segmentation = v.layers['segmentation'].data\n",
    "acc = np.round(100*np.sum(segmentation == ground_truth) / np.sum(ground_truth > 0), 2)\n",
    "print(f\"Accuracy (pixels correctly segmented): {acc}%\")"
   ]
  },
  {
   "cell_type": "code",
   "execution_count": 38,
   "metadata": {},
   "outputs": [
    {
     "name": "stderr",
     "output_type": "stream",
     "text": [
      "c:\\Users\\roman\\anaconda3\\envs\\ilastik\\lib\\site-packages\\imageio\\plugins\\pillow.py:320: UserWarning: Loading 16-bit (uint16) PNG as int32 due to limitations in pillow's PNG decoder. This will be fixed in a future version of pillow which will make this warning dissapear.\n",
      "  warnings.warn(\n"
     ]
    }
   ],
   "source": [
    "v = napari.Viewer()"
   ]
  }
 ],
 "metadata": {
  "kernelspec": {
   "display_name": "ilastik",
   "language": "python",
   "name": "python3"
  },
  "language_info": {
   "codemirror_mode": {
    "name": "ipython",
    "version": 3
   },
   "file_extension": ".py",
   "mimetype": "text/x-python",
   "name": "python",
   "nbconvert_exporter": "python",
   "pygments_lexer": "ipython3",
   "version": "3.9.18"
  }
 },
 "nbformat": 4,
 "nbformat_minor": 2
}
