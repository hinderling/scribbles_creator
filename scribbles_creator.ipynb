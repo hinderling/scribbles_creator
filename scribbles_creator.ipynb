{
 "cells": [
  {
   "cell_type": "code",
   "execution_count": 123,
   "metadata": {},
   "outputs": [
    {
     "name": "stdout",
     "output_type": "stream",
     "text": [
      "The autoreload extension is already loaded. To reload it, use:\n",
      "  %reload_ext autoreload\n"
     ]
    }
   ],
   "source": [
    "%load_ext autoreload\n",
    "%autoreload 2\n",
    "\n",
    "from scribbles_creator import *\n",
    "from PIL import Image\n",
    "import napari\n",
    "import numpy as np\n",
    "import os"
   ]
  },
  {
   "cell_type": "markdown",
   "metadata": {},
   "source": [
    "## Create scribble annotation from an image mask of the cell pose dataset"
   ]
  },
  {
   "cell_type": "code",
   "execution_count": 125,
   "metadata": {},
   "outputs": [],
   "source": [
    "def create_cellpose_scribble(folder_path, img_num, min_perc=0.2, sq_scaling=400, save_res=False, show_res=False):\n",
    "\n",
    "    # Read the ground truth as an image\n",
    "    image_path = f\"{folder_path}/{str(img_num).zfill(3)}\"\n",
    "    ground_truth = np.array(Image.open(image_path + \"_masks.png\"))\n",
    "    # Summarize all non-background classes into one class (we are testing semantic segmentation not instance segmentation)\n",
    "    ground_truth[ground_truth>0] = 2\n",
    "    # Set the background class to 1 (since the scribble annotation assumes class 0 to represent non-annotated pixels)\n",
    "    ground_truth[ground_truth==0] = 1\n",
    "\n",
    "    # Define parameters for the scribble annotation\n",
    "    min_perc_per_mode = min_perc / 3\n",
    "    scribble_width = 1\n",
    "    sq_size = (ground_truth.shape[0] * ground_truth.shape[1] // sq_scaling) ** 0.5\n",
    "    sq_size = int(sq_size)\n",
    "    annot_pix_range = (sq_size//2, sq_size*2)\n",
    "    mode = \"all\"\n",
    "\n",
    "    # Generate the scribble annotation for the ground truth\n",
    "    scribbles = create_scribble(ground_truth, scribble_width=scribble_width, sk_min_perc=min_perc_per_mode, sq_size=sq_size, sq_pix_range=annot_pix_range, lines_min_perc=min_perc_per_mode, line_pix_range=annot_pix_range, mode=mode)\n",
    "    perc_labelled = np.sum(scribbles>0) / (scribbles.shape[0] * scribbles.shape[1]) * 100\n",
    "\n",
    "    if save_res:\n",
    "        # Save the scribble annotation as an image\n",
    "        scribble_img = Image.fromarray(scribbles)\n",
    "        scribble_img.save(image_path + f\"_scribbles_{min_perc}.png\")\n",
    "        # If the ground truth file does not exist, save it as well\n",
    "        gt_file = image_path + \"_ground_truth.png\"\n",
    "        if not os.path.exists(gt_file):\n",
    "            gt_img = Image.fromarray(ground_truth)\n",
    "            gt_img.save(gt_file)\n",
    "\n",
    "    if show_res:\n",
    "        # Show the ground truth and the scribble annotation\n",
    "        v = napari.Viewer()\n",
    "        image_path = f\"{folder_path}/{str(im_num).zfill(3)}\"\n",
    "        image = np.array(Image.open(image_path + \"_img.png\"))\n",
    "        ground_truth = np.array(Image.open(image_path + \"_masks.png\"))\n",
    "        v.add_image(image)\n",
    "        v.add_labels(ground_truth)\n",
    "        v.add_labels(scribbles)\n",
    "\n",
    "    return scribbles, perc_labelled"
   ]
  },
  {
   "cell_type": "code",
   "execution_count": 126,
   "metadata": {},
   "outputs": [
    {
     "name": "stdout",
     "output_type": "stream",
     "text": [
      "Percentage of labelled pixels: 0.23%\n"
     ]
    }
   ],
   "source": [
    "folder_path = \"./imgs/train\"\n",
    "for im_num in range(1, 2):\n",
    "    # im_num = 332\n",
    "    scribbles, perc_labelled = create_cellpose_scribble(folder_path, im_num, min_perc=0.2, show_res=False, save_res=True)\n",
    "    print(f\"Percentage of labelled pixels: {perc_labelled:.2f}%\")"
   ]
  },
  {
   "cell_type": "markdown",
   "metadata": {},
   "source": [
    "## Save or show the scribbles and ground truth"
   ]
  },
  {
   "cell_type": "code",
   "execution_count": 129,
   "metadata": {},
   "outputs": [
    {
     "data": {
      "text/plain": [
       "<Labels layer 'scribbles' at 0x21f8c2455e0>"
      ]
     },
     "execution_count": 129,
     "metadata": {},
     "output_type": "execute_result"
    }
   ],
   "source": [
    "# Show the image, ground truth and the scribble annotation in a napari viewer\n",
    "v = napari.Viewer()\n",
    "image_path = f\"{folder_path}/{str(im_num).zfill(3)}\"\n",
    "image = np.array(Image.open(image_path + \"_img.png\"))\n",
    "ground_truth = np.array(Image.open(image_path + \"_ground_truth.png\"))\n",
    "scribbles = np.array(Image.open(image_path + \"_scribbles_0.2.png\"))\n",
    "v.add_image(image)\n",
    "v.add_labels(ground_truth)\n",
    "v.add_labels(scribbles)"
   ]
  },
  {
   "cell_type": "code",
   "execution_count": null,
   "metadata": {},
   "outputs": [],
   "source": [
    "# Save the scribbles and ground truth image to a file (first, convert the numpy arrays to images)\n",
    "scribbles_image = Image.fromarray(scribbles)\n",
    "ground_truth_image = Image.fromarray(ground_truth)\n",
    "scribbles_image.save(image_path + '_scribbles.png')\n",
    "ground_truth_image.save(image_path + '_ground_truth.png')"
   ]
  },
  {
   "cell_type": "markdown",
   "metadata": {},
   "source": [
    "## When we have performed segmentation in Napari, we can calculate its accuracy"
   ]
  },
  {
   "cell_type": "code",
   "execution_count": null,
   "metadata": {},
   "outputs": [],
   "source": [
    "segmentation = v.layers['segmentation'].data\n",
    "acc = np.round(100*np.sum(segmentation == ground_truth) / np.sum(ground_truth > 0), 2)\n",
    "print(f\"Accuracy (pixels correctly segmented): {acc}%\")"
   ]
  }
 ],
 "metadata": {
  "kernelspec": {
   "display_name": "ilastik",
   "language": "python",
   "name": "python3"
  },
  "language_info": {
   "codemirror_mode": {
    "name": "ipython",
    "version": 3
   },
   "file_extension": ".py",
   "mimetype": "text/x-python",
   "name": "python",
   "nbconvert_exporter": "python",
   "pygments_lexer": "ipython3",
   "version": "3.9.18"
  }
 },
 "nbformat": 4,
 "nbformat_minor": 2
}
