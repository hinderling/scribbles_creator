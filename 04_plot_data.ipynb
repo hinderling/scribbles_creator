{
 "cells": [
  {
   "cell_type": "code",
   "execution_count": null,
   "metadata": {},
   "outputs": [],
   "source": [
    "%load_ext autoreload\n",
    "%autoreload 2\n",
    "\n",
    "import numpy as np\n",
    "import pandas as pd\n",
    "import napari\n",
    "from PIL import Image\n",
    "from matplotlib import pyplot as plt\n",
    "import seaborn as sns"
   ]
  },
  {
   "cell_type": "markdown",
   "metadata": {},
   "source": [
    "# Read in and process data"
   ]
  },
  {
   "cell_type": "markdown",
   "metadata": {},
   "source": [
    "Load already processed dataframes from the csv files"
   ]
  },
  {
   "cell_type": "code",
   "execution_count": null,
   "metadata": {},
   "outputs": [],
   "source": [
    "food_df = pd.read_csv('FoodSeg103_240527174909.csv')\n",
    "cellpose_df = pd.read_csv('cellpose_240527175104.csv')"
   ]
  },
  {
   "cell_type": "code",
   "execution_count": null,
   "metadata": {},
   "outputs": [],
   "source": [
    "# cellpose_file = \"cellpose_results/cellpose_run04_240427113411.csv\"\n",
    "cellpose_file = \"cellpose_results/cellpose_run04_240501153104.csv\"\n",
    "# food_file = \"FoodSeg103_results/food_run04_240428133857.csv\"\n",
    "food_file = \"FoodSeg103_results/food_run04_240501155333.csv\"\n",
    "cellpose_df = pd.read_csv(f'{cellpose_file[:-4]}_processed.csv')\n",
    "food_df = pd.read_csv(f'{food_file[:-4]}_processed.csv')\n",
    "\n",
    "for df in [cellpose_df, food_df]:\n",
    "    # Show shape, the first rows and the mean values for each scribbles bin\n",
    "    print(df.shape)\n",
    "    # display(df[:15])\n",
    "    display(df.groupby('scribbles bin').agg({'perc. labelled': 'mean', 'pix_labelled': 'mean', 'accuracy': 'mean'}))"
   ]
  },
  {
   "cell_type": "markdown",
   "metadata": {},
   "source": [
    "Load raw dataframes and process them"
   ]
  },
  {
   "cell_type": "code",
   "execution_count": null,
   "metadata": {},
   "outputs": [],
   "source": [
    "# # Load the dataframes from the csv files\n",
    "# # cellpose_file = \"cellpose_results/cellpose_run04_240427113411.csv\"\n",
    "# cellpose_file = \"cellpose_results/cellpose_run04_240501153104.csv\"\n",
    "# # food_file = \"FoodSeg103_results/food_run04_240428133857.csv\"\n",
    "# food_file = \"FoodSeg103_results/food_run04_240501155333.csv\"\n",
    "# cellpose_df = pd.read_csv(cellpose_file)\n",
    "# food_df = pd.read_csv(food_file)\n",
    "\n",
    "# For each metric, add a column for the improvement over the ilastik prediction\n",
    "for df in [cellpose_df, food_df]:\n",
    "    for metric in ['accuracy', 'mIoU', 'mPrecision', 'mRecall', 'mF1']:\n",
    "        for scr in df['scribbles'].unique():\n",
    "            perf_il = df.loc[(df['scribbles'] == scr) & (df['prediction tag'] == \"ilastik\"), metric].values[0]\n",
    "            df.loc[(df['scribbles'] == scr), f'{metric}_impr_to_ilastik'] = df.loc[(df['scribbles'] == scr), metric] - perf_il\n",
    "\n",
    "# # Show the dataframes\n",
    "# for df in [cellpose_df, food_df]:\n",
    "    \n",
    "#     # Show shape, the first rows and the mean values for each scribbles bin\n",
    "#     print(df.shape)\n",
    "#     # display(df[:15])\n",
    "#     display(df.groupby('scribbles bin').agg({'perc. labelled': 'mean', 'pix_labelled': 'mean', 'accuracy': 'mean'}))"
   ]
  },
  {
   "cell_type": "markdown",
   "metadata": {},
   "source": [
    "Save processed dataframes to csv files"
   ]
  },
  {
   "cell_type": "code",
   "execution_count": null,
   "metadata": {},
   "outputs": [],
   "source": [
    "# cellpose_df.to_csv(f'{cellpose_file[:-4]}_processed.csv', index=False)\n",
    "# food_df.to_csv(f'{food_file[:-4]}_processed.csv', index=False)"
   ]
  },
  {
   "cell_type": "markdown",
   "metadata": {},
   "source": [
    "# Choose performance METRIC and DATASET"
   ]
  },
  {
   "cell_type": "code",
   "execution_count": null,
   "metadata": {},
   "outputs": [],
   "source": [
    "metric = \"accuracy\"\n",
    "# metric = \"mPrecision\"\n",
    "# metric = \"mRecall\"\n",
    "# metric = \"mIoU\"\n",
    "# metric = \"mF1\""
   ]
  },
  {
   "cell_type": "code",
   "execution_count": null,
   "metadata": {},
   "outputs": [],
   "source": [
    "use_for_all = \"cellpose\"\n",
    "# use_for_all = \"food\""
   ]
  },
  {
   "cell_type": "markdown",
   "metadata": {},
   "source": [
    "# Inspect the dataset"
   ]
  },
  {
   "cell_type": "markdown",
   "metadata": {},
   "source": [
    "### Check for extreme cases by sorting"
   ]
  },
  {
   "cell_type": "markdown",
   "metadata": {},
   "source": [
    "Examples: best cases for certain model, or worst performance compared to Ilastik"
   ]
  },
  {
   "cell_type": "code",
   "execution_count": null,
   "metadata": {},
   "outputs": [],
   "source": [
    "# Define which dataframe to use\n",
    "# df = cellpose_df.copy()\n",
    "# df = food_df.copy()\n",
    "df = {\"cellpose\": cellpose_df.copy(), \"food\": food_df.copy()}[use_for_all]\n",
    "\n",
    "# Optionally filter the dataframe\n",
    "df_filtered = df[df['prediction tag'] == 'convpaint_l-0_s-1-2']\n",
    "# df_filtered = df_filtered[df_filtered['layers'] == 0]\n",
    "# df_filtered = df_filtered[df_filtered['scalings'] == 1]\n",
    "# df_filtered = df_filtered[(df['scribbles bin'] == 1)]\n",
    "\n",
    "# List the 10 cases where convpaint performs the worst compared to ilastik\n",
    "df_filtered.sort_values(by=f'{metric}_impr_to_ilastik', ascending=True)[0:10]"
   ]
  },
  {
   "cell_type": "markdown",
   "metadata": {},
   "source": [
    "### Check distribution of performance among the dataset"
   ]
  },
  {
   "cell_type": "code",
   "execution_count": null,
   "metadata": {},
   "outputs": [],
   "source": [
    "# Define which dataframe to use\n",
    "# df = cellpose_df.copy()\n",
    "# df = food_df.copy()\n",
    "df = {\"cellpose\": cellpose_df.copy(), \"food\": food_df.copy()}[use_for_all]\n",
    "\n",
    "# Optionally filter the dataframe\n",
    "df_filtered = df[df['prediction tag'] == 'convpaint_l-0_s-1-2']\n",
    "# df_filtered = df_filtered[(df['scribbles bin'] == 1)]\n",
    "\n",
    "# Plot\n",
    "plt.scatter(df_filtered['img_num'], df_filtered[metric], alpha=0.3, s=10)\n",
    "plt.xlabel('Image number')\n",
    "plt.ylabel(metric)\n",
    "plt.show()"
   ]
  },
  {
   "cell_type": "markdown",
   "metadata": {},
   "source": [
    "# Check distribution of the _improvements over Ilastik_ among the dataset"
   ]
  },
  {
   "cell_type": "code",
   "execution_count": null,
   "metadata": {},
   "outputs": [],
   "source": [
    "# Define which dataframe to use\n",
    "# df = cellpose_df.copy()\n",
    "# df = food_df.copy()\n",
    "df = {\"cellpose\": cellpose_df.copy(), \"food\": food_df.copy()}[use_for_all]\n",
    "\n",
    "# Optionally filter the dataframe\n",
    "df_filtered = df[df['prediction tag'] == 'convpaint_l-0_s-1-2']\n",
    "# df_filtered = df_filtered[(df['scribbles bin'] == 1)]\n",
    "\n",
    "# Plot\n",
    "plt.scatter(x = df_filtered['img_num'], y = df_filtered[f'{metric}_impr_to_ilastik'], alpha=0.3, s=10)\n",
    "plt.xlabel('Image number')\n",
    "plt.ylabel(f'{metric} improvement over ilastik')\n",
    "plt.hlines(0, np.min(df_filtered['img_num']), np.max(df_filtered['img_num']), colors='grey', linestyles='dashed')\n",
    "plt.show()"
   ]
  },
  {
   "cell_type": "markdown",
   "metadata": {},
   "source": [
    "### Correlation between pixels labelled and improvement"
   ]
  },
  {
   "cell_type": "markdown",
   "metadata": {},
   "source": [
    "Cellpose: Pixels labelled in one or the other class (not working for FoodSeg103 with multiple classes)"
   ]
  },
  {
   "cell_type": "code",
   "execution_count": null,
   "metadata": {},
   "outputs": [],
   "source": [
    "# Define which dataframe to use\n",
    "df = cellpose_df.copy()\n",
    "\n",
    "# Optionally filter the dataframe\n",
    "df_filtered = df[df['prediction tag'] == 'convpaint_l-0_s-1-2']\n",
    "# df_filtered = df_filtered[(df['scribbles bin'] == 1)]\n",
    "\n",
    "# Plot\n",
    "plt.figure(figsize=(10, 5), dpi=100)\n",
    "plt.scatter(df_filtered[\"class_1_pix_labelled\"], df_filtered[f'{metric}_impr_to_ilastik'], alpha=0.3, s=7, c=\"red\", label=\"background\")\n",
    "plt.scatter(df_filtered[\"class_2_pix_labelled\"], df_filtered[f'{metric}_impr_to_ilastik'], alpha=0.3, s=7, c = \"blue\", label=\"foreground\")\n",
    "plt.xlabel(\"Number of labelled pixels\")\n",
    "plt.xscale(\"log\")\n",
    "plt.hlines(0, 0, np.max([np.max(df_filtered[\"class_1_pix_labelled\"]), np.max(df_filtered[\"class_1_pix_labelled\"])]), colors='grey', linestyles='dashed')\n",
    "plt.ylabel(f'{metric} improvement convpaint (default) vs ilastik')\n",
    "plt.legend()\n",
    "plt.show()"
   ]
  },
  {
   "cell_type": "markdown",
   "metadata": {},
   "source": [
    "Minimum/maximum pixels labelled among classes"
   ]
  },
  {
   "cell_type": "code",
   "execution_count": null,
   "metadata": {},
   "outputs": [],
   "source": [
    "# Define which dataframe to use\n",
    "# df = cellpose_df.copy()\n",
    "# df = food_df.copy()\n",
    "df = {\"cellpose\": cellpose_df.copy(), \"food\": food_df.copy()}[use_for_all]\n",
    "\n",
    "# Optionally filter the dataframe\n",
    "df_filtered = df[df['prediction tag'] == 'convpaint_l-0_s-1-2']\n",
    "# df_filtered = df_filtered[(df['scribbles bin'] == 1)]\n",
    "\n",
    "# Plot\n",
    "fig, (ax1, ax2) = plt.subplots(1, 2, figsize=(18, 5), dpi=100)\n",
    "ax1.scatter(x = df_filtered['min_class_pix_labelled'], y = df_filtered[f'{metric}_impr_to_ilastik'], alpha=0.3, s=10)\n",
    "ax1.set_xlabel(\"Number of labelled pixels (minimum among classes)\")\n",
    "# ax1.set_xscale(\"log\")\n",
    "ax1.hlines(0, np.min(df_filtered['min_class_pix_labelled']), np.max(df_filtered['min_class_pix_labelled']), colors='grey', linestyles='dashed')\n",
    "ax1.set_ylabel(f'{metric} improvement convpaint (default) vs ilastik')\n",
    "ax2.scatter(x = df_filtered['max_class_pix_labelled'], y = df_filtered[f'{metric}_impr_to_ilastik'], alpha=0.3, s=10)\n",
    "ax2.set_xlabel(\"Number of labelled pixels (maximum among classes)\")\n",
    "# ax2.set_xscale(\"log\")\n",
    "ax2.hlines(0, np.min(df_filtered['max_class_pix_labelled']), np.max(df_filtered['max_class_pix_labelled']), colors='grey', linestyles='dashed')\n",
    "ax2.set_ylabel(f'{metric} improvement convpaint (default) vs ilastik')\n",
    "plt.show()"
   ]
  },
  {
   "cell_type": "markdown",
   "metadata": {},
   "source": [
    "### Correlation between the resolution (# pixels) and the improvement"
   ]
  },
  {
   "cell_type": "code",
   "execution_count": null,
   "metadata": {},
   "outputs": [],
   "source": [
    "# Define which dataframe to use\n",
    "# df = cellpose_df.copy()\n",
    "# df = food_df.copy()\n",
    "df = {\"cellpose\": cellpose_df.copy(), \"food\": food_df.copy()}[use_for_all]\n",
    "\n",
    "# Optionally filter the dataframe\n",
    "df_filtered = df[df['prediction tag'] == 'convpaint_l-0_s-1-2']\n",
    "# df_filtered = df_filtered[(df['scribbles bin'] == 1)]\n",
    "\n",
    "# Plot\n",
    "plt.figure(figsize=(10, 5), dpi=100)\n",
    "plt.scatter(df_filtered[\"pix_in_img\"], df_filtered[f'{metric}_impr_to_ilastik'], alpha=0.3, s=10)\n",
    "plt.xlabel(\"Number of pixels in the image\")\n",
    "plt.ylabel(f'{metric} improvement convpaint (default) vs ilastik')\n",
    "plt.hlines(0, np.min(df_filtered[\"pix_in_img\"]), np.max(df_filtered[\"pix_in_img\"]), colors='grey', linestyles='dashed')\n",
    "plt.xscale(\"log\")\n",
    "plt.show()"
   ]
  },
  {
   "cell_type": "markdown",
   "metadata": {},
   "source": [
    "# Compare bins"
   ]
  },
  {
   "cell_type": "markdown",
   "metadata": {},
   "source": [
    "### Improvement over Ilastik"
   ]
  },
  {
   "cell_type": "code",
   "execution_count": null,
   "metadata": {},
   "outputs": [],
   "source": [
    "# Define which dataframe to use\n",
    "# df = cellpose_df.copy()\n",
    "# df = food_df.copy()\n",
    "df = {\"cellpose\": cellpose_df.copy(), \"food\": food_df.copy()}[use_for_all]\n",
    "\n",
    "# Optionally filter the dataframe\n",
    "df_filtered = df[df['prediction tag'] == 'convpaint_l-0_s-1-2']\n",
    "# df_filtered = df_filtered[(df_filtered['scribbles bin'] > 0.01) & (df_filtered['scribbles bin'] < 10)]\n",
    "# bins_to_use = [0.1, 1, 10]\n",
    "# df = df[df['scribbles bin'].isin(bins_to_use)]\n",
    "\n",
    "# Plot\n",
    "plt.scatter(df_filtered['perc. labelled'], df_filtered[f'{metric}_impr_to_ilastik'], alpha=0.2, s=10)\n",
    "df_grouped = df_filtered.groupby('scribbles bin').agg({f'{metric}_impr_to_ilastik': ['mean', 'std'], 'perc. labelled': 'mean'}).reset_index()\n",
    "plt.errorbar(df_grouped['perc. labelled']['mean'], df_grouped[f'{metric}_impr_to_ilastik']['mean'], yerr=df_grouped[f'{metric}_impr_to_ilastik']['std'], fmt='s', c='black', alpha=0.8)\n",
    "plt.xscale('log')\n",
    "plt.xlabel('Percent labelled')\n",
    "plt.ylabel(f'{metric} improvement convpaint (default) vs ilastik')\n",
    "plt.hlines(0, np.min(df_filtered['perc. labelled']), np.max(df_filtered['perc. labelled']), colors='grey', linestyles='dashed')\n",
    "plt.title('Improvement. vs percent labelled')\n",
    "plt.show()"
   ]
  },
  {
   "cell_type": "markdown",
   "metadata": {},
   "source": [
    "### Performance of different models on separate dotplots side-by-side"
   ]
  },
  {
   "cell_type": "code",
   "execution_count": null,
   "metadata": {},
   "outputs": [],
   "source": [
    "def plot_perf_vs_perc_labelled(df, pred_to_show=\"convpaint\", plt_ax=None, **kwargs):\n",
    "    if plt_ax is None:\n",
    "        plt_ax = plt.subplots(1, 1)[1]\n",
    "    \n",
    "    if pred_to_show:\n",
    "        df_exact = df[df['prediction tag'] == pred_to_show]\n",
    "        if len(df_exact) == 0:\n",
    "            df_filtered = df[df['prediction tag'].str.contains(pred_to_show)]\n",
    "        else:\n",
    "            df_filtered = df_exact\n",
    "\n",
    "    # Scatterplot\n",
    "    plt_ax.scatter(df_filtered['perc. labelled'], df_filtered[metric], alpha=0.2, s=10, **kwargs)\n",
    "\n",
    "    # Grouped plot\n",
    "    df_grouped = df_filtered.groupby('scribbles bin').agg({metric: ['mean', 'std'], 'perc. labelled': 'mean'}).reset_index()\n",
    "    plt_ax.errorbar(df_grouped['perc. labelled']['mean'], df_grouped[metric]['mean'], yerr=df_grouped[metric]['std'], fmt='s', c='black', alpha=0.8)\n",
    "    plt_ax.set_xscale('log')\n",
    "    plt_ax.set_ylim(0, 1)\n",
    "    # plt_ax.set_xticks([0.05, 0.1, 1])\n",
    "    plt_ax.set_xlabel('Percent labelled')\n",
    "    plt_ax.set_ylabel(metric)\n",
    "    plt_ax.set_title(f'{metric} vs percent labelled {pred_to_show}')"
   ]
  },
  {
   "cell_type": "code",
   "execution_count": null,
   "metadata": {},
   "outputs": [],
   "source": [
    "# Define which dataframe to use\n",
    "# df = cellpose_df.copy()\n",
    "# df = food_df.copy()\n",
    "df = {\"cellpose\": cellpose_df.copy(), \"food\": food_df.copy()}[use_for_all]\n",
    "\n",
    "# Optionally filter the dataframe\n",
    "df_filtered = df[df['prediction tag'] == 'convpaint_l-0_s-1-2']\n",
    "# df_filtered = df_filtered[(df_filtered['scribbles bin'] > 0.01) & (df_filtered['scribbles bin'] < 10)]\n",
    "# bins_to_use = [0.1, 1, 10]\n",
    "# df = df[df['scribbles bin'].isin(bins_to_use)]\n",
    "\n",
    "# Define the predictions to show\n",
    "pred_tag_1 = 'ilastik'\n",
    "pred_tag_2 = 'convpaint_l-0_s-1-2'\n",
    "pred_tag_3 = 'dino'\n",
    "\n",
    "# Plot\n",
    "fig, ax = plt.subplots(1, 3)\n",
    "fig.set_size_inches(18, 6)\n",
    "fig.set_dpi(100)\n",
    "plot_perf_vs_perc_labelled(df, pred_tag_1, plt_ax=ax[0], c='red')\n",
    "plot_perf_vs_perc_labelled(df, pred_tag_2, plt_ax=ax[1])\n",
    "plot_perf_vs_perc_labelled(df, pred_tag_3, plt_ax=ax[2], c='green')\n",
    "# plt.savefig(f'results/{metric}_vs_perc_labelled.pdf', dpi=300)\n",
    "plt.show()"
   ]
  },
  {
   "cell_type": "markdown",
   "metadata": {},
   "source": [
    "### Performance of different models on same dotplot"
   ]
  },
  {
   "cell_type": "code",
   "execution_count": null,
   "metadata": {},
   "outputs": [],
   "source": [
    "# Define which dataframe to use\n",
    "# df = cellpose_df.copy()\n",
    "# df = food_df.copy()\n",
    "df = {\"cellpose\": cellpose_df.copy(), \"food\": food_df.copy()}[use_for_all]\n",
    "\n",
    "# Optionally filter the dataframe\n",
    "df_filtered = df[df['prediction tag'] == 'convpaint_l-0_s-1-2']\n",
    "# df_filtered = df_filtered[(df_filtered['scribbles bin'] > 0.01) & (df_filtered['scribbles bin'] < 10)]\n",
    "# bins_to_use = [0.1, 1, 10]\n",
    "# df = df[df['scribbles bin'].isin(bins_to_use)]\n",
    "\n",
    "# # Define the predictions to show and created filtered dataframes\n",
    "pred_tag_1 = 'convpaint_l-0_s-1-2'\n",
    "pred_tag_2 = 'ilastik'\n",
    "pred_tag_3 = 'dino'\n",
    "df_filtered_1 = df[df['prediction tag'] == pred_tag_1]\n",
    "df_filtered_2 = df[df['prediction tag'] == pred_tag_2]\n",
    "df_filtered_3 = df[df['prediction tag'] == pred_tag_3]\n",
    "\n",
    "# Plot performance vs percent labelled\n",
    "plt.figure(figsize=(8,6),dpi=100)\n",
    "\n",
    "# ADD FIRST PLOT\n",
    "# Scatterplot\n",
    "plt.scatter(df_filtered_1['perc. labelled'], df_filtered_1[metric], alpha=0.1, s=5, c='blue')\n",
    "# Grouped plot\n",
    "df_grouped = df_filtered_1.groupby('scribbles bin').agg({metric: ['mean', 'std', 'median'], 'perc. labelled': 'mean'}).reset_index()\n",
    "plt.errorbar(df_grouped['perc. labelled']['mean'], df_grouped[metric]['mean'], yerr=df_grouped[metric]['std'], fmt='s', c='darkblue', alpha=0.9, label=pred_tag_1)\n",
    "# plt.errorbar(df_grouped['perc. labelled']['mean'], df_grouped[metric]['median'], yerr=0, fmt='s', c='blue', alpha=0.9)\n",
    "\n",
    "# ADD SECOND PLOT\n",
    "# Scatterplot\n",
    "plt.scatter(df_filtered_2['perc. labelled'], df_filtered_2[metric], alpha=0.1, s=5, c='red')\n",
    "# Grouped plot\n",
    "df_grouped = df_filtered_2.groupby('scribbles bin').agg({metric: ['mean', 'std', 'median'], 'perc. labelled': 'mean'}).reset_index()\n",
    "plt.errorbar(df_grouped['perc. labelled']['mean'], df_grouped[metric]['mean'], yerr=df_grouped[metric]['std'], fmt='s', c='darkred', alpha=0.9, label=pred_tag_2)\n",
    "# plt.errorbar(df_grouped['perc. labelled']['mean'], df_grouped[metric]['median'], yerr=0, fmt='s', c='red', alpha=0.9)\n",
    "\n",
    "# ADD THIRD PLOT\n",
    "# Scatterplot\n",
    "plt.scatter(df_filtered_3['perc. labelled'], df_filtered_3[metric], alpha=0.1, s=5, c='green')\n",
    "# Grouped plot\n",
    "df_grouped = df_filtered_3.groupby('scribbles bin').agg({metric: ['mean', 'std', 'median'], 'perc. labelled': 'mean'}).reset_index()\n",
    "plt.errorbar(df_grouped['perc. labelled']['mean'], df_grouped[metric]['mean'], yerr=df_grouped[metric]['std'], fmt='s', c='darkgreen', alpha=0.9, label=pred_tag_3)\n",
    "# plt.errorbar(df_grouped['perc. labelled']['mean'], df_grouped[metric]['median'], yerr=0, fmt='s', c='red', alpha=0.9)\n",
    "\n",
    "# ADJUST PARAMETERS\n",
    "plt.xscale('log')\n",
    "plt.xlabel('Percent labelled')\n",
    "plt.ylabel(metric)\n",
    "plt.title(f'{metric} vs percent labelled')\n",
    "plt.legend()\n",
    "plt.show()"
   ]
  },
  {
   "cell_type": "markdown",
   "metadata": {},
   "source": [
    "### VIOLINPLOT (performance vs. percent labelled)"
   ]
  },
  {
   "cell_type": "code",
   "execution_count": null,
   "metadata": {},
   "outputs": [],
   "source": [
    "# Define which dataframe to use\n",
    "# df = cellpose_df.copy()\n",
    "# df = food_df.copy()\n",
    "df = {\"cellpose\": cellpose_df.copy(), \"food\": food_df.copy()}[use_for_all]\n",
    "\n",
    "# Optionally filter the dataframe\n",
    "# df = df[(df['scribbles bin'] > 0.01) & (df['scribbles bin'] < 10)]\n",
    "# bins_to_use = [0.1, 1, 10]\n",
    "# df = df[df['scribbles bin'].isin(bins_to_use)]\n",
    "\n",
    "# Filter for the predicitons to use\n",
    "pred_tag_1 = 'convpaint_l-0_s-1-2'\n",
    "pred_tag_2 = 'ilastik'\n",
    "df_filtered_1 = df[df['prediction tag'] == pred_tag_1]\n",
    "df_filtered_2 = df[df['prediction tag'] == pred_tag_2]\n",
    "df_both = pd.concat([df_filtered_1, df_filtered_2])\n",
    "\n",
    "# Plot performance vs percent labelled (violin plot)\n",
    "plt.figure(figsize=(4, 4), dpi=100)\n",
    "\n",
    "# Create the violin plot\n",
    "ax = sns.violinplot(x='scribbles bin', y=metric, data=df_both, hue='prediction tag', split=True, alpha=0.6, inner=\"quart\", bw_adjust=0.65)\n",
    "\n",
    "# Create line plot\n",
    "# Group the bins\n",
    "df_filtered_1_grouped = df_filtered_1.groupby('scribbles bin').agg({metric: 'median'}).reset_index()\n",
    "df_filtered_2_grouped = df_filtered_2.groupby('scribbles bin').agg({metric: 'median'}).reset_index()\n",
    "# Plot the means of each bin and connect them with a line\n",
    "x_positions = ax.get_xticks()\n",
    "# plt.plot(x_positions, df_filtered_1_grouped[metric], color='lightblue', alpha=0.8)\n",
    "# plt.plot(x_positions, df_filtered_2_grouped[metric], color='orange', alpha=0.7)\n",
    "# original colours: lightblue, orange\n",
    "\n",
    "# Set some parameters\n",
    "x_labels = [f\"{int(x) if int(x)==x else x}%\" for x in df_filtered_1_grouped['scribbles bin']]\n",
    "\n",
    "plt.ylim(0, 1.025)\n",
    "ax.spines['top'].set_visible(False)\n",
    "ax.spines['right'].set_visible(False)\n",
    "plt.xticks(x_positions, x_labels)\n",
    "plt.legend(loc='lower right')\n",
    "plt.xlabel('percent labelled')\n",
    "plt.ylabel(metric)\n",
    "plt.title(f'{metric} vs percent labelled')\n",
    "\n",
    "# Show or save the plot\n",
    "# plt.savefig(\"cellpose_results/cellpose_run04_convpaint-vs-ilastik_acc-vs-lab.pdf\", format='pdf', dpi=300)\n",
    "plt.savefig(\"FoodSeg103_results/food_run04_convpaint-vs-ilastik_acc-vs-lab.pdf\", format='pdf', dpi=300)\n",
    "plt.show()\n"
   ]
  },
  {
   "cell_type": "markdown",
   "metadata": {},
   "source": [
    "# Compare VGG16 layer/scaling combos"
   ]
  },
  {
   "cell_type": "code",
   "execution_count": null,
   "metadata": {},
   "outputs": [],
   "source": [
    "# Define which dataframe to use\n",
    "# df = cellpose_df.copy()\n",
    "# df = food_df.copy()\n",
    "df = {\"cellpose\": cellpose_df.copy(), \"food\": food_df.copy()}[use_for_all]\n",
    "\n",
    "# Optionally filter before comparing prediciton types (not for models, but e.g. for scribbles bins)\n",
    "# df = df[(df['scribbles bin'] > 0.01) & (df['scribbles bin'] < 10)]\n",
    "bins_to_use = [0.1, 1, 10]\n",
    "df = df[df['scribbles bin'].isin(bins_to_use)]\n",
    "\n",
    "# Split df for different bins\n",
    "annot_bins = df['scribbles bin'].unique()\n",
    "annot_bins = [int(bin) if int(bin) == bin else bin for bin in annot_bins]\n",
    "bin_df_list = [df[df['scribbles bin'] == bin] for bin in annot_bins]\n",
    "\n",
    "# For each model, create a list with dfs for each bin\n",
    "bin_df_list_conv = [single_bin_df[single_bin_df['prediction tag'].str.contains('convpaint')] for single_bin_df in bin_df_list]\n",
    "bin_df_list_ilastik = [single_bin_df[single_bin_df['prediction tag'].str.contains('ilastik')] for single_bin_df in bin_df_list]\n",
    "bin_df_list_dino = [single_bin_df[single_bin_df['prediction tag'].str.contains('dino')] for single_bin_df in bin_df_list]"
   ]
  },
  {
   "cell_type": "code",
   "execution_count": null,
   "metadata": {},
   "outputs": [],
   "source": [
    "# Check if the lists are composed as intended\n",
    "# bin_df_list_conv[-1][bin_df_list_conv[-1]['img_num'] == 0]\n",
    "# bin_df_list_ilastik[0][bin_df_list_ilastik[0]['img_num'] < 2]\n",
    "# bin_df_list_dino[0][bin_df_list_dino[0]['img_num'] < 2]"
   ]
  },
  {
   "cell_type": "code",
   "execution_count": null,
   "metadata": {},
   "outputs": [],
   "source": [
    "num_df = len(bin_df_list_conv)\n",
    "fig, ax = plt.subplots(num_df, 2)\n",
    "\n",
    "fig.set_size_inches(8, 4 * num_df)\n",
    "fig.set_dpi(100)\n",
    "\n",
    "for i, df in enumerate(bin_df_list_conv):\n",
    "    row = ax[i]\n",
    "    sns.lineplot(x='layers', y=metric, data=df, hue='scalings', palette='viridis', errorbar='sd', marker='o',ax=row[0])\n",
    "    sns.lineplot(x='scalings', y=metric, data=df, hue='layers', palette='viridis', errorbar='sd', marker='o',ax=row[1])\n",
    "    # Hide y axis label of right plot\n",
    "    row[0].set_title(f\"{annot_bins[i]}% annotation\", x=1.1, y=1.1, fontsize=14)\n",
    "    row[1].set_ylabel('')\n",
    "    # if i != num_df-1:\n",
    "    #     row[0].set_xlabel('')\n",
    "    #     row[1].set_xlabel('')\n",
    "fig.tight_layout()\n",
    "plt.show()"
   ]
  },
  {
   "cell_type": "markdown",
   "metadata": {},
   "source": [
    "### Correlation between image resolution and effect of VGG16 scalings"
   ]
  },
  {
   "cell_type": "code",
   "execution_count": null,
   "metadata": {},
   "outputs": [],
   "source": [
    "scalings_to_comp = ['1-2-4-8', '1']\n",
    "grouped_dfs = []\n",
    "for df_conv_bin in bin_df_list_conv:\n",
    "    # df_conv_bin = df_conv_bin[df_conv_bin['layers']=='0']\n",
    "    # Group by 'img_num' and 'scalings' to compute average performance metric\n",
    "    grouped_df = df_conv_bin.groupby(['img_num', 'scalings'])[metric].mean().unstack()\n",
    "    grouped_df['img_num'] = grouped_df.index\n",
    "    grouped_df['pix_in_img'] = df_conv_bin.groupby('img_num')['pix_in_img'].first().values\n",
    "    grouped_df[f'{metric}_diff'] = grouped_df[scalings_to_comp[0]] - grouped_df[scalings_to_comp[1]]\n",
    "    grouped_dfs.append(grouped_df)\n",
    "# Display the result\n",
    "grouped_dfs[0][:4]"
   ]
  },
  {
   "cell_type": "code",
   "execution_count": null,
   "metadata": {},
   "outputs": [],
   "source": [
    "num_cols = int(np.ceil(num_df/2)) if num_df > 3 else num_df\n",
    "num_rows = 2 if num_df > 3 else 1\n",
    "fig, ax = plt.subplots(num_rows, num_cols)\n",
    "ax = ax.flatten()\n",
    "fig.set_size_inches(6*num_cols, 5*num_rows)\n",
    "fig.set_dpi(100)\n",
    "for i, grouped_df in enumerate(grouped_dfs):\n",
    "    curr_ax = ax[i]\n",
    "    sns.scatterplot(x='pix_in_img', y=f'{metric}_diff', data=grouped_df, s=20, alpha=0.5, ax=curr_ax)\n",
    "    # curr_ax.set_xscale('log')\n",
    "    # curr_ax.set_yscale('log')\n",
    "    curr_ax.axhline(0, color='grey', linestyle='--')\n",
    "    curr_ax.set_xticks([])    \n",
    "    curr_ax.set_xlabel('Total pixels in image')\n",
    "    curr_ax.set_ylabel(f'{metric} diff. (scalings: {scalings_to_comp[0]} - {scalings_to_comp[1]})')\n",
    "    curr_ax.set_title(f'{annot_bins[i]}% annotation')\n",
    "plt.show()"
   ]
  },
  {
   "cell_type": "markdown",
   "metadata": {},
   "source": [
    "# HEATMAPS for model comparison"
   ]
  },
  {
   "cell_type": "markdown",
   "metadata": {},
   "source": [
    "### Different ConvPaint models (layers/scaling combinations)"
   ]
  },
  {
   "cell_type": "code",
   "execution_count": null,
   "metadata": {},
   "outputs": [],
   "source": [
    "# Define which dataframe to use\n",
    "# df = cellpose_df.copy()\n",
    "# df = food_df.copy()\n",
    "df = {\"cellpose\": cellpose_df.copy(), \"food\": food_df.copy()}[use_for_all]\n",
    "\n",
    "# Take only convpaint predictions\n",
    "df[df['prediction tag'].str.contains('convpaint')]\n",
    "\n",
    "# Optionally filter before comparing prediciton types (e.g. for scribbles bins)\n",
    "# df = df[(df['scribbles bin'] > 0.01) & (df['scribbles bin'] < 10)]\n",
    "bins_to_use = [0.1, 1, 10]\n",
    "df = df[df['scribbles bin'].isin(bins_to_use)]\n",
    "\n",
    "# Split df for different bins\n",
    "annot_bins = df['scribbles bin'].unique()\n",
    "annot_bins = [int(bin) if int(bin) == bin else bin for bin in annot_bins]\n",
    "bin_df_list = [df[df['scribbles bin'] == bin] for bin in annot_bins]\n",
    "bin_df_list_conv = bin_df_list"
   ]
  },
  {
   "cell_type": "code",
   "execution_count": null,
   "metadata": {},
   "outputs": [],
   "source": [
    "num_bins = len(annot_bins)\n",
    "min_val = min([bin_df.pivot_table(index='layers', columns='scalings', values=metric).min().min() for bin_df in bin_df_list_conv])\n",
    "max_val = max([bin_df.pivot_table(index='layers', columns='scalings', values=metric).max().max() for bin_df in bin_df_list_conv])\n",
    "axis_matrix = [[str(bin), 'cbar'] for bin in annot_bins]\n",
    "fig, ax = plt.subplot_mosaic(axis_matrix, gridspec_kw={'width_ratios': [15, 1]})\n",
    "ax_list = [ax[str(bin)] for bin in annot_bins]\n",
    "\n",
    "unit, dpi = 18, 100\n",
    "ratio = unit / dpi\n",
    "title_height = 4 * ratio\n",
    "plot_height = title_height + (1 + 12 * num_bins) * ratio # title + bottom + plot per bin\n",
    "plot_width = 18 * (30) / 100\n",
    "fig.set_size_inches(plot_width, plot_height)\n",
    "fig.set_dpi(100)\n",
    "fig.suptitle(f'Mean {metric}', fontsize=18, y =  1 - 1/2*(title_height / plot_height))\n",
    "fig.subplots_adjust(top = 1 - (title_height / plot_height))\n",
    "# fig.tight_layout(rect=[0, 0, 1, 0.99])\n",
    "\n",
    "for i, df in enumerate(bin_df_list_conv):\n",
    "    row = ax_list[i]\n",
    "    # Create a pivot table for heatmap\n",
    "    heatmap_df_mean = df.pivot_table(index='layers', columns='scalings', values=metric)\n",
    "    sns.heatmap(heatmap_df_mean, annot=True, cmap=\"RdBu\", fmt=\".3f\", cbar=i==0, cbar_ax=ax['cbar'], ax=row, vmin=min_val, vmax=max_val)\n",
    "    row.text(1.02, 0.5, f'{annot_bins[i]}% annotation', transform=row.transAxes, rotation=270, va='center')\n",
    "    row.set_xlabel('Scalings' if i == num_bins - 1 else '')\n",
    "    row.set_ylabel('Layers')\n",
    "\n",
    "    # row.set_aspect('auto')\n",
    "\n",
    "# plt.savefig(f'FoodSeg103_results/avg_{metric}_convpaint.pdf', dpi=300)\n",
    "plt.show()"
   ]
  },
  {
   "cell_type": "markdown",
   "metadata": {},
   "source": [
    "### Convpaint models vs. Ilastik and DINOv2"
   ]
  },
  {
   "cell_type": "code",
   "execution_count": null,
   "metadata": {},
   "outputs": [],
   "source": [
    "# Define which dataframe to use\n",
    "# df = cellpose_df.copy()\n",
    "# df = food_df.copy()\n",
    "df = {\"cellpose\": cellpose_df.copy(), \"food\": food_df.copy()}[use_for_all]\n",
    "\n",
    "# Optionally filter the dataframe\n",
    "# df = df[(df['scribbles bin'] > 0.01) & (df['scribbles bin'] < 10)]\n",
    "# bins_to_use = [0.1, 1, 10]\n",
    "# df = df[df['scribbles bin'].isin(bins_to_use)]\n",
    "\n",
    "# Split df for different bins\n",
    "annot_bins = df['scribbles bin'].unique()\n",
    "annot_bins = [int(bin) if int(bin) == bin else bin for bin in annot_bins]\n",
    "bin_df_list = [df[df['scribbles bin'] == bin] for bin in annot_bins]\n",
    "\n",
    "# For each model, create a list with dfs for each bin\n",
    "bin_df_list_conv = [single_bin_df[single_bin_df['prediction tag'].str.contains('convpaint')] for single_bin_df in bin_df_list]\n",
    "bin_df_list_ilastik = [single_bin_df[single_bin_df['prediction tag'].str.contains('ilastik')] for single_bin_df in bin_df_list]\n",
    "bin_df_list_dino = [single_bin_df[single_bin_df['prediction tag'].str.contains('dino')] for single_bin_df in bin_df_list]"
   ]
  },
  {
   "cell_type": "code",
   "execution_count": null,
   "metadata": {},
   "outputs": [],
   "source": [
    "num_bins = len(annot_bins)\n",
    "min_val = min([bin_df.pivot_table(index='layers', columns='scalings', values=metric).min().min() for bin_df in bin_df_list_conv])\n",
    "max_val = max([bin_df.pivot_table(index='layers', columns='scalings', values=metric).max().max() for bin_df in bin_df_list_conv])\n",
    "\n",
    "axis_matrix = np.array([['pad left', \n",
    "                          str(bin)+'ilastik', \n",
    "                          'pad', \n",
    "                          str(bin)+'convpaint', \n",
    "                          str(bin)+'dino', \n",
    "                          'cbar'] for bin in annot_bins])\n",
    "fig, ax = plt.subplot_mosaic(axis_matrix, gridspec_kw={'width_ratios': [1, 3.5, 1, 15, 3.5, 1.2]})\n",
    "for pad in ['pad left', 'pad']: ax[pad].axis('off')\n",
    "\n",
    "unit, dpi = 18, 100\n",
    "ratio = unit / dpi\n",
    "title_height = 4 * ratio\n",
    "plot_height = title_height + (1 + 8 * num_bins) * ratio # title + bottom + plot per bin\n",
    "plot_width = unit * (40) / 100\n",
    "fig.set_size_inches(plot_width, plot_height)\n",
    "fig.set_dpi(100)\n",
    "fig.suptitle(f'mean {metric}', fontsize=unit, y =  1 - 1/2*(title_height / plot_height))\n",
    "fig.subplots_adjust(top = 1 - (title_height / plot_height))\n",
    "# fig.tight_layout(rect=[0, 0, 1, 0.99])\n",
    "\n",
    "heatmap_cfg = {\"annot\":True, \"cmap\":\"PiYG\", \"fmt\":\".3f\", \"cbar_ax\":ax['cbar'], \"vmin\":min_val, \"vmax\":max_val}\n",
    "# original cmap = 'YlGnBu'; good alternatives: twilight_shifted, RdBu, PuBuGn, PuBu, BuGn, PiYG\n",
    "\n",
    "# CONVPAINT\n",
    "ax_list_conv = [ax[ax_idx] for ax_idx in axis_matrix[:,3]]#[ax['upper left'], ax['mid left'], ax['lower left']]\n",
    "for i, df in enumerate(bin_df_list_conv):\n",
    "    row = ax_list_conv[i]\n",
    "    # Create a pivot table for heatmap\n",
    "    heatmap_df_mean = df.pivot_table(index='layers', columns='scalings', values=metric)\n",
    "    sns.heatmap(heatmap_df_mean, cbar=i==0, ax=row, **heatmap_cfg)\n",
    "\n",
    "    row.set_xlabel('convpaint scalings' if i == num_bins - 1 else '')\n",
    "    if not i == num_bins - 1: row.set_xticks([])\n",
    "    row.set_ylabel('layers')\n",
    "\n",
    "# ILASTIK\n",
    "ax_list_ila = [ax[ax_idx] for ax_idx in axis_matrix[:,1]] #[ax['upper mid'], ax['mid mid'], ax['lower mid']]\n",
    "for i, df in enumerate(bin_df_list_ilastik):\n",
    "    row = ax_list_ila[i]\n",
    "    # Create a pivot table for heatmap, but only use the one value given for Ilastik\n",
    "    heatmap_df_mean = df[metric].mean().reshape((1,1))\n",
    "    sns.heatmap(heatmap_df_mean, cbar=False, ax=row, **heatmap_cfg)\n",
    "\n",
    "    if i == num_bins - 1:\n",
    "        row.set_xticklabels([\"classic filters\"])\n",
    "    else:\n",
    "        row.set_xticks([])\n",
    "    row.set_yticks([])\n",
    "    row.text(-0.37, 0.5, f'{annot_bins[i]}%', transform=row.transAxes, rotation=90, va='center')\n",
    "\n",
    "# DINOv2\n",
    "ax_list_dino = [ax[ax_idx] for ax_idx in axis_matrix[:,4]]\n",
    "for i, df in enumerate(bin_df_list_dino):\n",
    "    row = ax_list_dino[i]\n",
    "    # Create a pivot table for heatmap, but only use the one value given for Ilastik\n",
    "    heatmap_df_mean = df[metric].mean().reshape((1,1))\n",
    "    sns.heatmap(heatmap_df_mean, cbar=False, ax=row, **heatmap_cfg)\n",
    "\n",
    "    if i == num_bins - 1:\n",
    "        row.set_xticklabels([\"DINOv2\"])\n",
    "    else:\n",
    "        row.set_xticks([])\n",
    "    row.set_yticks([])\n",
    "\n",
    "# plt.savefig(f'cellpose_results/cellpose_run04_avg_{metric}_heatmap.pdf', dpi=300)\n",
    "plt.savefig(f'FoodSeg103_results/food_run04_avg_{metric}_heatmap.pdf', dpi=300)\n",
    "plt.show()"
   ]
  }
 ],
 "metadata": {
  "kernelspec": {
   "display_name": "ilastik",
   "language": "python",
   "name": "python3"
  },
  "language_info": {
   "codemirror_mode": {
    "name": "ipython",
    "version": 3
   },
   "file_extension": ".py",
   "mimetype": "text/x-python",
   "name": "python",
   "nbconvert_exporter": "python",
   "pygments_lexer": "ipython3",
   "version": "3.9.18"
  }
 },
 "nbformat": 4,
 "nbformat_minor": 2
}
