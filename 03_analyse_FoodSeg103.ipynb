{
 "cells": [
  {
   "cell_type": "code",
   "execution_count": null,
   "metadata": {},
   "outputs": [],
   "source": [
    "import numpy as np\n",
    "import pandas as pd\n",
    "from FoodSeg103_data_handler import *"
   ]
  },
  {
   "cell_type": "markdown",
   "metadata": {},
   "source": [
    "Load the images as batches"
   ]
  },
  {
   "cell_type": "code",
   "execution_count": null,
   "metadata": {},
   "outputs": [],
   "source": [
    "img_nums = [n for n in range(0, 4900, 500)] #2750 #1234 #2314\n",
    "imgs, gts = load_food_batch(img_nums)\n",
    "num_imgs = len(imgs)\n",
    "print(f\"Total images: {num_imgs}\")"
   ]
  },
  {
   "cell_type": "markdown",
   "metadata": {},
   "source": [
    "Check and filter for resolution"
   ]
  },
  {
   "cell_type": "code",
   "execution_count": null,
   "metadata": {},
   "outputs": [],
   "source": [
    "resol = {im_num: np.prod(im.shape[:2]) for im_num, im in imgs.items()}\n",
    "\n",
    "# Check for images with resolution over a certain threshold\n",
    "thresh = 200_000\n",
    "print(\"Resolutions:\")\n",
    "for im_num, r in resol.items(): print(f\"{im_num:4d}: {r:9,d} pixels{' (!)' if r > thresh else ''}\")"
   ]
  },
  {
   "cell_type": "code",
   "execution_count": null,
   "metadata": {},
   "outputs": [],
   "source": [
    "# Filter out those images\n",
    "imgs = {im_num: im for im_num, im in imgs.items() if resol[im_num] < thresh}\n",
    "num_imgs = len(imgs)\n",
    "print(f\"Images with resolution under {thresh:,d}: {num_imgs}\")\n",
    "resol_new = {im_num: np.prod(im.shape[:2]) for im_num, im in imgs.items()}\n",
    "for im_num, r in resol_new.items(): print(f\"{im_num:4d}: {r:7,d} pixels\")"
   ]
  },
  {
   "cell_type": "markdown",
   "metadata": {},
   "source": [
    "Define parameters"
   ]
  },
  {
   "cell_type": "code",
   "execution_count": null,
   "metadata": {},
   "outputs": [],
   "source": [
    "# Which scribbles to use\n",
    "bins = [0.05, 0.3, 1.5]\n",
    "suff = [\"w3\"] #standing for width 3\n",
    "\n",
    "# Which prediction models to use\n",
    "convpaint_layers = [[0]] #[[0], [0,2]]\n",
    "convpaint_scalings = [[1,2]] #[[1], [1,2], [1,2,4], [1,2,4,8]]\n",
    "use_dino = True\n",
    "use_ilastik = True\n",
    "\n",
    "# Where to find and save the data\n",
    "folder_path = \"./FoodSeg103_results/data/run02\""
   ]
  },
  {
   "cell_type": "markdown",
   "metadata": {},
   "source": [
    "Loop and analyse"
   ]
  },
  {
   "cell_type": "code",
   "execution_count": null,
   "metadata": {},
   "outputs": [],
   "source": [
    "df = pd.DataFrame(columns=['img_num', 'prediction type', 'scribbles mode', 'scribbles bin', 'suffix', 'max_class_pix_gt', 'min_class_pix_gt', 'pix_labelled', 'max_class_pix_labelled', 'min_class_pix_labelled', 'pix_in_img', 'perc. labelled', 'accuracy', 'scribbles', 'prediction'])\n",
    "\n",
    "for img_num, img in imgs.items():\n",
    "    ground_truth = gts[img_num]\n",
    "    for bin in bins:\n",
    "        for s in suff:\n",
    "            print(f\"IMG {img_num}: bin {bin}, suff {s}\")\n",
    "            for layers in convpaint_layers:\n",
    "                for scalings in convpaint_scalings:\n",
    "                    print(f\"ConvPaint: layers {layers}, scalings {scalings}\")\n",
    "                    pred_tag = generate_convpaint_tag(layers, scalings)\n",
    "                    res = analyse_food_single_file(ground_truth, folder_path, img_num, mode=\"all\", bin=bin, suff=s, pred_tag=pred_tag, show_res=False, image=None)\n",
    "                    df = pd.concat([df, res], ignore_index=True)\n",
    "            if use_ilastik:\n",
    "                print(\"Ilastik\")\n",
    "                res = analyse_food_single_file(ground_truth, folder_path, img_num, mode=\"all\", bin=bin, suff=s, pred_tag=\"ilastik\", show_res=False, image=None)\n",
    "                df = pd.concat([df, res], ignore_index=True)\n",
    "            if use_dino:\n",
    "                print(\"DINO\")\n",
    "                res = analyse_food_single_file(ground_truth, folder_path, img_num, mode=\"all\", bin=bin, suff=s, pred_tag=\"dino\", show_res=False, image=None)\n",
    "                df = pd.concat([df, res], ignore_index=True)\n",
    "            print(\"\\n\")"
   ]
  },
  {
   "cell_type": "code",
   "execution_count": null,
   "metadata": {},
   "outputs": [],
   "source": [
    "df.groupby(['prediction type'])[['accuracy']].mean()"
   ]
  },
  {
   "cell_type": "markdown",
   "metadata": {},
   "source": [
    "Save the data frame in a csv file:"
   ]
  },
  {
   "cell_type": "code",
   "execution_count": null,
   "metadata": {},
   "outputs": [],
   "source": [
    "from datetime import datetime\n",
    "time_stamp = datetime.now().strftime(\"%y%m%d%H%M%S\")\n",
    "file_name = f\"test_labels_vs_acc_{time_stamp}.csv\"\n",
    "df.to_csv(file_name, index=False)"
   ]
  }
 ],
 "metadata": {
  "kernelspec": {
   "display_name": "ilastik2",
   "language": "python",
   "name": "python3"
  },
  "language_info": {
   "codemirror_mode": {
    "name": "ipython",
    "version": 3
   },
   "file_extension": ".py",
   "mimetype": "text/x-python",
   "name": "python",
   "nbconvert_exporter": "python",
   "pygments_lexer": "ipython3",
   "version": "3.9.18"
  }
 },
 "nbformat": 4,
 "nbformat_minor": 2
}
