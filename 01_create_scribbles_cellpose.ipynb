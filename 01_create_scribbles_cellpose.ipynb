{
 "cells": [
  {
   "cell_type": "code",
   "execution_count": 9,
   "metadata": {},
   "outputs": [
    {
     "name": "stdout",
     "output_type": "stream",
     "text": [
      "The autoreload extension is already loaded. To reload it, use:\n",
      "  %reload_ext autoreload\n"
     ]
    }
   ],
   "source": [
    "%load_ext autoreload\n",
    "%autoreload 2\n",
    "\n",
    "from PIL import Image\n",
    "import napari\n",
    "import numpy as np\n",
    "import os\n",
    "\n",
    "from scribbles_creator import *\n",
    "from cellpose_data_handler import *"
   ]
  },
  {
   "cell_type": "code",
   "execution_count": 12,
   "metadata": {},
   "outputs": [
    {
     "name": "stdout",
     "output_type": "stream",
     "text": [
      "Using square size of 17 pixels.\n"
     ]
    }
   ],
   "source": [
    "gt = np.zeros((512, 512))\n",
    "create_even_scribbles(gt)"
   ]
  },
  {
   "cell_type": "markdown",
   "metadata": {},
   "source": [
    "## Define where the images are located"
   ]
  },
  {
   "cell_type": "code",
   "execution_count": 14,
   "metadata": {},
   "outputs": [],
   "source": [
    "folder_path = \"./cellpose_train_imgs/\""
   ]
  },
  {
   "cell_type": "markdown",
   "metadata": {},
   "source": [
    "## Create ground truth for pixel classification from image mask (instance segmentation)"
   ]
  },
  {
   "cell_type": "code",
   "execution_count": null,
   "metadata": {},
   "outputs": [],
   "source": [
    "# for img_num in range(0, 540):\n",
    "#     create_cellpose_gt(folder_path, img_num, save_res=True, show_res=False)"
   ]
  },
  {
   "cell_type": "markdown",
   "metadata": {},
   "source": [
    "## Create scribble annotation from an image mask of the cell pose dataset"
   ]
  },
  {
   "cell_type": "code",
   "execution_count": null,
   "metadata": {},
   "outputs": [],
   "source": [
    "# mode = \"all\"\n",
    "# bins = [0.01, 0.025, 0.05, 0.1, 0.25, 0.5, 1]\n",
    "# all_suff = [\"a\", \"b\", \"c\", \"d\", \"e\", \"f\", \"g\", \"h\", \"i\", \"j\"]\n",
    "# suff = all_suff[:5]\n",
    "\n",
    "# percentages = {}\n",
    "# for bin in bins:\n",
    "#     percentages[bin] = []\n",
    "#     for img_num in range(0, 10):\n",
    "#         for s in suff:\n",
    "#             print(f\"IMG {img_num}: {bin}, {s}\")\n",
    "#             scribbles, perc_labelled = create_cellpose_scribble(folder_path, img_num, bin=bin, mode=mode, save_res=True, suff=s, show_res=False, print_steps=False)\n",
    "#             percentages[bin].append(perc_labelled)\n",
    "#             print(\"\\n\")"
   ]
  },
  {
   "cell_type": "markdown",
   "metadata": {},
   "source": [
    "Same cell but for tests..."
   ]
  },
  {
   "cell_type": "code",
   "execution_count": 17,
   "metadata": {},
   "outputs": [
    {
     "name": "stdout",
     "output_type": "stream",
     "text": [
      "IMG 0: 1.55, a\n",
      "annotation: 9.67%\n",
      "\n",
      "\n",
      "IMG 20: 1.55, a\n",
      "annotation: 9.62%\n",
      "\n",
      "\n",
      "IMG 40: 1.55, a\n",
      "annotation: 9.45%\n",
      "\n",
      "\n",
      "IMG 60: 1.55, a\n",
      "annotation: 10.23%\n",
      "\n",
      "\n",
      "IMG 80: 1.55, a\n",
      "annotation: 9.99%\n",
      "\n",
      "\n",
      "IMG 100: 1.55, a\n",
      "annotation: 9.98%\n",
      "\n",
      "\n",
      "IMG 120: 1.55, a\n",
      "annotation: 9.91%\n",
      "\n",
      "\n",
      "IMG 140: 1.55, a\n",
      "annotation: 9.84%\n",
      "\n",
      "\n",
      "IMG 160: 1.55, a\n",
      "annotation: 9.91%\n",
      "\n",
      "\n",
      "IMG 180: 1.55, a\n",
      "annotation: 10.11%\n",
      "\n",
      "\n",
      "IMG 200: 1.55, a\n",
      "annotation: 9.41%\n",
      "\n",
      "\n",
      "IMG 220: 1.55, a\n",
      "annotation: 9.84%\n",
      "\n",
      "\n",
      "IMG 240: 1.55, a\n",
      "annotation: 9.89%\n",
      "\n",
      "\n",
      "IMG 260: 1.55, a\n",
      "annotation: 10.07%\n",
      "\n",
      "\n",
      "IMG 280: 1.55, a\n",
      "annotation: 10.89%\n",
      "\n",
      "\n",
      "IMG 300: 1.55, a\n",
      "annotation: 10.39%\n",
      "\n",
      "\n",
      "IMG 320: 1.55, a\n",
      "annotation: 9.96%\n",
      "\n",
      "\n",
      "IMG 340: 1.55, a\n",
      "annotation: 10.57%\n",
      "\n",
      "\n",
      "IMG 360: 1.55, a\n",
      "annotation: 9.22%\n",
      "\n",
      "\n",
      "IMG 380: 1.55, a\n",
      "annotation: 10.09%\n",
      "\n",
      "\n",
      "IMG 400: 1.55, a\n",
      "annotation: 10.34%\n",
      "\n",
      "\n",
      "IMG 420: 1.55, a\n",
      "annotation: 10.08%\n",
      "\n",
      "\n",
      "IMG 440: 1.55, a\n",
      "annotation: 10.29%\n",
      "\n",
      "\n",
      "IMG 460: 1.55, a\n",
      "annotation: 10.11%\n",
      "\n",
      "\n",
      "IMG 480: 1.55, a\n",
      "annotation: 11.19%\n",
      "\n",
      "\n",
      "IMG 500: 1.55, a\n",
      "annotation: 11.14%\n",
      "\n",
      "\n",
      "IMG 520: 1.55, a\n",
      "annotation: 10.64%\n",
      "\n",
      "\n"
     ]
    }
   ],
   "source": [
    "mode = \"all\"\n",
    "bins = [1.55] #[0.01, 0.025, 0.05, 0.1, 0.25, 0.5, 1]\n",
    "margin = 0.75\n",
    "all_suff = [\"a\", \"b\", \"c\", \"d\", \"e\", \"f\", \"g\", \"h\", \"i\", \"j\"]\n",
    "suff = all_suff[:1]\n",
    "rel_scribble_len = False\n",
    "scribble_width = 5 #1\n",
    "scribbles_seed = 1\n",
    "\n",
    "percentages = {}\n",
    "for bin in bins:\n",
    "    percentages[bin] = []\n",
    "    for img_num in range(0, 540, 20): #[200, 50, 272, 351, 493]:#, 383, 419]:#range(0, 10):\n",
    "        for s in suff:\n",
    "            print(f\"IMG {img_num}: {bin}, {s}\")\n",
    "            np.random.seed(scribbles_seed)\n",
    "            scribbles, perc_labelled = create_cellpose_scribble(folder_path, img_num, bin=bin, margin=margin, mode=mode, save_res=False, suff=s, show_res=False, print_steps=False,\n",
    "                                                                rel_scribble_len=rel_scribble_len, scribble_width=scribble_width)\n",
    "            percentages[bin].append(perc_labelled)\n",
    "            print(f\"annotation: {perc_labelled:.2f}%\")\n",
    "            print(\"\\n\")"
   ]
  },
  {
   "cell_type": "markdown",
   "metadata": {},
   "source": [
    "Quick report of labelling percentages:"
   ]
  },
  {
   "cell_type": "code",
   "execution_count": 18,
   "metadata": {},
   "outputs": [
    {
     "name": "stdout",
     "output_type": "stream",
     "text": [
      "labelled percentage in bin 1.55: mean = 10.1047, std = 0.4705, range = 9.2250 - 11.1871\n"
     ]
    }
   ],
   "source": [
    "for bin, perc_list in percentages.items():\n",
    "    print(f\"labelled percentage in bin {bin}: mean = {np.mean(perc_list):.4f}, std = {np.std(perc_list):.4f}, range = {np.min(perc_list):.4f} - {np.max(perc_list):.4f}\")"
   ]
  },
  {
   "cell_type": "markdown",
   "metadata": {},
   "source": [
    "Show the last created scribbles"
   ]
  },
  {
   "cell_type": "code",
   "execution_count": 44,
   "metadata": {},
   "outputs": [
    {
     "data": {
      "text/plain": [
       "Viewer(camera=Camera(center=(0.0, 255.5, 255.5), zoom=0.5826171875, angles=(0.0, 0.0, 90.0), perspective=0.0, mouse_pan=True, mouse_zoom=True), cursor=Cursor(position=(1.0, 1.0), scaled=True, size=10, style=<CursorStyle.STANDARD: 'standard'>), dims=Dims(ndim=2, ndisplay=2, last_used=0, range=((0.0, 512.0, 1.0), (0.0, 512.0, 1.0)), current_step=(255, 255), order=(0, 1), axis_labels=('0', '1')), grid=GridCanvas(stride=1, shape=(-1, -1), enabled=False), layers=[<Labels layer 'scribbles' at 0x286471de3d0>], help='use <1> for activate the label eraser, use <2> for activate the paint brush, use <3> for activate the fill bucket, use <4> for pick mode', status='Ready', tooltip=Tooltip(visible=False, text=''), theme='dark', title='napari', mouse_over_canvas=False, mouse_move_callbacks=[], mouse_drag_callbacks=[], mouse_double_click_callbacks=[], mouse_wheel_callbacks=[<function dims_scroll at 0x000002865F038280>], _persisted_mouse_event={}, _mouse_drag_gen={}, _mouse_wheel_gen={}, keymap={})"
      ]
     },
     "execution_count": 44,
     "metadata": {},
     "output_type": "execute_result"
    }
   ],
   "source": [
    "napari.view_labels(scribbles)"
   ]
  },
  {
   "cell_type": "markdown",
   "metadata": {},
   "source": [
    "## Load and show scribbles and ground truth from saved files"
   ]
  },
  {
   "cell_type": "code",
   "execution_count": null,
   "metadata": {},
   "outputs": [],
   "source": [
    "# Show the image, ground truth and the scribble annotation in a napari viewer\n",
    "img_num = 0\n",
    "mode = \"all\"\n",
    "bin = 0.1\n",
    "suff = \"a\"\n",
    "img_data = get_cellpose_img_data(folder_path, img_num, load_img=True, load_gt=True, load_scribbles=True, mode=mode, bin=bin, suff=suff)\n",
    "v = napari.Viewer()\n",
    "v.add_image(img_data[\"img\"], name=\"image\")\n",
    "v.add_labels(img_data[\"gt\"], name=\"ground truth\")\n",
    "v.add_labels(img_data[\"scribbles\"], name=\"scribbles\")"
   ]
  },
  {
   "cell_type": "markdown",
   "metadata": {},
   "source": [
    "## When we have performed segmentation in the Napari plugin, we can calculate its accuracy"
   ]
  },
  {
   "cell_type": "code",
   "execution_count": null,
   "metadata": {},
   "outputs": [],
   "source": [
    "# segmentation = v.layers['segmentation'].data\n",
    "# acc = np.round(100*np.sum(segmentation == ground_truth) / np.sum(ground_truth > 0), 2)\n",
    "# print(f\"Accuracy (pixels correctly segmented): {acc}%\")"
   ]
  },
  {
   "cell_type": "markdown",
   "metadata": {},
   "source": [
    "# TESTS"
   ]
  },
  {
   "cell_type": "code",
   "execution_count": null,
   "metadata": {},
   "outputs": [],
   "source": [
    "from matplotlib import pyplot as plt\n",
    "\n",
    "for i in range(1000):\n",
    "    start = (225,25)\n",
    "    row = [True] * 300\n",
    "    mask = np.array([row] * 300)\n",
    "    mask[50:255, 150:255] = False\n",
    "    mask[50:100, 10:100] = False\n",
    "    mask[200:250, 50:100] = False\n",
    "    res = point_to_edge(start, mask)\n",
    "# print(res)\n",
    "# res_int = np.array(res, dtype=np.uint16)\n",
    "# print(np.argwhere(res == False).shape)\n",
    "# plt.imshow(res)\n",
    "\n",
    "plt.imshow(np.logical_or(res, np.logical_not(mask)))\n",
    "plt.colorbar()\n"
   ]
  },
  {
   "cell_type": "code",
   "execution_count": null,
   "metadata": {},
   "outputs": [],
   "source": [
    "from matplotlib import pyplot as plt\n",
    "\n",
    "row = [False] * 300\n",
    "mask = np.array([row] * 300)\n",
    "mask[50:73,140] = True\n",
    "mask[52,143:160] = True\n",
    "mask_changed = mask.copy()\n",
    "plt.imshow(mask)\n",
    "\n",
    "max_pix = 5\n",
    "coord = np.where(mask)\n",
    "# print(coord)\n",
    "\n",
    "mask_changed[coord[0][max_pix:], coord[1][max_pix:]] = False\n",
    "# for i in range(max_pix, len(coord[0])):\n",
    "#     print(i)\n",
    "#     print(coord[0][i], coord[1][i])\n",
    "#     mask_changed[coord[0][i], coord[1][i]] = False\n",
    "\n",
    "print(\"num pix:\", np.sum(mask_changed))\n",
    "plt.imshow(mask_changed)"
   ]
  }
 ],
 "metadata": {
  "kernelspec": {
   "display_name": "ilastik",
   "language": "python",
   "name": "python3"
  },
  "language_info": {
   "codemirror_mode": {
    "name": "ipython",
    "version": 3
   },
   "file_extension": ".py",
   "mimetype": "text/x-python",
   "name": "python",
   "nbconvert_exporter": "python",
   "pygments_lexer": "ipython3",
   "version": "3.9.18"
  }
 },
 "nbformat": 4,
 "nbformat_minor": 2
}
