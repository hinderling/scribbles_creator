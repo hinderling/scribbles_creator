{
 "cells": [
  {
   "cell_type": "code",
   "execution_count": 1,
   "metadata": {},
   "outputs": [
    {
     "name": "stderr",
     "output_type": "stream",
     "text": [
      "c:\\Users\\roman\\anaconda3\\envs\\ilastik2\\lib\\site-packages\\tqdm\\auto.py:21: TqdmWarning: IProgress not found. Please update jupyter and ipywidgets. See https://ipywidgets.readthedocs.io/en/stable/user_install.html\n",
      "  from .autonotebook import tqdm as notebook_tqdm\n"
     ]
    }
   ],
   "source": [
    "%load_ext autoreload\n",
    "%autoreload 2\n",
    "\n",
    "from PIL import Image\n",
    "import napari\n",
    "import numpy as np\n",
    "import os\n",
    "\n",
    "from scribbles_creator import *\n",
    "from cellpose_data_handler import *"
   ]
  },
  {
   "cell_type": "markdown",
   "metadata": {},
   "source": [
    "## Define where the images are located"
   ]
  },
  {
   "cell_type": "code",
   "execution_count": 2,
   "metadata": {},
   "outputs": [],
   "source": [
    "folder_path = \"./cellpose_train_imgs/\""
   ]
  },
  {
   "cell_type": "markdown",
   "metadata": {},
   "source": [
    "## Create ground truth for pixel classification from image mask (instance segmentation)"
   ]
  },
  {
   "cell_type": "code",
   "execution_count": null,
   "metadata": {},
   "outputs": [],
   "source": [
    "# for img_num in range(0, 540):\n",
    "#     create_cellpose_gt(folder_path, img_num, save_res=True, show_res=False)"
   ]
  },
  {
   "cell_type": "markdown",
   "metadata": {},
   "source": [
    "## Create scribble annotation from an image mask of the cell pose dataset"
   ]
  },
  {
   "cell_type": "markdown",
   "metadata": {},
   "source": [
    "Define scribbles parameters"
   ]
  },
  {
   "cell_type": "code",
   "execution_count": null,
   "metadata": {},
   "outputs": [],
   "source": [
    "# Which scribbles to create\n",
    "mode = \"all\"\n",
    "bins = [0.01, 0.025, 0.05, 0.1, 0.25, 0.5, 1]\n",
    "margin = 0.75\n",
    "scribble_width = 2 #1\n",
    "# all_suff = [\"a\", \"b\", \"c\", \"d\", \"e\", \"f\", \"g\", \"h\", \"i\", \"j\"]\n",
    "# suff = all_suff[:1]\n",
    "s = \"a\"\n",
    "rel_scribble_len = False\n",
    "scribbles_seed = 1"
   ]
  },
  {
   "cell_type": "markdown",
   "metadata": {},
   "source": [
    "Loop and create scribbles"
   ]
  },
  {
   "cell_type": "code",
   "execution_count": 13,
   "metadata": {},
   "outputs": [
    {
     "name": "stdout",
     "output_type": "stream",
     "text": [
      "IMG 1: 0.01, a\n",
      "   WARNING: The theoretical maximum number of pixels for the entire class 2 (2.25) is below a square of scribble width (4). Instead, 4 pixel(s) is/are picked.\n",
      "   WARNING: The theoretical maximum number of pixels for the lines (2.25) is below a square of scribble width (4). Instead, 4 pixel(s) is/are picked.\n",
      "WARNING: The total number of pixels for class 2 (7) exceeds the maximum (6.00). Removing pixels...\n",
      "New total number of pixels for the class: 6 (0.0089%)\n",
      "annotation: 0.009%\n",
      "\n",
      "\n",
      "IMG 1: 0.025, a\n",
      "annotation: 0.012%\n",
      "\n",
      "\n",
      "IMG 1: 0.05, a\n",
      "annotation: 0.040%\n",
      "\n",
      "\n",
      "IMG 1: 0.1, a\n",
      "annotation: 0.074%\n",
      "\n",
      "\n",
      "IMG 1: 0.25, a\n",
      "annotation: 0.213%\n",
      "\n",
      "\n",
      "IMG 1: 0.5, a\n",
      "annotation: 0.442%\n",
      "\n",
      "\n",
      "IMG 1: 1, a\n",
      "annotation: 0.942%\n",
      "\n",
      "\n"
     ]
    }
   ],
   "source": [
    "percentages = {}\n",
    "for bin in bins:\n",
    "    percentages[bin] = []\n",
    "    for img_num in [1]: #range(0, 540, 20): #[200, 50, 272, 351, 493]:#, 383, 419]:#range(0, 10):\n",
    "        print(f\"IMG {img_num}: {bin}, {s}\")\n",
    "        np.random.seed(scribbles_seed)\n",
    "        scribbles, perc_labelled = create_cellpose_scribble(folder_path, img_num, bin=bin, margin=margin, rel_scribble_len=rel_scribble_len, mode=mode,\n",
    "                                                            save_res=True, suff=s, show_res=False, print_steps=False,\n",
    "                                                            scribble_width=scribble_width)\n",
    "        percentages[bin].append(perc_labelled)\n",
    "        print(f\"annotation: {perc_labelled:2.3f}%\")\n",
    "        print(\"\\n\")"
   ]
  },
  {
   "cell_type": "markdown",
   "metadata": {},
   "source": [
    "Quick report of labelling percentages:"
   ]
  },
  {
   "cell_type": "code",
   "execution_count": 4,
   "metadata": {},
   "outputs": [
    {
     "name": "stdout",
     "output_type": "stream",
     "text": [
      "labelled percentage in bin 0.01: mean = 0.0080, std = 0.0010, range = 0.0055 - 0.0095\n",
      "labelled percentage in bin 0.025: mean = 0.0213, std = 0.0017, range = 0.0158 - 0.0240\n",
      "labelled percentage in bin 0.05: mean = 0.0442, std = 0.0018, range = 0.0406 - 0.0473\n",
      "labelled percentage in bin 0.1: mean = 0.0928, std = 0.0028, range = 0.0849 - 0.0979\n",
      "labelled percentage in bin 0.25: mean = 0.2385, std = 0.0034, range = 0.2307 - 0.2438\n",
      "labelled percentage in bin 0.5: mean = 0.4846, std = 0.0051, range = 0.4662 - 0.4931\n",
      "labelled percentage in bin 1: mean = 0.9806, std = 0.0052, range = 0.9640 - 0.9891\n"
     ]
    }
   ],
   "source": [
    "for bin, perc_list in percentages.items():\n",
    "    print(f\"labelled percentage in bin {bin}: mean = {np.mean(perc_list):.4f}, std = {np.std(perc_list):.4f}, range = {np.min(perc_list):.4f} - {np.max(perc_list):.4f}\")"
   ]
  },
  {
   "cell_type": "markdown",
   "metadata": {},
   "source": [
    "Check percentages of saved scribbles"
   ]
  },
  {
   "cell_type": "code",
   "execution_count": 7,
   "metadata": {},
   "outputs": [],
   "source": [
    "perc_dict = {}\n",
    "for bin in bins:\n",
    "    bin_perc_list = []\n",
    "    for img_num in range(0,540,20):\n",
    "        scrib = np.array(Image.open(f\"{folder_path}{img_num:03d}_scribbles_{mode}_{bin_for_file(bin)}_{s}.png\"))\n",
    "        perc_labelled = np.sum(scrib > 0) / scrib.size\n",
    "        bin_perc_list.append(perc_labelled)\n",
    "    perc_dict[bin] = bin_perc_list"
   ]
  },
  {
   "cell_type": "markdown",
   "metadata": {},
   "source": [
    "Show the last created scribbles"
   ]
  },
  {
   "cell_type": "code",
   "execution_count": null,
   "metadata": {},
   "outputs": [],
   "source": [
    "img_data = get_cellpose_img_data(folder_path, img_num, load_img=True, load_gt=True, load_scribbles=True, mode=mode, bin=bin, scribble_width=scribble_width, suff=s)\n",
    "img = img_data[\"img\"]\n",
    "ground_truth = img_data[\"gt\"]"
   ]
  },
  {
   "cell_type": "code",
   "execution_count": null,
   "metadata": {},
   "outputs": [],
   "source": [
    "v = napari.Viewer()\n",
    "v.add_image(img)\n",
    "v.add_labels(ground_truth)\n",
    "v.add_labels(scribbles)"
   ]
  },
  {
   "cell_type": "markdown",
   "metadata": {},
   "source": [
    "## Load and show scribbles and ground truth from saved files"
   ]
  },
  {
   "cell_type": "code",
   "execution_count": null,
   "metadata": {},
   "outputs": [],
   "source": [
    "# Show the image, ground truth and the scribble annotation in a napari viewer\n",
    "img_num = 0\n",
    "mode = \"all\"\n",
    "bin = 0.1\n",
    "suff = \"a\"\n",
    "img_data = get_cellpose_img_data(folder_path, img_num, load_img=True, load_gt=True, load_scribbles=True, mode=mode, bin=bin, suff=suff)\n",
    "v = napari.Viewer()\n",
    "v.add_image(img_data[\"img\"], name=\"image\")\n",
    "v.add_labels(img_data[\"gt\"], name=\"ground truth\")\n",
    "v.add_labels(img_data[\"scribbles\"], name=\"scribbles\")"
   ]
  },
  {
   "cell_type": "markdown",
   "metadata": {},
   "source": [
    "## When we have performed segmentation in the Napari plugin, we can calculate its accuracy"
   ]
  },
  {
   "cell_type": "code",
   "execution_count": null,
   "metadata": {},
   "outputs": [],
   "source": [
    "# segmentation = v.layers['segmentation'].data\n",
    "# acc = np.round(100*np.sum(segmentation == ground_truth) / np.sum(ground_truth > 0), 2)\n",
    "# print(f\"Accuracy (pixels correctly segmented): {acc}%\")"
   ]
  }
 ],
 "metadata": {
  "kernelspec": {
   "display_name": "ilastik",
   "language": "python",
   "name": "python3"
  },
  "language_info": {
   "codemirror_mode": {
    "name": "ipython",
    "version": 3
   },
   "file_extension": ".py",
   "mimetype": "text/x-python",
   "name": "python",
   "nbconvert_exporter": "python",
   "pygments_lexer": "ipython3",
   "version": "3.9.18"
  }
 },
 "nbformat": 4,
 "nbformat_minor": 2
}
