{
 "cells": [
  {
   "cell_type": "code",
   "execution_count": 1,
   "metadata": {},
   "outputs": [
    {
     "name": "stderr",
     "output_type": "stream",
     "text": [
      "c:\\Users\\roman\\anaconda3\\envs\\ilastik2\\lib\\site-packages\\tqdm\\auto.py:21: TqdmWarning: IProgress not found. Please update jupyter and ipywidgets. See https://ipywidgets.readthedocs.io/en/stable/user_install.html\n",
      "  from .autonotebook import tqdm as notebook_tqdm\n"
     ]
    }
   ],
   "source": [
    "%load_ext autoreload\n",
    "%autoreload 2\n",
    "\n",
    "from PIL import Image\n",
    "import napari\n",
    "import numpy as np\n",
    "import os\n",
    "\n",
    "from scribbles_creator import *\n",
    "from cellpose_data_handler import *"
   ]
  },
  {
   "cell_type": "markdown",
   "metadata": {},
   "source": [
    "## Define where the images are located"
   ]
  },
  {
   "cell_type": "code",
   "execution_count": 2,
   "metadata": {},
   "outputs": [],
   "source": [
    "folder_path = \"./cellpose_train_imgs/\""
   ]
  },
  {
   "cell_type": "markdown",
   "metadata": {},
   "source": [
    "## Create ground truth for pixel classification from image mask (instance segmentation)"
   ]
  },
  {
   "cell_type": "code",
   "execution_count": 3,
   "metadata": {},
   "outputs": [],
   "source": [
    "# for img_num in range(0, 540):\n",
    "#     create_cellpose_gt(folder_path, img_num, save_res=True, show_res=False)"
   ]
  },
  {
   "cell_type": "markdown",
   "metadata": {},
   "source": [
    "## Create scribble annotation from an image mask of the cell pose dataset"
   ]
  },
  {
   "cell_type": "markdown",
   "metadata": {},
   "source": [
    "Define scribbles parameters"
   ]
  },
  {
   "cell_type": "code",
   "execution_count": 11,
   "metadata": {},
   "outputs": [],
   "source": [
    "# Which scribbles to create\n",
    "mode = \"all\"\n",
    "class_dist = \"balanced\"\n",
    "enforce_max_perc = True\n",
    "# bin_width = [(0.01, 1), (0.025, 1), (0.05, 1), (0.1, 1),\n",
    "            #  (0.25, 2), (0.5, 2), (1, 2),\n",
    "            #  (2.5, 4), (5, 4), (10, 4)]\n",
    "bins = [0.01, 0.025, 0.05, 0.1, 0.25, 0.5, 1, 2.5, 5, 10]\n",
    "margin = 0.75\n",
    "scribble_width = 1\n",
    "# all_suff = [\"a\", \"b\", \"c\", \"d\", \"e\", \"f\", \"g\", \"h\", \"i\", \"j\"]\n",
    "# suff = all_suff[:1]\n",
    "s = \"a\"\n",
    "rel_scribble_len = False\n",
    "scribbles_seed = 1\n",
    "\n",
    "# What to do\n",
    "save_res = False\n",
    "show_res = True\n",
    "print_steps = True"
   ]
  },
  {
   "cell_type": "markdown",
   "metadata": {},
   "source": [
    "Loop and create scribbles"
   ]
  },
  {
   "cell_type": "code",
   "execution_count": 12,
   "metadata": {},
   "outputs": [
    {
     "name": "stdout",
     "output_type": "stream",
     "text": [
      "IMG 231: 0.01, a\n",
      "Active channels: R=True, G=True, B=False --> Removed 1 channel(s) --> shape: (2, 308, 512)\n",
      "\n",
      "max. perc.: 0.01, margin: 0.75, rel_scribble_len: 63.25, width: 1, mode: all, class_dist: balanced, enforce_max_perc: True, print_steps: True\n",
      "\n",
      "CLASS 1, max. pixel: 0.009% = 8 pixels\n",
      "   sk_max_pix: 2.00, sq_size: 6, sq_pix_range: (2, 12)\n",
      "         Adjusting square size and range to 3 (1, 12)\n",
      "         Sampling skeleton squares - sk_max_pix_left: 2\n",
      "         Adjusting square size and range to 2 (1, 12)\n",
      "         Sampling skeleton squares - sk_max_pix_left: 2\n",
      "      prim_sk_squares pix: 2 = 0.002%\n",
      "         Adjusting square size and range to 3 (1, 12)\n",
      "         Sampling skeleton squares - sk_max_pix_left: 2\n",
      "      sec_sk_squares pix: 2 = 0.002%\n",
      "   lines_max_pix: 2.00, line_pix_range: (2, 12)\n",
      "      lines pix: 2 = 0.002%\n",
      "CLASS 1 pixels: 6 = 0.006% \n",
      "\n",
      "CLASS 2, max. pixel: 0.012% = 6 pixels\n",
      "   sk_max_pix: 2.00, sq_size: 6, sq_pix_range: (2, 12)\n",
      "      prim_sk_squares pix: 2 = 0.003%\n",
      "         Adjusting square size and range to 3 (1, 12)\n",
      "         Sampling skeleton squares - sk_max_pix_left: 2\n",
      "      sec_sk_squares pix: 2 = 0.003%\n",
      "   lines_max_pix: 2.00, line_pix_range: (2, 12)\n",
      "      lines pix: 2 = 0.003%\n",
      "CLASS 2 pixels: 6 = 0.010% \n",
      "\n",
      "TOTAL annotation: 12 = 0.008% \n",
      "\n",
      "\n",
      "\n",
      "IMG 231: 0.025, a\n",
      "Active channels: R=True, G=True, B=False --> Removed 1 channel(s) --> shape: (2, 308, 512)\n",
      "\n",
      "max. perc.: 0.025, margin: 0.75, rel_scribble_len: 50.30, width: 1, mode: all, class_dist: balanced, enforce_max_perc: True, print_steps: True\n",
      "\n",
      "CLASS 1, max. pixel: 0.023% = 22 pixels\n",
      "   sk_max_pix: 7.00, sq_size: 7, sq_pix_range: (3, 14)\n",
      "      prim_sk_squares pix: 7 = 0.007%\n",
      "      sec_sk_squares pix: 7 = 0.007%\n",
      "   lines_max_pix: 7.00, line_pix_range: (3, 14)\n",
      "      lines pix: 7 = 0.007%\n",
      "CLASS 1 pixels: 21 = 0.022% \n",
      "\n",
      "CLASS 2, max. pixel: 0.029% = 17 pixels\n",
      "   sk_max_pix: 5.00, sq_size: 7, sq_pix_range: (3, 14)\n",
      "      prim_sk_squares pix: 4 = 0.007%\n",
      "      sec_sk_squares pix: 4 = 0.007%\n",
      "   lines_max_pix: 5.00, line_pix_range: (3, 14)\n",
      "      lines pix: 5 = 0.008%\n",
      "CLASS 2 pixels: 13 = 0.021% \n",
      "\n",
      "TOTAL annotation: 34 = 0.022% \n",
      "\n",
      "\n",
      "\n",
      "IMG 231: 0.05, a\n",
      "Active channels: R=True, G=True, B=False --> Removed 1 channel(s) --> shape: (2, 308, 512)\n",
      "\n",
      "max. perc.: 0.05, margin: 0.75, rel_scribble_len: 42.29, width: 1, mode: all, class_dist: balanced, enforce_max_perc: True, print_steps: True\n",
      "\n",
      "CLASS 1, max. pixel: 0.045% = 44 pixels\n",
      "   sk_max_pix: 14.00, sq_size: 9, sq_pix_range: (4, 18)\n",
      "      prim_sk_squares pix: 14 = 0.014%\n",
      "      sec_sk_squares pix: 14 = 0.014%\n",
      "   lines_max_pix: 14.00, line_pix_range: (4, 18)\n",
      "      lines pix: 12 = 0.012%\n",
      "CLASS 1 pixels: 40 = 0.041% \n",
      "\n",
      "CLASS 2, max. pixel: 0.058% = 34 pixels\n",
      "   sk_max_pix: 11.00, sq_size: 9, sq_pix_range: (4, 18)\n",
      "      prim_sk_squares pix: 9 = 0.015%\n",
      "      sec_sk_squares pix: 9 = 0.015%\n",
      "   lines_max_pix: 11.00, line_pix_range: (4, 18)\n",
      "      lines pix: 11 = 0.018%\n",
      "CLASS 2 pixels: 29 = 0.048% \n",
      "\n",
      "TOTAL annotation: 69 = 0.044% \n",
      "\n",
      "\n",
      "\n",
      "IMG 231: 0.1, a\n",
      "Active channels: R=True, G=True, B=False --> Removed 1 channel(s) --> shape: (2, 308, 512)\n",
      "\n",
      "max. perc.: 0.1, margin: 0.75, rel_scribble_len: 35.57, width: 1, mode: all, class_dist: balanced, enforce_max_perc: True, print_steps: True\n",
      "\n",
      "CLASS 1, max. pixel: 0.091% = 88 pixels\n",
      "   sk_max_pix: 29.00, sq_size: 11, sq_pix_range: (5, 22)\n",
      "      prim_sk_squares pix: 28 = 0.029%\n",
      "      sec_sk_squares pix: 27 = 0.028%\n",
      "   lines_max_pix: 29.00, line_pix_range: (5, 22)\n",
      "      lines pix: 25 = 0.026%\n",
      "CLASS 1 pixels: 80 = 0.082% \n",
      "\n",
      "CLASS 2, max. pixel: 0.115% = 69 pixels\n",
      "   sk_max_pix: 23.00, sq_size: 11, sq_pix_range: (5, 22)\n",
      "      prim_sk_squares pix: 22 = 0.036%\n",
      "      sec_sk_squares pix: 22 = 0.036%\n",
      "   lines_max_pix: 23.00, line_pix_range: (5, 22)\n",
      "      lines pix: 19 = 0.031%\n",
      "CLASS 2 pixels: 63 = 0.104% \n",
      "\n",
      "TOTAL annotation: 143 = 0.091% \n",
      "\n",
      "\n",
      "\n",
      "IMG 231: 0.25, a\n",
      "Active channels: R=True, G=True, B=False --> Removed 1 channel(s) --> shape: (2, 308, 512)\n",
      "\n",
      "max. perc.: 0.25, margin: 0.75, rel_scribble_len: 28.28, width: 1, mode: all, class_dist: balanced, enforce_max_perc: True, print_steps: True\n",
      "\n",
      "CLASS 1, max. pixel: 0.226% = 220 pixels\n",
      "   sk_max_pix: 73.00, sq_size: 14, sq_pix_range: (7, 28)\n",
      "      prim_sk_squares pix: 70 = 0.072%\n",
      "      sec_sk_squares pix: 68 = 0.070%\n",
      "   lines_max_pix: 73.00, line_pix_range: (7, 28)\n",
      "      lines pix: 73 = 0.075%\n",
      "CLASS 1 pixels: 211 = 0.217% \n",
      "\n",
      "CLASS 2, max. pixel: 0.288% = 174 pixels\n",
      "   sk_max_pix: 58.00, sq_size: 14, sq_pix_range: (7, 28)\n",
      "      prim_sk_squares pix: 51 = 0.084%\n",
      "      sec_sk_squares pix: 57 = 0.094%\n",
      "   lines_max_pix: 58.00, line_pix_range: (7, 28)\n",
      "      lines pix: 58 = 0.096%\n",
      "CLASS 2 pixels: 165 = 0.273% \n",
      "\n",
      "TOTAL annotation: 376 = 0.238% \n",
      "\n",
      "\n",
      "\n",
      "IMG 231: 0.5, a\n",
      "Active channels: R=True, G=True, B=False --> Removed 1 channel(s) --> shape: (2, 308, 512)\n",
      "\n",
      "max. perc.: 0.5, margin: 0.75, rel_scribble_len: 23.78, width: 1, mode: all, class_dist: balanced, enforce_max_perc: True, print_steps: True\n",
      "\n",
      "CLASS 1, max. pixel: 0.453% = 440 pixels\n",
      "   sk_max_pix: 146.00, sq_size: 16, sq_pix_range: (8, 32)\n",
      "      prim_sk_squares pix: 143 = 0.147%\n",
      "      sec_sk_squares pix: 144 = 0.148%\n",
      "   lines_max_pix: 146.00, line_pix_range: (8, 32)\n",
      "      lines pix: 142 = 0.146%\n",
      "CLASS 1 pixels: 429 = 0.441% \n",
      "\n",
      "CLASS 2, max. pixel: 0.576% = 348 pixels\n",
      "   sk_max_pix: 116.00, sq_size: 16, sq_pix_range: (8, 32)\n",
      "      prim_sk_squares pix: 109 = 0.180%\n",
      "      sec_sk_squares pix: 109 = 0.180%\n",
      "   lines_max_pix: 116.00, line_pix_range: (8, 32)\n",
      "      lines pix: 114 = 0.188%\n",
      "CLASS 2 pixels: 331 = 0.547% \n",
      "\n",
      "TOTAL annotation: 760 = 0.482% \n",
      "\n",
      "\n",
      "\n",
      "IMG 231: 1, a\n",
      "Active channels: R=True, G=True, B=False --> Removed 1 channel(s) --> shape: (2, 308, 512)\n",
      "\n",
      "max. perc.: 1, margin: 0.75, rel_scribble_len: 20.00, width: 1, mode: all, class_dist: balanced, enforce_max_perc: True, print_steps: True\n",
      "\n",
      "CLASS 1, max. pixel: 0.906% = 880 pixels\n",
      "   sk_max_pix: 293.00, sq_size: 19, sq_pix_range: (9, 38)\n",
      "      prim_sk_squares pix: 289 = 0.297%\n",
      "      sec_sk_squares pix: 284 = 0.292%\n",
      "   lines_max_pix: 293.00, line_pix_range: (9, 38)\n",
      "      lines pix: 293 = 0.301%\n",
      "CLASS 1 pixels: 865 = 0.890% \n",
      "\n",
      "CLASS 2, max. pixel: 1.152% = 696 pixels\n",
      "   sk_max_pix: 232.00, sq_size: 19, sq_pix_range: (9, 38)\n",
      "      prim_sk_squares pix: 222 = 0.367%\n",
      "      sec_sk_squares pix: 232 = 0.383%\n",
      "   lines_max_pix: 232.00, line_pix_range: (9, 38)\n",
      "      lines pix: 232 = 0.383%\n",
      "CLASS 2 pixels: 685 = 1.132% \n",
      "\n",
      "TOTAL annotation: 1550 = 0.983% \n",
      "\n",
      "\n",
      "\n",
      "IMG 231: 2.5, a\n",
      "Active channels: R=True, G=True, B=False --> Removed 1 channel(s) --> shape: (2, 308, 512)\n",
      "\n",
      "max. perc.: 2.5, margin: 0.75, rel_scribble_len: 15.91, width: 1, mode: all, class_dist: balanced, enforce_max_perc: True, print_steps: True\n",
      "\n",
      "CLASS 1, max. pixel: 2.264% = 2200 pixels\n",
      "   sk_max_pix: 733.00, sq_size: 24, sq_pix_range: (12, 48)\n",
      "      prim_sk_squares pix: 733 = 0.754%\n",
      "      sec_sk_squares pix: 728 = 0.749%\n",
      "   lines_max_pix: 733.00, line_pix_range: (12, 48)\n",
      "      lines pix: 733 = 0.754%\n",
      "CLASS 1 pixels: 2187 = 2.250% \n",
      "\n",
      "CLASS 2, max. pixel: 2.879% = 1741 pixels\n",
      "   sk_max_pix: 580.00, sq_size: 24, sq_pix_range: (12, 48)\n",
      "      prim_sk_squares pix: 580 = 0.959%\n",
      "      sec_sk_squares pix: 579 = 0.957%\n",
      "   lines_max_pix: 580.00, line_pix_range: (12, 48)\n",
      "      lines pix: 569 = 0.941%\n",
      "CLASS 2 pixels: 1722 = 2.846% \n",
      "\n",
      "TOTAL annotation: 3909 = 2.479% \n",
      "\n",
      "\n",
      "\n",
      "IMG 231: 5, a\n",
      "Active channels: R=True, G=True, B=False --> Removed 1 channel(s) --> shape: (2, 308, 512)\n",
      "\n",
      "max. perc.: 5, margin: 0.75, rel_scribble_len: 13.37, width: 1, mode: all, class_dist: balanced, enforce_max_perc: True, print_steps: True\n",
      "\n",
      "CLASS 1, max. pixel: 4.528% = 4401 pixels\n",
      "   sk_max_pix: 1467.00, sq_size: 29, sq_pix_range: (14, 58)\n",
      "      prim_sk_squares pix: 1455 = 1.497%\n",
      "      sec_sk_squares pix: 1466 = 1.508%\n",
      "   lines_max_pix: 1467.00, line_pix_range: (14, 58)\n",
      "      lines pix: 1455 = 1.497%\n",
      "CLASS 1 pixels: 4357 = 4.483% \n",
      "\n",
      "CLASS 2, max. pixel: 5.758% = 3483 pixels\n",
      "   sk_max_pix: 1161.00, sq_size: 29, sq_pix_range: (14, 58)\n",
      "      prim_sk_squares pix: 1160 = 1.917%\n",
      "      sec_sk_squares pix: 1142 = 1.888%\n",
      "   lines_max_pix: 1161.00, line_pix_range: (14, 58)\n",
      "      lines pix: 1155 = 1.909%\n",
      "CLASS 2 pixels: 3431 = 5.671% \n",
      "\n",
      "TOTAL annotation: 7788 = 4.939% \n",
      "\n",
      "\n",
      "\n",
      "IMG 231: 10, a\n",
      "Active channels: R=True, G=True, B=False --> Removed 1 channel(s) --> shape: (2, 308, 512)\n",
      "\n",
      "max. perc.: 10, margin: 0.75, rel_scribble_len: 11.25, width: 1, mode: all, class_dist: balanced, enforce_max_perc: True, print_steps: True\n",
      "\n",
      "CLASS 1, max. pixel: 9.056% = 8802 pixels\n",
      "   sk_max_pix: 2934.00, sq_size: 35, sq_pix_range: (17, 70)\n",
      "      prim_sk_squares pix: 2916 = 3.000%\n",
      "      sec_sk_squares pix: 2933 = 3.018%\n",
      "   lines_max_pix: 2934.00, line_pix_range: (17, 70)\n",
      "      lines pix: 2930 = 3.014%\n",
      "CLASS 1 pixels: 8707 = 8.958% \n",
      "\n",
      "CLASS 2, max. pixel: 11.517% = 6967 pixels\n",
      "   sk_max_pix: 2322.00, sq_size: 35, sq_pix_range: (17, 70)\n",
      "      prim_sk_squares pix: 1919 = 3.172%\n",
      "      sec_sk_squares pix: 2305 = 3.810%\n",
      "   lines_max_pix: 2322.00, line_pix_range: (17, 70)\n",
      "      lines pix: 1976 = 3.266%\n",
      "CLASS 2 pixels: 6106 = 10.093% \n",
      "\n",
      "TOTAL annotation: 14813 = 9.393% \n",
      "\n",
      "\n",
      "\n"
     ]
    }
   ],
   "source": [
    "percentages = {}\n",
    "for bin in bins:\n",
    "# for bin, scribble_width in bin_width:\n",
    "    percentages[bin] = []\n",
    "    for img_num in [231]: #range(0, 540, 10): #[200, 50, 272, 351, 493]:#, 383, 419]:#range(0, 10):\n",
    "        print(f\"IMG {img_num}: {bin}, {s}\")\n",
    "        np.random.seed(scribbles_seed)\n",
    "        scribbles, perc_labelled = create_cellpose_scribble(folder_path, img_num, bin=bin, margin=margin, rel_scribble_len=rel_scribble_len, scribble_width=scribble_width, mode=mode, \n",
    "                                                            class_dist=class_dist, enforce_max_perc=enforce_max_perc,\n",
    "                                                            save_res=save_res, suff=s, show_res=show_res, print_steps=print_steps)\n",
    "        percentages[bin].append(perc_labelled)\n",
    "        print(\"\\n\")"
   ]
  },
  {
   "cell_type": "markdown",
   "metadata": {},
   "source": [
    "Quick report of labelling percentages:"
   ]
  },
  {
   "cell_type": "code",
   "execution_count": 13,
   "metadata": {},
   "outputs": [
    {
     "name": "stdout",
     "output_type": "stream",
     "text": [
      "labelled percentage in bin 0.01: mean = 0.0076, std = 0.0000, range = 0.0076 - 0.0076\n",
      "labelled percentage in bin 0.025: mean = 0.0216, std = 0.0000, range = 0.0216 - 0.0216\n",
      "labelled percentage in bin 0.05: mean = 0.0438, std = 0.0000, range = 0.0438 - 0.0438\n",
      "labelled percentage in bin 0.1: mean = 0.0907, std = 0.0000, range = 0.0907 - 0.0907\n",
      "labelled percentage in bin 0.25: mean = 0.2384, std = 0.0000, range = 0.2384 - 0.2384\n",
      "labelled percentage in bin 0.5: mean = 0.4819, std = 0.0000, range = 0.4819 - 0.4819\n",
      "labelled percentage in bin 1: mean = 0.9829, std = 0.0000, range = 0.9829 - 0.9829\n",
      "labelled percentage in bin 2.5: mean = 2.4788, std = 0.0000, range = 2.4788 - 2.4788\n",
      "labelled percentage in bin 5: mean = 4.9386, std = 0.0000, range = 4.9386 - 4.9386\n",
      "labelled percentage in bin 10: mean = 9.3934, std = 0.0000, range = 9.3934 - 9.3934\n"
     ]
    }
   ],
   "source": [
    "for bin, perc_list in percentages.items():\n",
    "    print(f\"labelled percentage in bin {bin}: mean = {np.mean(perc_list):.4f}, std = {np.std(perc_list):.4f}, range = {np.min(perc_list):.4f} - {np.max(perc_list):.4f}\")"
   ]
  },
  {
   "cell_type": "markdown",
   "metadata": {},
   "source": [
    "Check percentages of saved scribbles"
   ]
  },
  {
   "cell_type": "code",
   "execution_count": null,
   "metadata": {},
   "outputs": [],
   "source": [
    "perc_dict = {}\n",
    "for bin in bins:\n",
    "    bin_perc_list = []\n",
    "    for img_num in range(0,540,20):\n",
    "        scrib = np.array(Image.open(f\"{folder_path}{img_num:03d}_scribbles_{mode}_{bin_for_file(bin)}_{s}.png\"))\n",
    "        perc_labelled = np.sum(scrib > 0) / scrib.size\n",
    "        bin_perc_list.append(perc_labelled)\n",
    "    perc_dict[bin] = bin_perc_list"
   ]
  },
  {
   "cell_type": "markdown",
   "metadata": {},
   "source": [
    "Show the last created scribbles"
   ]
  },
  {
   "cell_type": "code",
   "execution_count": null,
   "metadata": {},
   "outputs": [],
   "source": [
    "img_data = get_cellpose_img_data(folder_path, img_num, load_img=True, load_gt=True, load_scribbles=True, mode=mode, bin=bin, scribble_width=scribble_width, suff=s)\n",
    "img = img_data[\"img\"]\n",
    "ground_truth = img_data[\"gt\"]"
   ]
  },
  {
   "cell_type": "code",
   "execution_count": null,
   "metadata": {},
   "outputs": [],
   "source": [
    "v = napari.Viewer()\n",
    "v.add_image(img)\n",
    "v.add_labels(ground_truth)\n",
    "v.add_labels(scribbles)"
   ]
  },
  {
   "cell_type": "markdown",
   "metadata": {},
   "source": [
    "## Load and show scribbles and ground truth from saved files"
   ]
  },
  {
   "cell_type": "code",
   "execution_count": null,
   "metadata": {},
   "outputs": [],
   "source": [
    "# Show the image, ground truth and the scribble annotation in a napari viewer\n",
    "img_num = 0\n",
    "mode = \"all\"\n",
    "bin = 0.1\n",
    "suff = \"a\"\n",
    "img_data = get_cellpose_img_data(folder_path, img_num, load_img=True, load_gt=True, load_scribbles=True, mode=mode, bin=bin, suff=suff)\n",
    "v = napari.Viewer()\n",
    "v.add_image(img_data[\"img\"], name=\"image\")\n",
    "v.add_labels(img_data[\"gt\"], name=\"ground truth\")\n",
    "v.add_labels(img_data[\"scribbles\"], name=\"scribbles\")"
   ]
  },
  {
   "cell_type": "markdown",
   "metadata": {},
   "source": [
    "## When we have performed segmentation in the Napari plugin, we can calculate its accuracy"
   ]
  },
  {
   "cell_type": "code",
   "execution_count": null,
   "metadata": {},
   "outputs": [],
   "source": [
    "# segmentation = v.layers['segmentation'].data\n",
    "# acc = np.round(100*np.sum(segmentation == ground_truth) / np.sum(ground_truth > 0), 2)\n",
    "# print(f\"Accuracy (pixels correctly segmented): {acc}%\")"
   ]
  }
 ],
 "metadata": {
  "kernelspec": {
   "display_name": "ilastik",
   "language": "python",
   "name": "python3"
  },
  "language_info": {
   "codemirror_mode": {
    "name": "ipython",
    "version": 3
   },
   "file_extension": ".py",
   "mimetype": "text/x-python",
   "name": "python",
   "nbconvert_exporter": "python",
   "pygments_lexer": "ipython3",
   "version": "3.9.18"
  }
 },
 "nbformat": 4,
 "nbformat_minor": 2
}
