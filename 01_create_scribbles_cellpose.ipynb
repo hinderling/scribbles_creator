{
 "cells": [
  {
   "cell_type": "code",
   "execution_count": 6,
   "metadata": {},
   "outputs": [
    {
     "name": "stdout",
     "output_type": "stream",
     "text": [
      "The autoreload extension is already loaded. To reload it, use:\n",
      "  %reload_ext autoreload\n"
     ]
    },
    {
     "name": "stderr",
     "output_type": "stream",
     "text": [
      "c:\\Users\\roman\\anaconda3\\envs\\ilastik2\\lib\\site-packages\\tqdm\\auto.py:21: TqdmWarning: IProgress not found. Please update jupyter and ipywidgets. See https://ipywidgets.readthedocs.io/en/stable/user_install.html\n",
      "  from .autonotebook import tqdm as notebook_tqdm\n"
     ]
    }
   ],
   "source": [
    "%load_ext autoreload\n",
    "%autoreload 2\n",
    "\n",
    "from PIL import Image\n",
    "import napari\n",
    "import numpy as np\n",
    "import os\n",
    "\n",
    "from scribbles_creator import *\n",
    "from cellpose_data_handler import *"
   ]
  },
  {
   "cell_type": "markdown",
   "metadata": {},
   "source": [
    "## Define where the images are located"
   ]
  },
  {
   "cell_type": "code",
   "execution_count": 7,
   "metadata": {},
   "outputs": [],
   "source": [
    "folder_path = \"./cellpose_train_imgs/\""
   ]
  },
  {
   "cell_type": "markdown",
   "metadata": {},
   "source": [
    "## Create ground truth for pixel classification from image mask (instance segmentation)"
   ]
  },
  {
   "cell_type": "code",
   "execution_count": null,
   "metadata": {},
   "outputs": [],
   "source": [
    "# for img_num in range(0, 540):\n",
    "#     create_cellpose_gt(folder_path, img_num, save_res=True, show_res=False)"
   ]
  },
  {
   "cell_type": "markdown",
   "metadata": {},
   "source": [
    "## Create scribble annotation from an image mask of the cell pose dataset"
   ]
  },
  {
   "cell_type": "markdown",
   "metadata": {},
   "source": [
    "Define scribbles parameters"
   ]
  },
  {
   "cell_type": "code",
   "execution_count": 18,
   "metadata": {},
   "outputs": [],
   "source": [
    "# Which scribbles to create\n",
    "mode = \"all\"\n",
    "class_dist = \"balanced\"\n",
    "enforce_max_perc = True\n",
    "bins = [0.01]#[0.01, 0.025, 0.05, 0.1, 0.25, 0.5, 1]\n",
    "margin = 0.75\n",
    "scribble_width = 2 #1\n",
    "# all_suff = [\"a\", \"b\", \"c\", \"d\", \"e\", \"f\", \"g\", \"h\", \"i\", \"j\"]\n",
    "# suff = all_suff[:1]\n",
    "s = \"a\"\n",
    "rel_scribble_len = False\n",
    "scribbles_seed = 1\n",
    "\n",
    "# What to do\n",
    "save_res = False\n",
    "show_res = True\n",
    "print_steps = True"
   ]
  },
  {
   "cell_type": "markdown",
   "metadata": {},
   "source": [
    "Loop and create scribbles"
   ]
  },
  {
   "cell_type": "code",
   "execution_count": 19,
   "metadata": {},
   "outputs": [
    {
     "name": "stdout",
     "output_type": "stream",
     "text": [
      "IMG 0: 0.01, a\n",
      "Active channels: R=True, G=True, B=False --> Removed 1 channel(s) --> shape: (2, 383, 512)\n",
      "\n",
      "max. perc.: 0.01, margin: 0.75, rel_scribble_len: 63.25, width: 1, mode: all, class_dist: balanced, enforce_max_perc: True, print_steps: True\n",
      "\n",
      "CLASS 1, max. pixel: 0.010% = 9 pixels\n",
      "   sk_max_pix: 3.00, sq_size: 7, sq_pix_range: (3, 14)\n",
      "      prim_sk_squares pix: 3 = 0.003%\n",
      "         Adjusting square size and range to 4 (1, 14)\n",
      "         Sampling skeleton squares - sk_max_pix_left: 3\n",
      "      sec_sk_squares pix: 3 = 0.003%\n",
      "   lines_max_pix: 3.00, line_pix_range: (3, 14)\n",
      "      lines pix: 3 = 0.003%\n",
      "   CLASS 1 pixels: 9 = 0.009% \n",
      "\n",
      "CLASS 2, max. pixel: 0.010% = 9 pixels\n",
      "   sk_max_pix: 3.00, sq_size: 7, sq_pix_range: (3, 14)\n",
      "         Adjusting square size and range to 4 (1, 14)\n",
      "         Sampling skeleton squares - sk_max_pix_left: 3\n",
      "      prim_sk_squares pix: 3 = 0.003%\n",
      "         Adjusting square size and range to 4 (1, 14)\n",
      "         Sampling skeleton squares - sk_max_pix_left: 3\n",
      "      sec_sk_squares pix: 3 = 0.003%\n",
      "   lines_max_pix: 3.00, line_pix_range: (3, 14)\n",
      "      lines pix: 3 = 0.003%\n",
      "   CLASS 2 pixels: 9 = 0.010% \n",
      "\n",
      "annotation: 0.009%\n",
      "\n",
      "\n",
      "IMG 100: 0.01, a\n",
      "Active channels: R=True, G=True, B=False --> Removed 1 channel(s) --> shape: (2, 450, 450)\n",
      "\n",
      "max. perc.: 0.01, margin: 0.75, rel_scribble_len: 63.25, width: 1, mode: all, class_dist: balanced, enforce_max_perc: True, print_steps: True\n",
      "\n",
      "CLASS 1, max. pixel: 0.009% = 11 pixels\n",
      "   sk_max_pix: 3.00, sq_size: 7, sq_pix_range: (3, 14)\n",
      "      prim_sk_squares pix: 3 = 0.002%\n",
      "         Adjusting square size and range to 4 (1, 14)\n",
      "         Sampling skeleton squares - sk_max_pix_left: 3\n",
      "      sec_sk_squares pix: 3 = 0.002%\n",
      "   lines_max_pix: 3.00, line_pix_range: (3, 14)\n",
      "      lines pix: 3 = 0.002%\n",
      "   CLASS 1 pixels: 9 = 0.007% \n",
      "\n",
      "CLASS 2, max. pixel: 0.011% = 9 pixels\n",
      "   sk_max_pix: 3.00, sq_size: 7, sq_pix_range: (3, 14)\n",
      "         Adjusting square size and range to 4 (1, 14)\n",
      "         Sampling skeleton squares - sk_max_pix_left: 3\n",
      "      prim_sk_squares pix: 3 = 0.004%\n",
      "         Adjusting square size and range to 4 (1, 14)\n",
      "         Sampling skeleton squares - sk_max_pix_left: 3\n",
      "      sec_sk_squares pix: 3 = 0.004%\n",
      "   lines_max_pix: 3.00, line_pix_range: (3, 14)\n",
      "      lines pix: 3 = 0.004%\n",
      "   CLASS 2 pixels: 9 = 0.011% \n",
      "\n",
      "annotation: 0.009%\n",
      "\n",
      "\n",
      "IMG 200: 0.01, a\n",
      "Active channels: R=True, G=True, B=False --> Removed 1 channel(s) --> shape: (2, 512, 512)\n",
      "\n",
      "max. perc.: 0.01, margin: 0.75, rel_scribble_len: 63.25, width: 1, mode: all, class_dist: balanced, enforce_max_perc: True, print_steps: True\n",
      "\n",
      "CLASS 1, max. pixel: 0.008% = 17 pixels\n",
      "   sk_max_pix: 5.00, sq_size: 8, sq_pix_range: (4, 16)\n",
      "      prim_sk_squares pix: 5 = 0.002%\n",
      "      sec_sk_squares pix: 4 = 0.002%\n",
      "   lines_max_pix: 5.00, line_pix_range: (4, 16)\n",
      "      lines pix: 4 = 0.002%\n",
      "   CLASS 1 pixels: 13 = 0.006% \n",
      "\n",
      "CLASS 2, max. pixel: 0.023% = 8 pixels\n",
      "   sk_max_pix: 2.00, sq_size: 8, sq_pix_range: (2, 16)\n",
      "         Adjusting square size and range to 4 (1, 16)\n",
      "         Sampling skeleton squares - sk_max_pix_left: 2\n",
      "      prim_sk_squares pix: 2 = 0.005%\n",
      "         Adjusting square size and range to 4 (1, 16)\n",
      "         Sampling skeleton squares - sk_max_pix_left: 2\n",
      "      sec_sk_squares pix: 2 = 0.005%\n",
      "   lines_max_pix: 2.00, line_pix_range: (2, 16)\n",
      "      lines pix: 2 = 0.005%\n",
      "   CLASS 2 pixels: 6 = 0.016% \n",
      "\n",
      "annotation: 0.007%\n",
      "\n",
      "\n",
      "IMG 300: 0.01, a\n",
      "Active channels: R=False, G=True, B=False --> Removed 2 channel(s) --> shape: (512, 512)\n",
      "\n",
      "max. perc.: 0.01, margin: 0.75, rel_scribble_len: 63.25, width: 1, mode: all, class_dist: balanced, enforce_max_perc: True, print_steps: True\n",
      "\n",
      "CLASS 1, max. pixel: 0.021% = 8 pixels\n",
      "   sk_max_pix: 2.00, sq_size: 8, sq_pix_range: (2, 16)\n",
      "      prim_sk_squares pix: 2 = 0.005%\n",
      "      sec_sk_squares pix: 2 = 0.005%\n",
      "   lines_max_pix: 2.00, line_pix_range: (2, 16)\n",
      "      lines pix: 2 = 0.005%\n",
      "   CLASS 1 pixels: 6 = 0.015% \n",
      "\n",
      "CLASS 2, max. pixel: 0.008% = 17 pixels\n",
      "   sk_max_pix: 5.00, sq_size: 8, sq_pix_range: (4, 16)\n",
      "         Adjusting square size and range to 4 (2, 16)\n",
      "         Sampling skeleton squares - sk_max_pix_left: 5\n",
      "      prim_sk_squares pix: 4 = 0.002%\n",
      "      sec_sk_squares pix: 4 = 0.002%\n",
      "   lines_max_pix: 5.00, line_pix_range: (4, 16)\n",
      "      lines pix: 5 = 0.002%\n",
      "   CLASS 2 pixels: 13 = 0.006% \n",
      "\n",
      "annotation: 0.007%\n",
      "\n",
      "\n",
      "IMG 400: 0.01, a\n",
      "Active channels: R=False, G=True, B=False --> Removed 2 channel(s) --> shape: (354, 236)\n",
      "\n",
      "max. perc.: 0.01, margin: 0.75, rel_scribble_len: 63.25, width: 1, mode: all, class_dist: balanced, enforce_max_perc: True, print_steps: True\n",
      "\n",
      "CLASS 1, max. pixel: 0.019% = 2 pixels\n",
      "   WARNING: The theoretical maximum number of pixels for the SQUARES (0.00) is below scribble_width**2 (1). Instead, 1 pixel(s) is/are sampled.\n",
      "   sk_max_pix: 1.00, sq_size: 4, sq_pix_range: (1, 8)\n",
      "         Adjusting square size and range to 2 (1, 8)\n",
      "         Sampling skeleton squares - sk_max_pix_left: 1\n",
      "      prim_sk_squares pix: 1 = 0.007%\n",
      "      sec_sk_squares pix: 1 = 0.007%\n",
      "   WARNING: The theoretical maximum number of pixels for the LINES (0.00) is below scribble_width**2 (1). Instead, 1 pixel(s) is/are sampled.\n",
      "   lines_max_pix: 1.00, line_pix_range: (1, 8)\n",
      "      lines pix: 1 = 0.007%\n",
      "   Enforcing the max. percentage (0.019%) of pixels in the scribble annotation of the entire CLASS 1 - new nr. pix: 2 = 0.013%\n",
      "   CLASS 1 pixels: 2 = 0.013% \n",
      "\n",
      "CLASS 2, max. pixel: 0.008% = 5 pixels\n",
      "   sk_max_pix: 1.00, sq_size: 4, sq_pix_range: (1, 8)\n",
      "         Adjusting square size and range to 2 (1, 8)\n",
      "         Sampling skeleton squares - sk_max_pix_left: 1\n",
      "      prim_sk_squares pix: 1 = 0.001%\n",
      "         Adjusting square size and range to 2 (1, 8)\n",
      "         Sampling skeleton squares - sk_max_pix_left: 1\n",
      "      sec_sk_squares pix: 1 = 0.001%\n",
      "   lines_max_pix: 1.00, line_pix_range: (1, 8)\n",
      "      lines pix: 1 = 0.001%\n",
      "   CLASS 2 pixels: 3 = 0.004% \n",
      "\n",
      "annotation: 0.006%\n",
      "\n",
      "\n",
      "IMG 500: 0.01, a\n",
      "Active channels: R=False, G=True, B=False --> Removed 2 channel(s) --> shape: (225, 225)\n",
      "\n",
      "max. perc.: 0.01, margin: 0.75, rel_scribble_len: 63.25, width: 1, mode: all, class_dist: balanced, enforce_max_perc: True, print_steps: True\n",
      "\n",
      "CLASS 1, max. pixel: 0.029% = 1 pixels\n",
      "   WARNING: The theoretical maximum number of pixels for the SQUARES (0.00) is below scribble_width**2 (1). Instead, 1 pixel(s) is/are sampled.\n",
      "   sk_max_pix: 1.00, sq_size: 3, sq_pix_range: (1, 6)\n",
      "         Adjusting square size and range to 2 (1, 6)\n",
      "         Sampling skeleton squares - sk_max_pix_left: 1\n",
      "      prim_sk_squares pix: 1 = 0.019%\n",
      "      sec_sk_squares pix: 1 = 0.019%\n",
      "   WARNING: The theoretical maximum number of pixels for the LINES (0.00) is below scribble_width**2 (1). Instead, 1 pixel(s) is/are sampled.\n",
      "   lines_max_pix: 1.00, line_pix_range: (1, 6)\n",
      "      lines pix: 1 = 0.019%\n",
      "   Enforcing the max. percentage (0.029%) of pixels in the scribble annotation of the entire CLASS 1 - new nr. pix: 1 = 0.019%\n",
      "   CLASS 1 pixels: 1 = 0.019% \n",
      "\n",
      "CLASS 2, max. pixel: 0.008% = 3 pixels\n",
      "   sk_max_pix: 1.00, sq_size: 3, sq_pix_range: (1, 6)\n",
      "         Adjusting square size and range to 2 (1, 6)\n",
      "         Sampling skeleton squares - sk_max_pix_left: 1\n",
      "      prim_sk_squares pix: 1 = 0.002%\n",
      "      sec_sk_squares pix: 1 = 0.002%\n",
      "   lines_max_pix: 1.00, line_pix_range: (1, 6)\n",
      "      lines pix: 1 = 0.002%\n",
      "   CLASS 2 pixels: 3 = 0.007% \n",
      "\n",
      "annotation: 0.008%\n",
      "\n",
      "\n"
     ]
    }
   ],
   "source": [
    "percentages = {}\n",
    "for bin in bins:\n",
    "    percentages[bin] = []\n",
    "    for img_num in range(0, 540, 100): #[200, 50, 272, 351, 493]:#, 383, 419]:#range(0, 10):\n",
    "        print(f\"IMG {img_num}: {bin}, {s}\")\n",
    "        np.random.seed(scribbles_seed)\n",
    "        scribbles, perc_labelled = create_cellpose_scribble(folder_path, img_num, bin=bin, margin=margin, rel_scribble_len=rel_scribble_len, scribble_width=scribble_width, mode=mode, \n",
    "                                                            class_dist=class_dist, enforce_max_perc=enforce_max_perc,\n",
    "                                                            save_res=save_res, suff=s, show_res=show_res, print_steps=print_steps)\n",
    "        percentages[bin].append(perc_labelled)\n",
    "        print(f\"annotation: {perc_labelled:2.3f}%\")\n",
    "        print(\"\\n\")"
   ]
  },
  {
   "cell_type": "markdown",
   "metadata": {},
   "source": [
    "Quick report of labelling percentages:"
   ]
  },
  {
   "cell_type": "code",
   "execution_count": 17,
   "metadata": {},
   "outputs": [
    {
     "name": "stdout",
     "output_type": "stream",
     "text": [
      "labelled percentage in bin 1: mean = 0.9640, std = 0.0114, range = 0.9462 - 0.9808\n"
     ]
    }
   ],
   "source": [
    "for bin, perc_list in percentages.items():\n",
    "    print(f\"labelled percentage in bin {bin}: mean = {np.mean(perc_list):.4f}, std = {np.std(perc_list):.4f}, range = {np.min(perc_list):.4f} - {np.max(perc_list):.4f}\")"
   ]
  },
  {
   "cell_type": "markdown",
   "metadata": {},
   "source": [
    "Check percentages of saved scribbles"
   ]
  },
  {
   "cell_type": "code",
   "execution_count": null,
   "metadata": {},
   "outputs": [],
   "source": [
    "perc_dict = {}\n",
    "for bin in bins:\n",
    "    bin_perc_list = []\n",
    "    for img_num in range(0,540,20):\n",
    "        scrib = np.array(Image.open(f\"{folder_path}{img_num:03d}_scribbles_{mode}_{bin_for_file(bin)}_{s}.png\"))\n",
    "        perc_labelled = np.sum(scrib > 0) / scrib.size\n",
    "        bin_perc_list.append(perc_labelled)\n",
    "    perc_dict[bin] = bin_perc_list"
   ]
  },
  {
   "cell_type": "markdown",
   "metadata": {},
   "source": [
    "Show the last created scribbles"
   ]
  },
  {
   "cell_type": "code",
   "execution_count": null,
   "metadata": {},
   "outputs": [],
   "source": [
    "img_data = get_cellpose_img_data(folder_path, img_num, load_img=True, load_gt=True, load_scribbles=True, mode=mode, bin=bin, scribble_width=scribble_width, suff=s)\n",
    "img = img_data[\"img\"]\n",
    "ground_truth = img_data[\"gt\"]"
   ]
  },
  {
   "cell_type": "code",
   "execution_count": null,
   "metadata": {},
   "outputs": [],
   "source": [
    "v = napari.Viewer()\n",
    "v.add_image(img)\n",
    "v.add_labels(ground_truth)\n",
    "v.add_labels(scribbles)"
   ]
  },
  {
   "cell_type": "markdown",
   "metadata": {},
   "source": [
    "## Load and show scribbles and ground truth from saved files"
   ]
  },
  {
   "cell_type": "code",
   "execution_count": null,
   "metadata": {},
   "outputs": [],
   "source": [
    "# Show the image, ground truth and the scribble annotation in a napari viewer\n",
    "img_num = 0\n",
    "mode = \"all\"\n",
    "bin = 0.1\n",
    "suff = \"a\"\n",
    "img_data = get_cellpose_img_data(folder_path, img_num, load_img=True, load_gt=True, load_scribbles=True, mode=mode, bin=bin, suff=suff)\n",
    "v = napari.Viewer()\n",
    "v.add_image(img_data[\"img\"], name=\"image\")\n",
    "v.add_labels(img_data[\"gt\"], name=\"ground truth\")\n",
    "v.add_labels(img_data[\"scribbles\"], name=\"scribbles\")"
   ]
  },
  {
   "cell_type": "markdown",
   "metadata": {},
   "source": [
    "## When we have performed segmentation in the Napari plugin, we can calculate its accuracy"
   ]
  },
  {
   "cell_type": "code",
   "execution_count": null,
   "metadata": {},
   "outputs": [],
   "source": [
    "# segmentation = v.layers['segmentation'].data\n",
    "# acc = np.round(100*np.sum(segmentation == ground_truth) / np.sum(ground_truth > 0), 2)\n",
    "# print(f\"Accuracy (pixels correctly segmented): {acc}%\")"
   ]
  }
 ],
 "metadata": {
  "kernelspec": {
   "display_name": "ilastik",
   "language": "python",
   "name": "python3"
  },
  "language_info": {
   "codemirror_mode": {
    "name": "ipython",
    "version": 3
   },
   "file_extension": ".py",
   "mimetype": "text/x-python",
   "name": "python",
   "nbconvert_exporter": "python",
   "pygments_lexer": "ipython3",
   "version": "3.9.18"
  }
 },
 "nbformat": 4,
 "nbformat_minor": 2
}
