{
 "cells": [
  {
   "cell_type": "code",
   "execution_count": 1,
   "metadata": {},
   "outputs": [
    {
     "name": "stderr",
     "output_type": "stream",
     "text": [
      "c:\\Users\\roman\\anaconda3\\envs\\ilastik2\\lib\\site-packages\\tqdm\\auto.py:21: TqdmWarning: IProgress not found. Please update jupyter and ipywidgets. See https://ipywidgets.readthedocs.io/en/stable/user_install.html\n",
      "  from .autonotebook import tqdm as notebook_tqdm\n"
     ]
    }
   ],
   "source": [
    "%load_ext autoreload\n",
    "%autoreload 2\n",
    "\n",
    "from PIL import Image\n",
    "import napari\n",
    "import numpy as np\n",
    "import os\n",
    "\n",
    "from scribbles_creator import *\n",
    "from cellpose_data_handler import *"
   ]
  },
  {
   "cell_type": "markdown",
   "metadata": {},
   "source": [
    "## Define where the images are located"
   ]
  },
  {
   "cell_type": "code",
   "execution_count": 2,
   "metadata": {},
   "outputs": [],
   "source": [
    "folder_path = \"./cellpose_train_imgs/\""
   ]
  },
  {
   "cell_type": "markdown",
   "metadata": {},
   "source": [
    "## Create ground truth for pixel classification from image mask (instance segmentation)"
   ]
  },
  {
   "cell_type": "code",
   "execution_count": 3,
   "metadata": {},
   "outputs": [],
   "source": [
    "# for img_num in range(0, 540):\n",
    "#     create_cellpose_gt(folder_path, img_num, save_res=True, show_res=False)"
   ]
  },
  {
   "cell_type": "markdown",
   "metadata": {},
   "source": [
    "## Create scribble annotation from an image mask of the cell pose dataset"
   ]
  },
  {
   "cell_type": "markdown",
   "metadata": {},
   "source": [
    "Define scribbles parameters"
   ]
  },
  {
   "cell_type": "code",
   "execution_count": 14,
   "metadata": {},
   "outputs": [],
   "source": [
    "# Which scribbles to create\n",
    "mode = \"all\"\n",
    "class_dist = \"balanced\"\n",
    "enforce_max_perc = True\n",
    "bins = [0.1]#[0.01, 0.025, 0.05, 0.1, 0.25, 0.5, 1]\n",
    "margin = 0.75\n",
    "scribble_width = 2 #1\n",
    "# all_suff = [\"a\", \"b\", \"c\", \"d\", \"e\", \"f\", \"g\", \"h\", \"i\", \"j\"]\n",
    "# suff = all_suff[:1]\n",
    "s = \"a\"\n",
    "rel_scribble_len = False\n",
    "scribbles_seed = 1\n",
    "\n",
    "# What to do\n",
    "save_res = False\n",
    "show_res = True\n",
    "print_steps = True"
   ]
  },
  {
   "cell_type": "markdown",
   "metadata": {},
   "source": [
    "Loop and create scribbles"
   ]
  },
  {
   "cell_type": "code",
   "execution_count": 15,
   "metadata": {},
   "outputs": [
    {
     "name": "stdout",
     "output_type": "stream",
     "text": [
      "IMG 0: 0.1, a\n",
      "Active channels: R=True, G=True, B=False --> Removed 1 channel(s) --> shape: (2, 383, 512)\n",
      "\n",
      "max. perc.: 0.1, margin: 0.75, rel_scribble_len: 35.57, width: 2, mode: all, class_dist: balanced, enforce_max_perc: True, print_steps: True\n",
      "\n",
      "CLASS 1, max. pixel: 0.098% = 99 pixels\n",
      "   sk_max_pix: 33.00, sq_size: 12, sq_pix_range: (12, 48)\n",
      "      prim_sk_squares pix: 24 = 0.024%\n",
      "      sec_sk_squares pix: 32 = 0.032%\n",
      "   lines_max_pix: 33.00, line_pix_range: (12, 48)\n",
      "      lines pix: 31 = 0.031%\n",
      "CLASS 1 pixels: 87 = 0.086% \n",
      "\n",
      "CLASS 2, max. pixel: 0.102% = 96 pixels\n",
      "   sk_max_pix: 32.00, sq_size: 12, sq_pix_range: (12, 48)\n",
      "      prim_sk_squares pix: 24 = 0.025%\n",
      "      sec_sk_squares pix: 26 = 0.028%\n",
      "   lines_max_pix: 32.00, line_pix_range: (12, 48)\n",
      "      lines pix: 30 = 0.032%\n",
      "CLASS 2 pixels: 80 = 0.085% \n",
      "\n",
      "annotation: 0.085%\n",
      "\n",
      "\n",
      "IMG 150: 0.1, a\n",
      "Active channels: R=True, G=True, B=False --> Removed 1 channel(s) --> shape: (2, 357, 512)\n",
      "\n",
      "max. perc.: 0.1, margin: 0.75, rel_scribble_len: 35.57, width: 2, mode: all, class_dist: balanced, enforce_max_perc: True, print_steps: True\n",
      "\n",
      "CLASS 1, max. pixel: 0.078% = 126 pixels\n",
      "   sk_max_pix: 42.00, sq_size: 12, sq_pix_range: (12, 48)\n",
      "      prim_sk_squares pix: 35 = 0.022%\n",
      "         Adjusting square size and range to 7 (6, 48)\n",
      "         Sampling skeleton squares - sk_max_pix_left: 15\n",
      "      sec_sk_squares pix: 41 = 0.025%\n",
      "   lines_max_pix: 42.00, line_pix_range: (12, 48)\n",
      "      lines pix: 39 = 0.024%\n",
      "CLASS 1 pixels: 115 = 0.071% \n",
      "\n",
      "CLASS 2, max. pixel: 0.275% = 55 pixels\n",
      "   sk_max_pix: 18.00, sq_size: 12, sq_pix_range: (12, 48)\n",
      "      prim_sk_squares pix: 17 = 0.084%\n",
      "      sec_sk_squares pix: 13 = 0.064%\n",
      "   lines_max_pix: 18.00, line_pix_range: (12, 48)\n",
      "      lines pix: 13 = 0.064%\n",
      "CLASS 2 pixels: 43 = 0.211% \n",
      "\n",
      "annotation: 0.086%\n",
      "\n",
      "\n",
      "IMG 300: 0.1, a\n",
      "Active channels: R=False, G=True, B=False --> Removed 2 channel(s) --> shape: (512, 512)\n",
      "\n",
      "max. perc.: 0.1, margin: 0.75, rel_scribble_len: 35.57, width: 2, mode: all, class_dist: balanced, enforce_max_perc: True, print_steps: True\n",
      "\n",
      "CLASS 1, max. pixel: 0.214% = 85 pixels\n",
      "   sk_max_pix: 28.00, sq_size: 14, sq_pix_range: (14, 56)\n",
      "         Adjusting square size and range to 8 (7, 56)\n",
      "         Sampling skeleton squares - sk_max_pix_left: 13\n",
      "      prim_sk_squares pix: 23 = 0.058%\n",
      "      sec_sk_squares pix: 28 = 0.070%\n",
      "   lines_max_pix: 28.00, line_pix_range: (14, 56)\n",
      "         Adjusting line range to (7, 112)\n",
      "         Sampling lines - lines_max_pix_left: 9\n",
      "      lines pix: 26 = 0.065%\n",
      "CLASS 1 pixels: 77 = 0.193% \n",
      "\n",
      "CLASS 2, max. pixel: 0.079% = 176 pixels\n",
      "   sk_max_pix: 58.00, sq_size: 14, sq_pix_range: (14, 56)\n",
      "         Adjusting square size and range to 8 (7, 56)\n",
      "         Sampling skeleton squares - sk_max_pix_left: 18\n",
      "      prim_sk_squares pix: 58 = 0.026%\n",
      "      sec_sk_squares pix: 56 = 0.025%\n",
      "   lines_max_pix: 58.00, line_pix_range: (14, 56)\n",
      "      lines pix: 53 = 0.024%\n",
      "CLASS 2 pixels: 167 = 0.075% \n",
      "\n",
      "annotation: 0.093%\n",
      "\n",
      "\n",
      "IMG 450: 0.1, a\n",
      "Active channels: R=False, G=True, B=False --> Removed 2 channel(s) --> shape: (190, 265)\n",
      "\n",
      "max. perc.: 0.1, margin: 0.75, rel_scribble_len: 35.57, width: 2, mode: all, class_dist: balanced, enforce_max_perc: True, print_steps: True\n",
      "\n",
      "CLASS 1, max. pixel: 0.094% = 26 pixels\n",
      "   sk_max_pix: 8.00, sq_size: 6, sq_pix_range: (6, 24)\n",
      "      prim_sk_squares pix: 8 = 0.028%\n",
      "      sec_sk_squares pix: 8 = 0.028%\n",
      "   lines_max_pix: 8.00, line_pix_range: (6, 24)\n",
      "      lines pix: 6 = 0.021%\n",
      "CLASS 1 pixels: 22 = 0.077% \n",
      "\n",
      "CLASS 2, max. pixel: 0.108% = 23 pixels\n",
      "   sk_max_pix: 7.00, sq_size: 6, sq_pix_range: (6, 24)\n",
      "      prim_sk_squares pix: 6 = 0.028%\n",
      "      sec_sk_squares pix: 7 = 0.032%\n",
      "   lines_max_pix: 7.00, line_pix_range: (6, 24)\n",
      "      lines pix: 6 = 0.028%\n",
      "CLASS 2 pixels: 19 = 0.087% \n",
      "\n",
      "annotation: 0.081%\n",
      "\n",
      "\n"
     ]
    }
   ],
   "source": [
    "percentages = {}\n",
    "for bin in bins:\n",
    "    percentages[bin] = []\n",
    "    for img_num in range(0, 540, 150): #[200, 50, 272, 351, 493]:#, 383, 419]:#range(0, 10):\n",
    "        print(f\"IMG {img_num}: {bin}, {s}\")\n",
    "        np.random.seed(scribbles_seed)\n",
    "        scribbles, perc_labelled = create_cellpose_scribble(folder_path, img_num, bin=bin, margin=margin, rel_scribble_len=rel_scribble_len, scribble_width=scribble_width, mode=mode, \n",
    "                                                            class_dist=class_dist, enforce_max_perc=enforce_max_perc,\n",
    "                                                            save_res=save_res, suff=s, show_res=show_res, print_steps=print_steps)\n",
    "        percentages[bin].append(perc_labelled)\n",
    "        print(f\"annotation: {perc_labelled:2.3f}%\")\n",
    "        print(\"\\n\")"
   ]
  },
  {
   "cell_type": "markdown",
   "metadata": {},
   "source": [
    "Quick report of labelling percentages:"
   ]
  },
  {
   "cell_type": "code",
   "execution_count": 16,
   "metadata": {},
   "outputs": [
    {
     "name": "stdout",
     "output_type": "stream",
     "text": [
      "labelled percentage in bin 0.1: mean = 0.0865, std = 0.0042, range = 0.0814 - 0.0931\n"
     ]
    }
   ],
   "source": [
    "for bin, perc_list in percentages.items():\n",
    "    print(f\"labelled percentage in bin {bin}: mean = {np.mean(perc_list):.4f}, std = {np.std(perc_list):.4f}, range = {np.min(perc_list):.4f} - {np.max(perc_list):.4f}\")"
   ]
  },
  {
   "cell_type": "markdown",
   "metadata": {},
   "source": [
    "Check percentages of saved scribbles"
   ]
  },
  {
   "cell_type": "code",
   "execution_count": null,
   "metadata": {},
   "outputs": [],
   "source": [
    "perc_dict = {}\n",
    "for bin in bins:\n",
    "    bin_perc_list = []\n",
    "    for img_num in range(0,540,20):\n",
    "        scrib = np.array(Image.open(f\"{folder_path}{img_num:03d}_scribbles_{mode}_{bin_for_file(bin)}_{s}.png\"))\n",
    "        perc_labelled = np.sum(scrib > 0) / scrib.size\n",
    "        bin_perc_list.append(perc_labelled)\n",
    "    perc_dict[bin] = bin_perc_list"
   ]
  },
  {
   "cell_type": "markdown",
   "metadata": {},
   "source": [
    "Show the last created scribbles"
   ]
  },
  {
   "cell_type": "code",
   "execution_count": null,
   "metadata": {},
   "outputs": [],
   "source": [
    "img_data = get_cellpose_img_data(folder_path, img_num, load_img=True, load_gt=True, load_scribbles=True, mode=mode, bin=bin, scribble_width=scribble_width, suff=s)\n",
    "img = img_data[\"img\"]\n",
    "ground_truth = img_data[\"gt\"]"
   ]
  },
  {
   "cell_type": "code",
   "execution_count": null,
   "metadata": {},
   "outputs": [],
   "source": [
    "v = napari.Viewer()\n",
    "v.add_image(img)\n",
    "v.add_labels(ground_truth)\n",
    "v.add_labels(scribbles)"
   ]
  },
  {
   "cell_type": "markdown",
   "metadata": {},
   "source": [
    "## Load and show scribbles and ground truth from saved files"
   ]
  },
  {
   "cell_type": "code",
   "execution_count": null,
   "metadata": {},
   "outputs": [],
   "source": [
    "# Show the image, ground truth and the scribble annotation in a napari viewer\n",
    "img_num = 0\n",
    "mode = \"all\"\n",
    "bin = 0.1\n",
    "suff = \"a\"\n",
    "img_data = get_cellpose_img_data(folder_path, img_num, load_img=True, load_gt=True, load_scribbles=True, mode=mode, bin=bin, suff=suff)\n",
    "v = napari.Viewer()\n",
    "v.add_image(img_data[\"img\"], name=\"image\")\n",
    "v.add_labels(img_data[\"gt\"], name=\"ground truth\")\n",
    "v.add_labels(img_data[\"scribbles\"], name=\"scribbles\")"
   ]
  },
  {
   "cell_type": "markdown",
   "metadata": {},
   "source": [
    "## When we have performed segmentation in the Napari plugin, we can calculate its accuracy"
   ]
  },
  {
   "cell_type": "code",
   "execution_count": null,
   "metadata": {},
   "outputs": [],
   "source": [
    "# segmentation = v.layers['segmentation'].data\n",
    "# acc = np.round(100*np.sum(segmentation == ground_truth) / np.sum(ground_truth > 0), 2)\n",
    "# print(f\"Accuracy (pixels correctly segmented): {acc}%\")"
   ]
  }
 ],
 "metadata": {
  "kernelspec": {
   "display_name": "ilastik",
   "language": "python",
   "name": "python3"
  },
  "language_info": {
   "codemirror_mode": {
    "name": "ipython",
    "version": 3
   },
   "file_extension": ".py",
   "mimetype": "text/x-python",
   "name": "python",
   "nbconvert_exporter": "python",
   "pygments_lexer": "ipython3",
   "version": "3.9.18"
  }
 },
 "nbformat": 4,
 "nbformat_minor": 2
}
